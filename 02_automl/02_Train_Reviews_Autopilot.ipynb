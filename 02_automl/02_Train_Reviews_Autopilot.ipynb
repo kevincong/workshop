{
 "cells": [
  {
   "cell_type": "markdown",
   "metadata": {},
   "source": [
    "# Train a Model with SageMaker Autopilot\n",
    "\n",
    "We will use Autopilot to predict sentiment of customer reviews. Autopilot implements a unique white-box approach to AutoML. \n",
    "\n",
    "For more on Autopilot, you can review the following research paper:  https://assets.amazon.science/e8/8b/2366b1ab407990dec96e55ee5664/amazon-sagemaker-autopilot-a-white-box-automl-solution-at-scale.pdf"
   ]
  },
  {
   "cell_type": "markdown",
   "metadata": {},
   "source": [
    "<img src=\"img/autopilot.png\" width=\"80%\" align=\"left\">"
   ]
  },
  {
   "cell_type": "markdown",
   "metadata": {},
   "source": [
    "# Introduction"
   ]
  },
  {
   "cell_type": "markdown",
   "metadata": {},
   "source": [
    "Amazon SageMaker Autopilot is a service to perform automated machine learning (AutoML) on your datasets.  Autopilot is available through the UI or AWS SDK.  In this notebook, we will use the AWS SDK to create and deploy a text processing and sentiment classification machine learning pipeline."
   ]
  },
  {
   "cell_type": "markdown",
   "metadata": {},
   "source": [
    "# Pre-Requisite\n",
    "\n",
    "## Make sure the previous notebook has run fully and prepared the dataset."
   ]
  },
  {
   "cell_type": "markdown",
   "metadata": {},
   "source": [
    "# Setup\n",
    "\n",
    "Let's start by specifying:\n",
    "\n",
    "* The S3 bucket and prefix to use to train our model.  _Note:  This should be in the same region as this notebook._\n",
    "* The IAM role of this notebook needs access to your data."
   ]
  },
  {
   "cell_type": "markdown",
   "metadata": {},
   "source": [
    "# Note:  This notebook will take some time.  Feel free to continue to the next notebooks whenever you are waiting for the current notebook to finish.\n",
    "We do this throughout the entire workshop as some of these notebooks may run for a while."
   ]
  },
  {
   "cell_type": "code",
   "execution_count": 2,
   "metadata": {},
   "outputs": [],
   "source": [
    "import boto3\n",
    "import sagemaker\n",
    "import pandas as pd\n",
    "\n",
    "sess   = sagemaker.Session()\n",
    "bucket = sess.default_bucket()\n",
    "role = sagemaker.get_execution_role()\n",
    "region = boto3.Session().region_name\n",
    "\n",
    "sm = boto3.Session().client(service_name='sagemaker', region_name=region)"
   ]
  },
  {
   "cell_type": "markdown",
   "metadata": {},
   "source": [
    "# Dataset"
   ]
  },
  {
   "cell_type": "code",
   "execution_count": 3,
   "metadata": {},
   "outputs": [],
   "source": [
    "%store -r header_train_s3_uri"
   ]
  },
  {
   "cell_type": "code",
   "execution_count": 4,
   "metadata": {},
   "outputs": [],
   "source": [
    "if not header_train_s3_uri:\n",
    "    print('****************************************************************************************')\n",
    "    print('**************** PLEASE RE-RUN THE PREVIOUS DATA PREPARATION NOTEBOOK ******************')\n",
    "    print('**************** THIS NOTEBOOK WILL NOT RUN PROPERLY ***********************************')\n",
    "    print('****************************************************************************************')"
   ]
  },
  {
   "cell_type": "code",
   "execution_count": 5,
   "metadata": {},
   "outputs": [
    {
     "name": "stdout",
     "output_type": "stream",
     "text": [
      "s3://sagemaker-us-west-2-250107111215/data/amazon_reviews_us_Digital_Software_v1_00_header.csv\n"
     ]
    }
   ],
   "source": [
    "print(header_train_s3_uri)"
   ]
  },
  {
   "cell_type": "code",
   "execution_count": 6,
   "metadata": {},
   "outputs": [
    {
     "name": "stdout",
     "output_type": "stream",
     "text": [
      "2020-08-22 16:05:53   13579830 amazon_reviews_us_Digital_Software_v1_00_header.csv\r\n"
     ]
    }
   ],
   "source": [
    "!aws s3 ls $header_train_s3_uri"
   ]
  },
  {
   "cell_type": "markdown",
   "metadata": {},
   "source": [
    "## See our prepared training data which we use as input for Autopilot"
   ]
  },
  {
   "cell_type": "code",
   "execution_count": 7,
   "metadata": {},
   "outputs": [
    {
     "name": "stdout",
     "output_type": "stream",
     "text": [
      "download: s3://sagemaker-us-west-2-250107111215/data/amazon_reviews_us_Digital_Software_v1_00_header.csv to data/amazon_reviews_us_Digital_Software_v1_00_header.csv\n"
     ]
    }
   ],
   "source": [
    "!aws s3 cp $header_train_s3_uri ./data/"
   ]
  },
  {
   "cell_type": "code",
   "execution_count": 8,
   "metadata": {},
   "outputs": [
    {
     "data": {
      "text/html": [
       "<div>\n",
       "<style scoped>\n",
       "    .dataframe tbody tr th:only-of-type {\n",
       "        vertical-align: middle;\n",
       "    }\n",
       "\n",
       "    .dataframe tbody tr th {\n",
       "        vertical-align: top;\n",
       "    }\n",
       "\n",
       "    .dataframe thead th {\n",
       "        text-align: right;\n",
       "    }\n",
       "</style>\n",
       "<table border=\"1\" class=\"dataframe\">\n",
       "  <thead>\n",
       "    <tr style=\"text-align: right;\">\n",
       "      <th></th>\n",
       "      <th>star_rating</th>\n",
       "      <th>review_body</th>\n",
       "    </tr>\n",
       "  </thead>\n",
       "  <tbody>\n",
       "    <tr>\n",
       "      <th>0</th>\n",
       "      <td>1</td>\n",
       "      <td>I purchased 2 Intuit produces, QuickBooks and ...</td>\n",
       "    </tr>\n",
       "    <tr>\n",
       "      <th>1</th>\n",
       "      <td>3</td>\n",
       "      <td>This is a great map program but can be very co...</td>\n",
       "    </tr>\n",
       "    <tr>\n",
       "      <th>2</th>\n",
       "      <td>4</td>\n",
       "      <td>Taxing but worth it</td>\n",
       "    </tr>\n",
       "    <tr>\n",
       "      <th>3</th>\n",
       "      <td>5</td>\n",
       "      <td>Okay</td>\n",
       "    </tr>\n",
       "    <tr>\n",
       "      <th>4</th>\n",
       "      <td>4</td>\n",
       "      <td>No issues downloading as some reviewers noted....</td>\n",
       "    </tr>\n",
       "  </tbody>\n",
       "</table>\n",
       "</div>"
      ],
      "text/plain": [
       "   star_rating                                        review_body\n",
       "0            1  I purchased 2 Intuit produces, QuickBooks and ...\n",
       "1            3  This is a great map program but can be very co...\n",
       "2            4                                Taxing but worth it\n",
       "3            5                                               Okay\n",
       "4            4  No issues downloading as some reviewers noted...."
      ]
     },
     "execution_count": 8,
     "metadata": {},
     "output_type": "execute_result"
    }
   ],
   "source": [
    "import csv\n",
    "\n",
    "df = pd.read_csv('./data/amazon_reviews_us_Digital_Software_v1_00_header.csv')\n",
    "df.head()"
   ]
  },
  {
   "cell_type": "markdown",
   "metadata": {},
   "source": [
    "# Setup the S3 Location for the Autopilot-Generated Assets \n",
    "This include Jupyter Notebooks (Analysis), Python Scripts (Feature Engineering), and Trained Models."
   ]
  },
  {
   "cell_type": "code",
   "execution_count": 9,
   "metadata": {},
   "outputs": [
    {
     "name": "stdout",
     "output_type": "stream",
     "text": [
      "s3://sagemaker-us-west-2-250107111215/models/autopilot\n"
     ]
    }
   ],
   "source": [
    "prefix_model_output = 'models/autopilot'\n",
    "\n",
    "model_output_s3_uri = 's3://{}/{}'.format(bucket, prefix_model_output)\n",
    "\n",
    "print(model_output_s3_uri)\n"
   ]
  },
  {
   "cell_type": "code",
   "execution_count": 10,
   "metadata": {},
   "outputs": [],
   "source": [
    "max_candidates = 3\n",
    "\n",
    "job_config = {\n",
    "    'CompletionCriteria': {\n",
    "      'MaxRuntimePerTrainingJobInSeconds': 600,\n",
    "      'MaxCandidates': max_candidates,\n",
    "      'MaxAutoMLJobRuntimeInSeconds': 3600\n",
    "    },\n",
    "}\n",
    "\n",
    "input_data_config = [{\n",
    "      'DataSource': {\n",
    "        'S3DataSource': {\n",
    "          'S3DataType': 'S3Prefix',\n",
    "          'S3Uri': '{}'.format(header_train_s3_uri)\n",
    "        }\n",
    "      },\n",
    "      'TargetAttributeName': 'star_rating'\n",
    "    }\n",
    "]\n",
    "\n",
    "output_data_config = {\n",
    "    'S3OutputPath': '{}'.format(model_output_s3_uri)\n",
    "}"
   ]
  },
  {
   "cell_type": "markdown",
   "metadata": {},
   "source": [
    "# Launch the SageMaker Autopilot job\n",
    "\n",
    "We can now launch the job by calling the `create_auto_ml_job` API."
   ]
  },
  {
   "cell_type": "code",
   "execution_count": 11,
   "metadata": {},
   "outputs": [
    {
     "name": "stdout",
     "output_type": "stream",
     "text": [
      "AutoMLJobName: automl-dm-22-16-24-40\n"
     ]
    }
   ],
   "source": [
    "from time import gmtime, strftime, sleep\n",
    "timestamp_suffix = strftime('%d-%H-%M-%S', gmtime())\n",
    "\n",
    "auto_ml_job_name = 'automl-dm-' + timestamp_suffix\n",
    "print('AutoMLJobName: ' + auto_ml_job_name)"
   ]
  },
  {
   "cell_type": "markdown",
   "metadata": {},
   "source": [
    "_Note that we are not specifying the `ProblemType`.  Autopilot will automatically detect if we're using regression or classification (binary or multi-class)._"
   ]
  },
  {
   "cell_type": "code",
   "execution_count": 12,
   "metadata": {},
   "outputs": [
    {
     "data": {
      "text/plain": [
       "{'AutoMLJobArn': 'arn:aws:sagemaker:us-west-2:250107111215:automl-job/automl-dm-22-16-24-40',\n",
       " 'ResponseMetadata': {'RequestId': '845c2669-4f57-4e71-b6e3-e05f2cd3ea04',\n",
       "  'HTTPStatusCode': 200,\n",
       "  'HTTPHeaders': {'x-amzn-requestid': '845c2669-4f57-4e71-b6e3-e05f2cd3ea04',\n",
       "   'content-type': 'application/x-amz-json-1.1',\n",
       "   'content-length': '92',\n",
       "   'date': 'Sat, 22 Aug 2020 16:25:22 GMT'},\n",
       "  'RetryAttempts': 0}}"
      ]
     },
     "execution_count": 12,
     "metadata": {},
     "output_type": "execute_result"
    }
   ],
   "source": [
    "sm.create_auto_ml_job(AutoMLJobName=auto_ml_job_name,\n",
    "                      InputDataConfig=input_data_config,\n",
    "                      OutputDataConfig=output_data_config,\n",
    "                      AutoMLJobConfig=job_config,\n",
    "                      RoleArn=role)"
   ]
  },
  {
   "cell_type": "markdown",
   "metadata": {},
   "source": [
    "# Tracking the progress of the Autopilot job\n",
    "\n",
    "SageMaker Autopilot job consists of the following high-level steps: \n",
    "* _Data Analysis_ where the data is summarized and analyzed to determine which feature engineering techniques, hyper-parameters, and models to explore.\n",
    "* _Feature Engineering_ where the data is scrubbed, balanced, combined, and split into train and validation.\n",
    "* _Model Training and Tuning_ where the top performing features, hyper-parameters, and models are selected and trained."
   ]
  },
  {
   "cell_type": "markdown",
   "metadata": {},
   "source": [
    "# Analyzing Data"
   ]
  },
  {
   "cell_type": "code",
   "execution_count": 13,
   "metadata": {},
   "outputs": [
    {
     "name": "stdout",
     "output_type": "stream",
     "text": [
      "{'AutoMLJobName': 'automl-dm-22-16-24-40', 'AutoMLJobArn': 'arn:aws:sagemaker:us-west-2:250107111215:automl-job/automl-dm-22-16-24-40', 'InputDataConfig': [{'DataSource': {'S3DataSource': {'S3DataType': 'S3Prefix', 'S3Uri': 's3://sagemaker-us-west-2-250107111215/data/amazon_reviews_us_Digital_Software_v1_00_header.csv'}}, 'TargetAttributeName': 'star_rating'}], 'OutputDataConfig': {'S3OutputPath': 's3://sagemaker-us-west-2-250107111215/models/autopilot'}, 'RoleArn': 'arn:aws:iam::250107111215:role/TeamRole', 'AutoMLJobConfig': {'CompletionCriteria': {'MaxCandidates': 3, 'MaxRuntimePerTrainingJobInSeconds': 600, 'MaxAutoMLJobRuntimeInSeconds': 3600}}, 'CreationTime': datetime.datetime(2020, 8, 22, 16, 25, 21, 488000, tzinfo=tzlocal()), 'LastModifiedTime': datetime.datetime(2020, 8, 22, 16, 27, 9, 510000, tzinfo=tzlocal()), 'AutoMLJobStatus': 'InProgress', 'AutoMLJobSecondaryStatus': 'AnalyzingData', 'GenerateCandidateDefinitionsOnly': False, 'ResponseMetadata': {'RequestId': '11da101b-2dd8-4d2c-b69b-92dc74c78c88', 'HTTPStatusCode': 200, 'HTTPHeaders': {'x-amzn-requestid': '11da101b-2dd8-4d2c-b69b-92dc74c78c88', 'content-type': 'application/x-amz-json-1.1', 'content-length': '815', 'date': 'Sat, 22 Aug 2020 16:27:18 GMT'}, 'RetryAttempts': 0}}\n"
     ]
    }
   ],
   "source": [
    "# Sleep for a bit to ensure the AutoML job above has time to start\n",
    "import time\n",
    "time.sleep(30)\n",
    "\n",
    "job = sm.describe_auto_ml_job(AutoMLJobName=auto_ml_job_name)\n",
    "print(job)"
   ]
  },
  {
   "cell_type": "markdown",
   "metadata": {},
   "source": [
    "### Check if the Autopilot Job started correctly."
   ]
  },
  {
   "cell_type": "code",
   "execution_count": 14,
   "metadata": {},
   "outputs": [
    {
     "name": "stdout",
     "output_type": "stream",
     "text": [
      "OK\n"
     ]
    }
   ],
   "source": [
    "if not bool(job):\n",
    "    print('STOP: Autopilot Job did NOT start correctly. Please re-run the notebook from start.')\n",
    "elif 'AutoMLJobStatus' not in job.keys():\n",
    "    print('STOP: Autopilot Job did NOT start correctly. Please re-run the notebook from start.')\n",
    "elif 'AutoMLJobSecondaryStatus' not in job.keys():\n",
    "    print('STOP: Autopilot Job did NOT start correctly. Please re-run the notebook from start.')\n",
    "else:\n",
    "    print('OK')"
   ]
  },
  {
   "cell_type": "code",
   "execution_count": 15,
   "metadata": {},
   "outputs": [
    {
     "name": "stdout",
     "output_type": "stream",
     "text": [
      "InProgress AnalyzingData\n",
      "InProgress AnalyzingData\n",
      "InProgress AnalyzingData\n",
      "InProgress AnalyzingData\n",
      "InProgress AnalyzingData\n",
      "InProgress AnalyzingData\n",
      "InProgress AnalyzingData\n",
      "InProgress AnalyzingData\n",
      "InProgress AnalyzingData\n",
      "InProgress AnalyzingData\n",
      "InProgress AnalyzingData\n",
      "InProgress FeatureEngineering\n",
      "Data analysis complete\n",
      "{'AutoMLJobName': 'automl-dm-22-16-24-40', 'AutoMLJobArn': 'arn:aws:sagemaker:us-west-2:250107111215:automl-job/automl-dm-22-16-24-40', 'InputDataConfig': [{'DataSource': {'S3DataSource': {'S3DataType': 'S3Prefix', 'S3Uri': 's3://sagemaker-us-west-2-250107111215/data/amazon_reviews_us_Digital_Software_v1_00_header.csv'}}, 'TargetAttributeName': 'star_rating'}], 'OutputDataConfig': {'S3OutputPath': 's3://sagemaker-us-west-2-250107111215/models/autopilot'}, 'RoleArn': 'arn:aws:iam::250107111215:role/TeamRole', 'AutoMLJobConfig': {'CompletionCriteria': {'MaxCandidates': 3, 'MaxRuntimePerTrainingJobInSeconds': 600, 'MaxAutoMLJobRuntimeInSeconds': 3600}}, 'CreationTime': datetime.datetime(2020, 8, 22, 16, 25, 21, 488000, tzinfo=tzlocal()), 'LastModifiedTime': datetime.datetime(2020, 8, 22, 16, 33, 50, 216000, tzinfo=tzlocal()), 'AutoMLJobStatus': 'InProgress', 'AutoMLJobSecondaryStatus': 'FeatureEngineering', 'GenerateCandidateDefinitionsOnly': False, 'AutoMLJobArtifacts': {'CandidateDefinitionNotebookLocation': 's3://sagemaker-us-west-2-250107111215/models/autopilot/automl-dm-22-16-24-40/sagemaker-automl-candidates/pr-1-3456c92dc5d84bc08e63fbb02ee62657b6e323e32b48416fa91ae5eb31/notebooks/SageMakerAutopilotCandidateDefinitionNotebook.ipynb', 'DataExplorationNotebookLocation': 's3://sagemaker-us-west-2-250107111215/models/autopilot/automl-dm-22-16-24-40/sagemaker-automl-candidates/pr-1-3456c92dc5d84bc08e63fbb02ee62657b6e323e32b48416fa91ae5eb31/notebooks/SageMakerAutopilotDataExplorationNotebook.ipynb'}, 'ResolvedAttributes': {'AutoMLJobObjective': {'MetricName': 'Accuracy'}, 'ProblemType': 'MulticlassClassification', 'CompletionCriteria': {'MaxCandidates': 3, 'MaxRuntimePerTrainingJobInSeconds': 600, 'MaxAutoMLJobRuntimeInSeconds': 3600}}, 'ResponseMetadata': {'RequestId': 'd64a10cb-8b85-4484-ab95-acb21468ee5e', 'HTTPStatusCode': 200, 'HTTPHeaders': {'x-amzn-requestid': 'd64a10cb-8b85-4484-ab95-acb21468ee5e', 'content-type': 'application/x-amz-json-1.1', 'content-length': '1606', 'date': 'Sat, 22 Aug 2020 16:34:05 GMT'}, 'RetryAttempts': 0}}\n"
     ]
    }
   ],
   "source": [
    "job_status = job['AutoMLJobStatus']\n",
    "job_sec_status = job['AutoMLJobSecondaryStatus']\n",
    "\n",
    "if job_status not in ('Stopped', 'Failed'):\n",
    "    while job_status in ('InProgress') and job_sec_status in ('AnalyzingData'):\n",
    "        job = sm.describe_auto_ml_job(AutoMLJobName=auto_ml_job_name)\n",
    "        job_status = job['AutoMLJobStatus']\n",
    "        job_sec_status = job['AutoMLJobSecondaryStatus']\n",
    "        print(job_status, job_sec_status)\n",
    "        sleep(30)\n",
    "    print(\"Data analysis complete\")\n",
    "    \n",
    "print(job)"
   ]
  },
  {
   "cell_type": "code",
   "execution_count": 16,
   "metadata": {
    "scrolled": true
   },
   "outputs": [
    {
     "name": "stdout",
     "output_type": "stream",
     "text": [
      "{'AutoMLJobName': 'automl-dm-22-16-24-40', 'AutoMLJobArn': 'arn:aws:sagemaker:us-west-2:250107111215:automl-job/automl-dm-22-16-24-40', 'InputDataConfig': [{'DataSource': {'S3DataSource': {'S3DataType': 'S3Prefix', 'S3Uri': 's3://sagemaker-us-west-2-250107111215/data/amazon_reviews_us_Digital_Software_v1_00_header.csv'}}, 'TargetAttributeName': 'star_rating'}], 'OutputDataConfig': {'S3OutputPath': 's3://sagemaker-us-west-2-250107111215/models/autopilot'}, 'RoleArn': 'arn:aws:iam::250107111215:role/TeamRole', 'AutoMLJobConfig': {'CompletionCriteria': {'MaxCandidates': 3, 'MaxRuntimePerTrainingJobInSeconds': 600, 'MaxAutoMLJobRuntimeInSeconds': 3600}}, 'CreationTime': datetime.datetime(2020, 8, 22, 16, 25, 21, 488000, tzinfo=tzlocal()), 'LastModifiedTime': datetime.datetime(2020, 8, 22, 16, 34, 25, 639000, tzinfo=tzlocal()), 'AutoMLJobStatus': 'InProgress', 'AutoMLJobSecondaryStatus': 'FeatureEngineering', 'GenerateCandidateDefinitionsOnly': False, 'AutoMLJobArtifacts': {'CandidateDefinitionNotebookLocation': 's3://sagemaker-us-west-2-250107111215/models/autopilot/automl-dm-22-16-24-40/sagemaker-automl-candidates/pr-1-3456c92dc5d84bc08e63fbb02ee62657b6e323e32b48416fa91ae5eb31/notebooks/SageMakerAutopilotCandidateDefinitionNotebook.ipynb', 'DataExplorationNotebookLocation': 's3://sagemaker-us-west-2-250107111215/models/autopilot/automl-dm-22-16-24-40/sagemaker-automl-candidates/pr-1-3456c92dc5d84bc08e63fbb02ee62657b6e323e32b48416fa91ae5eb31/notebooks/SageMakerAutopilotDataExplorationNotebook.ipynb'}, 'ResolvedAttributes': {'AutoMLJobObjective': {'MetricName': 'Accuracy'}, 'ProblemType': 'MulticlassClassification', 'CompletionCriteria': {'MaxCandidates': 3, 'MaxRuntimePerTrainingJobInSeconds': 600, 'MaxAutoMLJobRuntimeInSeconds': 3600}}, 'ResponseMetadata': {'RequestId': '3a723869-2899-4a59-b157-ef0e3acff812', 'HTTPStatusCode': 200, 'HTTPHeaders': {'x-amzn-requestid': '3a723869-2899-4a59-b157-ef0e3acff812', 'content-type': 'application/x-amz-json-1.1', 'content-length': '1606', 'date': 'Sat, 22 Aug 2020 16:34:35 GMT'}, 'RetryAttempts': 0}}\n"
     ]
    }
   ],
   "source": [
    "job = sm.describe_auto_ml_job(AutoMLJobName=auto_ml_job_name)\n",
    "print(job)"
   ]
  },
  {
   "cell_type": "markdown",
   "metadata": {},
   "source": [
    "# View Generated Notebook Samples\n",
    "Once data analysis is complete, SageMaker AutoPilot generates two notebooks: \n",
    "* Data exploration,\n",
    "* Candidate definition.\n",
    "\n",
    "# In the Jupyter File Browser, Open the Following Folders to See Samples of the Generated Assets:\n",
    "```\n",
    "notebooks/\n",
    "generated_module/\n",
    "```\n",
    "\n",
    "Lots of useful information ^^ in these folders ^^\n",
    "\n",
    "(Optional) You can download the actual files generated for your specific Autopilot run using the following:\n",
    "```\n",
    "generated_resources = job['AutoMLJobArtifacts']['DataExplorationNotebookLocation'].rstrip('notebooks/SageMakerAutopilotDataExplorationNotebook.ipynb')\n",
    "\n",
    "!aws s3 cp --recursive $generated_resources .\n",
    "```"
   ]
  },
  {
   "cell_type": "markdown",
   "metadata": {},
   "source": [
    "# Feature Engineering"
   ]
  },
  {
   "cell_type": "code",
   "execution_count": 17,
   "metadata": {},
   "outputs": [
    {
     "name": "stdout",
     "output_type": "stream",
     "text": [
      "InProgress\n",
      "FeatureEngineering\n",
      "InProgress FeatureEngineering\n",
      "InProgress FeatureEngineering\n",
      "InProgress FeatureEngineering\n",
      "InProgress FeatureEngineering\n",
      "InProgress FeatureEngineering\n",
      "InProgress FeatureEngineering\n",
      "InProgress FeatureEngineering\n",
      "InProgress FeatureEngineering\n",
      "InProgress FeatureEngineering\n",
      "InProgress FeatureEngineering\n",
      "InProgress FeatureEngineering\n",
      "InProgress FeatureEngineering\n",
      "InProgress FeatureEngineering\n",
      "InProgress FeatureEngineering\n",
      "InProgress FeatureEngineering\n",
      "InProgress ModelTuning\n",
      "Feature engineering complete\n",
      "{'AutoMLJobName': 'automl-dm-22-16-24-40', 'AutoMLJobArn': 'arn:aws:sagemaker:us-west-2:250107111215:automl-job/automl-dm-22-16-24-40', 'InputDataConfig': [{'DataSource': {'S3DataSource': {'S3DataType': 'S3Prefix', 'S3Uri': 's3://sagemaker-us-west-2-250107111215/data/amazon_reviews_us_Digital_Software_v1_00_header.csv'}}, 'TargetAttributeName': 'star_rating'}], 'OutputDataConfig': {'S3OutputPath': 's3://sagemaker-us-west-2-250107111215/models/autopilot'}, 'RoleArn': 'arn:aws:iam::250107111215:role/TeamRole', 'AutoMLJobConfig': {'CompletionCriteria': {'MaxCandidates': 3, 'MaxRuntimePerTrainingJobInSeconds': 600, 'MaxAutoMLJobRuntimeInSeconds': 3600}}, 'CreationTime': datetime.datetime(2020, 8, 22, 16, 25, 21, 488000, tzinfo=tzlocal()), 'LastModifiedTime': datetime.datetime(2020, 8, 22, 16, 42, 38, 550000, tzinfo=tzlocal()), 'AutoMLJobStatus': 'InProgress', 'AutoMLJobSecondaryStatus': 'ModelTuning', 'GenerateCandidateDefinitionsOnly': False, 'AutoMLJobArtifacts': {'CandidateDefinitionNotebookLocation': 's3://sagemaker-us-west-2-250107111215/models/autopilot/automl-dm-22-16-24-40/sagemaker-automl-candidates/pr-1-3456c92dc5d84bc08e63fbb02ee62657b6e323e32b48416fa91ae5eb31/notebooks/SageMakerAutopilotCandidateDefinitionNotebook.ipynb', 'DataExplorationNotebookLocation': 's3://sagemaker-us-west-2-250107111215/models/autopilot/automl-dm-22-16-24-40/sagemaker-automl-candidates/pr-1-3456c92dc5d84bc08e63fbb02ee62657b6e323e32b48416fa91ae5eb31/notebooks/SageMakerAutopilotDataExplorationNotebook.ipynb'}, 'ResolvedAttributes': {'AutoMLJobObjective': {'MetricName': 'Accuracy'}, 'ProblemType': 'MulticlassClassification', 'CompletionCriteria': {'MaxCandidates': 3, 'MaxRuntimePerTrainingJobInSeconds': 600, 'MaxAutoMLJobRuntimeInSeconds': 3600}}, 'ResponseMetadata': {'RequestId': 'ff344cfe-d65f-42f4-ac4a-65e0cb9fa360', 'HTTPStatusCode': 200, 'HTTPHeaders': {'x-amzn-requestid': 'ff344cfe-d65f-42f4-ac4a-65e0cb9fa360', 'content-type': 'application/x-amz-json-1.1', 'content-length': '1598', 'date': 'Sat, 22 Aug 2020 16:42:39 GMT'}, 'RetryAttempts': 0}}\n"
     ]
    }
   ],
   "source": [
    "job = sm.describe_auto_ml_job(AutoMLJobName=auto_ml_job_name)\n",
    "job_status = job['AutoMLJobStatus']\n",
    "job_sec_status = job['AutoMLJobSecondaryStatus']\n",
    "print(job_status)\n",
    "print(job_sec_status)\n",
    "if job_status not in ('Stopped', 'Failed'):\n",
    "    while job_status in ('InProgress') and job_sec_status in ('FeatureEngineering'):\n",
    "        job = sm.describe_auto_ml_job(AutoMLJobName=auto_ml_job_name)\n",
    "        job_status = job['AutoMLJobStatus']\n",
    "        job_sec_status = job['AutoMLJobSecondaryStatus']\n",
    "        print(job_status, job_sec_status)\n",
    "        sleep(30)\n",
    "    print(\"Feature engineering complete\")\n",
    "    \n",
    "print(job)"
   ]
  },
  {
   "cell_type": "markdown",
   "metadata": {},
   "source": [
    "# Model Training and Tuning"
   ]
  },
  {
   "cell_type": "code",
   "execution_count": 18,
   "metadata": {
    "scrolled": true
   },
   "outputs": [
    {
     "name": "stdout",
     "output_type": "stream",
     "text": [
      "InProgress\n",
      "ModelTuning\n",
      "InProgress ModelTuning\n",
      "InProgress ModelTuning\n",
      "InProgress ModelTuning\n",
      "InProgress ModelTuning\n",
      "InProgress ModelTuning\n",
      "InProgress ModelTuning\n",
      "InProgress ModelTuning\n",
      "Completed MaxCandidatesReached\n",
      "Model tuning complete\n",
      "{'AutoMLJobName': 'automl-dm-22-16-24-40', 'AutoMLJobArn': 'arn:aws:sagemaker:us-west-2:250107111215:automl-job/automl-dm-22-16-24-40', 'InputDataConfig': [{'DataSource': {'S3DataSource': {'S3DataType': 'S3Prefix', 'S3Uri': 's3://sagemaker-us-west-2-250107111215/data/amazon_reviews_us_Digital_Software_v1_00_header.csv'}}, 'TargetAttributeName': 'star_rating'}], 'OutputDataConfig': {'S3OutputPath': 's3://sagemaker-us-west-2-250107111215/models/autopilot'}, 'RoleArn': 'arn:aws:iam::250107111215:role/TeamRole', 'AutoMLJobConfig': {'CompletionCriteria': {'MaxCandidates': 3, 'MaxRuntimePerTrainingJobInSeconds': 600, 'MaxAutoMLJobRuntimeInSeconds': 3600}}, 'CreationTime': datetime.datetime(2020, 8, 22, 16, 25, 21, 488000, tzinfo=tzlocal()), 'EndTime': datetime.datetime(2020, 8, 22, 16, 46, 14, 614000, tzinfo=tzlocal()), 'LastModifiedTime': datetime.datetime(2020, 8, 22, 16, 46, 14, 643000, tzinfo=tzlocal()), 'BestCandidate': {'CandidateName': 'tuning-job-1-eece15bc5b8b4ed8aa-003-1187ffc4', 'FinalAutoMLJobObjectiveMetric': {'MetricName': 'validation:accuracy', 'Value': 0.39945000410079956}, 'ObjectiveStatus': 'Succeeded', 'CandidateSteps': [{'CandidateStepType': 'AWS::SageMaker::ProcessingJob', 'CandidateStepArn': 'arn:aws:sagemaker:us-west-2:250107111215:processing-job/db-1-74124d35b29d4000bd9de8426901cad8006d23d4ab574a2a9bd18f9c64', 'CandidateStepName': 'db-1-74124d35b29d4000bd9de8426901cad8006d23d4ab574a2a9bd18f9c64'}, {'CandidateStepType': 'AWS::SageMaker::TrainingJob', 'CandidateStepArn': 'arn:aws:sagemaker:us-west-2:250107111215:training-job/automl-dm--dpp0-1-d241ad12c8944d64bc7be538a4e91c120aad50095dc94', 'CandidateStepName': 'automl-dm--dpp0-1-d241ad12c8944d64bc7be538a4e91c120aad50095dc94'}, {'CandidateStepType': 'AWS::SageMaker::TransformJob', 'CandidateStepArn': 'arn:aws:sagemaker:us-west-2:250107111215:transform-job/automl-dm--dpp0-rpb-1-e7fd271f2f7b4834b49a177902adc1484bde99a8b', 'CandidateStepName': 'automl-dm--dpp0-rpb-1-e7fd271f2f7b4834b49a177902adc1484bde99a8b'}, {'CandidateStepType': 'AWS::SageMaker::TrainingJob', 'CandidateStepArn': 'arn:aws:sagemaker:us-west-2:250107111215:training-job/tuning-job-1-eece15bc5b8b4ed8aa-003-1187ffc4', 'CandidateStepName': 'tuning-job-1-eece15bc5b8b4ed8aa-003-1187ffc4'}], 'CandidateStatus': 'Completed', 'InferenceContainers': [{'Image': '246618743249.dkr.ecr.us-west-2.amazonaws.com/sagemaker-sklearn-automl:0.1.0-cpu-py3', 'ModelDataUrl': 's3://sagemaker-us-west-2-250107111215/models/autopilot/automl-dm-22-16-24-40/data-processor-models/automl-dm--dpp0-1-d241ad12c8944d64bc7be538a4e91c120aad50095dc94/output/model.tar.gz', 'Environment': {'AUTOML_SPARSE_ENCODE_RECORDIO_PROTOBUF': '1', 'AUTOML_TRANSFORM_MODE': 'feature-transform', 'SAGEMAKER_DEFAULT_INVOCATIONS_ACCEPT': 'application/x-recordio-protobuf', 'SAGEMAKER_PROGRAM': 'sagemaker_serve', 'SAGEMAKER_SUBMIT_DIRECTORY': '/opt/ml/model/sagemaker_serve.py'}}, {'Image': '246618743249.dkr.ecr.us-west-2.amazonaws.com/sagemaker-xgboost:1.0-1-cpu-py3', 'ModelDataUrl': 's3://sagemaker-us-west-2-250107111215/models/autopilot/automl-dm-22-16-24-40/tuning/automl-dm--dpp0-xgb/tuning-job-1-eece15bc5b8b4ed8aa-003-1187ffc4/output/model.tar.gz', 'Environment': {'MAX_CONTENT_LENGTH': '20971520', 'SAGEMAKER_DEFAULT_INVOCATIONS_ACCEPT': 'text/csv', 'SAGEMAKER_INFERENCE_OUTPUT': 'predicted_label', 'SAGEMAKER_INFERENCE_SUPPORTED': 'predicted_label,probability,probabilities'}}, {'Image': '246618743249.dkr.ecr.us-west-2.amazonaws.com/sagemaker-sklearn-automl:0.1.0-cpu-py3', 'ModelDataUrl': 's3://sagemaker-us-west-2-250107111215/models/autopilot/automl-dm-22-16-24-40/data-processor-models/automl-dm--dpp0-1-d241ad12c8944d64bc7be538a4e91c120aad50095dc94/output/model.tar.gz', 'Environment': {'AUTOML_TRANSFORM_MODE': 'inverse-label-transform', 'SAGEMAKER_DEFAULT_INVOCATIONS_ACCEPT': 'text/csv', 'SAGEMAKER_INFERENCE_INPUT': 'predicted_label', 'SAGEMAKER_INFERENCE_OUTPUT': 'predicted_label', 'SAGEMAKER_INFERENCE_SUPPORTED': 'predicted_label,probability,labels,probabilities', 'SAGEMAKER_PROGRAM': 'sagemaker_serve', 'SAGEMAKER_SUBMIT_DIRECTORY': '/opt/ml/model/sagemaker_serve.py'}}], 'CreationTime': datetime.datetime(2020, 8, 22, 16, 44, 49, tzinfo=tzlocal()), 'EndTime': datetime.datetime(2020, 8, 22, 16, 45, 53, tzinfo=tzlocal()), 'LastModifiedTime': datetime.datetime(2020, 8, 22, 16, 46, 13, 745000, tzinfo=tzlocal())}, 'AutoMLJobStatus': 'Completed', 'AutoMLJobSecondaryStatus': 'MaxCandidatesReached', 'GenerateCandidateDefinitionsOnly': False, 'AutoMLJobArtifacts': {'CandidateDefinitionNotebookLocation': 's3://sagemaker-us-west-2-250107111215/models/autopilot/automl-dm-22-16-24-40/sagemaker-automl-candidates/pr-1-3456c92dc5d84bc08e63fbb02ee62657b6e323e32b48416fa91ae5eb31/notebooks/SageMakerAutopilotCandidateDefinitionNotebook.ipynb', 'DataExplorationNotebookLocation': 's3://sagemaker-us-west-2-250107111215/models/autopilot/automl-dm-22-16-24-40/sagemaker-automl-candidates/pr-1-3456c92dc5d84bc08e63fbb02ee62657b6e323e32b48416fa91ae5eb31/notebooks/SageMakerAutopilotDataExplorationNotebook.ipynb'}, 'ResolvedAttributes': {'AutoMLJobObjective': {'MetricName': 'Accuracy'}, 'ProblemType': 'MulticlassClassification', 'CompletionCriteria': {'MaxCandidates': 3, 'MaxRuntimePerTrainingJobInSeconds': 600, 'MaxAutoMLJobRuntimeInSeconds': 3600}}, 'ResponseMetadata': {'RequestId': 'f289a2e6-2119-4896-96a6-508656fc428b', 'HTTPStatusCode': 200, 'HTTPHeaders': {'x-amzn-requestid': 'f289a2e6-2119-4896-96a6-508656fc428b', 'content-type': 'application/x-amz-json-1.1', 'content-length': '4842', 'date': 'Sat, 22 Aug 2020 16:46:39 GMT'}, 'RetryAttempts': 0}}\n"
     ]
    }
   ],
   "source": [
    "job = sm.describe_auto_ml_job(AutoMLJobName=auto_ml_job_name)\n",
    "job_status = job['AutoMLJobStatus']\n",
    "job_sec_status = job['AutoMLJobSecondaryStatus']\n",
    "print(job_status)\n",
    "print(job_sec_status)\n",
    "if job_status not in ('Stopped', 'Failed'):\n",
    "    while job_status in ('InProgress') and job_sec_status in ('ModelTuning'):\n",
    "        job = sm.describe_auto_ml_job(AutoMLJobName=auto_ml_job_name)\n",
    "        job_status = job['AutoMLJobStatus']\n",
    "        job_sec_status = job['AutoMLJobSecondaryStatus']\n",
    "        print(job_status, job_sec_status)\n",
    "        sleep(30)\n",
    "    print(\"Model tuning complete\")\n",
    "    \n",
    "print(job)"
   ]
  },
  {
   "cell_type": "markdown",
   "metadata": {},
   "source": [
    "# _Please Wait Until ^^ Autopilot ^^ Completes Above_\n",
    "Make sure the status below indicates `Completed`."
   ]
  },
  {
   "cell_type": "code",
   "execution_count": 19,
   "metadata": {},
   "outputs": [
    {
     "name": "stdout",
     "output_type": "stream",
     "text": [
      "Completed\n"
     ]
    }
   ],
   "source": [
    "print(job_status)\n",
    "\n",
    "if job_status not in ('Completed'):\n",
    "    print('*******************************************************************')\n",
    "    print('*************** THIS JOB DID NOT COMPLETE PROPERLY ****************')\n",
    "    print('***************  REPORT THE ISSUE OR ASK FOR HELP  ****************')    \n",
    "    print('*******************************************************************')"
   ]
  },
  {
   "cell_type": "markdown",
   "metadata": {},
   "source": [
    "# Viewing All Candidates\n",
    "Once model tuning is complete, you can view all the candidates (pipeline evaluations with different hyperparameter combinations) that were explored by AutoML and sort them by their final performance metric."
   ]
  },
  {
   "cell_type": "code",
   "execution_count": 20,
   "metadata": {},
   "outputs": [],
   "source": [
    "candidates_response = sm.list_candidates_for_auto_ml_job(AutoMLJobName=auto_ml_job_name, \n",
    "                                                         SortBy='FinalObjectiveMetricValue')"
   ]
  },
  {
   "cell_type": "markdown",
   "metadata": {},
   "source": [
    "### Check that candidates is not empty"
   ]
  },
  {
   "cell_type": "code",
   "execution_count": 21,
   "metadata": {},
   "outputs": [
    {
     "name": "stdout",
     "output_type": "stream",
     "text": [
      "OK\n"
     ]
    }
   ],
   "source": [
    "if not bool(candidates_response):\n",
    "    print('STOP: Autopilot Job did NOT finish correctly. Please re-run the notebook from start.')\n",
    "else:\n",
    "    candidates = candidates_response['Candidates']\n",
    "    print('OK')"
   ]
  },
  {
   "cell_type": "code",
   "execution_count": 22,
   "metadata": {},
   "outputs": [
    {
     "name": "stdout",
     "output_type": "stream",
     "text": [
      "OK\n"
     ]
    }
   ],
   "source": [
    "if not bool(candidates):\n",
    "    print('STOP: Autopilot Job did NOT finish correctly. Please re-run the notebook from start.')\n",
    "elif 'CandidateName' not in candidates[0]:\n",
    "    print('STOP: Autopilot Job did NOT finish correctly. Please re-run the notebook from start.')\n",
    "elif 'FinalAutoMLJobObjectiveMetric' not in candidates[0]:\n",
    "    print('STOP: Autopilot Job did NOT start correctly. Please re-run the notebook from start.')\n",
    "else:\n",
    "    print('OK')"
   ]
  },
  {
   "cell_type": "code",
   "execution_count": 23,
   "metadata": {},
   "outputs": [
    {
     "name": "stdout",
     "output_type": "stream",
     "text": [
      "0  tuning-job-1-eece15bc5b8b4ed8aa-003-1187ffc4  0.39945000410079956\n",
      "1  tuning-job-1-eece15bc5b8b4ed8aa-001-2684dc0d  0.3988099992275238\n",
      "2  tuning-job-1-eece15bc5b8b4ed8aa-002-4dfa8be1  0.2757599949836731\n"
     ]
    }
   ],
   "source": [
    "for index, candidate in enumerate(candidates):\n",
    "    print(str(index) + \"  \" \n",
    "        + candidate['CandidateName'] + \"  \" \n",
    "        + str(candidate['FinalAutoMLJobObjectiveMetric']['Value']))"
   ]
  },
  {
   "cell_type": "markdown",
   "metadata": {},
   "source": [
    "# Inspect Trials using Experiments API\n",
    "\n",
    "SageMaker Autopilot automatically creates a new experiment, and pushes information for each trial. "
   ]
  },
  {
   "cell_type": "code",
   "execution_count": 24,
   "metadata": {},
   "outputs": [
    {
     "name": "stdout",
     "output_type": "stream",
     "text": [
      "                                  TrialComponentName  \\\n",
      "0  tuning-job-1-eece15bc5b8b4ed8aa-003-1187ffc4-a...   \n",
      "1  tuning-job-1-eece15bc5b8b4ed8aa-001-2684dc0d-a...   \n",
      "2  tuning-job-1-eece15bc5b8b4ed8aa-002-4dfa8be1-a...   \n",
      "3  automl-dm--dpp2-rpb-1-9740205c750f4253b1bb300b...   \n",
      "4  automl-dm--dpp1-csv-1-92e5fe206f514430919b6797...   \n",
      "5  automl-dm--dpp0-rpb-1-e7fd271f2f7b4834b49a1779...   \n",
      "6  automl-dm--dpp2-1-b4427efb8653498f921496864131...   \n",
      "7  automl-dm--dpp0-1-d241ad12c8944d64bc7be538a4e9...   \n",
      "8  automl-dm--dpp1-1-95dc69438ac9483a868066c76e9a...   \n",
      "9  db-1-74124d35b29d4000bd9de8426901cad8006d23d4a...   \n",
      "\n",
      "                                         DisplayName  \\\n",
      "0  tuning-job-1-eece15bc5b8b4ed8aa-003-1187ffc4-a...   \n",
      "1  tuning-job-1-eece15bc5b8b4ed8aa-001-2684dc0d-a...   \n",
      "2  tuning-job-1-eece15bc5b8b4ed8aa-002-4dfa8be1-a...   \n",
      "3  automl-dm--dpp2-rpb-1-9740205c750f4253b1bb300b...   \n",
      "4  automl-dm--dpp1-csv-1-92e5fe206f514430919b6797...   \n",
      "5  automl-dm--dpp0-rpb-1-e7fd271f2f7b4834b49a1779...   \n",
      "6  automl-dm--dpp2-1-b4427efb8653498f921496864131...   \n",
      "7  automl-dm--dpp0-1-d241ad12c8944d64bc7be538a4e9...   \n",
      "8  automl-dm--dpp1-1-95dc69438ac9483a868066c76e9a...   \n",
      "9  db-1-74124d35b29d4000bd9de8426901cad8006d23d4a...   \n",
      "\n",
      "                                           SourceArn  \\\n",
      "0  arn:aws:sagemaker:us-west-2:250107111215:train...   \n",
      "1  arn:aws:sagemaker:us-west-2:250107111215:train...   \n",
      "2  arn:aws:sagemaker:us-west-2:250107111215:train...   \n",
      "3  arn:aws:sagemaker:us-west-2:250107111215:trans...   \n",
      "4  arn:aws:sagemaker:us-west-2:250107111215:trans...   \n",
      "5  arn:aws:sagemaker:us-west-2:250107111215:trans...   \n",
      "6  arn:aws:sagemaker:us-west-2:250107111215:train...   \n",
      "7  arn:aws:sagemaker:us-west-2:250107111215:train...   \n",
      "8  arn:aws:sagemaker:us-west-2:250107111215:train...   \n",
      "9  arn:aws:sagemaker:us-west-2:250107111215:proce...   \n",
      "\n",
      "                                  SageMaker.ImageUri  SageMaker.InstanceCount  \\\n",
      "0  246618743249.dkr.ecr.us-west-2.amazonaws.com/s...                      1.0   \n",
      "1  246618743249.dkr.ecr.us-west-2.amazonaws.com/s...                      1.0   \n",
      "2  246618743249.dkr.ecr.us-west-2.amazonaws.com/s...                      1.0   \n",
      "3                                                NaN                      1.0   \n",
      "4                                                NaN                      1.0   \n",
      "5                                                NaN                      1.0   \n",
      "6  246618743249.dkr.ecr.us-west-2.amazonaws.com/s...                      1.0   \n",
      "7  246618743249.dkr.ecr.us-west-2.amazonaws.com/s...                      1.0   \n",
      "8  246618743249.dkr.ecr.us-west-2.amazonaws.com/s...                      1.0   \n",
      "9                                                NaN                      1.0   \n",
      "\n",
      "  SageMaker.InstanceType  SageMaker.VolumeSizeInGB _tuning_objective_metric  \\\n",
      "0          ml.m5.4xlarge                      50.0      validation:accuracy   \n",
      "1          ml.m5.4xlarge                      50.0      validation:accuracy   \n",
      "2          ml.m5.4xlarge                      50.0      validation:accuracy   \n",
      "3          ml.m5.4xlarge                       NaN                      NaN   \n",
      "4          ml.m5.4xlarge                       NaN                      NaN   \n",
      "5          ml.m5.4xlarge                       NaN                      NaN   \n",
      "6          ml.m5.4xlarge                      50.0                      NaN   \n",
      "7          ml.m5.4xlarge                      50.0                      NaN   \n",
      "8          ml.m5.4xlarge                      50.0                      NaN   \n",
      "9          ml.m5.2xlarge                     250.0                      NaN   \n",
      "\n",
      "      alpha  colsample_bytree  ...  sagemaker_submit_directory  \\\n",
      "0  0.000001          0.323462  ...                         NaN   \n",
      "1  0.000001          0.323462  ...                         NaN   \n",
      "2  0.000001          0.323462  ...                         NaN   \n",
      "3       NaN               NaN  ...                         NaN   \n",
      "4       NaN               NaN  ...                         NaN   \n",
      "5       NaN               NaN  ...                         NaN   \n",
      "6       NaN               NaN  ...     /opt/ml/input/data/code   \n",
      "7       NaN               NaN  ...     /opt/ml/input/data/code   \n",
      "8       NaN               NaN  ...     /opt/ml/input/data/code   \n",
      "9       NaN               NaN  ...                         NaN   \n",
      "\n",
      "     code - MediaType                                       code - Value  \\\n",
      "0                 NaN                                                NaN   \n",
      "1                 NaN                                                NaN   \n",
      "2                 NaN                                                NaN   \n",
      "3                 NaN                                                NaN   \n",
      "4                 NaN                                                NaN   \n",
      "5                 NaN                                                NaN   \n",
      "6  application/x-code  s3://sagemaker-us-west-2-250107111215/models/a...   \n",
      "7  application/x-code  s3://sagemaker-us-west-2-250107111215/models/a...   \n",
      "8  application/x-code  s3://sagemaker-us-west-2-250107111215/models/a...   \n",
      "9                 NaN                                                NaN   \n",
      "\n",
      "   input_channel_mode               job_name    label_col  \\\n",
      "0                 NaN                    NaN          NaN   \n",
      "1                 NaN                    NaN          NaN   \n",
      "2                 NaN                    NaN          NaN   \n",
      "3                 NaN                    NaN          NaN   \n",
      "4                 NaN                    NaN          NaN   \n",
      "5                 NaN                    NaN          NaN   \n",
      "6                 NaN                    NaN          NaN   \n",
      "7                 NaN                    NaN          NaN   \n",
      "8                 NaN                    NaN          NaN   \n",
      "9                Pipe  automl-dm-22-16-24-40  star_rating   \n",
      "\n",
      "   SageMaker.ImageUri - MediaType  \\\n",
      "0                             NaN   \n",
      "1                             NaN   \n",
      "2                             NaN   \n",
      "3                             NaN   \n",
      "4                             NaN   \n",
      "5                             NaN   \n",
      "6                             NaN   \n",
      "7                             NaN   \n",
      "8                             NaN   \n",
      "9                             NaN   \n",
      "\n",
      "                          SageMaker.ImageUri - Value  ds - MediaType  \\\n",
      "0                                                NaN             NaN   \n",
      "1                                                NaN             NaN   \n",
      "2                                                NaN             NaN   \n",
      "3                                                NaN             NaN   \n",
      "4                                                NaN             NaN   \n",
      "5                                                NaN             NaN   \n",
      "6                                                NaN             NaN   \n",
      "7                                                NaN             NaN   \n",
      "8                                                NaN             NaN   \n",
      "9  685499690500.dkr.ecr.us-west-2.amazonaws.com/d...             NaN   \n",
      "\n",
      "                                          ds - Value  \n",
      "0                                                NaN  \n",
      "1                                                NaN  \n",
      "2                                                NaN  \n",
      "3                                                NaN  \n",
      "4                                                NaN  \n",
      "5                                                NaN  \n",
      "6                                                NaN  \n",
      "7                                                NaN  \n",
      "8                                                NaN  \n",
      "9  s3://sagemaker-us-west-2-250107111215/models/a...  \n",
      "\n",
      "[10 rows x 74 columns]\n"
     ]
    }
   ],
   "source": [
    "from sagemaker.analytics import ExperimentAnalytics, TrainingJobAnalytics\n",
    "\n",
    "exp = ExperimentAnalytics(\n",
    "    sagemaker_session=sess, \n",
    "    experiment_name=auto_ml_job_name + '-aws-auto-ml-job',\n",
    ")\n",
    "\n",
    "df = exp.dataframe()\n",
    "print(df)"
   ]
  },
  {
   "cell_type": "markdown",
   "metadata": {},
   "source": [
    "# Explore the Best Candidate\n",
    "Now that we have successfully completed the AutoML job on our dataset and visualized the trials, we can create a model from any of the trials with a single API call and then deploy that model for online or batch prediction using [Inference Pipelines](https://docs.aws.amazon.com/sagemaker/latest/dg/inference-pipelines.html). For this notebook, we deploy only the best performing trial for inference."
   ]
  },
  {
   "cell_type": "markdown",
   "metadata": {},
   "source": [
    "The best candidate is the one we're really interested in."
   ]
  },
  {
   "cell_type": "code",
   "execution_count": 25,
   "metadata": {},
   "outputs": [],
   "source": [
    "best_candidate_response = sm.describe_auto_ml_job(AutoMLJobName=auto_ml_job_name)"
   ]
  },
  {
   "cell_type": "code",
   "execution_count": 26,
   "metadata": {},
   "outputs": [
    {
     "name": "stdout",
     "output_type": "stream",
     "text": [
      "OK\n"
     ]
    }
   ],
   "source": [
    "if not bool(best_candidate_response):\n",
    "    print('STOP: Autopilot Job did NOT finish correctly. Please re-run the notebook from start.')\n",
    "else:\n",
    "    best_candidate = best_candidate_response['BestCandidate']\n",
    "    print('OK')"
   ]
  },
  {
   "cell_type": "code",
   "execution_count": 27,
   "metadata": {},
   "outputs": [
    {
     "name": "stdout",
     "output_type": "stream",
     "text": [
      "Candidate name: tuning-job-1-eece15bc5b8b4ed8aa-003-1187ffc4\n",
      "Metric name: validation:accuracy\n",
      "Metric value: 0.39945000410079956\n"
     ]
    }
   ],
   "source": [
    "if not bool(best_candidate):\n",
    "    print('STOP: Autopilot Job did NOT finish correctly. Please re-run the notebook from start.')\n",
    "elif 'CandidateName' not in best_candidate:\n",
    "    print('STOP: Autopilot Job did NOT finish correctly. Please re-run the notebook from start.')\n",
    "elif 'FinalAutoMLJobObjectiveMetric' not in best_candidate:\n",
    "    print('STOP: Autopilot Job did NOT finish correctly. Please re-run the notebook from start.')\n",
    "else:\n",
    "    best_candidate_identifier = best_candidate['CandidateName']\n",
    "    print(\"Candidate name: \" + best_candidate_identifier)\n",
    "    print(\"Metric name: \" + best_candidate['FinalAutoMLJobObjectiveMetric']['MetricName'])\n",
    "    print(\"Metric value: \" + str(best_candidate['FinalAutoMLJobObjectiveMetric']['Value']))\n"
   ]
  },
  {
   "cell_type": "code",
   "execution_count": 28,
   "metadata": {},
   "outputs": [
    {
     "data": {
      "text/plain": [
       "{'CandidateName': 'tuning-job-1-eece15bc5b8b4ed8aa-003-1187ffc4',\n",
       " 'FinalAutoMLJobObjectiveMetric': {'MetricName': 'validation:accuracy',\n",
       "  'Value': 0.39945000410079956},\n",
       " 'ObjectiveStatus': 'Succeeded',\n",
       " 'CandidateSteps': [{'CandidateStepType': 'AWS::SageMaker::ProcessingJob',\n",
       "   'CandidateStepArn': 'arn:aws:sagemaker:us-west-2:250107111215:processing-job/db-1-74124d35b29d4000bd9de8426901cad8006d23d4ab574a2a9bd18f9c64',\n",
       "   'CandidateStepName': 'db-1-74124d35b29d4000bd9de8426901cad8006d23d4ab574a2a9bd18f9c64'},\n",
       "  {'CandidateStepType': 'AWS::SageMaker::TrainingJob',\n",
       "   'CandidateStepArn': 'arn:aws:sagemaker:us-west-2:250107111215:training-job/automl-dm--dpp0-1-d241ad12c8944d64bc7be538a4e91c120aad50095dc94',\n",
       "   'CandidateStepName': 'automl-dm--dpp0-1-d241ad12c8944d64bc7be538a4e91c120aad50095dc94'},\n",
       "  {'CandidateStepType': 'AWS::SageMaker::TransformJob',\n",
       "   'CandidateStepArn': 'arn:aws:sagemaker:us-west-2:250107111215:transform-job/automl-dm--dpp0-rpb-1-e7fd271f2f7b4834b49a177902adc1484bde99a8b',\n",
       "   'CandidateStepName': 'automl-dm--dpp0-rpb-1-e7fd271f2f7b4834b49a177902adc1484bde99a8b'},\n",
       "  {'CandidateStepType': 'AWS::SageMaker::TrainingJob',\n",
       "   'CandidateStepArn': 'arn:aws:sagemaker:us-west-2:250107111215:training-job/tuning-job-1-eece15bc5b8b4ed8aa-003-1187ffc4',\n",
       "   'CandidateStepName': 'tuning-job-1-eece15bc5b8b4ed8aa-003-1187ffc4'}],\n",
       " 'CandidateStatus': 'Completed',\n",
       " 'InferenceContainers': [{'Image': '246618743249.dkr.ecr.us-west-2.amazonaws.com/sagemaker-sklearn-automl:0.1.0-cpu-py3',\n",
       "   'ModelDataUrl': 's3://sagemaker-us-west-2-250107111215/models/autopilot/automl-dm-22-16-24-40/data-processor-models/automl-dm--dpp0-1-d241ad12c8944d64bc7be538a4e91c120aad50095dc94/output/model.tar.gz',\n",
       "   'Environment': {'AUTOML_SPARSE_ENCODE_RECORDIO_PROTOBUF': '1',\n",
       "    'AUTOML_TRANSFORM_MODE': 'feature-transform',\n",
       "    'SAGEMAKER_DEFAULT_INVOCATIONS_ACCEPT': 'application/x-recordio-protobuf',\n",
       "    'SAGEMAKER_PROGRAM': 'sagemaker_serve',\n",
       "    'SAGEMAKER_SUBMIT_DIRECTORY': '/opt/ml/model/sagemaker_serve.py'}},\n",
       "  {'Image': '246618743249.dkr.ecr.us-west-2.amazonaws.com/sagemaker-xgboost:1.0-1-cpu-py3',\n",
       "   'ModelDataUrl': 's3://sagemaker-us-west-2-250107111215/models/autopilot/automl-dm-22-16-24-40/tuning/automl-dm--dpp0-xgb/tuning-job-1-eece15bc5b8b4ed8aa-003-1187ffc4/output/model.tar.gz',\n",
       "   'Environment': {'MAX_CONTENT_LENGTH': '20971520',\n",
       "    'SAGEMAKER_DEFAULT_INVOCATIONS_ACCEPT': 'text/csv',\n",
       "    'SAGEMAKER_INFERENCE_OUTPUT': 'predicted_label',\n",
       "    'SAGEMAKER_INFERENCE_SUPPORTED': 'predicted_label,probability,probabilities'}},\n",
       "  {'Image': '246618743249.dkr.ecr.us-west-2.amazonaws.com/sagemaker-sklearn-automl:0.1.0-cpu-py3',\n",
       "   'ModelDataUrl': 's3://sagemaker-us-west-2-250107111215/models/autopilot/automl-dm-22-16-24-40/data-processor-models/automl-dm--dpp0-1-d241ad12c8944d64bc7be538a4e91c120aad50095dc94/output/model.tar.gz',\n",
       "   'Environment': {'AUTOML_TRANSFORM_MODE': 'inverse-label-transform',\n",
       "    'SAGEMAKER_DEFAULT_INVOCATIONS_ACCEPT': 'text/csv',\n",
       "    'SAGEMAKER_INFERENCE_INPUT': 'predicted_label',\n",
       "    'SAGEMAKER_INFERENCE_OUTPUT': 'predicted_label',\n",
       "    'SAGEMAKER_INFERENCE_SUPPORTED': 'predicted_label,probability,labels,probabilities',\n",
       "    'SAGEMAKER_PROGRAM': 'sagemaker_serve',\n",
       "    'SAGEMAKER_SUBMIT_DIRECTORY': '/opt/ml/model/sagemaker_serve.py'}}],\n",
       " 'CreationTime': datetime.datetime(2020, 8, 22, 16, 44, 49, tzinfo=tzlocal()),\n",
       " 'EndTime': datetime.datetime(2020, 8, 22, 16, 45, 53, tzinfo=tzlocal()),\n",
       " 'LastModifiedTime': datetime.datetime(2020, 8, 22, 16, 46, 13, 745000, tzinfo=tzlocal())}"
      ]
     },
     "execution_count": 28,
     "metadata": {},
     "output_type": "execute_result"
    }
   ],
   "source": [
    "best_candidate"
   ]
  },
  {
   "cell_type": "markdown",
   "metadata": {},
   "source": [
    "We can see the containers and models composing the Inference Pipeline."
   ]
  },
  {
   "cell_type": "code",
   "execution_count": 29,
   "metadata": {},
   "outputs": [
    {
     "name": "stdout",
     "output_type": "stream",
     "text": [
      "246618743249.dkr.ecr.us-west-2.amazonaws.com/sagemaker-sklearn-automl:0.1.0-cpu-py3\n",
      "s3://sagemaker-us-west-2-250107111215/models/autopilot/automl-dm-22-16-24-40/data-processor-models/automl-dm--dpp0-1-d241ad12c8944d64bc7be538a4e91c120aad50095dc94/output/model.tar.gz\n",
      "======================\n",
      "246618743249.dkr.ecr.us-west-2.amazonaws.com/sagemaker-xgboost:1.0-1-cpu-py3\n",
      "s3://sagemaker-us-west-2-250107111215/models/autopilot/automl-dm-22-16-24-40/tuning/automl-dm--dpp0-xgb/tuning-job-1-eece15bc5b8b4ed8aa-003-1187ffc4/output/model.tar.gz\n",
      "======================\n",
      "246618743249.dkr.ecr.us-west-2.amazonaws.com/sagemaker-sklearn-automl:0.1.0-cpu-py3\n",
      "s3://sagemaker-us-west-2-250107111215/models/autopilot/automl-dm-22-16-24-40/data-processor-models/automl-dm--dpp0-1-d241ad12c8944d64bc7be538a4e91c120aad50095dc94/output/model.tar.gz\n",
      "======================\n"
     ]
    }
   ],
   "source": [
    "if not bool(best_candidate):\n",
    "    print('STOP: Autopilot Job did NOT finish correctly. Please re-run the notebook from start.')\n",
    "elif 'InferenceContainers' not in best_candidate:\n",
    "    print('STOP: Autopilot Job did NOT finish correctly. Please re-run the notebook from start.')\n",
    "else:\n",
    "    for container in best_candidate['InferenceContainers']:\n",
    "        print(container['Image'])\n",
    "        print(container['ModelDataUrl'])\n",
    "        print('======================')\n"
   ]
  },
  {
   "cell_type": "markdown",
   "metadata": {},
   "source": [
    "# Autopilot Chooses XGBoost as Best Candidate!\n",
    "\n",
    "Note that Autopilot chose different hyper-parameters and feature transformations than we used in our own XGBoost model."
   ]
  },
  {
   "cell_type": "markdown",
   "metadata": {},
   "source": [
    "# Deploy the Model as a REST Endpoint\n",
    "Batch transformations are also supported, but for now, we will use a REST Endpoint."
   ]
  },
  {
   "cell_type": "code",
   "execution_count": 30,
   "metadata": {},
   "outputs": [
    {
     "name": "stdout",
     "output_type": "stream",
     "text": [
      "Best candidate model ARN:  arn:aws:sagemaker:us-west-2:250107111215:model/automl-dm-model-22-16-24-40\n"
     ]
    }
   ],
   "source": [
    "model_name = 'automl-dm-model-' + timestamp_suffix\n",
    "\n",
    "model_arn = sm.create_model(Containers=best_candidate['InferenceContainers'],\n",
    "                            ModelName=model_name,\n",
    "                            ExecutionRoleArn=role)\n",
    "\n",
    "print('Best candidate model ARN: ', model_arn['ModelArn'])"
   ]
  },
  {
   "cell_type": "code",
   "execution_count": 31,
   "metadata": {},
   "outputs": [
    {
     "name": "stdout",
     "output_type": "stream",
     "text": [
      "automl-dm-ep-22-16-47-12\n",
      "automl-dm-variant-22-16-47-12\n"
     ]
    }
   ],
   "source": [
    "# EndpointConfig name\n",
    "timestamp_suffix = strftime('%d-%H-%M-%S', gmtime())\n",
    "epc_name = 'automl-dm-epc-' + timestamp_suffix\n",
    "\n",
    "# Endpoint name\n",
    "autopilot_endpoint_name = 'automl-dm-ep-' + timestamp_suffix\n",
    "variant_name = 'automl-dm-variant-' + timestamp_suffix\n",
    "\n",
    "print(autopilot_endpoint_name)\n",
    "print(variant_name)"
   ]
  },
  {
   "cell_type": "code",
   "execution_count": 32,
   "metadata": {},
   "outputs": [],
   "source": [
    "ep_config = sm.create_endpoint_config(EndpointConfigName = epc_name,\n",
    "                                      ProductionVariants=[{'InstanceType':'ml.m5.large',\n",
    "                                                           'InitialInstanceCount': 1,\n",
    "                                                           'ModelName': model_name,\n",
    "                                                           'VariantName': variant_name}])\n"
   ]
  },
  {
   "cell_type": "code",
   "execution_count": 33,
   "metadata": {},
   "outputs": [
    {
     "name": "stdout",
     "output_type": "stream",
     "text": [
      "arn:aws:sagemaker:us-west-2:250107111215:endpoint/automl-dm-ep-22-16-47-12\n"
     ]
    }
   ],
   "source": [
    "create_endpoint_response = sm.create_endpoint(EndpointName=autopilot_endpoint_name,\n",
    "                                              EndpointConfigName=epc_name)\n",
    "print(create_endpoint_response['EndpointArn'])"
   ]
  },
  {
   "cell_type": "markdown",
   "metadata": {},
   "source": [
    "# Wait for the Model to Deploy\n",
    "This may take 5-10 mins.  Please be patient."
   ]
  },
  {
   "cell_type": "code",
   "execution_count": 34,
   "metadata": {},
   "outputs": [],
   "source": [
    "sm.get_waiter('endpoint_in_service').wait(EndpointName=autopilot_endpoint_name)\n"
   ]
  },
  {
   "cell_type": "code",
   "execution_count": 35,
   "metadata": {},
   "outputs": [
    {
     "name": "stdout",
     "output_type": "stream",
     "text": [
      "Arn: arn:aws:sagemaker:us-west-2:250107111215:endpoint/automl-dm-ep-22-16-47-12\n",
      "Status: InService\n"
     ]
    }
   ],
   "source": [
    "resp = sm.describe_endpoint(EndpointName=autopilot_endpoint_name)\n",
    "status = resp['EndpointStatus']\n",
    "\n",
    "print(\"Arn: \" + resp['EndpointArn'])\n",
    "print(\"Status: \" + status)"
   ]
  },
  {
   "cell_type": "markdown",
   "metadata": {},
   "source": [
    "# Test Our Model with Some Example Reviews\n",
    "Let's do some ad-hoc predictions on our model."
   ]
  },
  {
   "cell_type": "code",
   "execution_count": 36,
   "metadata": {},
   "outputs": [],
   "source": [
    "sm_runtime = boto3.client('sagemaker-runtime')"
   ]
  },
  {
   "cell_type": "code",
   "execution_count": 37,
   "metadata": {},
   "outputs": [
    {
     "data": {
      "text/plain": [
       "'5'"
      ]
     },
     "execution_count": 37,
     "metadata": {},
     "output_type": "execute_result"
    }
   ],
   "source": [
    "csv_line_predict_positive = \"\"\"I loved it!\"\"\"\n",
    "\n",
    "response = sm_runtime.invoke_endpoint(EndpointName=autopilot_endpoint_name, ContentType='text/csv', Accept='text/csv', Body=csv_line_predict_positive)\n",
    "\n",
    "response_body = response['Body'].read().decode('utf-8').strip()\n",
    "response_body"
   ]
  },
  {
   "cell_type": "code",
   "execution_count": 38,
   "metadata": {},
   "outputs": [
    {
     "data": {
      "text/plain": [
       "'3'"
      ]
     },
     "execution_count": 38,
     "metadata": {},
     "output_type": "execute_result"
    }
   ],
   "source": [
    "csv_line_predict_meh = \"\"\"It's OK.\"\"\"\n",
    "\n",
    "response = sm_runtime.invoke_endpoint(EndpointName=autopilot_endpoint_name, ContentType='text/csv', Accept='text/csv', Body=csv_line_predict_meh)\n",
    "\n",
    "response_body = response['Body'].read().decode('utf-8').strip()\n",
    "response_body"
   ]
  },
  {
   "cell_type": "code",
   "execution_count": 39,
   "metadata": {
    "scrolled": true
   },
   "outputs": [
    {
     "data": {
      "text/plain": [
       "'5'"
      ]
     },
     "execution_count": 39,
     "metadata": {},
     "output_type": "execute_result"
    }
   ],
   "source": [
    "csv_line_predict_negative = \"\"\"The worst product ever.\"\"\"\n",
    "\n",
    "response = sm_runtime.invoke_endpoint(EndpointName=autopilot_endpoint_name, ContentType='text/csv', Accept='text/csv', Body=csv_line_predict_negative)\n",
    "\n",
    "response_body = response['Body'].read().decode('utf-8').strip()\n",
    "response_body"
   ]
  },
  {
   "cell_type": "code",
   "execution_count": 40,
   "metadata": {},
   "outputs": [
    {
     "name": "stdout",
     "output_type": "stream",
     "text": [
      "Stored 'autopilot_endpoint_name' (str)\n"
     ]
    }
   ],
   "source": [
    "%store autopilot_endpoint_name"
   ]
  },
  {
   "cell_type": "code",
   "execution_count": 41,
   "metadata": {
    "scrolled": true
   },
   "outputs": [
    {
     "name": "stdout",
     "output_type": "stream",
     "text": [
      "Stored variables and their in-db values:\n",
      "autopilot_endpoint_name             -> 'automl-dm-ep-22-16-47-12'\n",
      "header_train_s3_uri                 -> 's3://sagemaker-us-west-2-250107111215/data/amazon\n",
      "noheader_train_s3_uri               -> 's3://sagemaker-us-west-2-250107111215/data/amazon\n"
     ]
    }
   ],
   "source": [
    "%store"
   ]
  },
  {
   "cell_type": "code",
   "execution_count": null,
   "metadata": {},
   "outputs": [],
   "source": [
    "%%javascript\n",
    "Jupyter.notebook.save_checkpoint();\n",
    "Jupyter.notebook.session.delete();"
   ]
  },
  {
   "cell_type": "markdown",
   "metadata": {},
   "source": [
    "# Summary\n",
    "We used Autopilot to automatically find the best model, hyper-parameters, and feature-engineering scripts for our dataset.  \n",
    "\n",
    "Autopilot uses a white-box approach to generate re-usable exploration Jupyter Notebooks and transformation Python scripts to continue to train and deploy our model on new data - well after this initial interaction with the Autopilot service."
   ]
  },
  {
   "cell_type": "code",
   "execution_count": null,
   "metadata": {},
   "outputs": [],
   "source": []
  }
 ],
 "metadata": {
  "kernelspec": {
   "display_name": "conda_python3",
   "language": "python",
   "name": "conda_python3"
  },
  "language_info": {
   "codemirror_mode": {
    "name": "ipython",
    "version": 3
   },
   "file_extension": ".py",
   "mimetype": "text/x-python",
   "name": "python",
   "nbconvert_exporter": "python",
   "pygments_lexer": "ipython3",
   "version": "3.6.10"
  }
 },
 "nbformat": 4,
 "nbformat_minor": 4
}
