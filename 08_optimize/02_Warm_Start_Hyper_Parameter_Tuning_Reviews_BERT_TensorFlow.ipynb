{
 "cells": [
  {
   "cell_type": "markdown",
   "metadata": {},
   "source": [
    "# Warm Start from a Completed Hyper-Parameter Tuning Job\n",
    "Once the previous hyper-parameter tuning job completes, we can perform another round of optimization using `Warm Start`."
   ]
  },
  {
   "cell_type": "markdown",
   "metadata": {},
   "source": [
    "Warm start configuration allows you to create a new tuning job with the learning gathered in a parent tuning job by specifying up to 5 parent tuning jobs. If a warm start configuration is specified, Automatic Model Tuning will load the previous [hyperparameter set, objective metrics values] to warm start the new tuning job. This means, you can continue optimizing your model from the point you finished your previous tuning job experiment."
   ]
  },
  {
   "cell_type": "markdown",
   "metadata": {},
   "source": [
    "<img src=\"img/hpt-warmstart.png\" width=\"90%\" align=\"left\">"
   ]
  },
  {
   "cell_type": "code",
   "execution_count": 1,
   "metadata": {},
   "outputs": [],
   "source": [
    "!pip install -q sagemaker-experiments==0.1.13"
   ]
  },
  {
   "cell_type": "code",
   "execution_count": 2,
   "metadata": {},
   "outputs": [],
   "source": [
    "import boto3\n",
    "import sagemaker\n",
    "import pandas as pd\n",
    "\n",
    "sess   = sagemaker.Session()\n",
    "bucket = sess.default_bucket()\n",
    "role = sagemaker.get_execution_role()\n",
    "region = boto3.Session().region_name\n",
    "\n",
    "sm = boto3.Session().client(service_name='sagemaker', region_name=region)"
   ]
  },
  {
   "cell_type": "markdown",
   "metadata": {},
   "source": [
    "# Pre-Requisite\n",
    "\n",
    "## The previous hyper-parameter tuning job needs to complete, before we can perform another round of optimization using `Warm Start`."
   ]
  },
  {
   "cell_type": "code",
   "execution_count": 3,
   "metadata": {},
   "outputs": [],
   "source": [
    "%store -r tuning_job_name"
   ]
  },
  {
   "cell_type": "code",
   "execution_count": 4,
   "metadata": {},
   "outputs": [
    {
     "name": "stdout",
     "output_type": "stream",
     "text": [
      "+++++++++++++++++++++++++++++++++++++++++++++\n",
      "OK. Previous Tuning Job has completed.\n",
      "+++++++++++++++++++++++++++++++++++++++++++++\n"
     ]
    }
   ],
   "source": [
    "try:\n",
    "    tuning_job_name\n",
    "    print('+++++++++++++++++++++++++++++++++++++++++++++')\n",
    "    print('OK. Previous Tuning Job has completed.')\n",
    "    print('+++++++++++++++++++++++++++++++++++++++++++++')\n",
    "except NameError:\n",
    "    print('+++++++++++++++++++++++++++++++++++++++++++++')\n",
    "    print('STOP: Please run the previous Hyperparameter Tuning notebook.')\n",
    "    print('+++++++++++++++++++++++++++++++++++++++++++++')"
   ]
  },
  {
   "cell_type": "code",
   "execution_count": 5,
   "metadata": {},
   "outputs": [
    {
     "name": "stdout",
     "output_type": "stream",
     "text": [
      "tensorflow-training-200822-1959\n"
     ]
    }
   ],
   "source": [
    "print(tuning_job_name)"
   ]
  },
  {
   "cell_type": "markdown",
   "metadata": {},
   "source": [
    "### Check the status of the previous Hyperparameter Job"
   ]
  },
  {
   "cell_type": "code",
   "execution_count": 6,
   "metadata": {},
   "outputs": [],
   "source": [
    "job_description = sm.describe_hyper_parameter_tuning_job(\n",
    "    HyperParameterTuningJobName=tuning_job_name\n",
    ")"
   ]
  },
  {
   "cell_type": "code",
   "execution_count": 7,
   "metadata": {},
   "outputs": [
    {
     "name": "stdout",
     "output_type": "stream",
     "text": [
      "++++++++++++++++++++++++++++++++++++++++++++++++++++++++++\n",
      "OK. Previous Tuning Job has completed. Please continue.\n",
      "++++++++++++++++++++++++++++++++++++++++++++++++++++++++++\n"
     ]
    }
   ],
   "source": [
    "if not bool(job_description):\n",
    "    print('STOP: Please run the previous Hyperparameter Tuning notebook before you continue.')\n",
    "elif job_description['HyperParameterTuningJobStatus'] == 'Completed':\n",
    "    print('++++++++++++++++++++++++++++++++++++++++++++++++++++++++++')\n",
    "    print('OK. Previous Tuning Job has completed. Please continue.')\n",
    "    print('++++++++++++++++++++++++++++++++++++++++++++++++++++++++++')\n",
    "else:\n",
    "    print('+++++++++++++++++++++++++++++++++++++++++++++')\n",
    "    print('STOP: Please run the previous Hyperparameter Tuning notebook.')\n",
    "    print('+++++++++++++++++++++++++++++++++++++++++++++')"
   ]
  },
  {
   "cell_type": "markdown",
   "metadata": {},
   "source": [
    "# Specify the S3 Location of the Features"
   ]
  },
  {
   "cell_type": "code",
   "execution_count": 8,
   "metadata": {},
   "outputs": [],
   "source": [
    "%store -r processed_train_data_s3_uri"
   ]
  },
  {
   "cell_type": "code",
   "execution_count": 9,
   "metadata": {},
   "outputs": [
    {
     "name": "stdout",
     "output_type": "stream",
     "text": [
      "s3://sagemaker-us-west-2-250107111215/sagemaker-scikit-learn-2020-08-22-18-33-57-088/output/bert-train\n"
     ]
    }
   ],
   "source": [
    "print(processed_train_data_s3_uri)"
   ]
  },
  {
   "cell_type": "code",
   "execution_count": 10,
   "metadata": {},
   "outputs": [],
   "source": [
    "%store -r processed_validation_data_s3_uri"
   ]
  },
  {
   "cell_type": "code",
   "execution_count": 11,
   "metadata": {},
   "outputs": [
    {
     "name": "stdout",
     "output_type": "stream",
     "text": [
      "s3://sagemaker-us-west-2-250107111215/sagemaker-scikit-learn-2020-08-22-18-33-57-088/output/bert-validation\n"
     ]
    }
   ],
   "source": [
    "print(processed_validation_data_s3_uri)"
   ]
  },
  {
   "cell_type": "code",
   "execution_count": 12,
   "metadata": {},
   "outputs": [],
   "source": [
    "%store -r processed_test_data_s3_uri"
   ]
  },
  {
   "cell_type": "code",
   "execution_count": 13,
   "metadata": {},
   "outputs": [
    {
     "name": "stdout",
     "output_type": "stream",
     "text": [
      "s3://sagemaker-us-west-2-250107111215/sagemaker-scikit-learn-2020-08-22-18-33-57-088/output/bert-test\n"
     ]
    }
   ],
   "source": [
    "print(processed_test_data_s3_uri)"
   ]
  },
  {
   "cell_type": "code",
   "execution_count": 14,
   "metadata": {},
   "outputs": [
    {
     "name": "stdout",
     "output_type": "stream",
     "text": [
      "s3://sagemaker-us-west-2-250107111215/sagemaker-scikit-learn-2020-08-22-18-33-57-088/output/bert-train\n",
      "2020-08-22 18:38:14      10636 part-algo-1-amazon_reviews_us_Digital_Software_v1_00.tfrecord\n",
      "2020-08-22 18:38:14      11676 part-algo-2-amazon_reviews_us_Digital_Video_Games_v1_00.tfrecord\n"
     ]
    }
   ],
   "source": [
    "print(processed_train_data_s3_uri)\n",
    "!aws s3 ls $processed_train_data_s3_uri/"
   ]
  },
  {
   "cell_type": "code",
   "execution_count": 15,
   "metadata": {},
   "outputs": [
    {
     "name": "stdout",
     "output_type": "stream",
     "text": [
      "s3://sagemaker-us-west-2-250107111215/sagemaker-scikit-learn-2020-08-22-18-33-57-088/output/bert-validation\n",
      "2020-08-22 18:38:15        657 part-algo-1-amazon_reviews_us_Digital_Software_v1_00.tfrecord\n",
      "2020-08-22 18:38:15        644 part-algo-2-amazon_reviews_us_Digital_Video_Games_v1_00.tfrecord\n"
     ]
    }
   ],
   "source": [
    "print(processed_validation_data_s3_uri)\n",
    "!aws s3 ls $processed_validation_data_s3_uri/"
   ]
  },
  {
   "cell_type": "code",
   "execution_count": 16,
   "metadata": {},
   "outputs": [
    {
     "name": "stdout",
     "output_type": "stream",
     "text": [
      "s3://sagemaker-us-west-2-250107111215/sagemaker-scikit-learn-2020-08-22-18-33-57-088/output/bert-test\n",
      "2020-08-22 18:38:15        716 part-algo-1-amazon_reviews_us_Digital_Software_v1_00.tfrecord\n",
      "2020-08-22 18:38:15        650 part-algo-2-amazon_reviews_us_Digital_Video_Games_v1_00.tfrecord\n"
     ]
    }
   ],
   "source": [
    "print(processed_test_data_s3_uri)\n",
    "!aws s3 ls $processed_test_data_s3_uri/"
   ]
  },
  {
   "cell_type": "code",
   "execution_count": 17,
   "metadata": {},
   "outputs": [
    {
     "name": "stderr",
     "output_type": "stream",
     "text": [
      "'s3_input' class will be renamed to 'TrainingInput' in SageMaker Python SDK v2.\n",
      "'s3_input' class will be renamed to 'TrainingInput' in SageMaker Python SDK v2.\n",
      "'s3_input' class will be renamed to 'TrainingInput' in SageMaker Python SDK v2.\n"
     ]
    },
    {
     "name": "stdout",
     "output_type": "stream",
     "text": [
      "{'DataSource': {'S3DataSource': {'S3DataType': 'S3Prefix', 'S3Uri': 's3://sagemaker-us-west-2-250107111215/sagemaker-scikit-learn-2020-08-22-18-33-57-088/output/bert-train', 'S3DataDistributionType': 'ShardedByS3Key'}}}\n",
      "{'DataSource': {'S3DataSource': {'S3DataType': 'S3Prefix', 'S3Uri': 's3://sagemaker-us-west-2-250107111215/sagemaker-scikit-learn-2020-08-22-18-33-57-088/output/bert-validation', 'S3DataDistributionType': 'ShardedByS3Key'}}}\n",
      "{'DataSource': {'S3DataSource': {'S3DataType': 'S3Prefix', 'S3Uri': 's3://sagemaker-us-west-2-250107111215/sagemaker-scikit-learn-2020-08-22-18-33-57-088/output/bert-test', 'S3DataDistributionType': 'ShardedByS3Key'}}}\n"
     ]
    }
   ],
   "source": [
    "s3_input_train_data = sagemaker.s3_input(s3_data=processed_train_data_s3_uri, \n",
    "                                         distribution='ShardedByS3Key') \n",
    "s3_input_validation_data = sagemaker.s3_input(s3_data=processed_validation_data_s3_uri, \n",
    "                                              distribution='ShardedByS3Key')\n",
    "s3_input_test_data = sagemaker.s3_input(s3_data=processed_test_data_s3_uri, \n",
    "                                        distribution='ShardedByS3Key')\n",
    "\n",
    "print(s3_input_train_data.config)\n",
    "print(s3_input_validation_data.config)\n",
    "print(s3_input_test_data.config)"
   ]
  },
  {
   "cell_type": "code",
   "execution_count": 18,
   "metadata": {
    "scrolled": true
   },
   "outputs": [
    {
     "name": "stdout",
     "output_type": "stream",
     "text": [
      "import time\r\n",
      "import random\r\n",
      "import pandas as pd\r\n",
      "from glob import glob\r\n",
      "import pprint\r\n",
      "import argparse\r\n",
      "import json\r\n",
      "import subprocess\r\n",
      "import sys\r\n",
      "import os\r\n",
      "import tensorflow as tf\r\n",
      "#subprocess.check_call([sys.executable, '-m', 'pip', 'install', 'tensorflow==2.1.0'])\r\n",
      "subprocess.check_call([sys.executable, '-m', 'pip', 'install', 'transformers==2.8.0'])\r\n",
      "subprocess.check_call([sys.executable, '-m', 'pip', 'install', 'sagemaker-tensorflow==2.1.0.1.0.0'])\r\n",
      "subprocess.check_call([sys.executable, '-m', 'pip', 'install', 'smdebug==0.8.0'])\r\n",
      "subprocess.check_call([sys.executable, '-m', 'pip', 'install', 'scikit-learn==0.23.1'])\r\n",
      "subprocess.check_call([sys.executable, '-m', 'pip', 'install', 'matplotlib==3.2.1'])\r\n",
      "from transformers import DistilBertTokenizer\r\n",
      "from transformers import TFDistilBertForSequenceClassification\r\n",
      "from transformers import TextClassificationPipeline\r\n",
      "from transformers.configuration_distilbert import DistilBertConfig\r\n",
      "from tensorflow.keras.callbacks import ModelCheckpoint\r\n",
      "from tensorflow.keras.models import load_model\r\n",
      "#from tensorflow.keras.mixed_precision import experimental as mixed_precision\r\n",
      "\r\n",
      "\r\n",
      "CLASSES = [1, 2, 3, 4, 5]\r\n",
      "\r\n",
      "\r\n",
      "def select_data_and_label_from_record(record):\r\n",
      "    x = {\r\n",
      "        'input_ids': record['input_ids'],\r\n",
      "        'input_mask': record['input_mask'],\r\n",
      "        'segment_ids': record['segment_ids']\r\n",
      "    }\r\n",
      "\r\n",
      "    y = record['label_ids']\r\n",
      "\r\n",
      "    return (x, y)\r\n",
      "\r\n",
      "\r\n",
      "def file_based_input_dataset_builder(channel,\r\n",
      "                                     input_filenames,\r\n",
      "                                     pipe_mode,\r\n",
      "                                     is_training,\r\n",
      "                                     drop_remainder,\r\n",
      "                                     batch_size,\r\n",
      "                                     epochs,\r\n",
      "                                     steps_per_epoch,\r\n",
      "                                     max_seq_length):\r\n",
      "\r\n",
      "    # For training, we want a lot of parallel reading and shuffling.\r\n",
      "    # For eval, we want no shuffling and parallel reading doesn't matter.\r\n",
      "\r\n",
      "    if pipe_mode:\r\n",
      "        print('***** Using pipe_mode with channel {}'.format(channel))\r\n",
      "        from sagemaker_tensorflow import PipeModeDataset\r\n",
      "        dataset = PipeModeDataset(channel=channel,\r\n",
      "                                  record_format='TFRecord')\r\n",
      "    else:\r\n",
      "        print('***** Using input_filenames {}'.format(input_filenames))\r\n",
      "        dataset = tf.data.TFRecordDataset(input_filenames)\r\n",
      "\r\n",
      "    dataset = dataset.repeat(epochs * steps_per_epoch * 100)\r\n",
      "    dataset = dataset.prefetch(tf.data.experimental.AUTOTUNE)\r\n",
      "\r\n",
      "    name_to_features = {\r\n",
      "      \"input_ids\": tf.io.FixedLenFeature([max_seq_length], tf.int64),\r\n",
      "      \"input_mask\": tf.io.FixedLenFeature([max_seq_length], tf.int64),\r\n",
      "      \"segment_ids\": tf.io.FixedLenFeature([max_seq_length], tf.int64),\r\n",
      "      \"label_ids\": tf.io.FixedLenFeature([], tf.int64),\r\n",
      "    }\r\n",
      "\r\n",
      "    def _decode_record(record, name_to_features):\r\n",
      "        \"\"\"Decodes a record to a TensorFlow example.\"\"\"\r\n",
      "        record = tf.io.parse_single_example(record, name_to_features)\r\n",
      "        # TODO:  wip/bert/bert_attention_head_view/train.py\r\n",
      "        # Convert input_ids into input_tokens with DistilBert vocabulary \r\n",
      "        #  if hook.get_collections()['all'].save_config.should_save_step(modes.EVAL, hook.mode_steps[modes.EVAL]):\r\n",
      "        #    hook._write_raw_tensor_simple(\"input_tokens\", input_tokens)\r\n",
      "        return record\r\n",
      "    \r\n",
      "    dataset = dataset.apply(\r\n",
      "        tf.data.experimental.map_and_batch(\r\n",
      "          lambda record: _decode_record(record, name_to_features),\r\n",
      "          batch_size=batch_size,\r\n",
      "          drop_remainder=drop_remainder,\r\n",
      "          num_parallel_calls=tf.data.experimental.AUTOTUNE))\r\n",
      "\r\n",
      "    dataset.cache()\r\n",
      "\r\n",
      "    if is_training:\r\n",
      "        dataset = dataset.shuffle(seed=42,\r\n",
      "                                  buffer_size=100,\r\n",
      "                                  reshuffle_each_iteration=True)\r\n",
      "\r\n",
      "    return dataset\r\n",
      "\r\n",
      "\r\n",
      "def load_checkpoint_model(checkpoint_path):\r\n",
      "    import glob\r\n",
      "    import os\r\n",
      "    \r\n",
      "    glob_pattern = os.path.join(checkpoint_path, '*.h5')\r\n",
      "    print('glob pattern {}'.format(glob_pattern))\r\n",
      "\r\n",
      "    list_of_checkpoint_files = glob.glob(glob_pattern)\r\n",
      "    print('List of checkpoint files {}'.format(list_of_checkpoint_files))\r\n",
      "    \r\n",
      "    latest_checkpoint_file = max(list_of_checkpoint_files)\r\n",
      "    print('Latest checkpoint file {}'.format(latest_checkpoint_file))\r\n",
      "\r\n",
      "    initial_epoch_number_str = latest_checkpoint_file.rsplit('_', 1)[-1].split('.h5')[0]\r\n",
      "    initial_epoch_number = int(initial_epoch_number_str)\r\n",
      "\r\n",
      "    loaded_model = TFDistilBertForSequenceClassification.from_pretrained(\r\n",
      "                                               latest_checkpoint_file,\r\n",
      "                                               config=config)\r\n",
      "\r\n",
      "    print('loaded_model {}'.format(loaded_model))\r\n",
      "    print('initial_epoch_number {}'.format(initial_epoch_number))\r\n",
      "    \r\n",
      "    return loaded_model, initial_epoch_number\r\n",
      "\r\n",
      "\r\n",
      "if __name__ == '__main__':\r\n",
      "    parser = argparse.ArgumentParser()\r\n",
      "\r\n",
      "    parser.add_argument('--train_data', \r\n",
      "                        type=str, \r\n",
      "                        default=os.environ['SM_CHANNEL_TRAIN'])\r\n",
      "    parser.add_argument('--validation_data', \r\n",
      "                        type=str, \r\n",
      "                        default=os.environ['SM_CHANNEL_VALIDATION'])\r\n",
      "    parser.add_argument('--test_data',\r\n",
      "                        type=str,\r\n",
      "                        default=os.environ['SM_CHANNEL_TEST'])\r\n",
      "    parser.add_argument('--output_dir',\r\n",
      "                        type=str,\r\n",
      "                        default=os.environ['SM_OUTPUT_DIR'])\r\n",
      "    parser.add_argument('--hosts', \r\n",
      "                        type=list, \r\n",
      "                        default=json.loads(os.environ['SM_HOSTS']))\r\n",
      "    parser.add_argument('--current_host', \r\n",
      "                        type=str, \r\n",
      "                        default=os.environ['SM_CURRENT_HOST'])    \r\n",
      "    parser.add_argument('--num_gpus', \r\n",
      "                        type=int, \r\n",
      "                        default=os.environ['SM_NUM_GPUS'])\r\n",
      "    parser.add_argument('--checkpoint_base_path', \r\n",
      "                        type=str, \r\n",
      "                        default='/opt/ml/checkpoints')\r\n",
      "    parser.add_argument('--use_xla',\r\n",
      "                        type=eval,\r\n",
      "                        default=False)\r\n",
      "    parser.add_argument('--use_amp',\r\n",
      "                        type=eval,\r\n",
      "                        default=False)\r\n",
      "    parser.add_argument('--max_seq_length',\r\n",
      "                        type=int,\r\n",
      "                        default=128)\r\n",
      "    parser.add_argument('--train_batch_size',\r\n",
      "                        type=int,\r\n",
      "                        default=128)\r\n",
      "    parser.add_argument('--validation_batch_size',\r\n",
      "                        type=int,\r\n",
      "                        default=256)\r\n",
      "    parser.add_argument('--test_batch_size',\r\n",
      "                        type=int,\r\n",
      "                        default=256)\r\n",
      "    parser.add_argument('--epochs',\r\n",
      "                        type=int,\r\n",
      "                        default=2)\r\n",
      "    parser.add_argument('--learning_rate',\r\n",
      "                        type=float,\r\n",
      "                        default=0.00003)\r\n",
      "    parser.add_argument('--epsilon',\r\n",
      "                        type=float,\r\n",
      "                        default=0.00000001)\r\n",
      "    parser.add_argument('--train_steps_per_epoch',\r\n",
      "                        type=int,\r\n",
      "                        default=None)\r\n",
      "    parser.add_argument('--validation_steps',\r\n",
      "                        type=int,\r\n",
      "                        default=None)\r\n",
      "    parser.add_argument('--test_steps',\r\n",
      "                        type=int,\r\n",
      "                        default=None)\r\n",
      "    parser.add_argument('--freeze_bert_layer',\r\n",
      "                        type=eval,\r\n",
      "                        default=False)\r\n",
      "    parser.add_argument('--enable_sagemaker_debugger',\r\n",
      "                        type=eval,\r\n",
      "                        default=False)\r\n",
      "    parser.add_argument('--run_validation',\r\n",
      "                        type=eval,\r\n",
      "                        default=False)    \r\n",
      "    parser.add_argument('--run_test',\r\n",
      "                        type=eval,\r\n",
      "                        default=False)    \r\n",
      "    parser.add_argument('--run_sample_predictions',\r\n",
      "                        type=eval,\r\n",
      "                        default=False)\r\n",
      "    parser.add_argument('--enable_tensorboard',\r\n",
      "                        type=eval,\r\n",
      "                        default=False)        \r\n",
      "    parser.add_argument('--enable_checkpointing',\r\n",
      "                        type=eval,\r\n",
      "                        default=False)    \r\n",
      "    parser.add_argument('--output_data_dir', # This is unused\r\n",
      "                        type=str,\r\n",
      "                        default=os.environ['SM_OUTPUT_DATA_DIR'])\r\n",
      "    \r\n",
      "    # This points to the S3 location - this should not be used by our code\r\n",
      "    # We should use /opt/ml/model/ instead\r\n",
      "    # parser.add_argument('--model_dir', \r\n",
      "    #                     type=str, \r\n",
      "    #                     default=os.environ['SM_MODEL_DIR'])\r\n",
      "     \r\n",
      "    args, _ = parser.parse_known_args()\r\n",
      "    print(\"Args:\") \r\n",
      "    print(args)\r\n",
      "    \r\n",
      "    env_var = os.environ \r\n",
      "    print(\"Environment Variables:\") \r\n",
      "    pprint.pprint(dict(env_var), width = 1) \r\n",
      "\r\n",
      "    print('SM_TRAINING_ENV {}'.format(env_var['SM_TRAINING_ENV']))\r\n",
      "    sm_training_env_json = json.loads(env_var['SM_TRAINING_ENV'])\r\n",
      "    is_master = sm_training_env_json['is_master']\r\n",
      "    print('is_master {}'.format(is_master))\r\n",
      "    \r\n",
      "    train_data = args.train_data\r\n",
      "    print('train_data {}'.format(train_data))\r\n",
      "    validation_data = args.validation_data\r\n",
      "    print('validation_data {}'.format(validation_data))\r\n",
      "    test_data = args.test_data\r\n",
      "    print('test_data {}'.format(test_data))    \r\n",
      "    local_model_dir = os.environ['SM_MODEL_DIR']\r\n",
      "    output_dir = args.output_dir\r\n",
      "    print('output_dir {}'.format(output_dir))    \r\n",
      "    hosts = args.hosts\r\n",
      "    print('hosts {}'.format(hosts))    \r\n",
      "    current_host = args.current_host\r\n",
      "    print('current_host {}'.format(current_host))    \r\n",
      "    num_gpus = args.num_gpus\r\n",
      "    print('num_gpus {}'.format(num_gpus))\r\n",
      "    job_name = os.environ['SAGEMAKER_JOB_NAME']\r\n",
      "    print('job_name {}'.format(job_name))    \r\n",
      "    use_xla = args.use_xla\r\n",
      "    print('use_xla {}'.format(use_xla))    \r\n",
      "    use_amp = args.use_amp\r\n",
      "    print('use_amp {}'.format(use_amp))    \r\n",
      "    max_seq_length = args.max_seq_length\r\n",
      "    print('max_seq_length {}'.format(max_seq_length))    \r\n",
      "    train_batch_size = args.train_batch_size\r\n",
      "    print('train_batch_size {}'.format(train_batch_size))    \r\n",
      "    validation_batch_size = args.validation_batch_size\r\n",
      "    print('validation_batch_size {}'.format(validation_batch_size))    \r\n",
      "    test_batch_size = args.test_batch_size\r\n",
      "    print('test_batch_size {}'.format(test_batch_size))    \r\n",
      "    epochs = args.epochs\r\n",
      "    print('epochs {}'.format(epochs))    \r\n",
      "    learning_rate = args.learning_rate\r\n",
      "    print('learning_rate {}'.format(learning_rate))    \r\n",
      "    epsilon = args.epsilon\r\n",
      "    print('epsilon {}'.format(epsilon))    \r\n",
      "    train_steps_per_epoch = args.train_steps_per_epoch\r\n",
      "    print('train_steps_per_epoch {}'.format(train_steps_per_epoch))    \r\n",
      "    validation_steps = args.validation_steps\r\n",
      "    print('validation_steps {}'.format(validation_steps))    \r\n",
      "    test_steps = args.test_steps\r\n",
      "    print('test_steps {}'.format(test_steps))    \r\n",
      "    freeze_bert_layer = args.freeze_bert_layer\r\n",
      "    print('freeze_bert_layer {}'.format(freeze_bert_layer))    \r\n",
      "    enable_sagemaker_debugger = args.enable_sagemaker_debugger\r\n",
      "    print('enable_sagemaker_debugger {}'.format(enable_sagemaker_debugger))    \r\n",
      "    run_validation = args.run_validation\r\n",
      "    print('run_validation {}'.format(run_validation))    \r\n",
      "    run_test = args.run_test\r\n",
      "    print('run_test {}'.format(run_test))    \r\n",
      "    run_sample_predictions = args.run_sample_predictions\r\n",
      "    print('run_sample_predictions {}'.format(run_sample_predictions))\r\n",
      "    enable_tensorboard = args.enable_tensorboard\r\n",
      "    print('enable_tensorboard {}'.format(enable_tensorboard))       \r\n",
      "    enable_checkpointing = args.enable_checkpointing\r\n",
      "    print('enable_checkpointing {}'.format(enable_checkpointing))    \r\n",
      "\r\n",
      "    checkpoint_base_path = args.checkpoint_base_path\r\n",
      "    print('checkpoint_base_path {}'.format(checkpoint_base_path))\r\n",
      "\r\n",
      "    if is_master:\r\n",
      "        checkpoint_path = checkpoint_base_path\r\n",
      "    else:\r\n",
      "        checkpoint_path = '/tmp/checkpoints'        \r\n",
      "    print('checkpoint_path {}'.format(checkpoint_path))\r\n",
      "    \r\n",
      "    # Determine if PipeMode is enabled \r\n",
      "    pipe_mode_str = os.environ.get('SM_INPUT_DATA_CONFIG', '')\r\n",
      "    pipe_mode = (pipe_mode_str.find('Pipe') >= 0)\r\n",
      "    print('Using pipe_mode: {}'.format(pipe_mode))\r\n",
      " \r\n",
      "    # Model Output \r\n",
      "    transformer_fine_tuned_model_path = os.path.join(local_model_dir, 'transformers/fine-tuned/')\r\n",
      "    os.makedirs(transformer_fine_tuned_model_path, exist_ok=True)\r\n",
      "\r\n",
      "    # SavedModel Output\r\n",
      "    tensorflow_saved_model_path = os.path.join(local_model_dir, 'tensorflow/saved_model/0')\r\n",
      "    os.makedirs(tensorflow_saved_model_path, exist_ok=True)\r\n",
      "\r\n",
      "    # Tensorboard Logs \r\n",
      "    tensorboard_logs_path = os.path.join(local_model_dir, 'tensorboard/')\r\n",
      "    os.makedirs(tensorboard_logs_path, exist_ok=True)\r\n",
      "\r\n",
      "    # Commented out due to incompatibility with transformers library (possibly)\r\n",
      "    # Set the global precision mixed_precision policy to \"mixed_float16\"    \r\n",
      "#    mixed_precision_policy = 'mixed_float16'\r\n",
      "#    print('Mixed precision policy {}'.format(mixed_precision_policy))\r\n",
      "#    policy = mixed_precision.Policy(mixed_precision_policy)\r\n",
      "#    mixed_precision.set_policy(policy)    \r\n",
      "    \r\n",
      "    distributed_strategy = tf.distribute.MirroredStrategy()\r\n",
      "    # Comment out when using smdebug as smdebug does not support MultiWorkerMirroredStrategy() as of smdebug 0.8.0\r\n",
      "    #distributed_strategy = tf.distribute.experimental.MultiWorkerMirroredStrategy()\r\n",
      "    with distributed_strategy.scope():\r\n",
      "        tf.config.optimizer.set_jit(use_xla)\r\n",
      "        tf.config.optimizer.set_experimental_options({\"auto_mixed_precision\": use_amp})\r\n",
      "\r\n",
      "        train_data_filenames = glob(os.path.join(train_data, '*.tfrecord'))\r\n",
      "        print('train_data_filenames {}'.format(train_data_filenames))\r\n",
      "        train_dataset = file_based_input_dataset_builder(\r\n",
      "            channel='train',\r\n",
      "            input_filenames=train_data_filenames,\r\n",
      "            pipe_mode=pipe_mode,\r\n",
      "            is_training=True,\r\n",
      "            drop_remainder=False,\r\n",
      "            batch_size=train_batch_size,\r\n",
      "            epochs=epochs,\r\n",
      "            steps_per_epoch=train_steps_per_epoch,\r\n",
      "            max_seq_length=max_seq_length).map(select_data_and_label_from_record)\r\n",
      "\r\n",
      "        tokenizer = None\r\n",
      "        config = None\r\n",
      "        model = None\r\n",
      "\r\n",
      "        # This is required when launching many instances at once...  the urllib request seems to get denied periodically\r\n",
      "        successful_download = False\r\n",
      "        retries = 0\r\n",
      "        while (retries < 5 and not successful_download):\r\n",
      "            try:\r\n",
      "                tokenizer = DistilBertTokenizer.from_pretrained('distilbert-base-uncased')\r\n",
      "                config = DistilBertConfig.from_pretrained('distilbert-base-uncased',\r\n",
      "                                                          num_labels=len(CLASSES))\r\n",
      "                model = TFDistilBertForSequenceClassification.from_pretrained('distilbert-base-uncased',\r\n",
      "                                                                              config=config)\r\n",
      "                successful_download = True\r\n",
      "                print('Sucessfully downloaded after {} retries.'.format(retries))\r\n",
      "            except:\r\n",
      "                retries = retries + 1\r\n",
      "                random_sleep = random.randint(1, 30)\r\n",
      "                print('Retry #{}.  Sleeping for {} seconds'.format(retries, random_sleep))\r\n",
      "                time.sleep(random_sleep)\r\n",
      "\r\n",
      "        callbacks = []\r\n",
      "\r\n",
      "        initial_epoch_number = 0 \r\n",
      "\r\n",
      "        if enable_checkpointing:\r\n",
      "            print('***** Checkpoint enabled *****')\r\n",
      "            \r\n",
      "            os.makedirs(checkpoint_path, exist_ok=True)        \r\n",
      "            if os.listdir(checkpoint_path):\r\n",
      "                print('***** Found checkpoint *****')\r\n",
      "                print(checkpoint_path)\r\n",
      "                model, initial_epoch_number = load_checkpoint_model(checkpoint_path)\r\n",
      "                print('***** Using checkpoint model {} *****'.format(model))\r\n",
      "                \r\n",
      "            checkpoint_callback = ModelCheckpoint(\r\n",
      "                    filepath=os.path.join(checkpoint_path, 'tf_model_{epoch:05d}.h5'),\r\n",
      "                    save_weights_only=False,\r\n",
      "                    verbose=1,\r\n",
      "                    monitor='val_accuracy')\r\n",
      "            print('*** CHECKPOINT CALLBACK {} ***'.format(checkpoint_callback))\r\n",
      "            callbacks.append(checkpoint_callback)\r\n",
      "\r\n",
      "        if not tokenizer or not model or not config:\r\n",
      "            print('Not properly initialized...')\r\n",
      "\r\n",
      "        optimizer = tf.keras.optimizers.Adam(learning_rate=learning_rate, epsilon=epsilon)\r\n",
      "        print('** use_amp {}'.format(use_amp))        \r\n",
      "        if use_amp:\r\n",
      "            # loss scaling is currently required when using mixed precision\r\n",
      "            optimizer = tf.keras.mixed_precision.experimental.LossScaleOptimizer(optimizer, 'dynamic')\r\n",
      "\r\n",
      "        print('enable_sagemaker_debugger {}'.format(enable_sagemaker_debugger))\r\n",
      "        if enable_sagemaker_debugger:\r\n",
      "            print('*** DEBUGGING ***')\r\n",
      "            import smdebug.tensorflow as smd\r\n",
      "            # This assumes that we specified debugger_hook_config\r\n",
      "            debugger_callback = smd.KerasHook.create_from_json_file()\r\n",
      "            print('*** DEBUGGER CALLBACK {} ***'.format(debugger_callback))            \r\n",
      "            callbacks.append(debugger_callback)\r\n",
      "            optimizer = debugger_callback.wrap_optimizer(optimizer)\r\n",
      "\r\n",
      "        if enable_tensorboard:            \r\n",
      "            tensorboard_callback = tf.keras.callbacks.TensorBoard(\r\n",
      "                                                        log_dir=tensorboard_logs_path)\r\n",
      "            print('*** TENSORBOARD CALLBACK {} ***'.format(tensorboard_callback))\r\n",
      "            callbacks.append(tensorboard_callback)\r\n",
      "  \r\n",
      "        print('*** OPTIMIZER {} ***'.format(optimizer))\r\n",
      "        \r\n",
      "        loss = tf.keras.losses.SparseCategoricalCrossentropy(from_logits=True)\r\n",
      "        metric = tf.keras.metrics.SparseCategoricalAccuracy('accuracy')\r\n",
      "\r\n",
      "        model.compile(optimizer=optimizer, loss=loss, metrics=[metric])\r\n",
      "        print('Compiled model {}'.format(model))          \r\n",
      "        model.layers[0].trainable = not freeze_bert_layer\r\n",
      "        print(model.summary())\r\n",
      "\r\n",
      "        if run_validation:\r\n",
      "            validation_data_filenames = glob(os.path.join(validation_data, '*.tfrecord'))\r\n",
      "            print('validation_data_filenames {}'.format(validation_data_filenames))\r\n",
      "            validation_dataset = file_based_input_dataset_builder(\r\n",
      "                channel='validation',\r\n",
      "                input_filenames=validation_data_filenames,\r\n",
      "                pipe_mode=pipe_mode,\r\n",
      "                is_training=False,\r\n",
      "                drop_remainder=False,\r\n",
      "                batch_size=validation_batch_size,\r\n",
      "                epochs=epochs,\r\n",
      "                steps_per_epoch=validation_steps,\r\n",
      "                max_seq_length=max_seq_length).map(select_data_and_label_from_record)\r\n",
      "            \r\n",
      "            print('Starting Training and Validation...')\r\n",
      "            validation_dataset = validation_dataset.take(validation_steps)\r\n",
      "            train_and_validation_history = model.fit(train_dataset,\r\n",
      "                                                     shuffle=True,\r\n",
      "                                                     epochs=epochs,\r\n",
      "                                                     initial_epoch=initial_epoch_number,\r\n",
      "                                                     steps_per_epoch=train_steps_per_epoch,\r\n",
      "                                                     validation_data=validation_dataset,\r\n",
      "                                                     validation_steps=validation_steps,\r\n",
      "                                                     callbacks=callbacks)                                \r\n",
      "            print(train_and_validation_history)\r\n",
      "        else: # Not running validation\r\n",
      "            print('Starting Training (Without Validation)...')\r\n",
      "            train_history = model.fit(train_dataset,\r\n",
      "                                      shuffle=True,\r\n",
      "                                      epochs=epochs,\r\n",
      "                                      initial_epoch=initial_epoch_number,\r\n",
      "                                      steps_per_epoch=train_steps_per_epoch,\r\n",
      "                                      callbacks=callbacks)                \r\n",
      "            print(train_history)\r\n",
      "\r\n",
      "        if run_test:\r\n",
      "            test_data_filenames = glob(os.path.join(test_data, '*.tfrecord'))\r\n",
      "            print('test_data_filenames {}'.format(test_data_filenames))\r\n",
      "            test_dataset = file_based_input_dataset_builder(\r\n",
      "                channel='test',\r\n",
      "                input_filenames=test_data_filenames,\r\n",
      "                pipe_mode=pipe_mode,\r\n",
      "                is_training=False,\r\n",
      "                drop_remainder=False,\r\n",
      "                batch_size=test_batch_size,\r\n",
      "                epochs=epochs,\r\n",
      "                steps_per_epoch=test_steps,\r\n",
      "                max_seq_length=max_seq_length).map(select_data_and_label_from_record)\r\n",
      "\r\n",
      "            print('Starting test...')\r\n",
      "            test_history = model.evaluate(test_dataset,\r\n",
      "                                          steps=test_steps,\r\n",
      "                                          callbacks=callbacks)\r\n",
      "                                 \r\n",
      "            print('Test history {}'.format(test_history))\r\n",
      "            \r\n",
      "        # Save the Fine-Yuned Transformers Model as a New \"Pre-Trained\" Model\r\n",
      "        print('transformer_fine_tuned_model_path {}'.format(transformer_fine_tuned_model_path))   \r\n",
      "        model.save_pretrained(transformer_fine_tuned_model_path)\r\n",
      "\r\n",
      "        # Save the TensorFlow SavedModel for Serving Predictions\r\n",
      "        print('tensorflow_saved_model_path {}'.format(tensorflow_saved_model_path))   \r\n",
      "        model.save(tensorflow_saved_model_path, save_format='tf')\r\n",
      "                \r\n",
      "        # Copy inference.py and requirements.txt to the code/ directory\r\n",
      "        #   Note: This is required for the SageMaker Endpoint to pick them up.\r\n",
      "        #         This appears to be hard-coded and must be called code/\r\n",
      "        inference_path = os.path.join(local_model_dir, 'code/')\r\n",
      "        print('Copying inference source files to {}'.format(inference_path))\r\n",
      "        os.makedirs(inference_path, exist_ok=True)               \r\n",
      "        os.system('cp inference.py {}'.format(inference_path))\r\n",
      "        print(glob(inference_path))        \r\n",
      "#        os.system('cp requirements.txt {}/code'.format(inference_path))\r\n",
      "        \r\n",
      "    if run_sample_predictions:\r\n",
      "        loaded_model = TFDistilBertForSequenceClassification.from_pretrained(transformer_fine_tuned_model_path,\r\n",
      "                                                                       id2label={\r\n",
      "                                                                        0: 1,\r\n",
      "                                                                        1: 2,\r\n",
      "                                                                        2: 3,\r\n",
      "                                                                        3: 4,\r\n",
      "                                                                        4: 5\r\n",
      "                                                                       },\r\n",
      "                                                                       label2id={\r\n",
      "                                                                        1: 0,\r\n",
      "                                                                        2: 1,\r\n",
      "                                                                        3: 2,\r\n",
      "                                                                        4: 3,\r\n",
      "                                                                        5: 4\r\n",
      "                                                                       })\r\n",
      "\r\n",
      "        tokenizer = DistilBertTokenizer.from_pretrained('distilbert-base-uncased')\r\n",
      "\r\n",
      "        if num_gpus >= 1:\r\n",
      "            inference_device = 0 # GPU 0\r\n",
      "        else:\r\n",
      "            inference_device = -1 # CPU\r\n",
      "        print('inference_device {}'.format(inference_device))\r\n",
      "\r\n",
      "        inference_pipeline = TextClassificationPipeline(model=loaded_model, \r\n",
      "                                                        tokenizer=tokenizer,\r\n",
      "                                                        framework='tf',\r\n",
      "                                                        device=inference_device)  \r\n",
      "\r\n",
      "        print(\"\"\"I loved it!  I will recommend this to everyone.\"\"\", inference_pipeline(\"\"\"I loved it!  I will recommend this to everyone.\"\"\"))\r\n",
      "        print(\"\"\"It's OK.\"\"\", inference_pipeline(\"\"\"It's OK.\"\"\"))\r\n",
      "        print(\"\"\"Really bad.  I hope they don't make this anymore.\"\"\", inference_pipeline(\"\"\"Really bad.  I hope they don't make this anymore.\"\"\"))\r\n",
      "\r\n",
      "        import csv\r\n",
      "\r\n",
      "        df_test_reviews = pd.read_csv('./test_data/amazon_reviews_us_Digital_Software_v1_00.tsv.gz', \r\n",
      "                                        delimiter='\\t', \r\n",
      "                                        quoting=csv.QUOTE_NONE,\r\n",
      "                                        compression='gzip')[['review_body', 'star_rating']]\r\n",
      "\r\n",
      "        df_test_reviews = df_test_reviews.sample(n=100)\r\n",
      "        df_test_reviews.shape\r\n",
      "        df_test_reviews.head()\r\n",
      "        \r\n",
      "        import pandas as pd\r\n",
      "\r\n",
      "        def predict(review_body):\r\n",
      "            prediction_map = inference_pipeline(review_body)\r\n",
      "            return prediction_map[0]['label']\r\n",
      "\r\n",
      "        y_test = df_test_reviews['review_body'].map(predict)\r\n",
      "        y_test\r\n",
      "        \r\n",
      "        y_actual = df_test_reviews['star_rating']\r\n",
      "        y_actual\r\n",
      "\r\n",
      "        from sklearn.metrics import classification_report\r\n",
      "        print(classification_report(y_true=y_test, y_pred=y_actual))\r\n",
      "        \r\n",
      "        from sklearn.metrics import accuracy_score\r\n",
      "        print('Accuracy: ', accuracy_score(y_true=y_test, y_pred=y_actual))\r\n",
      "        \r\n",
      "        import matplotlib.pyplot as plt\r\n",
      "        import pandas as pd\r\n",
      "\r\n",
      "        def plot_conf_mat(cm, classes, title, cmap = plt.cm.Greens):\r\n",
      "            print(cm)\r\n",
      "            plt.imshow(cm, interpolation='nearest', cmap=cmap)\r\n",
      "            plt.title(title)\r\n",
      "            plt.colorbar()\r\n",
      "            tick_marks = np.arange(len(classes))\r\n",
      "            plt.xticks(tick_marks, classes, rotation=45)\r\n",
      "            plt.yticks(tick_marks, classes)\r\n",
      "\r\n",
      "            fmt = 'd'\r\n",
      "            thresh = cm.max() / 2.\r\n",
      "            for i, j in itertools.product(range(cm.shape[0]), range(cm.shape[1])):\r\n",
      "                plt.text(j, i, format(cm[i, j], fmt),\r\n",
      "                horizontalalignment=\"center\",\r\n",
      "                color=\"black\" if cm[i, j] > thresh else \"black\")\r\n",
      "\r\n",
      "                plt.tight_layout()\r\n",
      "                plt.ylabel('True label')\r\n",
      "                plt.xlabel('Predicted label')\r\n",
      "                \r\n",
      "        import itertools\r\n",
      "        import numpy as np\r\n",
      "        from sklearn.metrics import confusion_matrix\r\n",
      "        import matplotlib.pyplot as plt\r\n",
      "        #%matplotlib inline\r\n",
      "        #%config InlineBackend.figure_format='retina'\r\n",
      "\r\n",
      "        cm = confusion_matrix(y_true=y_test, y_pred=y_actual)\r\n",
      "\r\n",
      "        plt.figure()\r\n",
      "        fig, ax = plt.subplots(figsize=(10,5))\r\n",
      "        plot_conf_mat(cm, \r\n",
      "                      classes=['1', '2', '3', '4', '5'], \r\n",
      "                      title='Confusion Matrix')\r\n",
      "\r\n",
      "        # Save the confusion matrix        \r\n",
      "        plt.show()\r\n",
      "        \r\n",
      "        # Model Output \r\n",
      "        metrics_path = os.path.join(local_model_dir, 'metrics/')\r\n",
      "        os.makedirs(metrics_path, exist_ok=True)\r\n",
      "        plt.savefig('{}/confusion_matrix.png'.format(metrics_path))\r\n"
     ]
    }
   ],
   "source": [
    "!cat src/tf_bert_reviews.py"
   ]
  },
  {
   "cell_type": "markdown",
   "metadata": {},
   "source": [
    "# Setup Hyper-Parameters for Classification Layer\n",
    "First, retrieve `max_seq_length` from the prepare phase."
   ]
  },
  {
   "cell_type": "code",
   "execution_count": 19,
   "metadata": {},
   "outputs": [],
   "source": [
    "%store -r max_seq_length"
   ]
  },
  {
   "cell_type": "code",
   "execution_count": 20,
   "metadata": {},
   "outputs": [
    {
     "name": "stdout",
     "output_type": "stream",
     "text": [
      "64\n"
     ]
    }
   ],
   "source": [
    "print(max_seq_length)"
   ]
  },
  {
   "cell_type": "code",
   "execution_count": 21,
   "metadata": {},
   "outputs": [],
   "source": [
    "epochs=1\n",
    "epsilon=0.00000001\n",
    "train_batch_size=128\n",
    "validation_batch_size=128\n",
    "test_batch_size=128\n",
    "train_steps_per_epoch=50\n",
    "validation_steps=50\n",
    "test_steps=50\n",
    "train_instance_count=1\n",
    "train_instance_type='ml.c5.4xlarge'\n",
    "train_volume_size=1024\n",
    "use_xla=True\n",
    "use_amp=True\n",
    "freeze_bert_layer=True\n",
    "enable_sagemaker_debugger=False\n",
    "enable_checkpointing=False\n",
    "enable_tensorboard=False\n",
    "input_mode='Pipe'\n",
    "run_validation=True\n",
    "run_test=True\n",
    "run_sample_predictions=True"
   ]
  },
  {
   "cell_type": "markdown",
   "metadata": {},
   "source": [
    "# Track the Optimizations Within our Experiment"
   ]
  },
  {
   "cell_type": "code",
   "execution_count": 22,
   "metadata": {},
   "outputs": [],
   "source": [
    "%store -r experiment_name"
   ]
  },
  {
   "cell_type": "code",
   "execution_count": 23,
   "metadata": {},
   "outputs": [
    {
     "name": "stdout",
     "output_type": "stream",
     "text": [
      "Amazon-Customer-Reviews-BERT-Experiment-1598124929\n"
     ]
    }
   ],
   "source": [
    "print(experiment_name)"
   ]
  },
  {
   "cell_type": "code",
   "execution_count": 24,
   "metadata": {},
   "outputs": [],
   "source": [
    "%store -r trial_name"
   ]
  },
  {
   "cell_type": "code",
   "execution_count": 25,
   "metadata": {},
   "outputs": [
    {
     "name": "stdout",
     "output_type": "stream",
     "text": [
      "trial-1598124929\n"
     ]
    }
   ],
   "source": [
    "print(trial_name)"
   ]
  },
  {
   "cell_type": "code",
   "execution_count": 26,
   "metadata": {},
   "outputs": [
    {
     "name": "stdout",
     "output_type": "stream",
     "text": [
      "Trial(sagemaker_boto_client=<botocore.client.SageMaker object at 0x7fd0bf246048>,trial_name='trial-1598124929',trial_arn='arn:aws:sagemaker:us-west-2:250107111215:experiment-trial/trial-1598124929',display_name='trial-1598124929',experiment_name='Amazon-Customer-Reviews-BERT-Experiment-1598124929',creation_time=datetime.datetime(2020, 8, 22, 19, 35, 29, 651000, tzinfo=tzlocal()),created_by={},last_modified_time=datetime.datetime(2020, 8, 22, 20, 23, 51, 375000, tzinfo=tzlocal()),last_modified_by={},response_metadata={'RequestId': '1d8a204d-3b50-4634-b4fd-a080581aa41e', 'HTTPStatusCode': 200, 'HTTPHeaders': {'x-amzn-requestid': '1d8a204d-3b50-4634-b4fd-a080581aa41e', 'content-type': 'application/x-amz-json-1.1', 'content-length': '326', 'date': 'Sat, 22 Aug 2020 21:13:02 GMT'}, 'RetryAttempts': 0})\n"
     ]
    }
   ],
   "source": [
    "import time\n",
    "from smexperiments.trial import Trial\n",
    "\n",
    "timestamp = '{}'.format(int(time.time()))\n",
    "\n",
    "trial = Trial.load(trial_name=trial_name)\n",
    "print(trial)"
   ]
  },
  {
   "cell_type": "code",
   "execution_count": 27,
   "metadata": {},
   "outputs": [
    {
     "name": "stdout",
     "output_type": "stream",
     "text": [
      "Optimize trial component name TrialComponent-2020-08-22-211302-fqxj\n"
     ]
    }
   ],
   "source": [
    "from smexperiments.tracker import Tracker\n",
    "\n",
    "tracker_optimize = Tracker.create(display_name='optimize-2', \n",
    "                                  sagemaker_boto_client=sm)\n",
    "\n",
    "optimize_trial_component_name = tracker_optimize.trial_component.trial_component_name\n",
    "print('Optimize trial component name {}'.format(optimize_trial_component_name))"
   ]
  },
  {
   "cell_type": "markdown",
   "metadata": {},
   "source": [
    "# Attach the `deploy` Trial Component and Tracker as a Component to the Trial"
   ]
  },
  {
   "cell_type": "code",
   "execution_count": 28,
   "metadata": {},
   "outputs": [],
   "source": [
    "trial.add_trial_component(tracker_optimize.trial_component)"
   ]
  },
  {
   "cell_type": "markdown",
   "metadata": {},
   "source": [
    "# Setup Dynamic Hyper-Parameter Ranges to Explore\n",
    "While not necessary, we can choose to statically define any hyper-parameters that we are not choosing to explore in this WarmStart optimization run.\n"
   ]
  },
  {
   "cell_type": "code",
   "execution_count": 29,
   "metadata": {},
   "outputs": [],
   "source": [
    "from sagemaker.tuner import IntegerParameter\n",
    "from sagemaker.tuner import ContinuousParameter\n",
    "from sagemaker.tuner import CategoricalParameter\n",
    "from sagemaker.tuner import HyperparameterTuner\n",
    "                                                \n",
    "hyperparameter_ranges = {\n",
    "    'learning_rate': ContinuousParameter(0.00015, 0.00075, scaling_type='Linear'),\n",
    "}"
   ]
  },
  {
   "cell_type": "markdown",
   "metadata": {},
   "source": [
    "# Track the Hyper-Parameter Ranges"
   ]
  },
  {
   "cell_type": "code",
   "execution_count": 30,
   "metadata": {},
   "outputs": [
    {
     "data": {
      "text/plain": [
       "TrialComponent(sagemaker_boto_client=<botocore.client.SageMaker object at 0x7fd0a256c1d0>,trial_component_name='TrialComponent-2020-08-22-211302-fqxj',display_name='optimize-2',trial_component_arn='arn:aws:sagemaker:us-west-2:250107111215:experiment-trial-component/trialcomponent-2020-08-22-211302-fqxj',response_metadata={'RequestId': 'b703c0fb-3e79-49de-92fd-0810bc6d6faf', 'HTTPStatusCode': 200, 'HTTPHeaders': {'x-amzn-requestid': 'b703c0fb-3e79-49de-92fd-0810bc6d6faf', 'content-type': 'application/x-amz-json-1.1', 'content-length': '129', 'date': 'Sat, 22 Aug 2020 21:13:03 GMT'}, 'RetryAttempts': 0},parameters={'learning_rate': <sagemaker.parameter.ContinuousParameter object at 0x7fd0bee639b0>},input_artifacts={},output_artifacts={})"
      ]
     },
     "execution_count": 30,
     "metadata": {},
     "output_type": "execute_result"
    }
   ],
   "source": [
    "tracker_optimize.log_parameters(hyperparameter_ranges)\n",
    "\n",
    "# must save after logging\n",
    "tracker_optimize.trial_component.save()"
   ]
  },
  {
   "cell_type": "markdown",
   "metadata": {},
   "source": [
    "# Setup Metrics"
   ]
  },
  {
   "cell_type": "code",
   "execution_count": 31,
   "metadata": {},
   "outputs": [],
   "source": [
    "metrics_definitions = [\n",
    "     {'Name': 'train:loss', 'Regex': 'loss: ([0-9\\\\.]+)'},\n",
    "     {'Name': 'train:accuracy', 'Regex': 'accuracy: ([0-9\\\\.]+)'},\n",
    "     {'Name': 'validation:loss', 'Regex': 'val_loss: ([0-9\\\\.]+)'},\n",
    "     {'Name': 'validation:accuracy', 'Regex': 'val_accuracy: ([0-9\\\\.]+)'},\n",
    "]"
   ]
  },
  {
   "cell_type": "code",
   "execution_count": 32,
   "metadata": {},
   "outputs": [],
   "source": [
    "from sagemaker.tensorflow import TensorFlow\n",
    "\n",
    "estimator = TensorFlow(entry_point='tf_bert_reviews.py',\n",
    "                       source_dir='src',\n",
    "                       role=role,\n",
    "                       train_instance_count=train_instance_count, # Make sure you have at least this number of input files or the ShardedByS3Key distibution strategy will fail the job due to no data available\n",
    "                       train_instance_type=train_instance_type,\n",
    "                       train_volume_size=train_volume_size,\n",
    "                       py_version='py3',\n",
    "                       framework_version='2.1.0',\n",
    "                       hyperparameters={'epochs': epochs,\n",
    "                                        'epsilon': epsilon,\n",
    "                                        'train_batch_size': train_batch_size,\n",
    "                                        'validation_batch_size': validation_batch_size,\n",
    "                                        'test_batch_size': test_batch_size,                                             \n",
    "                                        'train_steps_per_epoch': train_steps_per_epoch,\n",
    "                                        'validation_steps': validation_steps,\n",
    "                                        'test_steps': test_steps,\n",
    "                                        'use_xla': use_xla,\n",
    "                                        'use_amp': use_amp,\n",
    "                                        'max_seq_length': max_seq_length,\n",
    "                                        'freeze_bert_layer': freeze_bert_layer,\n",
    "                                        'enable_sagemaker_debugger': enable_sagemaker_debugger,                                        \n",
    "                                        'enable_checkpointing': enable_checkpointing,\n",
    "                                        'enable_tensorboard': enable_tensorboard,                                        \n",
    "                                        'run_validation': run_validation,\n",
    "                                        'run_test': run_test,\n",
    "                                        'run_sample_predictions': run_sample_predictions},\n",
    "                       input_mode=input_mode,\n",
    "                       metric_definitions=metrics_definitions,\n",
    "#                       train_max_run=7200 # max 2 hours * 60 minutes seconds per hour * 60 seconds per minute\n",
    "                      )"
   ]
  },
  {
   "cell_type": "markdown",
   "metadata": {},
   "source": [
    "# Setup Warm Start Config\n",
    "We configure `WarmStartConfig` using 1 or more  of the previous hyper-parameter tuning job runs called the `parent` jobs - as well as a `WarmStartType`.  The parents must have finished either with one of the following success or failure states: `Completed`, `Stopped`, or `Failed`.\n",
    "\n",
    "`WarmStartType` is one of the following strategies:\n",
    "\n",
    "* `IDENTICAL_DATA_AND_ALGORITHM` uses the same input data and algorithm as the parent tuning jobs, but allows a practitioner to explore more hyper-parameter range values.  Upon completion, a tuning job with this strategy will return an additional field, `OverallBestTrainingJob` containing the best model candidate including this tuning job as well as the completed parent tuning jobs.\n",
    "* `TRANSFER_LEARNING` allows you to transfer the knowledge from previous tuning jobs.  You can use different input dataset and algorithm - as well as everything from the `IDENTICAL_DATA_AND_ALGORITHM` strategy.\n",
    "\n",
    "_Note:  Recursive parent-child relationships are not supported._"
   ]
  },
  {
   "cell_type": "code",
   "execution_count": 33,
   "metadata": {},
   "outputs": [
    {
     "name": "stdout",
     "output_type": "stream",
     "text": [
      "Previous Tuning Job Name: tensorflow-training-200822-1959\n"
     ]
    }
   ],
   "source": [
    "print('Previous Tuning Job Name: {}'.format(tuning_job_name))"
   ]
  },
  {
   "cell_type": "code",
   "execution_count": 34,
   "metadata": {},
   "outputs": [],
   "source": [
    "from sagemaker.tuner import WarmStartConfig\n",
    "from sagemaker.tuner import WarmStartTypes\n",
    "\n",
    "warm_start_config = WarmStartConfig(warm_start_type=WarmStartTypes.IDENTICAL_DATA_AND_ALGORITHM, \n",
    "                                    parents={tuning_job_name})"
   ]
  },
  {
   "cell_type": "markdown",
   "metadata": {},
   "source": [
    "# Setup HyperparameterTuner with Warm Start Config including New Hyper-Parameter Ranges"
   ]
  },
  {
   "cell_type": "code",
   "execution_count": 35,
   "metadata": {},
   "outputs": [],
   "source": [
    "objective_metric_name = 'validation:accuracy'\n",
    "\n",
    "tuner = HyperparameterTuner(\n",
    "    estimator=estimator,\n",
    "    objective_type='Maximize',\n",
    "    objective_metric_name=objective_metric_name,\n",
    "    hyperparameter_ranges=hyperparameter_ranges,\n",
    "    metric_definitions=metrics_definitions,\n",
    "    max_jobs=2,\n",
    "    max_parallel_jobs=1,\n",
    "    strategy='Bayesian',\n",
    "    early_stopping_type='Auto',\n",
    "    warm_start_config=warm_start_config\n",
    ")"
   ]
  },
  {
   "cell_type": "markdown",
   "metadata": {},
   "source": [
    "# Start Tuning Job"
   ]
  },
  {
   "cell_type": "code",
   "execution_count": 36,
   "metadata": {
    "scrolled": true
   },
   "outputs": [
    {
     "name": "stderr",
     "output_type": "stream",
     "text": [
      "WARNING:sagemaker:'create_image_uri' will be deprecated in favor of 'ImageURIProvider' class in SageMaker Python SDK v2.\n",
      "WARNING:sagemaker:'create_image_uri' will be deprecated in favor of 'ImageURIProvider' class in SageMaker Python SDK v2.\n",
      "INFO:sagemaker.tuner:_TuningJob.start_new!!!\n",
      "WARNING:sagemaker:'create_image_uri' will be deprecated in favor of 'ImageURIProvider' class in SageMaker Python SDK v2.\n",
      "INFO:sagemaker:Creating hyperparameter tuning job with name: tensorflow-training-200822-2113\n"
     ]
    }
   ],
   "source": [
    "tuner.fit({'train': s3_input_train_data, \n",
    "           'validation': s3_input_validation_data,\n",
    "           'test': s3_input_test_data\n",
    "          }, include_cls_metadata=False)"
   ]
  },
  {
   "cell_type": "markdown",
   "metadata": {},
   "source": [
    "# If You See an Error, Please Wait for the Hyper-Parameter Tuning Job to Complete from the Previous Notebook"
   ]
  },
  {
   "cell_type": "markdown",
   "metadata": {},
   "source": [
    "##  Check Tuning Job Status\n",
    "\n",
    "Re-run this cell to track the status."
   ]
  },
  {
   "cell_type": "code",
   "execution_count": 37,
   "metadata": {},
   "outputs": [
    {
     "name": "stdout",
     "output_type": "stream",
     "text": [
      "\n",
      "\n",
      "InProgress\n",
      "\n",
      "\n",
      "{'CreationTime': datetime.datetime(2020, 8, 22, 21, 13, 6, 472000, tzinfo=tzlocal()),\n",
      " 'HyperParameterTuningJobArn': 'arn:aws:sagemaker:us-west-2:250107111215:hyper-parameter-tuning-job/tensorflow-training-200822-2113',\n",
      " 'HyperParameterTuningJobConfig': {'HyperParameterTuningJobObjective': {'MetricName': 'validation:accuracy',\n",
      "                                                                        'Type': 'Maximize'},\n",
      "                                   'ParameterRanges': {'CategoricalParameterRanges': [],\n",
      "                                                       'ContinuousParameterRanges': [{'MaxValue': '0.00075',\n",
      "                                                                                      'MinValue': '0.00015',\n",
      "                                                                                      'Name': 'learning_rate',\n",
      "                                                                                      'ScalingType': 'Linear'}],\n",
      "                                                       'IntegerParameterRanges': []},\n",
      "                                   'ResourceLimits': {'MaxNumberOfTrainingJobs': 2,\n",
      "                                                      'MaxParallelTrainingJobs': 1},\n",
      "                                   'Strategy': 'Bayesian',\n",
      "                                   'TrainingJobEarlyStoppingType': 'Auto'},\n",
      " 'HyperParameterTuningJobName': 'tensorflow-training-200822-2113',\n",
      " 'HyperParameterTuningJobStatus': 'InProgress',\n",
      " 'LastModifiedTime': datetime.datetime(2020, 8, 22, 21, 13, 6, 472000, tzinfo=tzlocal()),\n",
      " 'ObjectiveStatusCounters': {'Failed': 0, 'Pending': 0, 'Succeeded': 0},\n",
      " 'ResponseMetadata': {'HTTPHeaders': {'content-length': '3863',\n",
      "                                      'content-type': 'application/x-amz-json-1.1',\n",
      "                                      'date': 'Sat, 22 Aug 2020 21:13:05 GMT',\n",
      "                                      'x-amzn-requestid': '99d41d8a-4988-41f4-8d04-1c7e415888fa'},\n",
      "                      'HTTPStatusCode': 200,\n",
      "                      'RequestId': '99d41d8a-4988-41f4-8d04-1c7e415888fa',\n",
      "                      'RetryAttempts': 0},\n",
      " 'TrainingJobDefinition': {'AlgorithmSpecification': {'MetricDefinitions': [{'Name': 'train:loss',\n",
      "                                                                             'Regex': 'loss: '\n",
      "                                                                                      '([0-9\\\\.]+)'},\n",
      "                                                                            {'Name': 'train:accuracy',\n",
      "                                                                             'Regex': 'accuracy: '\n",
      "                                                                                      '([0-9\\\\.]+)'},\n",
      "                                                                            {'Name': 'validation:loss',\n",
      "                                                                             'Regex': 'val_loss: '\n",
      "                                                                                      '([0-9\\\\.]+)'},\n",
      "                                                                            {'Name': 'validation:accuracy',\n",
      "                                                                             'Regex': 'val_accuracy: '\n",
      "                                                                                      '([0-9\\\\.]+)'},\n",
      "                                                                            {'Name': 'ObjectiveMetric',\n",
      "                                                                             'Regex': 'val_accuracy: '\n",
      "                                                                                      '([0-9\\\\.]+)'}],\n",
      "                                                      'TrainingImage': '763104351884.dkr.ecr.us-west-2.amazonaws.com/tensorflow-training:2.1.0-cpu-py3',\n",
      "                                                      'TrainingInputMode': 'Pipe'},\n",
      "                           'EnableInterContainerTrafficEncryption': False,\n",
      "                           'EnableManagedSpotTraining': False,\n",
      "                           'EnableNetworkIsolation': False,\n",
      "                           'InputDataConfig': [{'ChannelName': 'train',\n",
      "                                                'DataSource': {'S3DataSource': {'S3DataDistributionType': 'ShardedByS3Key',\n",
      "                                                                                'S3DataType': 'S3Prefix',\n",
      "                                                                                'S3Uri': 's3://sagemaker-us-west-2-250107111215/sagemaker-scikit-learn-2020-08-22-18-33-57-088/output/bert-train'}}},\n",
      "                                               {'ChannelName': 'validation',\n",
      "                                                'DataSource': {'S3DataSource': {'S3DataDistributionType': 'ShardedByS3Key',\n",
      "                                                                                'S3DataType': 'S3Prefix',\n",
      "                                                                                'S3Uri': 's3://sagemaker-us-west-2-250107111215/sagemaker-scikit-learn-2020-08-22-18-33-57-088/output/bert-validation'}}},\n",
      "                                               {'ChannelName': 'test',\n",
      "                                                'DataSource': {'S3DataSource': {'S3DataDistributionType': 'ShardedByS3Key',\n",
      "                                                                                'S3DataType': 'S3Prefix',\n",
      "                                                                                'S3Uri': 's3://sagemaker-us-west-2-250107111215/sagemaker-scikit-learn-2020-08-22-18-33-57-088/output/bert-test'}}}],\n",
      "                           'OutputDataConfig': {'S3OutputPath': 's3://sagemaker-us-west-2-250107111215/'},\n",
      "                           'ResourceConfig': {'InstanceCount': 1,\n",
      "                                              'InstanceType': 'ml.c5.4xlarge',\n",
      "                                              'VolumeSizeInGB': 1024},\n",
      "                           'RoleArn': 'arn:aws:iam::250107111215:role/TeamRole',\n",
      "                           'StaticHyperParameters': {'_tuning_objective_metric': 'validation:accuracy',\n",
      "                                                     'enable_checkpointing': 'false',\n",
      "                                                     'enable_sagemaker_debugger': 'false',\n",
      "                                                     'enable_tensorboard': 'false',\n",
      "                                                     'epochs': '1',\n",
      "                                                     'epsilon': '1e-08',\n",
      "                                                     'freeze_bert_layer': 'true',\n",
      "                                                     'max_seq_length': '64',\n",
      "                                                     'model_dir': '\"s3://sagemaker-us-west-2-250107111215/tensorflow-training-2020-08-22-21-13-05-041/model\"',\n",
      "                                                     'run_sample_predictions': 'true',\n",
      "                                                     'run_test': 'true',\n",
      "                                                     'run_validation': 'true',\n",
      "                                                     'sagemaker_container_log_level': '20',\n",
      "                                                     'sagemaker_enable_cloudwatch_metrics': 'false',\n",
      "                                                     'sagemaker_estimator_class_name': '\"TensorFlow\"',\n",
      "                                                     'sagemaker_estimator_module': '\"sagemaker.tensorflow.estimator\"',\n",
      "                                                     'sagemaker_job_name': '\"tensorflow-training-2020-08-22-21-13-05-041\"',\n",
      "                                                     'sagemaker_program': '\"tf_bert_reviews.py\"',\n",
      "                                                     'sagemaker_region': '\"us-west-2\"',\n",
      "                                                     'sagemaker_submit_directory': '\"s3://sagemaker-us-west-2-250107111215/tensorflow-training-2020-08-22-21-13-05-041/source/sourcedir.tar.gz\"',\n",
      "                                                     'test_batch_size': '128',\n",
      "                                                     'test_steps': '50',\n",
      "                                                     'train_batch_size': '128',\n",
      "                                                     'train_steps_per_epoch': '50',\n",
      "                                                     'use_amp': 'true',\n",
      "                                                     'use_xla': 'true',\n",
      "                                                     'validation_batch_size': '128',\n",
      "                                                     'validation_steps': '50'},\n",
      "                           'StoppingCondition': {'MaxRuntimeInSeconds': 86400}},\n",
      " 'TrainingJobStatusCounters': {'Completed': 0,\n",
      "                               'InProgress': 0,\n",
      "                               'NonRetryableError': 0,\n",
      "                               'RetryableError': 0,\n",
      "                               'Stopped': 0},\n",
      " 'WarmStartConfig': {'ParentHyperParameterTuningJobs': [{'HyperParameterTuningJobName': 'tensorflow-training-200822-1959'}],\n",
      "                     'WarmStartType': 'IdenticalDataAndAlgorithm'}}\n",
      "Not yet complete, but 0 jobs have completed.\n",
      "No training jobs have reported results yet.\n"
     ]
    }
   ],
   "source": [
    "from pprint import pprint\n",
    "\n",
    "tuning_job_name = tuner.latest_tuning_job.job_name\n",
    "\n",
    "job_description = sm.describe_hyper_parameter_tuning_job(\n",
    "    HyperParameterTuningJobName=tuning_job_name\n",
    ")\n",
    "\n",
    "status = job_description['HyperParameterTuningJobStatus']\n",
    "\n",
    "print('\\n')\n",
    "print(status)\n",
    "print('\\n')\n",
    "pprint(job_description)\n",
    "\n",
    "if status != 'Completed':\n",
    "    job_count = job_description['TrainingJobStatusCounters']['Completed']\n",
    "    print('Not yet complete, but {} jobs have completed.'.format(job_count))\n",
    "    \n",
    "    if job_description.get('BestTrainingJob', None):\n",
    "        print(\"Best candidate:\")\n",
    "        pprint(job_description['BestTrainingJob']['TrainingJobName'])\n",
    "        pprint(job_description['BestTrainingJob']['FinalHyperParameterTuningJobObjectiveMetric'])\n",
    "    else:\n",
    "        print(\"No training jobs have reported results yet.\")    "
   ]
  },
  {
   "cell_type": "code",
   "execution_count": 38,
   "metadata": {
    "scrolled": true
   },
   "outputs": [
    {
     "data": {
      "text/html": [
       "<b>Review <a target=\"blank\" href=\"https://console.aws.amazon.com/sagemaker/home?region=us-west-2#/hyper-tuning-jobs/tensorflow-training-200822-2113\">Hyper-Parameter Tuning Job</a></b>"
      ],
      "text/plain": [
       "<IPython.core.display.HTML object>"
      ]
     },
     "metadata": {},
     "output_type": "display_data"
    }
   ],
   "source": [
    "from IPython.core.display import display, HTML\n",
    "    \n",
    "display(HTML('<b>Review <a target=\"blank\" href=\"https://console.aws.amazon.com/sagemaker/home?region={}#/hyper-tuning-jobs/{}\">Hyper-Parameter Tuning Job</a></b>'.format(region, tuning_job_name)))"
   ]
  },
  {
   "cell_type": "markdown",
   "metadata": {},
   "source": [
    "# _Please Wait for the ^^ Tuning Job ^^ to Complete Above_"
   ]
  },
  {
   "cell_type": "code",
   "execution_count": 39,
   "metadata": {},
   "outputs": [
    {
     "name": "stdout",
     "output_type": "stream",
     "text": [
      "...................................................................................................................................................................................................................................................!\n"
     ]
    }
   ],
   "source": [
    "tuner.wait()"
   ]
  },
  {
   "cell_type": "markdown",
   "metadata": {},
   "source": [
    "# Show the Tuning Job\n",
    "### _Note:  This will fail at first.  Please wait about 15-30 seconds and re-run._"
   ]
  },
  {
   "cell_type": "code",
   "execution_count": 40,
   "metadata": {},
   "outputs": [
    {
     "data": {
      "text/plain": [
       "(2, 7)"
      ]
     },
     "execution_count": 40,
     "metadata": {},
     "output_type": "execute_result"
    }
   ],
   "source": [
    "from sagemaker.analytics import HyperparameterTuningJobAnalytics\n",
    "\n",
    "hp_results = HyperparameterTuningJobAnalytics(\n",
    "    sagemaker_session=sess, \n",
    "    hyperparameter_tuning_job_name=tuning_job_name\n",
    ")\n",
    "\n",
    "df_results = hp_results.dataframe()\n",
    "df_results.shape"
   ]
  },
  {
   "cell_type": "code",
   "execution_count": 41,
   "metadata": {},
   "outputs": [
    {
     "data": {
      "text/html": [
       "<div>\n",
       "<style scoped>\n",
       "    .dataframe tbody tr th:only-of-type {\n",
       "        vertical-align: middle;\n",
       "    }\n",
       "\n",
       "    .dataframe tbody tr th {\n",
       "        vertical-align: top;\n",
       "    }\n",
       "\n",
       "    .dataframe thead th {\n",
       "        text-align: right;\n",
       "    }\n",
       "</style>\n",
       "<table border=\"1\" class=\"dataframe\">\n",
       "  <thead>\n",
       "    <tr style=\"text-align: right;\">\n",
       "      <th></th>\n",
       "      <th>learning_rate</th>\n",
       "      <th>TrainingJobName</th>\n",
       "      <th>TrainingJobStatus</th>\n",
       "      <th>FinalObjectiveValue</th>\n",
       "      <th>TrainingStartTime</th>\n",
       "      <th>TrainingEndTime</th>\n",
       "      <th>TrainingElapsedTimeSeconds</th>\n",
       "    </tr>\n",
       "  </thead>\n",
       "  <tbody>\n",
       "    <tr>\n",
       "      <th>0</th>\n",
       "      <td>0.000694</td>\n",
       "      <td>tensorflow-training-200822-2113-002-05e3c8f5</td>\n",
       "      <td>Completed</td>\n",
       "      <td>0.0</td>\n",
       "      <td>2020-08-22 21:25:08+00:00</td>\n",
       "      <td>2020-08-22 21:32:40+00:00</td>\n",
       "      <td>452.0</td>\n",
       "    </tr>\n",
       "    <tr>\n",
       "      <th>1</th>\n",
       "      <td>0.000337</td>\n",
       "      <td>tensorflow-training-200822-2113-001-8e7ba164</td>\n",
       "      <td>Completed</td>\n",
       "      <td>0.0</td>\n",
       "      <td>2020-08-22 21:15:08+00:00</td>\n",
       "      <td>2020-08-22 21:23:02+00:00</td>\n",
       "      <td>474.0</td>\n",
       "    </tr>\n",
       "  </tbody>\n",
       "</table>\n",
       "</div>"
      ],
      "text/plain": [
       "   learning_rate                               TrainingJobName  \\\n",
       "0       0.000694  tensorflow-training-200822-2113-002-05e3c8f5   \n",
       "1       0.000337  tensorflow-training-200822-2113-001-8e7ba164   \n",
       "\n",
       "  TrainingJobStatus  FinalObjectiveValue         TrainingStartTime  \\\n",
       "0         Completed                  0.0 2020-08-22 21:25:08+00:00   \n",
       "1         Completed                  0.0 2020-08-22 21:15:08+00:00   \n",
       "\n",
       "            TrainingEndTime  TrainingElapsedTimeSeconds  \n",
       "0 2020-08-22 21:32:40+00:00                       452.0  \n",
       "1 2020-08-22 21:23:02+00:00                       474.0  "
      ]
     },
     "execution_count": 41,
     "metadata": {},
     "output_type": "execute_result"
    }
   ],
   "source": [
    "df_results.sort_values('FinalObjectiveValue', ascending=0)"
   ]
  },
  {
   "cell_type": "markdown",
   "metadata": {},
   "source": [
    "# Show the Overall Best Candidate"
   ]
  },
  {
   "cell_type": "code",
   "execution_count": 42,
   "metadata": {
    "scrolled": true
   },
   "outputs": [
    {
     "data": {
      "text/html": [
       "<div>\n",
       "<style scoped>\n",
       "    .dataframe tbody tr th:only-of-type {\n",
       "        vertical-align: middle;\n",
       "    }\n",
       "\n",
       "    .dataframe tbody tr th {\n",
       "        vertical-align: top;\n",
       "    }\n",
       "\n",
       "    .dataframe thead th {\n",
       "        text-align: right;\n",
       "    }\n",
       "</style>\n",
       "<table border=\"1\" class=\"dataframe\">\n",
       "  <thead>\n",
       "    <tr style=\"text-align: right;\">\n",
       "      <th></th>\n",
       "      <th>learning_rate</th>\n",
       "      <th>TrainingJobName</th>\n",
       "      <th>TrainingJobStatus</th>\n",
       "      <th>FinalObjectiveValue</th>\n",
       "      <th>TrainingStartTime</th>\n",
       "      <th>TrainingEndTime</th>\n",
       "      <th>TrainingElapsedTimeSeconds</th>\n",
       "    </tr>\n",
       "  </thead>\n",
       "  <tbody>\n",
       "    <tr>\n",
       "      <th>0</th>\n",
       "      <td>0.000694</td>\n",
       "      <td>tensorflow-training-200822-2113-002-05e3c8f5</td>\n",
       "      <td>Completed</td>\n",
       "      <td>0.0</td>\n",
       "      <td>2020-08-22 21:25:08+00:00</td>\n",
       "      <td>2020-08-22 21:32:40+00:00</td>\n",
       "      <td>452.0</td>\n",
       "    </tr>\n",
       "  </tbody>\n",
       "</table>\n",
       "</div>"
      ],
      "text/plain": [
       "   learning_rate                               TrainingJobName  \\\n",
       "0       0.000694  tensorflow-training-200822-2113-002-05e3c8f5   \n",
       "\n",
       "  TrainingJobStatus  FinalObjectiveValue         TrainingStartTime  \\\n",
       "0         Completed                  0.0 2020-08-22 21:25:08+00:00   \n",
       "\n",
       "            TrainingEndTime  TrainingElapsedTimeSeconds  \n",
       "0 2020-08-22 21:32:40+00:00                       452.0  "
      ]
     },
     "execution_count": 42,
     "metadata": {},
     "output_type": "execute_result"
    }
   ],
   "source": [
    "df_results.sort_values('FinalObjectiveValue', ascending=0).head(1)"
   ]
  },
  {
   "cell_type": "code",
   "execution_count": 43,
   "metadata": {
    "scrolled": true
   },
   "outputs": [],
   "source": [
    "best_candidate_tuning_job_name = df_results.sort_values('FinalObjectiveValue', ascending=0).head(1)['TrainingJobName']"
   ]
  },
  {
   "cell_type": "markdown",
   "metadata": {},
   "source": [
    "# Log the Best Hyper-Parameter and Objective Metric in the Experiment\n",
    "\n",
    "Logging `learning_rate` parameter and `accuracy` metric"
   ]
  },
  {
   "cell_type": "code",
   "execution_count": 44,
   "metadata": {},
   "outputs": [
    {
     "name": "stdout",
     "output_type": "stream",
     "text": [
      "0    0.000694\n",
      "Name: learning_rate, dtype: float64\n"
     ]
    }
   ],
   "source": [
    "best_learning_rate = df_results.sort_values('FinalObjectiveValue', ascending=0).head(1)['learning_rate']\n",
    "print(best_learning_rate)"
   ]
  },
  {
   "cell_type": "code",
   "execution_count": 45,
   "metadata": {},
   "outputs": [
    {
     "name": "stdout",
     "output_type": "stream",
     "text": [
      "0    0.0\n",
      "Name: FinalObjectiveValue, dtype: float64\n"
     ]
    }
   ],
   "source": [
    "best_accuracy = df_results.sort_values('FinalObjectiveValue', ascending=0).head(1)['FinalObjectiveValue']\n",
    "print(best_accuracy)"
   ]
  },
  {
   "cell_type": "code",
   "execution_count": 46,
   "metadata": {},
   "outputs": [
    {
     "data": {
      "text/plain": [
       "TrialComponent(sagemaker_boto_client=<botocore.client.SageMaker object at 0x7fd0a256c1d0>,trial_component_name='TrialComponent-2020-08-22-211302-fqxj',display_name='optimize-2',trial_component_arn='arn:aws:sagemaker:us-west-2:250107111215:experiment-trial-component/trialcomponent-2020-08-22-211302-fqxj',response_metadata={'RequestId': '0736935b-28ed-4e7f-950e-ebe71bc5b92f', 'HTTPStatusCode': 200, 'HTTPHeaders': {'x-amzn-requestid': '0736935b-28ed-4e7f-950e-ebe71bc5b92f', 'content-type': 'application/x-amz-json-1.1', 'content-length': '129', 'date': 'Sat, 22 Aug 2020 21:33:35 GMT'}, 'RetryAttempts': 0},parameters={'learning_rate': 0.0006935010572597231},input_artifacts={},output_artifacts={})"
      ]
     },
     "execution_count": 46,
     "metadata": {},
     "output_type": "execute_result"
    }
   ],
   "source": [
    "tracker_optimize.log_parameters({\n",
    "    'learning_rate': float(best_learning_rate)\n",
    "})\n",
    "\n",
    "# must save after logging\n",
    "tracker_optimize.trial_component.save()"
   ]
  },
  {
   "cell_type": "code",
   "execution_count": 47,
   "metadata": {},
   "outputs": [
    {
     "name": "stderr",
     "output_type": "stream",
     "text": [
      "ERROR:root:'NoneType' object has no attribute 'write'\n"
     ]
    },
    {
     "data": {
      "text/plain": [
       "TrialComponent(sagemaker_boto_client=<botocore.client.SageMaker object at 0x7fd0a256c1d0>,trial_component_name='TrialComponent-2020-08-22-211302-fqxj',display_name='optimize-2',trial_component_arn='arn:aws:sagemaker:us-west-2:250107111215:experiment-trial-component/trialcomponent-2020-08-22-211302-fqxj',response_metadata={'RequestId': '78c18e6c-c730-4ef2-848b-dd2b2f1b2140', 'HTTPStatusCode': 200, 'HTTPHeaders': {'x-amzn-requestid': '78c18e6c-c730-4ef2-848b-dd2b2f1b2140', 'content-type': 'application/x-amz-json-1.1', 'content-length': '129', 'date': 'Sat, 22 Aug 2020 21:33:35 GMT'}, 'RetryAttempts': 0},parameters={'learning_rate': 0.0006935010572597231},input_artifacts={},output_artifacts={})"
      ]
     },
     "execution_count": 47,
     "metadata": {},
     "output_type": "execute_result"
    }
   ],
   "source": [
    "tracker_optimize.log_metric('accuracy', float(best_accuracy))\n",
    "\n",
    "tracker_optimize.trial_component.save()"
   ]
  },
  {
   "cell_type": "markdown",
   "metadata": {},
   "source": [
    "## _Ignore any ^^ ERROR above ^^. This is OK._"
   ]
  },
  {
   "cell_type": "markdown",
   "metadata": {},
   "source": [
    "# Show Experiment Analytics"
   ]
  },
  {
   "cell_type": "code",
   "execution_count": 48,
   "metadata": {},
   "outputs": [
    {
     "data": {
      "text/plain": [
       "(4, 63)"
      ]
     },
     "execution_count": 48,
     "metadata": {},
     "output_type": "execute_result"
    }
   ],
   "source": [
    "from sagemaker.analytics import ExperimentAnalytics\n",
    "\n",
    "lineage_table = ExperimentAnalytics(\n",
    "    sagemaker_session=sess,\n",
    "    experiment_name=experiment_name,\n",
    "    metric_names=['validation:accuracy'],\n",
    "    sort_by=\"CreationTime\",\n",
    "    sort_order=\"Ascending\",\n",
    ")\n",
    "\n",
    "lineage_df = lineage_table.dataframe()\n",
    "lineage_df.shape"
   ]
  },
  {
   "cell_type": "code",
   "execution_count": 49,
   "metadata": {},
   "outputs": [
    {
     "data": {
      "text/html": [
       "<div>\n",
       "<style scoped>\n",
       "    .dataframe tbody tr th:only-of-type {\n",
       "        vertical-align: middle;\n",
       "    }\n",
       "\n",
       "    .dataframe tbody tr th {\n",
       "        vertical-align: top;\n",
       "    }\n",
       "\n",
       "    .dataframe thead th {\n",
       "        text-align: right;\n",
       "    }\n",
       "</style>\n",
       "<table border=\"1\" class=\"dataframe\">\n",
       "  <thead>\n",
       "    <tr style=\"text-align: right;\">\n",
       "      <th></th>\n",
       "      <th>TrialComponentName</th>\n",
       "      <th>DisplayName</th>\n",
       "      <th>balance_dataset</th>\n",
       "      <th>max_seq_length</th>\n",
       "      <th>test_split_percentage</th>\n",
       "      <th>train_split_percentage</th>\n",
       "      <th>validation_split_percentage</th>\n",
       "      <th>raw_data_s3_uri - MediaType</th>\n",
       "      <th>raw_data_s3_uri - Value</th>\n",
       "      <th>test_data_s3_uri - MediaType</th>\n",
       "      <th>...</th>\n",
       "      <th>train - MediaType</th>\n",
       "      <th>train - Value</th>\n",
       "      <th>validation - MediaType</th>\n",
       "      <th>validation - Value</th>\n",
       "      <th>SageMaker.Checkpoints - MediaType</th>\n",
       "      <th>SageMaker.Checkpoints - Value</th>\n",
       "      <th>SageMaker.DebugHookOutput - MediaType</th>\n",
       "      <th>SageMaker.DebugHookOutput - Value</th>\n",
       "      <th>SageMaker.ModelArtifact - MediaType</th>\n",
       "      <th>SageMaker.ModelArtifact - Value</th>\n",
       "    </tr>\n",
       "  </thead>\n",
       "  <tbody>\n",
       "    <tr>\n",
       "      <th>0</th>\n",
       "      <td>TrialComponent-2020-08-22-193529-qhjz</td>\n",
       "      <td>prepare</td>\n",
       "      <td>True</td>\n",
       "      <td>64.0</td>\n",
       "      <td>0.05</td>\n",
       "      <td>0.9</td>\n",
       "      <td>0.05</td>\n",
       "      <td>s3/uri</td>\n",
       "      <td>s3://sagemaker-us-west-2-250107111215/amazon-r...</td>\n",
       "      <td>s3/uri</td>\n",
       "      <td>...</td>\n",
       "      <td>NaN</td>\n",
       "      <td>NaN</td>\n",
       "      <td>NaN</td>\n",
       "      <td>NaN</td>\n",
       "      <td>NaN</td>\n",
       "      <td>NaN</td>\n",
       "      <td>NaN</td>\n",
       "      <td>NaN</td>\n",
       "      <td>NaN</td>\n",
       "      <td>NaN</td>\n",
       "    </tr>\n",
       "    <tr>\n",
       "      <th>1</th>\n",
       "      <td>tensorflow-training-2020-08-22-19-35-37-636-aw...</td>\n",
       "      <td>train</td>\n",
       "      <td>NaN</td>\n",
       "      <td>64.0</td>\n",
       "      <td>NaN</td>\n",
       "      <td>NaN</td>\n",
       "      <td>NaN</td>\n",
       "      <td>NaN</td>\n",
       "      <td>NaN</td>\n",
       "      <td>NaN</td>\n",
       "      <td>...</td>\n",
       "      <td>NaN</td>\n",
       "      <td>s3://sagemaker-us-west-2-250107111215/sagemake...</td>\n",
       "      <td>NaN</td>\n",
       "      <td>s3://sagemaker-us-west-2-250107111215/sagemake...</td>\n",
       "      <td>NaN</td>\n",
       "      <td>s3://sagemaker-us-west-2-250107111215/checkpoi...</td>\n",
       "      <td>NaN</td>\n",
       "      <td>s3://sagemaker-us-west-2-250107111215/</td>\n",
       "      <td>NaN</td>\n",
       "      <td>s3://sagemaker-us-west-2-250107111215/tensorfl...</td>\n",
       "    </tr>\n",
       "    <tr>\n",
       "      <th>2</th>\n",
       "      <td>TrialComponent-2020-08-22-195922-xchy</td>\n",
       "      <td>optimize-1</td>\n",
       "      <td>NaN</td>\n",
       "      <td>NaN</td>\n",
       "      <td>NaN</td>\n",
       "      <td>NaN</td>\n",
       "      <td>NaN</td>\n",
       "      <td>NaN</td>\n",
       "      <td>NaN</td>\n",
       "      <td>NaN</td>\n",
       "      <td>...</td>\n",
       "      <td>NaN</td>\n",
       "      <td>NaN</td>\n",
       "      <td>NaN</td>\n",
       "      <td>NaN</td>\n",
       "      <td>NaN</td>\n",
       "      <td>NaN</td>\n",
       "      <td>NaN</td>\n",
       "      <td>NaN</td>\n",
       "      <td>NaN</td>\n",
       "      <td>NaN</td>\n",
       "    </tr>\n",
       "    <tr>\n",
       "      <th>3</th>\n",
       "      <td>TrialComponent-2020-08-22-211302-fqxj</td>\n",
       "      <td>optimize-2</td>\n",
       "      <td>NaN</td>\n",
       "      <td>NaN</td>\n",
       "      <td>NaN</td>\n",
       "      <td>NaN</td>\n",
       "      <td>NaN</td>\n",
       "      <td>NaN</td>\n",
       "      <td>NaN</td>\n",
       "      <td>NaN</td>\n",
       "      <td>...</td>\n",
       "      <td>NaN</td>\n",
       "      <td>NaN</td>\n",
       "      <td>NaN</td>\n",
       "      <td>NaN</td>\n",
       "      <td>NaN</td>\n",
       "      <td>NaN</td>\n",
       "      <td>NaN</td>\n",
       "      <td>NaN</td>\n",
       "      <td>NaN</td>\n",
       "      <td>NaN</td>\n",
       "    </tr>\n",
       "  </tbody>\n",
       "</table>\n",
       "<p>4 rows × 63 columns</p>\n",
       "</div>"
      ],
      "text/plain": [
       "                                  TrialComponentName DisplayName  \\\n",
       "0              TrialComponent-2020-08-22-193529-qhjz     prepare   \n",
       "1  tensorflow-training-2020-08-22-19-35-37-636-aw...       train   \n",
       "2              TrialComponent-2020-08-22-195922-xchy  optimize-1   \n",
       "3              TrialComponent-2020-08-22-211302-fqxj  optimize-2   \n",
       "\n",
       "  balance_dataset  max_seq_length  test_split_percentage  \\\n",
       "0            True            64.0                   0.05   \n",
       "1             NaN            64.0                    NaN   \n",
       "2             NaN             NaN                    NaN   \n",
       "3             NaN             NaN                    NaN   \n",
       "\n",
       "   train_split_percentage  validation_split_percentage  \\\n",
       "0                     0.9                         0.05   \n",
       "1                     NaN                          NaN   \n",
       "2                     NaN                          NaN   \n",
       "3                     NaN                          NaN   \n",
       "\n",
       "  raw_data_s3_uri - MediaType  \\\n",
       "0                      s3/uri   \n",
       "1                         NaN   \n",
       "2                         NaN   \n",
       "3                         NaN   \n",
       "\n",
       "                             raw_data_s3_uri - Value  \\\n",
       "0  s3://sagemaker-us-west-2-250107111215/amazon-r...   \n",
       "1                                                NaN   \n",
       "2                                                NaN   \n",
       "3                                                NaN   \n",
       "\n",
       "  test_data_s3_uri - MediaType  ... train - MediaType  \\\n",
       "0                       s3/uri  ...               NaN   \n",
       "1                          NaN  ...               NaN   \n",
       "2                          NaN  ...               NaN   \n",
       "3                          NaN  ...               NaN   \n",
       "\n",
       "                                       train - Value validation - MediaType  \\\n",
       "0                                                NaN                    NaN   \n",
       "1  s3://sagemaker-us-west-2-250107111215/sagemake...                    NaN   \n",
       "2                                                NaN                    NaN   \n",
       "3                                                NaN                    NaN   \n",
       "\n",
       "                                  validation - Value  \\\n",
       "0                                                NaN   \n",
       "1  s3://sagemaker-us-west-2-250107111215/sagemake...   \n",
       "2                                                NaN   \n",
       "3                                                NaN   \n",
       "\n",
       "  SageMaker.Checkpoints - MediaType  \\\n",
       "0                               NaN   \n",
       "1                               NaN   \n",
       "2                               NaN   \n",
       "3                               NaN   \n",
       "\n",
       "                       SageMaker.Checkpoints - Value  \\\n",
       "0                                                NaN   \n",
       "1  s3://sagemaker-us-west-2-250107111215/checkpoi...   \n",
       "2                                                NaN   \n",
       "3                                                NaN   \n",
       "\n",
       "  SageMaker.DebugHookOutput - MediaType  \\\n",
       "0                                   NaN   \n",
       "1                                   NaN   \n",
       "2                                   NaN   \n",
       "3                                   NaN   \n",
       "\n",
       "        SageMaker.DebugHookOutput - Value SageMaker.ModelArtifact - MediaType  \\\n",
       "0                                     NaN                                 NaN   \n",
       "1  s3://sagemaker-us-west-2-250107111215/                                 NaN   \n",
       "2                                     NaN                                 NaN   \n",
       "3                                     NaN                                 NaN   \n",
       "\n",
       "                     SageMaker.ModelArtifact - Value  \n",
       "0                                                NaN  \n",
       "1  s3://sagemaker-us-west-2-250107111215/tensorfl...  \n",
       "2                                                NaN  \n",
       "3                                                NaN  \n",
       "\n",
       "[4 rows x 63 columns]"
      ]
     },
     "execution_count": 49,
     "metadata": {},
     "output_type": "execute_result"
    }
   ],
   "source": [
    "lineage_df"
   ]
  },
  {
   "cell_type": "markdown",
   "metadata": {},
   "source": [
    "# Pass `tuning_job_name` to the Next Notebook"
   ]
  },
  {
   "cell_type": "code",
   "execution_count": 50,
   "metadata": {},
   "outputs": [
    {
     "name": "stdout",
     "output_type": "stream",
     "text": [
      "0    tensorflow-training-200822-2113-002-05e3c8f5\n",
      "Name: TrainingJobName, dtype: object\n"
     ]
    }
   ],
   "source": [
    "print(best_candidate_tuning_job_name)"
   ]
  },
  {
   "cell_type": "code",
   "execution_count": 51,
   "metadata": {},
   "outputs": [
    {
     "name": "stdout",
     "output_type": "stream",
     "text": [
      "Stored 'best_candidate_tuning_job_name' (Series)\n"
     ]
    }
   ],
   "source": [
    "%store best_candidate_tuning_job_name"
   ]
  },
  {
   "cell_type": "code",
   "execution_count": 52,
   "metadata": {},
   "outputs": [
    {
     "name": "stdout",
     "output_type": "stream",
     "text": [
      "Stored variables and their in-db values:\n",
      "autopilot_endpoint_name                          -> 'automl-dm-ep-22-16-47-12'\n",
      "balance_dataset                                  -> True\n",
      "best_candidate_tuning_job_name                   -> 0    tensorflow-training-200822-2113-002-05e3c8f5\n",
      "\n",
      "comprehend_endpoint_arn                          -> 'arn:aws:comprehend:us-west-2:250107111215:documen\n",
      "df_dataset_metrics                               ->         entity                   instance         \n",
      "experiment_name                                  -> 'Amazon-Customer-Reviews-BERT-Experiment-159812492\n",
      "header_train_s3_uri                              -> 's3://sagemaker-us-west-2-250107111215/data/amazon\n",
      "max_seq_length                                   -> 64\n",
      "noheader_train_s3_uri                            -> 's3://sagemaker-us-west-2-250107111215/data/amazon\n",
      "prepare_trial_component_name                     -> 'TrialComponent-2020-08-22-193529-qhjz'\n",
      "processed_test_data_s3_uri                       -> 's3://sagemaker-us-west-2-250107111215/sagemaker-s\n",
      "processed_train_data_s3_uri                      -> 's3://sagemaker-us-west-2-250107111215/sagemaker-s\n",
      "processed_validation_data_s3_uri                 -> 's3://sagemaker-us-west-2-250107111215/sagemaker-s\n",
      "raw_input_data_s3_uri                            -> 's3://sagemaker-us-west-2-250107111215/amazon-revi\n",
      "s3_private_path_tsv                              -> 's3://sagemaker-us-west-2-250107111215/amazon-revi\n",
      "test_split_percentage                            -> 0.05\n",
      "train_split_percentage                           -> 0.9\n",
      "training_job_debugger_artifacts_path             -> 's3://sagemaker-us-west-2-250107111215/tensorflow-\n",
      "training_job_name                                -> 'tensorflow-training-2020-08-22-19-35-37-636'\n",
      "transformer_pytorch_model_name                   -> 'pytorch_model.bin'\n",
      "transformer_pytorch_model_s3_uri                 -> 's3://sagemaker-us-west-2-250107111215/models/tran\n",
      "trial_name                                       -> 'trial-1598124929'\n",
      "tuning_job_name                                  -> 'tensorflow-training-200822-1959'\n",
      "validation_split_percentage                      -> 0.05\n"
     ]
    }
   ],
   "source": [
    "%store"
   ]
  },
  {
   "cell_type": "code",
   "execution_count": null,
   "metadata": {},
   "outputs": [
    {
     "data": {
      "application/javascript": [
       "Jupyter.notebook.save_checkpoint();\n",
       "Jupyter.notebook.session.delete();\n"
      ],
      "text/plain": [
       "<IPython.core.display.Javascript object>"
      ]
     },
     "metadata": {},
     "output_type": "display_data"
    }
   ],
   "source": [
    "%%javascript\n",
    "Jupyter.notebook.save_checkpoint();\n",
    "Jupyter.notebook.session.delete();"
   ]
  },
  {
   "cell_type": "code",
   "execution_count": null,
   "metadata": {},
   "outputs": [],
   "source": []
  }
 ],
 "metadata": {
  "kernelspec": {
   "display_name": "conda_python3",
   "language": "python",
   "name": "conda_python3"
  },
  "language_info": {
   "codemirror_mode": {
    "name": "ipython",
    "version": 3
   },
   "file_extension": ".py",
   "mimetype": "text/x-python",
   "name": "python",
   "nbconvert_exporter": "python",
   "pygments_lexer": "ipython3",
   "version": "3.6.10"
  }
 },
 "nbformat": 4,
 "nbformat_minor": 4
}
