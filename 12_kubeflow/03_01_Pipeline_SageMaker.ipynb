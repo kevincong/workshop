{
 "cells": [
  {
   "cell_type": "markdown",
   "metadata": {},
   "source": [
    "# Build an MNIST Classifier Pipeline using Kubeflow and SageMaker\n",
    "\n",
    "The `mnist-classification-pipeline.py` sample runs a pipeline to train a classficiation model using Kmeans with MNIST dataset on Sagemaker."
   ]
  },
  {
   "cell_type": "markdown",
   "metadata": {},
   "source": [
    "We will have all required steps here and for other details like how to get source data, please check [documentation](https://github.com/kubeflow/pipelines/tree/master/samples/contrib/aws-samples/mnist-kmeans-sagemaker).\n",
    "\n",
    "\n",
    "This sample is based on the [Train a Model with a Built-in Algorithm and Deploy it](https://docs.aws.amazon.com/sagemaker/latest/dg/ex1.html).\n",
    "\n",
    "The sample trains and deploy a model based on the [MNIST dataset](http://www.deeplearning.net/tutorial/gettingstarted.html).\n",
    "\n"
   ]
  },
  {
   "cell_type": "markdown",
   "metadata": {},
   "source": [
    "## Install AWS Python SDK (`boto3`)"
   ]
  },
  {
   "cell_type": "code",
   "execution_count": 1,
   "metadata": {
    "scrolled": true
   },
   "outputs": [
    {
     "name": "stdout",
     "output_type": "stream",
     "text": [
      "Requirement already satisfied: boto3 in /opt/conda/lib/python3.6/site-packages (1.11.8)\n",
      "Requirement already satisfied: botocore<1.15.0,>=1.14.8 in /opt/conda/lib/python3.6/site-packages (from boto3) (1.14.8)\n",
      "Requirement already satisfied: jmespath<1.0.0,>=0.7.1 in /opt/conda/lib/python3.6/site-packages (from boto3) (0.9.4)\n",
      "Requirement already satisfied: s3transfer<0.4.0,>=0.3.0 in /opt/conda/lib/python3.6/site-packages (from boto3) (0.3.2)\n",
      "Requirement already satisfied: docutils<0.16,>=0.10 in /opt/conda/lib/python3.6/site-packages (from botocore<1.15.0,>=1.14.8->boto3) (0.15.2)\n",
      "Requirement already satisfied: urllib3<1.26,>=1.20 in /opt/conda/lib/python3.6/site-packages (from botocore<1.15.0,>=1.14.8->boto3) (1.24.2)\n",
      "Requirement already satisfied: python-dateutil<3.0.0,>=2.1 in /opt/conda/lib/python3.6/site-packages (from botocore<1.15.0,>=1.14.8->boto3) (2.8.0)\n",
      "Requirement already satisfied: six>=1.5 in /opt/conda/lib/python3.6/site-packages (from python-dateutil<3.0.0,>=2.1->botocore<1.15.0,>=1.14.8->boto3) (1.11.0)\n",
      "\u001b[33mYou are using pip version 19.0.1, however version 20.2.2 is available.\n",
      "You should consider upgrading via the 'pip install --upgrade pip' command.\u001b[0m\n"
     ]
    }
   ],
   "source": [
    "!pip install boto3"
   ]
  },
  {
   "cell_type": "markdown",
   "metadata": {},
   "source": [
    "## Install Kubeflow Pipelines SDK"
   ]
  },
  {
   "cell_type": "code",
   "execution_count": 2,
   "metadata": {
    "scrolled": true
   },
   "outputs": [
    {
     "name": "stdout",
     "output_type": "stream",
     "text": [
      "Collecting https://storage.googleapis.com/ml-pipeline/release/0.1.29/kfp.tar.gz\n",
      "  Using cached https://storage.googleapis.com/ml-pipeline/release/0.1.29/kfp.tar.gz\n",
      "Requirement already satisfied, skipping upgrade: urllib3<1.25,>=1.15 in /opt/conda/lib/python3.6/site-packages (from kfp==0.1.29) (1.24.2)\n",
      "Requirement already satisfied, skipping upgrade: six>=1.10 in /opt/conda/lib/python3.6/site-packages (from kfp==0.1.29) (1.11.0)\n",
      "Requirement already satisfied, skipping upgrade: certifi in /opt/conda/lib/python3.6/site-packages (from kfp==0.1.29) (2019.3.9)\n",
      "Requirement already satisfied, skipping upgrade: python-dateutil in /opt/conda/lib/python3.6/site-packages (from kfp==0.1.29) (2.8.0)\n",
      "Requirement already satisfied, skipping upgrade: PyYAML in /opt/conda/lib/python3.6/site-packages (from kfp==0.1.29) (5.2)\n",
      "Requirement already satisfied, skipping upgrade: google-cloud-storage>=1.13.0 in /opt/conda/lib/python3.6/site-packages (from kfp==0.1.29) (1.25.0)\n",
      "Requirement already satisfied, skipping upgrade: kubernetes<=9.0.0,>=8.0.0 in /root/.local/lib/python3.6/site-packages (from kfp==0.1.29) (9.0.0)\n",
      "Requirement already satisfied, skipping upgrade: PyJWT>=1.6.4 in /opt/conda/lib/python3.6/site-packages (from kfp==0.1.29) (1.6.4)\n",
      "Requirement already satisfied, skipping upgrade: cryptography>=2.4.2 in /opt/conda/lib/python3.6/site-packages (from kfp==0.1.29) (2.4.2)\n",
      "Requirement already satisfied, skipping upgrade: google-auth>=1.6.1 in /opt/conda/lib/python3.6/site-packages (from kfp==0.1.29) (1.11.0)\n",
      "Requirement already satisfied, skipping upgrade: requests_toolbelt>=0.8.0 in /opt/conda/lib/python3.6/site-packages (from kfp==0.1.29) (0.8.0)\n",
      "Requirement already satisfied, skipping upgrade: cloudpickle in /opt/conda/lib/python3.6/site-packages (from kfp==0.1.29) (1.2.2)\n",
      "Requirement already satisfied, skipping upgrade: kfp-server-api<=0.1.25,>=0.1.18 in /root/.local/lib/python3.6/site-packages (from kfp==0.1.29) (0.1.18.3)\n",
      "Requirement already satisfied, skipping upgrade: argo-models==2.2.1a in /root/.local/lib/python3.6/site-packages (from kfp==0.1.29) (2.2.1a0)\n",
      "Requirement already satisfied, skipping upgrade: jsonschema>=3.0.1 in /opt/conda/lib/python3.6/site-packages (from kfp==0.1.29) (3.2.0)\n",
      "Requirement already satisfied, skipping upgrade: tabulate==0.8.3 in /root/.local/lib/python3.6/site-packages (from kfp==0.1.29) (0.8.3)\n",
      "Requirement already satisfied, skipping upgrade: click==7.0 in /opt/conda/lib/python3.6/site-packages (from kfp==0.1.29) (7.0)\n",
      "Requirement already satisfied, skipping upgrade: Deprecated in /root/.local/lib/python3.6/site-packages (from kfp==0.1.29) (1.2.10)\n",
      "Requirement already satisfied, skipping upgrade: google-cloud-core<2.0dev,>=1.2.0 in /opt/conda/lib/python3.6/site-packages (from google-cloud-storage>=1.13.0->kfp==0.1.29) (1.2.0)\n",
      "Requirement already satisfied, skipping upgrade: google-resumable-media<0.6dev,>=0.5.0 in /opt/conda/lib/python3.6/site-packages (from google-cloud-storage>=1.13.0->kfp==0.1.29) (0.5.0)\n",
      "Requirement already satisfied, skipping upgrade: websocket-client!=0.40.0,!=0.41.*,!=0.42.*,>=0.32.0 in /opt/conda/lib/python3.6/site-packages (from kubernetes<=9.0.0,>=8.0.0->kfp==0.1.29) (0.57.0)\n",
      "Requirement already satisfied, skipping upgrade: requests in /opt/conda/lib/python3.6/site-packages (from kubernetes<=9.0.0,>=8.0.0->kfp==0.1.29) (2.22.0)\n",
      "Requirement already satisfied, skipping upgrade: requests-oauthlib in /opt/conda/lib/python3.6/site-packages (from kubernetes<=9.0.0,>=8.0.0->kfp==0.1.29) (1.3.0)\n",
      "Requirement already satisfied, skipping upgrade: setuptools>=21.0.0 in /opt/conda/lib/python3.6/site-packages (from kubernetes<=9.0.0,>=8.0.0->kfp==0.1.29) (49.6.0)\n",
      "Requirement already satisfied, skipping upgrade: idna>=2.1 in /opt/conda/lib/python3.6/site-packages (from cryptography>=2.4.2->kfp==0.1.29) (2.6)\n",
      "Requirement already satisfied, skipping upgrade: asn1crypto>=0.21.0 in /opt/conda/lib/python3.6/site-packages (from cryptography>=2.4.2->kfp==0.1.29) (0.24.0)\n",
      "Requirement already satisfied, skipping upgrade: cffi!=1.11.3,>=1.7 in /opt/conda/lib/python3.6/site-packages (from cryptography>=2.4.2->kfp==0.1.29) (1.11.5)\n",
      "Requirement already satisfied, skipping upgrade: pyasn1-modules>=0.2.1 in /opt/conda/lib/python3.6/site-packages (from google-auth>=1.6.1->kfp==0.1.29) (0.2.8)\n",
      "Requirement already satisfied, skipping upgrade: cachetools<5.0,>=2.0.0 in /opt/conda/lib/python3.6/site-packages (from google-auth>=1.6.1->kfp==0.1.29) (3.1.1)\n",
      "Requirement already satisfied, skipping upgrade: rsa<4.1,>=3.1.4 in /opt/conda/lib/python3.6/site-packages (from google-auth>=1.6.1->kfp==0.1.29) (3.4.2)\n",
      "Requirement already satisfied, skipping upgrade: attrs>=17.4.0 in /opt/conda/lib/python3.6/site-packages (from jsonschema>=3.0.1->kfp==0.1.29) (19.3.0)\n",
      "Requirement already satisfied, skipping upgrade: pyrsistent>=0.14.0 in /opt/conda/lib/python3.6/site-packages (from jsonschema>=3.0.1->kfp==0.1.29) (0.15.7)\n",
      "Requirement already satisfied, skipping upgrade: importlib-metadata; python_version < \"3.8\" in /opt/conda/lib/python3.6/site-packages (from jsonschema>=3.0.1->kfp==0.1.29) (1.4.0)\n",
      "Requirement already satisfied, skipping upgrade: wrapt<2,>=1.10 in /root/.local/lib/python3.6/site-packages (from Deprecated->kfp==0.1.29) (1.12.1)\n",
      "Requirement already satisfied, skipping upgrade: google-api-core<2.0.0dev,>=1.16.0 in /opt/conda/lib/python3.6/site-packages (from google-cloud-core<2.0dev,>=1.2.0->google-cloud-storage>=1.13.0->kfp==0.1.29) (1.16.0)\n",
      "Requirement already satisfied, skipping upgrade: chardet<3.1.0,>=3.0.2 in /opt/conda/lib/python3.6/site-packages (from requests->kubernetes<=9.0.0,>=8.0.0->kfp==0.1.29) (3.0.4)\n",
      "Requirement already satisfied, skipping upgrade: oauthlib>=3.0.0 in /opt/conda/lib/python3.6/site-packages (from requests-oauthlib->kubernetes<=9.0.0,>=8.0.0->kfp==0.1.29) (3.1.0)\n",
      "Requirement already satisfied, skipping upgrade: pycparser in /opt/conda/lib/python3.6/site-packages (from cffi!=1.11.3,>=1.7->cryptography>=2.4.2->kfp==0.1.29) (2.18)\n",
      "Requirement already satisfied, skipping upgrade: pyasn1<0.5.0,>=0.4.6 in /opt/conda/lib/python3.6/site-packages (from pyasn1-modules>=0.2.1->google-auth>=1.6.1->kfp==0.1.29) (0.4.8)\n",
      "Requirement already satisfied, skipping upgrade: zipp>=0.5 in /opt/conda/lib/python3.6/site-packages (from importlib-metadata; python_version < \"3.8\"->jsonschema>=3.0.1->kfp==0.1.29) (2.0.1)\n",
      "Requirement already satisfied, skipping upgrade: protobuf>=3.4.0 in /opt/conda/lib/python3.6/site-packages (from google-api-core<2.0.0dev,>=1.16.0->google-cloud-core<2.0dev,>=1.2.0->google-cloud-storage>=1.13.0->kfp==0.1.29) (3.11.2)\n",
      "Requirement already satisfied, skipping upgrade: pytz in /opt/conda/lib/python3.6/site-packages (from google-api-core<2.0.0dev,>=1.16.0->google-cloud-core<2.0dev,>=1.2.0->google-cloud-storage>=1.13.0->kfp==0.1.29) (2019.3)\n",
      "Requirement already satisfied, skipping upgrade: googleapis-common-protos<2.0dev,>=1.6.0 in /opt/conda/lib/python3.6/site-packages (from google-api-core<2.0.0dev,>=1.16.0->google-cloud-core<2.0dev,>=1.2.0->google-cloud-storage>=1.13.0->kfp==0.1.29) (1.51.0)\n",
      "Requirement already satisfied, skipping upgrade: more-itertools in /opt/conda/lib/python3.6/site-packages (from zipp>=0.5->importlib-metadata; python_version < \"3.8\"->jsonschema>=3.0.1->kfp==0.1.29) (8.1.0)\n",
      "Building wheels for collected packages: kfp\n",
      "  Building wheel for kfp (setup.py) ... \u001b[?25ldone\n",
      "\u001b[?25h  Stored in directory: /tmp/pip-ephem-wheel-cache-9rwckmwq/wheels/81/b7/33/00ef9dd992b13add014c4875a2c130d9d70288127a793c4af6\n",
      "Successfully built kfp\n",
      "Installing collected packages: kfp\n",
      "  Found existing installation: kfp 0.1.29\n",
      "    Uninstalling kfp-0.1.29:\n",
      "      Successfully uninstalled kfp-0.1.29\n",
      "Successfully installed kfp-0.1.29\n",
      "\u001b[33mYou are using pip version 19.0.1, however version 20.2.2 is available.\n",
      "You should consider upgrading via the 'pip install --upgrade pip' command.\u001b[0m\n"
     ]
    }
   ],
   "source": [
    "!pip install https://storage.googleapis.com/ml-pipeline/release/0.1.29/kfp.tar.gz --upgrade"
   ]
  },
  {
   "cell_type": "code",
   "execution_count": null,
   "metadata": {},
   "outputs": [
    {
     "data": {
      "text/html": [
       "<script>Jupyter.notebook.kernel.restart()</script>"
      ],
      "text/plain": [
       "<IPython.core.display.HTML object>"
      ]
     },
     "execution_count": 3,
     "metadata": {},
     "output_type": "execute_result"
    }
   ],
   "source": [
    "# Restart the kernel to pick up pip installed libraries\n",
    "from IPython.core.display import HTML\n",
    "HTML(\"<script>Jupyter.notebook.kernel.restart()</script>\")"
   ]
  },
  {
   "cell_type": "code",
   "execution_count": 1,
   "metadata": {},
   "outputs": [
    {
     "name": "stdout",
     "output_type": "stream",
     "text": [
      "Region: us-west-2\n",
      "Account ID: 250107111215\n",
      "S3 Bucket: sagemaker-us-west-2-250107111215\n"
     ]
    }
   ],
   "source": [
    "import boto3\n",
    "\n",
    "AWS_REGION_AS_SLIST=!curl -s http://169.254.169.254/latest/meta-data/placement/availability-zone | sed 's/\\(.*\\)[a-z]/\\1/'\n",
    "AWS_REGION = AWS_REGION_AS_SLIST.s\n",
    "print('Region: {}'.format(AWS_REGION))\n",
    "\n",
    "AWS_ACCOUNT_ID=boto3.client('sts').get_caller_identity().get('Account')\n",
    "print('Account ID: {}'.format(AWS_ACCOUNT_ID))\n",
    "\n",
    "S3_BUCKET='sagemaker-{}-{}'.format(AWS_REGION, AWS_ACCOUNT_ID)\n",
    "print('S3 Bucket: {}'.format(S3_BUCKET))"
   ]
  },
  {
   "cell_type": "markdown",
   "metadata": {},
   "source": [
    "## Copy `data` and `valid_data.csv` into your S3 bucket."
   ]
  },
  {
   "cell_type": "code",
   "execution_count": 2,
   "metadata": {},
   "outputs": [
    {
     "name": "stdout",
     "output_type": "stream",
     "text": [
      "copy: s3://kubeflow-pipeline-data/mnist_kmeans_example/data to s3://sagemaker-us-west-2-250107111215/mnist_kmeans_example/data\n",
      "copy: s3://kubeflow-pipeline-data/mnist_kmeans_example/input/valid_data.csv to s3://sagemaker-us-west-2-250107111215/mnist_kmeans_example/input/valid_data.csv\n"
     ]
    }
   ],
   "source": [
    "!aws s3 cp s3://kubeflow-pipeline-data/mnist_kmeans_example/data s3://$S3_BUCKET/mnist_kmeans_example/data\n",
    "!aws s3 cp s3://kubeflow-pipeline-data/mnist_kmeans_example/input/valid_data.csv s3://$S3_BUCKET/mnist_kmeans_example/input/"
   ]
  },
  {
   "cell_type": "markdown",
   "metadata": {},
   "source": [
    "# Build Pipeline"
   ]
  },
  {
   "cell_type": "markdown",
   "metadata": {},
   "source": [
    "# 1. Run the following command to load Kubeflow Pipelines SDK"
   ]
  },
  {
   "cell_type": "code",
   "execution_count": 3,
   "metadata": {},
   "outputs": [],
   "source": [
    "import kfp\n",
    "from kfp import components\n",
    "from kfp import dsl\n",
    "from kfp.aws import use_aws_secret"
   ]
  },
  {
   "cell_type": "markdown",
   "metadata": {},
   "source": [
    "# 2. Load reusable sagemaker components."
   ]
  },
  {
   "cell_type": "code",
   "execution_count": 4,
   "metadata": {},
   "outputs": [],
   "source": [
    "sagemaker_train_op = components.load_component_from_url('https://raw.githubusercontent.com/kubeflow/pipelines/0ad6c28d32e2e790e6a129b7eb1de8ec59c1d45f/components/aws/sagemaker/train/component.yaml')\n",
    "sagemaker_model_op = components.load_component_from_url('https://raw.githubusercontent.com/kubeflow/pipelines/0ad6c28d32e2e790e6a129b7eb1de8ec59c1d45f/components/aws/sagemaker/model/component.yaml')\n",
    "sagemaker_deploy_op = components.load_component_from_url('https://raw.githubusercontent.com/kubeflow/pipelines/0ad6c28d32e2e790e6a129b7eb1de8ec59c1d45f/components/aws/sagemaker/deploy/component.yaml')\n",
    "sagemaker_batch_transform_op = components.load_component_from_url('https://raw.githubusercontent.com/kubeflow/pipelines/0ad6c28d32e2e790e6a129b7eb1de8ec59c1d45f/components/aws/sagemaker/batch_transform/component.yaml')"
   ]
  },
  {
   "cell_type": "markdown",
   "metadata": {},
   "source": [
    "\n"
   ]
  },
  {
   "cell_type": "markdown",
   "metadata": {},
   "source": [
    "# 3. Create pipeline. \n",
    "\n",
    "We will create a training job first. Once training job is done, it will persist trained model to S3. \n",
    "\n",
    "Then a job will be kicked off to create a `Model` manifest in Sagemaker. \n",
    "\n",
    "With this model, batch transformation job can use it to predict on other datasets, prediction service can create an endpoint using it.\n",
    "\n",
    "\n",
    "> Note: remember to use your **role_arn** to successfully run the job.\n",
    "\n",
    "> Note: If you use a different region, please replace `us-west-2` with your region. \n",
    "\n",
    "> Note: ECR Images for k-means algorithm\n",
    "\n",
    "|Region| ECR Image|\n",
    "|------|----------|\n",
    "|us-west-1|632365934929.dkr.ecr.us-west-1.amazonaws.com|\n",
    "|us-west-2|174872318107.dkr.ecr.us-west-2.amazonaws.com|\n",
    "|us-east-1|382416733822.dkr.ecr.us-east-1.amazonaws.com|\n",
    "|us-east-2|404615174143.dkr.ecr.us-east-2.amazonaws.com|\n",
    "|us-gov-west-1|226302683700.dkr.ecr.us-gov-west-1.amazonaws.com|\n",
    "|ap-east-1|286214385809.dkr.ecr.ap-east-1.amazonaws.com|\n",
    "|ap-northeast-1|351501993468.dkr.ecr.ap-northeast-1.amazonaws.com|\n",
    "|ap-northeast-2|835164637446.dkr.ecr.ap-northeast-2.amazonaws.com|\n",
    "|ap-south-1|991648021394.dkr.ecr.ap-south-1.amazonaws.com|\n",
    "|ap-southeast-1|475088953585.dkr.ecr.ap-southeast-1.amazonaws.com|\n",
    "|ap-southeast-2|712309505854.dkr.ecr.ap-southeast-2.amazonaws.com|\n",
    "|ca-central-1|469771592824.dkr.ecr.ca-central-1.amazonaws.com|\n",
    "|eu-central-1|664544806723.dkr.ecr.eu-central-1.amazonaws.com|\n",
    "|eu-north-1|669576153137.dkr.ecr.eu-north-1.amazonaws.com|\n",
    "|eu-west-1|438346466558.dkr.ecr.eu-west-1.amazonaws.com|\n",
    "|eu-west-2|644912444149.dkr.ecr.eu-west-2.amazonaws.com|\n",
    "|eu-west-3|749696950732.dkr.ecr.eu-west-3.amazonaws.com|\n",
    "|me-south-1|249704162688.dkr.ecr.me-south-1.amazonaws.com|\n",
    "|sa-east-1|855470959533.dkr.ecr.sa-east-1.amazonaws.com|"
   ]
  },
  {
   "cell_type": "code",
   "execution_count": 5,
   "metadata": {},
   "outputs": [],
   "source": [
    "SAGEMAKER_ROLE_ARN='arn:aws:iam::{}:role/TeamRole'.format(AWS_ACCOUNT_ID)\n",
    "\n",
    "# Configure your s3 bucket.\n",
    "S3_PIPELINE_PATH='s3://{}/mnist_kmeans_example'.format(S3_BUCKET)\n",
    "\n",
    "# TODO:  Implement the other region checks\n",
    "if AWS_REGION == 'us-west-2':\n",
    "    AWS_ECR_REGISTRY='174872318107.dkr.ecr.us-west-2.amazonaws.com'\n",
    "\n",
    "if AWS_REGION == 'us-east-1':\n",
    "    AWS_ECR_REGISTRY='382416733822.dkr.ecr.us-east-1.amazonaws.com'\n",
    "\n",
    "    \n",
    "@dsl.pipeline(\n",
    "    name='MNIST Classification pipeline',\n",
    "    description='MNIST Classification using KMEANS in SageMaker'\n",
    ")\n",
    "def mnist_classification(region=AWS_REGION,\n",
    "    image='{}/kmeans:1'.format(AWS_ECR_REGISTRY),\n",
    "    dataset_path=S3_PIPELINE_PATH + '/data',\n",
    "    instance_type='ml.c4.8xlarge',\n",
    "    instance_count='2',\n",
    "    volume_size='50',\n",
    "    model_output_path=S3_PIPELINE_PATH + '/model',\n",
    "    batch_transform_input=S3_PIPELINE_PATH + '/input',\n",
    "    batch_transform_ouput=S3_PIPELINE_PATH + '/output',\n",
    "    role_arn=SAGEMAKER_ROLE_ARN\n",
    "    ):\n",
    "\n",
    "    training = sagemaker_train_op(\n",
    "        region=region,\n",
    "        image=image,\n",
    "        instance_type=instance_type,\n",
    "        instance_count=instance_count,\n",
    "        volume_size=volume_size,\n",
    "        dataset_path=dataset_path,\n",
    "        model_artifact_path=model_output_path,\n",
    "        role=role_arn,\n",
    "    ).apply(use_aws_secret('aws-secret', 'AWS_ACCESS_KEY_ID', 'AWS_SECRET_ACCESS_KEY'))\n",
    "\n",
    "    create_model = sagemaker_model_op(\n",
    "        region=region,\n",
    "        image=image,\n",
    "        model_artifact_url=training.outputs['model_artifact_url'],\n",
    "        model_name=training.outputs['job_name'],\n",
    "        role=role_arn\n",
    "    ).apply(use_aws_secret('aws-secret', 'AWS_ACCESS_KEY_ID', 'AWS_SECRET_ACCESS_KEY'))\n",
    "\n",
    "    prediction = sagemaker_deploy_op(\n",
    "        region=region,\n",
    "        model_name=create_model.output\n",
    "    ).apply(use_aws_secret('aws-secret', 'AWS_ACCESS_KEY_ID', 'AWS_SECRET_ACCESS_KEY'))\n",
    "\n",
    "    batch_transform = sagemaker_batch_transform_op(\n",
    "        region=region,\n",
    "        model_name=create_model.output,\n",
    "        input_location=batch_transform_input,\n",
    "        output_location=batch_transform_ouput\n",
    "    ).apply(use_aws_secret('aws-secret', 'AWS_ACCESS_KEY_ID', 'AWS_SECRET_ACCESS_KEY'))"
   ]
  },
  {
   "cell_type": "markdown",
   "metadata": {},
   "source": [
    "# 4. Compile your pipeline"
   ]
  },
  {
   "cell_type": "code",
   "execution_count": 6,
   "metadata": {},
   "outputs": [],
   "source": [
    "kfp.compiler.Compiler().compile(mnist_classification, 'mnist-classification-pipeline.zip')"
   ]
  },
  {
   "cell_type": "code",
   "execution_count": 7,
   "metadata": {},
   "outputs": [
    {
     "name": "stdout",
     "output_type": "stream",
     "text": [
      "-rw-r--r-- 1 root users 1498 Aug 22 23:37 ./mnist-classification-pipeline.zip\r\n"
     ]
    }
   ],
   "source": [
    "!ls -al ./mnist-classification-pipeline.zip"
   ]
  },
  {
   "cell_type": "code",
   "execution_count": 8,
   "metadata": {},
   "outputs": [
    {
     "name": "stdout",
     "output_type": "stream",
     "text": [
      "Archive:  ./mnist-classification-pipeline.zip\r\n",
      "  inflating: pipeline.yaml           \r\n"
     ]
    }
   ],
   "source": [
    "!unzip -o ./mnist-classification-pipeline.zip"
   ]
  },
  {
   "cell_type": "code",
   "execution_count": 9,
   "metadata": {},
   "outputs": [
    {
     "name": "stdout",
     "output_type": "stream",
     "text": [
      "apiVersion: argoproj.io/v1alpha1\r\n",
      "kind: Workflow\r\n",
      "metadata:\r\n",
      "  annotations:\r\n",
      "    pipelines.kubeflow.org/pipeline_spec: '{\"description\": \"MNIST Classification using\r\n",
      "      KMEANS in SageMaker\", \"inputs\": [{\"default\": \"us-west-2\", \"name\": \"region\"},\r\n",
      "      {\"default\": \"174872318107.dkr.ecr.us-west-2.amazonaws.com/kmeans:1\", \"name\":\r\n",
      "      \"image\"}, {\"default\": \"s3://sagemaker-us-west-2-250107111215/mnist_kmeans_example/data\",\r\n",
      "      \"name\": \"dataset_path\"}, {\"default\": \"ml.c4.8xlarge\", \"name\": \"instance_type\"},\r\n",
      "      {\"default\": \"2\", \"name\": \"instance_count\"}, {\"default\": \"50\", \"name\": \"volume_size\"},\r\n",
      "      {\"default\": \"s3://sagemaker-us-west-2-250107111215/mnist_kmeans_example/model\",\r\n",
      "      \"name\": \"model_output_path\"}, {\"default\": \"s3://sagemaker-us-west-2-250107111215/mnist_kmeans_example/input\",\r\n",
      "      \"name\": \"batch_transform_input\"}, {\"default\": \"s3://sagemaker-us-west-2-250107111215/mnist_kmeans_example/output\",\r\n",
      "      \"name\": \"batch_transform_ouput\"}, {\"default\": \"arn:aws:iam::250107111215:role/TeamRole\",\r\n",
      "      \"name\": \"role_arn\"}], \"name\": \"MNIST Classification pipeline\"}'\r\n",
      "  generateName: mnist-classification-pipeline-\r\n",
      "spec:\r\n",
      "  arguments:\r\n",
      "    parameters:\r\n",
      "    - name: region\r\n",
      "      value: us-west-2\r\n",
      "    - name: image\r\n",
      "      value: 174872318107.dkr.ecr.us-west-2.amazonaws.com/kmeans:1\r\n",
      "    - name: dataset-path\r\n",
      "      value: s3://sagemaker-us-west-2-250107111215/mnist_kmeans_example/data\r\n",
      "    - name: instance-type\r\n",
      "      value: ml.c4.8xlarge\r\n",
      "    - name: instance-count\r\n",
      "      value: '2'\r\n",
      "    - name: volume-size\r\n",
      "      value: '50'\r\n",
      "    - name: model-output-path\r\n",
      "      value: s3://sagemaker-us-west-2-250107111215/mnist_kmeans_example/model\r\n",
      "    - name: batch-transform-input\r\n",
      "      value: s3://sagemaker-us-west-2-250107111215/mnist_kmeans_example/input\r\n",
      "    - name: batch-transform-ouput\r\n",
      "      value: s3://sagemaker-us-west-2-250107111215/mnist_kmeans_example/output\r\n",
      "    - name: role-arn\r\n",
      "      value: arn:aws:iam::250107111215:role/TeamRole\r\n",
      "  entrypoint: mnist-classification-pipeline\r\n",
      "  serviceAccountName: pipeline-runner\r\n",
      "  templates:\r\n",
      "  - dag:\r\n",
      "      tasks:\r\n",
      "      - arguments:\r\n",
      "          parameters:\r\n",
      "          - name: batch-transform-input\r\n",
      "            value: '{{inputs.parameters.batch-transform-input}}'\r\n",
      "          - name: batch-transform-ouput\r\n",
      "            value: '{{inputs.parameters.batch-transform-ouput}}'\r\n",
      "          - name: region\r\n",
      "            value: '{{inputs.parameters.region}}'\r\n",
      "          - name: sagemaker-create-model-model-name\r\n",
      "            value: '{{tasks.sagemaker-create-model.outputs.parameters.sagemaker-create-model-model-name}}'\r\n",
      "        dependencies:\r\n",
      "        - sagemaker-create-model\r\n",
      "        name: sagemaker-batch-transformation\r\n",
      "        template: sagemaker-batch-transformation\r\n",
      "      - arguments:\r\n",
      "          parameters:\r\n",
      "          - name: image\r\n",
      "            value: '{{inputs.parameters.image}}'\r\n",
      "          - name: region\r\n",
      "            value: '{{inputs.parameters.region}}'\r\n",
      "          - name: role-arn\r\n",
      "            value: '{{inputs.parameters.role-arn}}'\r\n",
      "          - name: sagemaker-training-job-job-name\r\n",
      "            value: '{{tasks.sagemaker-training-job.outputs.parameters.sagemaker-training-job-job-name}}'\r\n",
      "          - name: sagemaker-training-job-model-artifact-url\r\n",
      "            value: '{{tasks.sagemaker-training-job.outputs.parameters.sagemaker-training-job-model-artifact-url}}'\r\n",
      "        dependencies:\r\n",
      "        - sagemaker-training-job\r\n",
      "        name: sagemaker-create-model\r\n",
      "        template: sagemaker-create-model\r\n",
      "      - arguments:\r\n",
      "          parameters:\r\n",
      "          - name: region\r\n",
      "            value: '{{inputs.parameters.region}}'\r\n",
      "          - name: sagemaker-create-model-model-name\r\n",
      "            value: '{{tasks.sagemaker-create-model.outputs.parameters.sagemaker-create-model-model-name}}'\r\n",
      "        dependencies:\r\n",
      "        - sagemaker-create-model\r\n",
      "        name: sagemaker-deploy-model\r\n",
      "        template: sagemaker-deploy-model\r\n",
      "      - arguments:\r\n",
      "          parameters:\r\n",
      "          - name: dataset-path\r\n",
      "            value: '{{inputs.parameters.dataset-path}}'\r\n",
      "          - name: image\r\n",
      "            value: '{{inputs.parameters.image}}'\r\n",
      "          - name: instance-count\r\n",
      "            value: '{{inputs.parameters.instance-count}}'\r\n",
      "          - name: instance-type\r\n",
      "            value: '{{inputs.parameters.instance-type}}'\r\n",
      "          - name: model-output-path\r\n",
      "            value: '{{inputs.parameters.model-output-path}}'\r\n",
      "          - name: region\r\n",
      "            value: '{{inputs.parameters.region}}'\r\n",
      "          - name: role-arn\r\n",
      "            value: '{{inputs.parameters.role-arn}}'\r\n",
      "          - name: volume-size\r\n",
      "            value: '{{inputs.parameters.volume-size}}'\r\n",
      "        name: sagemaker-training-job\r\n",
      "        template: sagemaker-training-job\r\n",
      "    inputs:\r\n",
      "      parameters:\r\n",
      "      - name: batch-transform-input\r\n",
      "      - name: batch-transform-ouput\r\n",
      "      - name: dataset-path\r\n",
      "      - name: image\r\n",
      "      - name: instance-count\r\n",
      "      - name: instance-type\r\n",
      "      - name: model-output-path\r\n",
      "      - name: region\r\n",
      "      - name: role-arn\r\n",
      "      - name: volume-size\r\n",
      "    name: mnist-classification-pipeline\r\n",
      "  - container:\r\n",
      "      args:\r\n",
      "      - batch_transform.py\r\n",
      "      - --region\r\n",
      "      - '{{inputs.parameters.region}}'\r\n",
      "      - --model_name\r\n",
      "      - '{{inputs.parameters.sagemaker-create-model-model-name}}'\r\n",
      "      - --input_location\r\n",
      "      - '{{inputs.parameters.batch-transform-input}}'\r\n",
      "      - --output_location\r\n",
      "      - '{{inputs.parameters.batch-transform-ouput}}'\r\n",
      "      - --output_location_file\r\n",
      "      - /tmp/outputs/output_location/data\r\n",
      "      command:\r\n",
      "      - python\r\n",
      "      env:\r\n",
      "      - name: AWS_ACCESS_KEY_ID\r\n",
      "        valueFrom:\r\n",
      "          secretKeyRef:\r\n",
      "            key: AWS_ACCESS_KEY_ID\r\n",
      "            name: aws-secret\r\n",
      "      - name: AWS_SECRET_ACCESS_KEY\r\n",
      "        valueFrom:\r\n",
      "          secretKeyRef:\r\n",
      "            key: AWS_SECRET_ACCESS_KEY\r\n",
      "            name: aws-secret\r\n",
      "      image: seedjeffwan/kubeflow-pipeline-aws-sm:20190501-05\r\n",
      "    inputs:\r\n",
      "      parameters:\r\n",
      "      - name: batch-transform-input\r\n",
      "      - name: batch-transform-ouput\r\n",
      "      - name: region\r\n",
      "      - name: sagemaker-create-model-model-name\r\n",
      "    name: sagemaker-batch-transformation\r\n",
      "    outputs:\r\n",
      "      parameters:\r\n",
      "      - name: sagemaker-batch-transformation-output-location\r\n",
      "        valueFrom:\r\n",
      "          path: /tmp/outputs/output_location/data\r\n",
      "  - container:\r\n",
      "      args:\r\n",
      "      - create_model.py\r\n",
      "      - --region\r\n",
      "      - '{{inputs.parameters.region}}'\r\n",
      "      - --image\r\n",
      "      - '{{inputs.parameters.image}}'\r\n",
      "      - --model_artifact_url\r\n",
      "      - '{{inputs.parameters.sagemaker-training-job-model-artifact-url}}'\r\n",
      "      - --model_name\r\n",
      "      - '{{inputs.parameters.sagemaker-training-job-job-name}}'\r\n",
      "      - --role\r\n",
      "      - '{{inputs.parameters.role-arn}}'\r\n",
      "      command:\r\n",
      "      - python\r\n",
      "      env:\r\n",
      "      - name: AWS_ACCESS_KEY_ID\r\n",
      "        valueFrom:\r\n",
      "          secretKeyRef:\r\n",
      "            key: AWS_ACCESS_KEY_ID\r\n",
      "            name: aws-secret\r\n",
      "      - name: AWS_SECRET_ACCESS_KEY\r\n",
      "        valueFrom:\r\n",
      "          secretKeyRef:\r\n",
      "            key: AWS_SECRET_ACCESS_KEY\r\n",
      "            name: aws-secret\r\n",
      "      image: seedjeffwan/kubeflow-pipeline-aws-sm:20190501-05\r\n",
      "    inputs:\r\n",
      "      parameters:\r\n",
      "      - name: image\r\n",
      "      - name: region\r\n",
      "      - name: role-arn\r\n",
      "      - name: sagemaker-training-job-job-name\r\n",
      "      - name: sagemaker-training-job-model-artifact-url\r\n",
      "    name: sagemaker-create-model\r\n",
      "    outputs:\r\n",
      "      parameters:\r\n",
      "      - name: sagemaker-create-model-model-name\r\n",
      "        valueFrom:\r\n",
      "          path: /tmp/model_name.txt\r\n",
      "  - container:\r\n",
      "      args:\r\n",
      "      - deploy.py\r\n",
      "      - --region\r\n",
      "      - '{{inputs.parameters.region}}'\r\n",
      "      - --model_name\r\n",
      "      - '{{inputs.parameters.sagemaker-create-model-model-name}}'\r\n",
      "      command:\r\n",
      "      - python\r\n",
      "      env:\r\n",
      "      - name: AWS_ACCESS_KEY_ID\r\n",
      "        valueFrom:\r\n",
      "          secretKeyRef:\r\n",
      "            key: AWS_ACCESS_KEY_ID\r\n",
      "            name: aws-secret\r\n",
      "      - name: AWS_SECRET_ACCESS_KEY\r\n",
      "        valueFrom:\r\n",
      "          secretKeyRef:\r\n",
      "            key: AWS_SECRET_ACCESS_KEY\r\n",
      "            name: aws-secret\r\n",
      "      image: seedjeffwan/kubeflow-pipeline-aws-sm:20190501-05\r\n",
      "    inputs:\r\n",
      "      parameters:\r\n",
      "      - name: region\r\n",
      "      - name: sagemaker-create-model-model-name\r\n",
      "    name: sagemaker-deploy-model\r\n",
      "    outputs:\r\n",
      "      parameters:\r\n",
      "      - name: sagemaker-deploy-model-endpoint-name\r\n",
      "        valueFrom:\r\n",
      "          path: /tmp/endpoint_name.txt\r\n",
      "  - container:\r\n",
      "      args:\r\n",
      "      - train.py\r\n",
      "      - --region\r\n",
      "      - '{{inputs.parameters.region}}'\r\n",
      "      - --image\r\n",
      "      - '{{inputs.parameters.image}}'\r\n",
      "      - --instance_type\r\n",
      "      - '{{inputs.parameters.instance-type}}'\r\n",
      "      - --instance_count\r\n",
      "      - '{{inputs.parameters.instance-count}}'\r\n",
      "      - --volume_size\r\n",
      "      - '{{inputs.parameters.volume-size}}'\r\n",
      "      - --dataset_path\r\n",
      "      - '{{inputs.parameters.dataset-path}}'\r\n",
      "      - --model_artifact_path\r\n",
      "      - '{{inputs.parameters.model-output-path}}'\r\n",
      "      - --role\r\n",
      "      - '{{inputs.parameters.role-arn}}'\r\n",
      "      command:\r\n",
      "      - python\r\n",
      "      env:\r\n",
      "      - name: AWS_ACCESS_KEY_ID\r\n",
      "        valueFrom:\r\n",
      "          secretKeyRef:\r\n",
      "            key: AWS_ACCESS_KEY_ID\r\n",
      "            name: aws-secret\r\n",
      "      - name: AWS_SECRET_ACCESS_KEY\r\n",
      "        valueFrom:\r\n",
      "          secretKeyRef:\r\n",
      "            key: AWS_SECRET_ACCESS_KEY\r\n",
      "            name: aws-secret\r\n",
      "      image: seedjeffwan/kubeflow-pipeline-aws-sm:20190501-05\r\n",
      "    inputs:\r\n",
      "      parameters:\r\n",
      "      - name: dataset-path\r\n",
      "      - name: image\r\n",
      "      - name: instance-count\r\n",
      "      - name: instance-type\r\n",
      "      - name: model-output-path\r\n",
      "      - name: region\r\n",
      "      - name: role-arn\r\n",
      "      - name: volume-size\r\n",
      "    name: sagemaker-training-job\r\n",
      "    outputs:\r\n",
      "      parameters:\r\n",
      "      - name: sagemaker-training-job-job-name\r\n",
      "        valueFrom:\r\n",
      "          path: /tmp/job_name.txt\r\n",
      "      - name: sagemaker-training-job-model-artifact-url\r\n",
      "        valueFrom:\r\n",
      "          path: /tmp/model_artifact_url.txt\r\n"
     ]
    }
   ],
   "source": [
    "!cat pipeline.yaml"
   ]
  },
  {
   "cell_type": "markdown",
   "metadata": {},
   "source": [
    "# 5. Deploy your pipeline"
   ]
  },
  {
   "cell_type": "code",
   "execution_count": 10,
   "metadata": {
    "scrolled": false
   },
   "outputs": [
    {
     "data": {
      "text/html": [
       "Experiment link <a href=\"/pipeline/#/experiments/details/6ec390db-8b89-42c0-a779-239cd2b4ffd9\" target=\"_blank\" >here</a>"
      ],
      "text/plain": [
       "<IPython.core.display.HTML object>"
      ]
     },
     "metadata": {},
     "output_type": "display_data"
    },
    {
     "data": {
      "text/html": [
       "Run link <a href=\"/pipeline/#/runs/details/b51c2336-1a2b-464d-9da7-e9ea532e9de4\" target=\"_blank\" >here</a>"
      ],
      "text/plain": [
       "<IPython.core.display.HTML object>"
      ]
     },
     "metadata": {},
     "output_type": "display_data"
    }
   ],
   "source": [
    "client = kfp.Client()\n",
    "aws_experiment = client.create_experiment(name='aws')\n",
    "my_run = client.run_pipeline(aws_experiment.id, 'mnist-classification-pipeline', \n",
    "  'mnist-classification-pipeline.zip')"
   ]
  },
  {
   "cell_type": "markdown",
   "metadata": {},
   "source": [
    "## Training\n",
    "\n",
    "_Note:  The above training job may take 5-10 minutes.  Please be patient._\n",
    "\n",
    "In the meantime, open the SageMaker Console to monitor the progress of your training job.\n",
    "\n",
    "![SageMaker Training Job Console](img/sagemaker-training-job-console.png)"
   ]
  },
  {
   "cell_type": "markdown",
   "metadata": {},
   "source": [
    "## Get the Name of the Deployed Prediction Endpoint\n",
    "First, we need to get the endpoint name of our newly-deployed SageMaker Prediction Endpoint."
   ]
  },
  {
   "cell_type": "markdown",
   "metadata": {},
   "source": [
    "Open AWS console and enter SageMaker service, find the endpoint name as the following picture shows.\n",
    "\n",
    "![download-pipeline](images/sm-endpoint.jpg)"
   ]
  },
  {
   "cell_type": "markdown",
   "metadata": {},
   "source": [
    "# Make a Prediction"
   ]
  },
  {
   "cell_type": "markdown",
   "metadata": {},
   "source": [
    "# _YOU MUST COPY/PASTE THE `ENDPOINT_NAME` BEFORE CONTINUING_\n",
    "Make sure to include preserve the single-quotes as shown below."
   ]
  },
  {
   "cell_type": "code",
   "execution_count": 12,
   "metadata": {},
   "outputs": [
    {
     "name": "stdout",
     "output_type": "stream",
     "text": [
      "{'predictions': [{'distance_to_cluster': 7.2732768058776855, 'closest_cluster': 3.0}]}\n"
     ]
    }
   ],
   "source": [
    "import pickle, gzip, numpy, urllib.request, json\n",
    "from urllib.parse import urlparse\n",
    "import json\n",
    "import io\n",
    "import boto3\n",
    "\n",
    "#################################\n",
    "#################################\n",
    "# Replace ENDPOINT_NAME with the endpoint name in the SageMaker console.\n",
    "# Surround with single quotes.\n",
    "ENDPOINT_NAME= 'Endpoint-20200822233740-UR9D'\n",
    "#################################\n",
    "#################################\n",
    "\n",
    "# Load the dataset\n",
    "urllib.request.urlretrieve(\"http://deeplearning.net/data/mnist/mnist.pkl.gz\", \"mnist.pkl.gz\")\n",
    "with gzip.open('mnist.pkl.gz', 'rb') as f:\n",
    "    train_set, valid_set, test_set = pickle.load(f, encoding='latin1')\n",
    "\n",
    "# Simple function to create a csv from our numpy array\n",
    "def np2csv(arr):\n",
    "    csv = io.BytesIO()\n",
    "    numpy.savetxt(csv, arr, delimiter=',', fmt='%g')\n",
    "    return csv.getvalue().decode().rstrip()\n",
    "\n",
    "runtime = boto3.Session(region_name=AWS_REGION).client('sagemaker-runtime')\n",
    "\n",
    "payload = np2csv(train_set[0][30:31])\n",
    "\n",
    "response = runtime.invoke_endpoint(EndpointName=ENDPOINT_NAME,\n",
    "                                   ContentType='text/csv',\n",
    "                                   Body=payload)\n",
    "result = json.loads(response['Body'].read().decode())\n",
    "print(result)"
   ]
  },
  {
   "cell_type": "markdown",
   "metadata": {},
   "source": [
    "## Clean up\n",
    "\n",
    "Go to Sagemaker console and delete `endpoint` and `model`."
   ]
  },
  {
   "cell_type": "code",
   "execution_count": null,
   "metadata": {},
   "outputs": [],
   "source": []
  }
 ],
 "metadata": {
  "kernelspec": {
   "display_name": "Python 3",
   "language": "python",
   "name": "python3"
  },
  "language_info": {
   "codemirror_mode": {
    "name": "ipython",
    "version": 3
   },
   "file_extension": ".py",
   "mimetype": "text/x-python",
   "name": "python",
   "nbconvert_exporter": "python",
   "pygments_lexer": "ipython3",
   "version": "3.6.8"
  }
 },
 "nbformat": 4,
 "nbformat_minor": 2
}
