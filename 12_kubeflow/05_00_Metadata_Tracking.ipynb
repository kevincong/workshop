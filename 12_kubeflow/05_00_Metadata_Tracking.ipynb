{
 "cells": [
  {
   "cell_type": "markdown",
   "metadata": {},
   "source": [
    "# Metadata\n",
    "### Tracking and managing metadata of machine learning workflows in Kubeflow"
   ]
  },
  {
   "cell_type": "markdown",
   "metadata": {},
   "source": [
    "\n",
    "The goal of the [Metadata](https://github.com/kubeflow/metadata) project is to help Kubeflow users understand and manage their machine learning workflows by tracking and managing the metadata of workflows.\n",
    "\n",
    "\n",
    "Metadata comes with three components. From Kubeflow v0.6, Metadata is installed by default.\n",
    "\n",
    "- UI\n",
    "- Backend Store\n",
    "- Python SDK\n"
   ]
  },
  {
   "cell_type": "markdown",
   "metadata": {},
   "source": [
    "## Core Concepts\n",
    "\n",
    "- _Run_ describes an execution of a machine learning workflow, which can be a pipeline or a notebook.\n",
    "- _Artifact_ describes derived data used or produced in a run.\n",
    "- _Execution_ describes an execution of a single step of a run with its running parameters.\n",
    "- _Workspace_ groups a set of runs and related artifacts and executions.\n"
   ]
  },
  {
   "cell_type": "markdown",
   "metadata": {},
   "source": [
    "### Install Python SDK"
   ]
  },
  {
   "cell_type": "code",
   "execution_count": 1,
   "metadata": {},
   "outputs": [
    {
     "name": "stdout",
     "output_type": "stream",
     "text": [
      "Collecting kfmd==0.1.8\n",
      "  Downloading https://files.pythonhosted.org/packages/cf/72/048a49042dacd93925f6f4253cb765aeddef34da4cbec05066dc1ac555f5/kfmd-0.1.8.tar.gz\n",
      "Building wheels for collected packages: kfmd\n",
      "  Building wheel for kfmd (setup.py) ... \u001b[?25ldone\n",
      "\u001b[?25h  Stored in directory: /root/.cache/pip/wheels/3d/ef/17/5f5099e588c582d66506547e0bd28bd7071959137a88b110ca\n",
      "Successfully built kfmd\n",
      "Installing collected packages: kfmd\n",
      "Successfully installed kfmd-0.1.8\n",
      "\u001b[33mYou are using pip version 19.0.1, however version 20.2.2 is available.\n",
      "You should consider upgrading via the 'pip install --upgrade pip' command.\u001b[0m\n",
      "Requirement already satisfied: pandas==0.24.2 in /opt/conda/lib/python3.6/site-packages (0.24.2)\n",
      "Requirement already satisfied: python-dateutil>=2.5.0 in /opt/conda/lib/python3.6/site-packages (from pandas==0.24.2) (2.8.0)\n",
      "Requirement already satisfied: numpy>=1.12.0 in /opt/conda/lib/python3.6/site-packages (from pandas==0.24.2) (1.18.1)\n",
      "Requirement already satisfied: pytz>=2011k in /opt/conda/lib/python3.6/site-packages (from pandas==0.24.2) (2019.3)\n",
      "Requirement already satisfied: six>=1.5 in /opt/conda/lib/python3.6/site-packages (from python-dateutil>=2.5.0->pandas==0.24.2) (1.11.0)\n",
      "\u001b[33mYou are using pip version 19.0.1, however version 20.2.2 is available.\n",
      "You should consider upgrading via the 'pip install --upgrade pip' command.\u001b[0m\n"
     ]
    }
   ],
   "source": [
    "# To use the latest publish `kfmd` library, you can run:\n",
    "!pip install kfmd==0.1.8 --user\n",
    "\n",
    "# Install other packages used in the turorial:\n",
    "!pip install pandas==0.24.2 --user"
   ]
  },
  {
   "cell_type": "code",
   "execution_count": 2,
   "metadata": {},
   "outputs": [
    {
     "name": "stdout",
     "output_type": "stream",
     "text": [
      "Package                               Version \n",
      "------------------------------------- --------\n",
      "absl-py                               0.9.0   \n",
      "adal                                  1.2.2   \n",
      "alembic                               1.3.3   \n",
      "ansiwrap                              0.8.4   \n",
      "apache-beam                           2.18.0  \n",
      "argo-models                           2.2.1a0 \n",
      "asn1crypto                            0.24.0  \n",
      "astor                                 0.8.1   \n",
      "async-generator                       1.10    \n",
      "attrs                                 19.3.0  \n",
      "avro-python3                          1.9.1   \n",
      "awscli                                1.17.8  \n",
      "azure                                 4.0.0   \n",
      "azure-applicationinsights             0.1.0   \n",
      "azure-batch                           4.1.3   \n",
      "azure-common                          1.1.24  \n",
      "azure-core                            1.2.1   \n",
      "azure-cosmosdb-nspkg                  2.0.2   \n",
      "azure-cosmosdb-table                  1.0.6   \n",
      "azure-datalake-store                  0.0.48  \n",
      "azure-eventgrid                       1.3.0   \n",
      "azure-graphrbac                       0.40.0  \n",
      "azure-keyvault                        1.1.0   \n",
      "azure-loganalytics                    0.1.0   \n",
      "azure-mgmt                            4.0.0   \n",
      "azure-mgmt-advisor                    1.0.1   \n",
      "azure-mgmt-applicationinsights        0.1.1   \n",
      "azure-mgmt-authorization              0.50.0  \n",
      "azure-mgmt-batch                      5.0.1   \n",
      "azure-mgmt-batchai                    2.0.0   \n",
      "azure-mgmt-billing                    0.2.0   \n",
      "azure-mgmt-cdn                        3.1.0   \n",
      "azure-mgmt-cognitiveservices          3.0.0   \n",
      "azure-mgmt-commerce                   1.0.1   \n",
      "azure-mgmt-compute                    4.6.2   \n",
      "azure-mgmt-consumption                2.0.0   \n",
      "azure-mgmt-containerinstance          1.5.0   \n",
      "azure-mgmt-containerregistry          2.8.0   \n",
      "azure-mgmt-containerservice           4.4.0   \n",
      "azure-mgmt-cosmosdb                   0.4.1   \n",
      "azure-mgmt-datafactory                0.6.0   \n",
      "azure-mgmt-datalake-analytics         0.6.0   \n",
      "azure-mgmt-datalake-nspkg             3.0.1   \n",
      "azure-mgmt-datalake-store             0.5.0   \n",
      "azure-mgmt-datamigration              1.0.0   \n",
      "azure-mgmt-devspaces                  0.1.0   \n",
      "azure-mgmt-devtestlabs                2.2.0   \n",
      "azure-mgmt-dns                        2.1.0   \n",
      "azure-mgmt-eventgrid                  1.0.0   \n",
      "azure-mgmt-eventhub                   2.6.0   \n",
      "azure-mgmt-hanaonazure                0.1.1   \n",
      "azure-mgmt-iotcentral                 0.1.0   \n",
      "azure-mgmt-iothub                     0.5.0   \n",
      "azure-mgmt-iothubprovisioningservices 0.2.0   \n",
      "azure-mgmt-keyvault                   1.1.0   \n",
      "azure-mgmt-loganalytics               0.2.0   \n",
      "azure-mgmt-logic                      3.0.0   \n",
      "azure-mgmt-machinelearningcompute     0.4.1   \n",
      "azure-mgmt-managementgroups           0.1.0   \n",
      "azure-mgmt-managementpartner          0.1.1   \n",
      "azure-mgmt-maps                       0.1.0   \n",
      "azure-mgmt-marketplaceordering        0.1.0   \n",
      "azure-mgmt-media                      1.0.0   \n",
      "azure-mgmt-monitor                    0.5.2   \n",
      "azure-mgmt-msi                        0.2.0   \n",
      "azure-mgmt-network                    2.7.0   \n",
      "azure-mgmt-notificationhubs           2.1.0   \n",
      "azure-mgmt-nspkg                      3.0.2   \n",
      "azure-mgmt-policyinsights             0.1.0   \n",
      "azure-mgmt-powerbiembedded            2.0.0   \n",
      "azure-mgmt-rdbms                      1.9.0   \n",
      "azure-mgmt-recoveryservices           0.3.0   \n",
      "azure-mgmt-recoveryservicesbackup     0.3.0   \n",
      "azure-mgmt-redis                      5.0.0   \n",
      "azure-mgmt-relay                      0.1.0   \n",
      "azure-mgmt-reservations               0.2.1   \n",
      "azure-mgmt-resource                   2.2.0   \n",
      "azure-mgmt-scheduler                  2.0.0   \n",
      "azure-mgmt-search                     2.1.0   \n",
      "azure-mgmt-servicebus                 0.5.3   \n",
      "azure-mgmt-servicefabric              0.2.0   \n",
      "azure-mgmt-signalr                    0.1.1   \n",
      "azure-mgmt-sql                        0.9.1   \n",
      "azure-mgmt-storage                    2.0.0   \n",
      "azure-mgmt-subscription               0.2.0   \n",
      "azure-mgmt-trafficmanager             0.50.0  \n",
      "azure-mgmt-web                        0.35.0  \n",
      "azure-nspkg                           3.0.2   \n",
      "azure-servicebus                      0.21.1  \n",
      "azure-servicefabric                   6.3.0.0 \n",
      "azure-servicemanagement-legacy        0.20.6  \n",
      "azure-storage-blob                    1.5.0   \n",
      "azure-storage-common                  1.4.2   \n",
      "azure-storage-file                    1.4.0   \n",
      "azure-storage-queue                   1.4.0   \n",
      "backcall                              0.1.0   \n",
      "bleach                                3.1.0   \n",
      "boto3                                 1.11.8  \n",
      "botocore                              1.14.8  \n",
      "cachetools                            3.1.1   \n",
      "certifi                               2019.3.9\n",
      "cffi                                  1.11.5  \n",
      "chardet                               3.0.4   \n",
      "Click                                 7.0     \n",
      "cloudpickle                           1.2.2   \n",
      "colorama                              0.4.1   \n",
      "conda                                 4.6.14  \n",
      "configparser                          4.0.2   \n",
      "crcmod                                1.7     \n",
      "cryptography                          2.4.2   \n",
      "cycler                                0.10.0  \n",
      "databricks-cli                        0.9.1   \n",
      "decorator                             4.4.1   \n",
      "defusedxml                            0.6.0   \n",
      "Deprecated                            1.2.10  \n",
      "dill                                  0.3.1.1 \n",
      "docker                                4.1.0   \n",
      "docopt                                0.6.2   \n",
      "docutils                              0.15.2  \n",
      "entrypoints                           0.3     \n",
      "fastavro                              0.21.24 \n",
      "fasteners                             0.15    \n",
      "Flask                                 1.1.1   \n",
      "fsspec                                0.6.2   \n",
      "future                                0.18.2  \n",
      "gast                                  0.3.3   \n",
      "gcsfs                                 0.6.0   \n",
      "gitdb2                                2.0.6   \n",
      "GitPython                             3.0.5   \n",
      "google-api-core                       1.16.0  \n",
      "google-api-python-client              1.7.11  \n",
      "google-apitools                       0.5.28  \n",
      "google-auth                           1.11.0  \n",
      "google-auth-httplib2                  0.0.3   \n",
      "google-auth-oauthlib                  0.4.1   \n",
      "google-cloud-bigquery                 1.17.1  \n",
      "google-cloud-bigtable                 1.0.0   \n",
      "google-cloud-core                     1.2.0   \n",
      "google-cloud-datastore                1.7.4   \n",
      "google-cloud-logging                  1.14.0  \n",
      "google-cloud-pubsub                   1.0.2   \n",
      "google-cloud-storage                  1.25.0  \n",
      "google-resumable-media                0.5.0   \n",
      "googleapis-common-protos              1.51.0  \n",
      "gorilla                               0.3.0   \n",
      "grpc-google-iam-v1                    0.12.3  \n",
      "grpcio                                1.26.0  \n",
      "gunicorn                              20.0.4  \n",
      "h5py                                  2.10.0  \n",
      "hdfs                                  2.5.8   \n",
      "httplib2                              0.12.0  \n",
      "idna                                  2.6     \n",
      "importlib-metadata                    1.4.0   \n",
      "ipykernel                             5.1.3   \n",
      "ipython                               7.11.1  \n",
      "ipython-genutils                      0.2.0   \n",
      "ipywidgets                            7.5.1   \n",
      "isodate                               0.6.0   \n",
      "itsdangerous                          1.1.0   \n",
      "jedi                                  0.15.2  \n",
      "Jinja2                                2.10.3  \n",
      "jmespath                              0.9.4   \n",
      "joblib                                0.14.1  \n",
      "jsonschema                            3.2.0   \n",
      "jupyter                               1.0.0   \n",
      "jupyter-client                        5.3.4   \n",
      "jupyter-console                       6.0.0   \n",
      "jupyter-core                          4.6.1   \n",
      "jupyterhub                            0.9.4   \n",
      "jupyterlab                            0.35.4  \n",
      "jupyterlab-server                     0.2.0   \n",
      "Keras                                 2.2.4   \n",
      "Keras-Applications                    1.0.8   \n",
      "Keras-Preprocessing                   1.1.0   \n",
      "kfmd                                  0.1.8   \n",
      "kfp                                   0.1.29  \n",
      "kfp-server-api                        0.1.18.3\n",
      "kfserving                             0.2.2.1 \n",
      "kiwisolver                            1.1.0   \n",
      "kubeflow-fairing                      0.7.1   \n",
      "kubeflow-pytorchjob                   0.1.3   \n",
      "kubeflow-tfjob                        0.1.3   \n",
      "kubernetes                            9.0.0   \n",
      "Mako                                  1.1.1   \n",
      "Markdown                              3.1.1   \n",
      "MarkupSafe                            1.1.1   \n",
      "matplotlib                            3.1.1   \n",
      "minio                                 5.0.6   \n",
      "mistune                               0.8.4   \n",
      "ml-metadata                           0.13.2  \n",
      "mlflow                                1.2.0   \n",
      "mock                                  2.0.0   \n",
      "monotonic                             1.5     \n",
      "more-itertools                        8.1.0   \n",
      "msrest                                0.6.10  \n",
      "msrestazure                           0.6.2   \n",
      "nbconvert                             5.6.1   \n",
      "nbformat                              5.0.4   \n",
      "networkx                              2.3     \n",
      "notebook                              6.0.3   \n",
      "numpy                                 1.18.1  \n",
      "oauth2client                          4.1.3   \n",
      "oauthlib                              3.1.0   \n",
      "pamela                                1.0.0   \n",
      "pandas                                0.24.2  \n",
      "pandocfilters                         1.4.2   \n",
      "papermill                             1.0.1   \n",
      "parso                                 0.5.2   \n",
      "pbr                                   5.4.4   \n",
      "pexpect                               4.8.0   \n",
      "pickleshare                           0.7.5   \n",
      "Pillow                                7.2.0   \n",
      "pip                                   19.0.1  \n",
      "prometheus-client                     0.7.1   \n",
      "prompt-toolkit                        2.0.10  \n",
      "protobuf                              3.11.2  \n",
      "ptyprocess                            0.6.0   \n",
      "pyarrow                               0.15.1  \n",
      "pyasn1                                0.4.8   \n",
      "pyasn1-modules                        0.2.8   \n",
      "pycosat                               0.6.3   \n",
      "pycparser                             2.18    \n",
      "pydot                                 1.2.4   \n",
      "Pygments                              2.5.2   \n",
      "PyJWT                                 1.6.4   \n",
      "pymongo                               3.10.1  \n",
      "pyOpenSSL                             17.5.0  \n",
      "pyparsing                             2.4.6   \n",
      "pyrsistent                            0.15.7  \n",
      "PySocks                               1.6.8   \n",
      "python-dateutil                       2.8.0   \n",
      "python-editor                         1.0.4   \n",
      "python-oauth2                         1.1.1   \n",
      "pytz                                  2019.3  \n",
      "PyYAML                                5.2     \n",
      "pyzmq                                 18.1.1  \n",
      "qtconsole                             4.6.0   \n",
      "querystring-parser                    1.2.4   \n",
      "requests                              2.22.0  \n",
      "requests-oauthlib                     1.3.0   \n",
      "requests-toolbelt                     0.8.0   \n",
      "retrying                              1.3.3   \n",
      "rsa                                   3.4.2   \n",
      "ruamel-yaml                           0.15.35 \n",
      "s3transfer                            0.3.2   \n",
      "scikit-learn                          0.21.2  \n",
      "scipy                                 1.1.0   \n",
      "Send2Trash                            1.5.0   \n",
      "setuptools                            39.0.1  \n",
      "simplejson                            3.17.0  \n",
      "six                                   1.11.0  \n",
      "smmap2                                2.0.5   \n",
      "SQLAlchemy                            1.3.13  \n",
      "sqlparse                              0.3.0   \n",
      "table-logger                          0.3.6   \n",
      "tabulate                              0.8.3   \n",
      "tenacity                              6.0.0   \n",
      "tensorboard                           1.13.1  \n",
      "tensorflow                            1.13.1  \n",
      "tensorflow-data-validation            0.13.1  \n",
      "tensorflow-estimator                  1.13.0  \n",
      "tensorflow-metadata                   0.13.0  \n",
      "tensorflow-model-analysis             0.13.1  \n",
      "tensorflow-transform                  0.13.0  \n",
      "termcolor                             1.1.0   \n",
      "terminado                             0.8.3   \n",
      "testpath                              0.4.4   \n",
      "textwrap3                             0.9.2   \n",
      "tfx                                   0.13.0  \n",
      "tornado                               6.0.3   \n",
      "tqdm                                  4.41.1  \n",
      "traitlets                             4.3.3   \n",
      "uritemplate                           3.0.1   \n",
      "urllib3                               1.24.2  \n",
      "wcwidth                               0.1.8   \n",
      "webencodings                          0.5.1   \n",
      "websocket-client                      0.57.0  \n",
      "Werkzeug                              0.16.0  \n",
      "wheel                                 0.31.0  \n",
      "widgetsnbextension                    3.5.1   \n",
      "wrapt                                 1.12.1  \n",
      "xgboost                               0.90    \n",
      "zipp                                  2.0.1   \n"
     ]
    },
    {
     "name": "stdout",
     "output_type": "stream",
     "text": [
      "\u001b[33mYou are using pip version 19.0.1, however version 20.2.2 is available.\r\n",
      "You should consider upgrading via the 'pip install --upgrade pip' command.\u001b[0m\r\n"
     ]
    }
   ],
   "source": [
    "!pip list"
   ]
  },
  {
   "cell_type": "code",
   "execution_count": null,
   "metadata": {},
   "outputs": [
    {
     "data": {
      "text/html": [
       "<script>Jupyter.notebook.kernel.restart()</script>"
      ],
      "text/plain": [
       "<IPython.core.display.HTML object>"
      ]
     },
     "execution_count": 3,
     "metadata": {},
     "output_type": "execute_result"
    }
   ],
   "source": [
    "# Restart the kernel to pick up pip installed libraries\n",
    "from IPython.core.display import HTML\n",
    "HTML(\"<script>Jupyter.notebook.kernel.restart()</script>\")"
   ]
  },
  {
   "cell_type": "code",
   "execution_count": 1,
   "metadata": {},
   "outputs": [],
   "source": [
    "# Verify Installation\n",
    "from kfmd import metadata\n",
    "import pandas\n",
    "from datetime import datetime"
   ]
  },
  {
   "cell_type": "markdown",
   "metadata": {},
   "source": [
    "## Basic Python SDK Usage\n",
    "\n",
    "Please follow commands here to understand basic usage of metadata SDK"
   ]
  },
  {
   "cell_type": "markdown",
   "metadata": {},
   "source": [
    "### Create a workspace"
   ]
  },
  {
   "cell_type": "code",
   "execution_count": 2,
   "metadata": {},
   "outputs": [],
   "source": [
    "test_workspace = metadata.Workspace(\n",
    "    # Connect to metadata-service in namesapce kubeflow in k8s cluster.\n",
    "    backend_url_prefix=\"metadata-service.kubeflow:8080\",\n",
    "    name=\"test_workspace\",\n",
    "    description=\"a workspace for testing\",\n",
    "    labels={\"foo\": \"bar\"})"
   ]
  },
  {
   "cell_type": "markdown",
   "metadata": {},
   "source": [
    "### Create a run in a workspace"
   ]
  },
  {
   "cell_type": "code",
   "execution_count": 3,
   "metadata": {},
   "outputs": [],
   "source": [
    "test_run = metadata.Run(\n",
    "    workspace=test_workspace,\n",
    "    name=\"run-\" + datetime.utcnow().isoformat(\"T\") ,\n",
    "    description=\"a run in workspace\",\n",
    ")"
   ]
  },
  {
   "cell_type": "markdown",
   "metadata": {},
   "source": [
    "### Create an execution in a run"
   ]
  },
  {
   "cell_type": "code",
   "execution_count": 4,
   "metadata": {},
   "outputs": [
    {
     "name": "stdout",
     "output_type": "stream",
     "text": [
      "An execution is create with id 2\n"
     ]
    }
   ],
   "source": [
    "exec = metadata.Execution(\n",
    "    name = \"execution\" + datetime.utcnow().isoformat(\"T\") ,\n",
    "    workspace=test_workspace,\n",
    "    run=test_run,\n",
    "    description=\"execution example\",\n",
    ")\n",
    "print(\"An execution is create with id %s\" % exec.id)"
   ]
  },
  {
   "cell_type": "markdown",
   "metadata": {},
   "source": [
    "### Log a data set"
   ]
  },
  {
   "cell_type": "code",
   "execution_count": 5,
   "metadata": {},
   "outputs": [
    {
     "name": "stdout",
     "output_type": "stream",
     "text": [
      "data set id is 1\n"
     ]
    }
   ],
   "source": [
    "data_set = exec.log_input(\n",
    "        metadata.DataSet(\n",
    "            description=\"Training datasets\",\n",
    "            name=\"imagenet\",\n",
    "            owner=\"someone@kubeflow.org\",\n",
    "            uri=\"s3://path/to/dataset\",\n",
    "            version=\"v1.0.0\",\n",
    "            query=\"SELECT * FROM mytable\"))\n",
    "assert data_set.id\n",
    "print(\"data set id is %s\" % data_set.id)"
   ]
  },
  {
   "cell_type": "markdown",
   "metadata": {},
   "source": [
    "### Log a model"
   ]
  },
  {
   "cell_type": "code",
   "execution_count": 6,
   "metadata": {},
   "outputs": [
    {
     "name": "stdout",
     "output_type": "stream",
     "text": [
      "model id is 2\n"
     ]
    }
   ],
   "source": [
    "model = exec.log_output(\n",
    "    metadata.Model(\n",
    "            name=\"MNIST\",\n",
    "            description=\"model to recognize handwritten digits\",\n",
    "            owner=\"someone@kubeflow.org\",\n",
    "            uri=\"s3://my-bucket/mnist\",\n",
    "            model_type=\"neural network\",\n",
    "            training_framework={\n",
    "                \"name\": \"tensorflow\",\n",
    "                \"version\": \"v1.0\"\n",
    "            },\n",
    "            hyperparameters={\n",
    "                \"learning_rate\": 0.5,\n",
    "                \"layers\": [10, 3, 1],\n",
    "                \"early_stop\": True\n",
    "            },\n",
    "            version=\"v0.0.1\",\n",
    "            labels={\"mylabel\": \"l1\"}))\n",
    "assert model.id\n",
    "print(\"model id is %s\" % model.id)"
   ]
  },
  {
   "cell_type": "markdown",
   "metadata": {},
   "source": [
    "### Log an evaluation(metrics) of a model"
   ]
  },
  {
   "cell_type": "code",
   "execution_count": 7,
   "metadata": {},
   "outputs": [
    {
     "name": "stdout",
     "output_type": "stream",
     "text": [
      "metrics id is 2\n"
     ]
    }
   ],
   "source": [
    "metrics = exec.log_output(\n",
    "    metadata.Metrics(\n",
    "            name=\"MNIST-evaluation\",\n",
    "            description=\"validating the MNIST model to recognize handwritten digits\",\n",
    "            owner=\"someone@kubeflow.org\",\n",
    "            uri=\"s3://my-bucket/mnist-eval.csv\",\n",
    "            data_set_id=data_set.id,\n",
    "            model_id=model.id,\n",
    "            metrics_type=metadata.Metrics.VALIDATION,\n",
    "            values={\"accuracy\": 0.95},\n",
    "            labels={\"mylabel\": \"l1\"}))\n",
    "assert metrics.id\n",
    "print(\"metrics id is %s\" % model.id)"
   ]
  },
  {
   "cell_type": "markdown",
   "metadata": {},
   "source": [
    "### List all models in the workspace"
   ]
  },
  {
   "cell_type": "code",
   "execution_count": 8,
   "metadata": {},
   "outputs": [
    {
     "data": {
      "text/html": [
       "<div>\n",
       "<style scoped>\n",
       "    .dataframe tbody tr th:only-of-type {\n",
       "        vertical-align: middle;\n",
       "    }\n",
       "\n",
       "    .dataframe tbody tr th {\n",
       "        vertical-align: top;\n",
       "    }\n",
       "\n",
       "    .dataframe thead th {\n",
       "        text-align: right;\n",
       "    }\n",
       "</style>\n",
       "<table border=\"1\" class=\"dataframe\">\n",
       "  <thead>\n",
       "    <tr style=\"text-align: right;\">\n",
       "      <th></th>\n",
       "      <th>create_time</th>\n",
       "      <th>description</th>\n",
       "      <th>hyperparameters</th>\n",
       "      <th>id</th>\n",
       "      <th>labels</th>\n",
       "      <th>model_type</th>\n",
       "      <th>name</th>\n",
       "      <th>owner</th>\n",
       "      <th>run</th>\n",
       "      <th>training_framework</th>\n",
       "      <th>uri</th>\n",
       "      <th>version</th>\n",
       "      <th>workspace</th>\n",
       "    </tr>\n",
       "  </thead>\n",
       "  <tbody>\n",
       "    <tr>\n",
       "      <th>0</th>\n",
       "      <td>2020-08-23T00:25:15.136589Z</td>\n",
       "      <td>model to recognize handwritten digits</td>\n",
       "      <td>{'learning_rate': 0.5, 'layers': [10, 3, 1], '...</td>\n",
       "      <td>2</td>\n",
       "      <td>{'mylabel': 'l1'}</td>\n",
       "      <td>neural network</td>\n",
       "      <td>MNIST</td>\n",
       "      <td>someone@kubeflow.org</td>\n",
       "      <td>run-2020-08-23T00:25:14.129110</td>\n",
       "      <td>{'name': 'tensorflow', 'version': 'v1.0'}</td>\n",
       "      <td>s3://my-bucket/mnist</td>\n",
       "      <td>v0.0.1</td>\n",
       "      <td>test_workspace</td>\n",
       "    </tr>\n",
       "  </tbody>\n",
       "</table>\n",
       "</div>"
      ],
      "text/plain": [
       "                   create_time                            description  \\\n",
       "0  2020-08-23T00:25:15.136589Z  model to recognize handwritten digits   \n",
       "\n",
       "                                     hyperparameters id             labels  \\\n",
       "0  {'learning_rate': 0.5, 'layers': [10, 3, 1], '...  2  {'mylabel': 'l1'}   \n",
       "\n",
       "       model_type   name                 owner  \\\n",
       "0  neural network  MNIST  someone@kubeflow.org   \n",
       "\n",
       "                              run                         training_framework  \\\n",
       "0  run-2020-08-23T00:25:14.129110  {'name': 'tensorflow', 'version': 'v1.0'}   \n",
       "\n",
       "                    uri version       workspace  \n",
       "0  s3://my-bucket/mnist  v0.0.1  test_workspace  "
      ]
     },
     "execution_count": 8,
     "metadata": {},
     "output_type": "execute_result"
    }
   ],
   "source": [
    "pandas.DataFrame.from_dict(test_workspace.list(metadata.Model.ARTIFACT_TYPE_NAME))"
   ]
  },
  {
   "cell_type": "markdown",
   "metadata": {},
   "source": [
    "### Basic Lineage Tracking"
   ]
  },
  {
   "cell_type": "code",
   "execution_count": 9,
   "metadata": {},
   "outputs": [
    {
     "name": "stdout",
     "output_type": "stream",
     "text": [
      "model id is 2\n",
      "\n",
      "\n",
      "All events related to this model:\n"
     ]
    },
    {
     "data": {
      "text/html": [
       "<div>\n",
       "<style scoped>\n",
       "    .dataframe tbody tr th:only-of-type {\n",
       "        vertical-align: middle;\n",
       "    }\n",
       "\n",
       "    .dataframe tbody tr th {\n",
       "        vertical-align: top;\n",
       "    }\n",
       "\n",
       "    .dataframe thead th {\n",
       "        text-align: right;\n",
       "    }\n",
       "</style>\n",
       "<table border=\"1\" class=\"dataframe\">\n",
       "  <thead>\n",
       "    <tr style=\"text-align: right;\">\n",
       "      <th></th>\n",
       "      <th>artifact_id</th>\n",
       "      <th>execution_id</th>\n",
       "      <th>milliseconds_since_epoch</th>\n",
       "      <th>path</th>\n",
       "      <th>type</th>\n",
       "    </tr>\n",
       "  </thead>\n",
       "  <tbody>\n",
       "    <tr>\n",
       "      <th>0</th>\n",
       "      <td>1</td>\n",
       "      <td>2</td>\n",
       "      <td>1598142314808</td>\n",
       "      <td>None</td>\n",
       "      <td>INPUT</td>\n",
       "    </tr>\n",
       "    <tr>\n",
       "      <th>1</th>\n",
       "      <td>2</td>\n",
       "      <td>2</td>\n",
       "      <td>1598142315157</td>\n",
       "      <td>None</td>\n",
       "      <td>OUTPUT</td>\n",
       "    </tr>\n",
       "    <tr>\n",
       "      <th>2</th>\n",
       "      <td>3</td>\n",
       "      <td>2</td>\n",
       "      <td>1598142315503</td>\n",
       "      <td>None</td>\n",
       "      <td>OUTPUT</td>\n",
       "    </tr>\n",
       "  </tbody>\n",
       "</table>\n",
       "</div>"
      ],
      "text/plain": [
       "  artifact_id execution_id milliseconds_since_epoch  path    type\n",
       "0           1            2            1598142314808  None   INPUT\n",
       "1           2            2            1598142315157  None  OUTPUT\n",
       "2           3            2            1598142315503  None  OUTPUT"
      ]
     },
     "execution_count": 9,
     "metadata": {},
     "output_type": "execute_result"
    }
   ],
   "source": [
    "print(\"model id is %s\\n\" % model.id)\n",
    "    \n",
    "# Find the execution that produces this model.\n",
    "output_events = test_workspace.client.list_events2(model.id).events\n",
    "assert len(output_events) == 1\n",
    "execution_id = output_events[0].execution_id\n",
    "\n",
    "# Find all events related to that execution.\n",
    "all_events = test_workspace.client.list_events(execution_id).events\n",
    "assert len(all_events) == 3\n",
    "\n",
    "print(\"\\nAll events related to this model:\")\n",
    "pandas.DataFrame.from_dict([e.to_dict() for e in all_events])"
   ]
  },
  {
   "cell_type": "markdown",
   "metadata": {},
   "source": [
    "## Real world example"
   ]
  },
  {
   "cell_type": "code",
   "execution_count": 10,
   "metadata": {},
   "outputs": [
    {
     "name": "stderr",
     "output_type": "stream",
     "text": [
      "/opt/conda/lib/python3.6/site-packages/tensorflow/python/framework/dtypes.py:526: FutureWarning: Passing (type, 1) or '1type' as a synonym of type is deprecated; in a future version of numpy, it will be understood as (type, (1,)) / '(1,)type'.\n",
      "  _np_qint8 = np.dtype([(\"qint8\", np.int8, 1)])\n",
      "/opt/conda/lib/python3.6/site-packages/tensorflow/python/framework/dtypes.py:527: FutureWarning: Passing (type, 1) or '1type' as a synonym of type is deprecated; in a future version of numpy, it will be understood as (type, (1,)) / '(1,)type'.\n",
      "  _np_quint8 = np.dtype([(\"quint8\", np.uint8, 1)])\n",
      "/opt/conda/lib/python3.6/site-packages/tensorflow/python/framework/dtypes.py:528: FutureWarning: Passing (type, 1) or '1type' as a synonym of type is deprecated; in a future version of numpy, it will be understood as (type, (1,)) / '(1,)type'.\n",
      "  _np_qint16 = np.dtype([(\"qint16\", np.int16, 1)])\n",
      "/opt/conda/lib/python3.6/site-packages/tensorflow/python/framework/dtypes.py:529: FutureWarning: Passing (type, 1) or '1type' as a synonym of type is deprecated; in a future version of numpy, it will be understood as (type, (1,)) / '(1,)type'.\n",
      "  _np_quint16 = np.dtype([(\"quint16\", np.uint16, 1)])\n",
      "/opt/conda/lib/python3.6/site-packages/tensorflow/python/framework/dtypes.py:530: FutureWarning: Passing (type, 1) or '1type' as a synonym of type is deprecated; in a future version of numpy, it will be understood as (type, (1,)) / '(1,)type'.\n",
      "  _np_qint32 = np.dtype([(\"qint32\", np.int32, 1)])\n",
      "/opt/conda/lib/python3.6/site-packages/tensorflow/python/framework/dtypes.py:535: FutureWarning: Passing (type, 1) or '1type' as a synonym of type is deprecated; in a future version of numpy, it will be understood as (type, (1,)) / '(1,)type'.\n",
      "  np_resource = np.dtype([(\"resource\", np.ubyte, 1)])\n"
     ]
    }
   ],
   "source": [
    "import tensorflow as tf\n",
    "from tensorflow import keras\n",
    "\n",
    "# Helper libraries\n",
    "import numpy as np\n",
    "import os\n",
    "import subprocess\n",
    "import argparse\n",
    "import time\n",
    "\n",
    "from kfmd import metadata\n",
    "\n",
    "\n",
    "# Reduce spam logs from s3 client\n",
    "os.environ['TF_CPP_MIN_LOG_LEVEL']='3'\n",
    "\n",
    "def preprocessing(mnist_execution):\n",
    "  fashion_mnist = keras.datasets.fashion_mnist\n",
    "  (train_images, train_labels), (test_images, test_labels) = fashion_mnist.load_data()\n",
    "\n",
    "  # scale the values to 0.0 to 1.0\n",
    "  train_images = train_images / 255.0\n",
    "  test_images = test_images / 255.0\n",
    "\n",
    "  # reshape for feeding into the model\n",
    "  train_images = train_images.reshape(train_images.shape[0], 28, 28, 1)\n",
    "  test_images = test_images.reshape(test_images.shape[0], 28, 28, 1)\n",
    "\n",
    "  class_names = ['T-shirt/top', 'Trouser', 'Pullover', 'Dress', 'Coat',\n",
    "                'Sandal', 'Shirt', 'Sneaker', 'Bag', 'Ankle boot']\n",
    "\n",
    "  print('\\ntrain_images.shape: {}, of {}'.format(train_images.shape, train_images.dtype))\n",
    "  print('test_images.shape: {}, of {}'.format(test_images.shape, test_images.dtype))\n",
    "\n",
    "  return train_images, train_labels, test_images, test_labels\n",
    "\n",
    "def train(train_images, train_labels, epochs, model_summary_path=None, mnist_execution=None):\n",
    "  if model_summary_path:\n",
    "    logdir=model_summary_path # + datetime.now().strftime(\"%Y%m%d-%H%M%S\")\n",
    "    tensorboard_callback = keras.callbacks.TensorBoard(log_dir=logdir)\n",
    "\n",
    "  model = keras.Sequential([\n",
    "    keras.layers.Conv2D(input_shape=(28,28,1), filters=8, kernel_size=3,\n",
    "                        strides=2, activation='relu', name='Conv1'),\n",
    "    keras.layers.Flatten(),\n",
    "    keras.layers.Dense(10, activation=tf.nn.softmax, name='Softmax')\n",
    "  ])\n",
    "  model.summary()\n",
    "\n",
    "  model.compile(optimizer=tf.train.AdamOptimizer(),\n",
    "                loss='sparse_categorical_crossentropy',\n",
    "                metrics=['accuracy'])\n",
    "\n",
    "def export_model(model, model_export_path):\n",
    "  version = 1\n",
    "  export_path = os.path.join(model_export_path, str(version))\n",
    "\n",
    "  tf.saved_model.simple_save(\n",
    "    keras.backend.get_session(),\n",
    "    export_path,\n",
    "    inputs={'input_image': model.input},\n",
    "    outputs={t.name:t for t in model.outputs})\n",
    "\n",
    "  print('\\nSaved model: {}'.format(export_path))\n",
    "\n",
    "\n",
    "def main(model_export_path=None, model_summary_path=None, epochs=5):\n",
    "  \"\"\"Fashion MNIST Tensorflow Example.\n",
    "    Args:\n",
    "      model_summary_path: Model export path.\n",
    "      model_summary_path: Model summry files for Tensorboard visualization\n",
    "      epochs: Training epochs. \n",
    "    \"\"\"\n",
    "\n",
    "  # Setting up metadata tracking\n",
    "  mnist_workspace = metadata.Workspace(\n",
    "    # Connect to metadata-service in namesapce kubeflow in k8s cluster.\n",
    "    backend_url_prefix=\"metadata-service.kubeflow:8080\",\n",
    "    name=\"mnist\",\n",
    "    description=\"Mnist image classification\",\n",
    "    labels={\"env\": \"develop\"})\n",
    "\n",
    "  mnist_run = metadata.Run(\n",
    "    workspace=mnist_workspace,\n",
    "    name=\"run-\" + datetime.utcnow().isoformat(\"T\") ,\n",
    "    description=\"a run in mnist workspace\",\n",
    "  )\n",
    "\n",
    "  mnist_execution = metadata.Execution(\n",
    "    name = \"execution\" + datetime.utcnow().isoformat(\"T\") ,\n",
    "    workspace=mnist_workspace,\n",
    "    run=mnist_run,\n",
    "    description=\"execution example in mnist run\",\n",
    "  )\n",
    "\n",
    "  start_time = time.time()\n",
    "  train_images, train_labels, test_images, test_labels = preprocessing(mnist_execution)\n",
    "  model = train(train_images, train_labels, epochs, model_summary_path, mnist_execution)\n",
    "\n",
    "  dataset = mnist_execution.log_input(\n",
    "      metadata.DataSet(\n",
    "            description=\"MNIST Training datasets\",\n",
    "            name=\"mnist\",\n",
    "            owner=\"someone@kubeflow.org\",\n",
    "            uri=\"s3://path/to/dataset/mnist\",\n",
    "            version=\"v1.0.0\",\n",
    "            query=\"SELECT * FROM mytable\"))\n",
    "  print(\"data set id is %s\" % dataset.id)\n",
    "\n",
    "  if model_export_path:\n",
    "    export_model(model, model_export_path)\n",
    "\n",
    "  metadata_model = mnist_execution.log_output(\n",
    "      metadata.Model(\n",
    "        name=\"MNIST\",\n",
    "        description=\"model to recognize handwritten digits\",\n",
    "        owner=\"someone@kubeflow.org\",\n",
    "        uri=model_export_path,\n",
    "        model_type=\"neural network\",\n",
    "        training_framework={\n",
    "            \"name\": \"tensorflow\",\n",
    "            \"version\": \"v1.0\"\n",
    "        },\n",
    "        hyperparameters={\n",
    "            \"learning_rate\": 0.5,\n",
    "            \"layers\": [10, 3, 1],\n",
    "            \"early_stop\": True\n",
    "        },\n",
    "        version=\"v0.0.1\",\n",
    "        labels={\"mylabel\": \"l1\"}))\n",
    "  print(\"model id is %s\" % metadata_model.id)\n",
    "\n",
    "  metrics = mnist_execution.log_output(\n",
    "    metadata.Metrics(\n",
    "            name=\"MNIST-evaluation\",\n",
    "            description=\"validating the MNIST model to recognize handwritten digits\",\n",
    "            owner=\"someone@kubeflow.org\",\n",
    "            uri=\"s3://my-bucket/mnist-eval.csv\",\n",
    "            data_set_id=dataset.id,\n",
    "            model_id=metadata_model.id,\n",
    "            metrics_type=metadata.Metrics.VALIDATION,\n",
    "            values={\"accuracy\": 0.95},\n",
    "            labels={\"mylabel\": \"l1\"}))\n",
    "\n",
    "  # Measure running time\n",
    "  duration_in_seconds = time.time() - start_time\n",
    "  print(\"This model took\", duration_in_seconds, \"seconds to train and test.\")\n",
    "  mnist_execution.log_output(\n",
    "      metadata.Metrics(\n",
    "              name=\"MNIST-evaluation\",\n",
    "              description=\"validating the MNIST model to recognize handwritten digits\",\n",
    "              owner=\"someone@kubeflow.org\",\n",
    "              uri=\"s3://my-bucket/mnist-eval.csv\",\n",
    "              data_set_id=dataset.id,\n",
    "              model_id=metadata_model.id,\n",
    "              metrics_type=metadata.Metrics.VALIDATION,\n",
    "              values={\"time\": duration_in_seconds},\n",
    "              labels={\"mylabel\": \"l1\"}))"
   ]
  },
  {
   "cell_type": "code",
   "execution_count": 11,
   "metadata": {
    "scrolled": true
   },
   "outputs": [
    {
     "name": "stdout",
     "output_type": "stream",
     "text": [
      "Downloading data from https://storage.googleapis.com/tensorflow/tf-keras-datasets/train-labels-idx1-ubyte.gz\n",
      "32768/29515 [=================================] - 0s 0us/step\n",
      "Downloading data from https://storage.googleapis.com/tensorflow/tf-keras-datasets/train-images-idx3-ubyte.gz\n",
      "26427392/26421880 [==============================] - 0s 0us/step\n",
      "Downloading data from https://storage.googleapis.com/tensorflow/tf-keras-datasets/t10k-labels-idx1-ubyte.gz\n",
      "8192/5148 [===============================================] - 0s 0us/step\n",
      "Downloading data from https://storage.googleapis.com/tensorflow/tf-keras-datasets/t10k-images-idx3-ubyte.gz\n",
      "4423680/4422102 [==============================] - 0s 0us/step\n",
      "\n",
      "train_images.shape: (60000, 28, 28, 1), of float64\n",
      "test_images.shape: (10000, 28, 28, 1), of float64\n",
      "WARNING:tensorflow:From /opt/conda/lib/python3.6/site-packages/tensorflow/python/ops/resource_variable_ops.py:435: colocate_with (from tensorflow.python.framework.ops) is deprecated and will be removed in a future version.\n",
      "Instructions for updating:\n",
      "Colocations handled automatically by placer.\n",
      "_________________________________________________________________\n",
      "Layer (type)                 Output Shape              Param #   \n",
      "=================================================================\n",
      "Conv1 (Conv2D)               (None, 13, 13, 8)         80        \n",
      "_________________________________________________________________\n",
      "flatten (Flatten)            (None, 1352)              0         \n",
      "_________________________________________________________________\n",
      "Softmax (Dense)              (None, 10)                13530     \n",
      "=================================================================\n",
      "Total params: 13,610\n",
      "Trainable params: 13,610\n",
      "Non-trainable params: 0\n",
      "_________________________________________________________________\n",
      "data set id is 4\n",
      "model id is 5\n",
      "This model took 1.5600676536560059 seconds to train and test.\n"
     ]
    }
   ],
   "source": [
    "main()"
   ]
  },
  {
   "cell_type": "markdown",
   "metadata": {},
   "source": [
    "# Navigate to the Kubeflow Artifact Store"
   ]
  },
  {
   "cell_type": "markdown",
   "metadata": {},
   "source": [
    "You can go to central dashboard -> Artifact Store to check details.\n",
    "![artifact-store](images/artifact_store.jpg)\n",
    "\n",
    "You can click name and check details.\n",
    "![artifact-mnist](images/artifacts_mnist.jpg)"
   ]
  },
  {
   "cell_type": "code",
   "execution_count": null,
   "metadata": {},
   "outputs": [],
   "source": []
  }
 ],
 "metadata": {
  "kernelspec": {
   "display_name": "Python 3",
   "language": "python",
   "name": "python3"
  },
  "language_info": {
   "codemirror_mode": {
    "name": "ipython",
    "version": 3
   },
   "file_extension": ".py",
   "mimetype": "text/x-python",
   "name": "python",
   "nbconvert_exporter": "python",
   "pygments_lexer": "ipython3",
   "version": "3.6.8"
  }
 },
 "nbformat": 4,
 "nbformat_minor": 2
}
