{
 "cells": [
  {
   "cell_type": "markdown",
   "metadata": {},
   "source": [
    "# Kubeflow Introduction\n",
    "\n",
    "![Kubeflow Overview](img/kubeflow-overview.png)"
   ]
  },
  {
   "cell_type": "markdown",
   "metadata": {},
   "source": [
    "# Kubeflow on AWS\n",
    "\n",
    "\n",
    "### [Blog Post:  Securing and Scaling Kubeflow on AWS](https://aws.amazon.com/blogs/opensource/enterprise-ready-kubeflow-securing-and-scaling-ai-and-machine-learning-pipelines-with-aws/)\n",
    "\n",
    "[![Kubeflow on AWS](img/kubeflow-aws-blog-post.png)](https://aws.amazon.com/blogs/opensource/enterprise-ready-kubeflow-securing-and-scaling-ai-and-machine-learning-pipelines-with-aws/)"
   ]
  },
  {
   "cell_type": "markdown",
   "metadata": {},
   "source": [
    "# Kubeflow Fairing Introduction\n",
    "\n",
    "Kubeflow Fairing is a Python package that streamlines the process of `building`, `training`, and `deploying` machine learning (ML) models in a hybrid cloud environment. By using Kubeflow Fairing and adding a few lines of code, you can run your ML training job locally or in the cloud, directly from Python code or a Jupyter notebook. After your training job is complete, you can use Kubeflow Fairing to deploy your trained model as a prediction endpoint.\n",
    "\n",
    "\n",
    "# How does Kubeflow Fairing work\n",
    "\n",
    "Kubeflow Fairing \n",
    "1. Packages your Jupyter notebook, Python function, or Python file as a Docker image\n",
    "2. Deploys and runs the training job on Kubeflow or AI Platform. \n",
    "3. Deploy your trained model as a prediction endpoint on Kubeflow after your training job is complete.\n",
    "\n",
    "\n",
    "# Goals of Kubeflow Fairing project\n",
    "\n",
    "- Easily package ML training jobs: Enable ML practitioners to easily package their ML model training code, and their code’s dependencies, as a Docker image.\n",
    "- Easily train ML models in a hybrid cloud environment: Provide a high-level API for training ML models to make it easy to run training jobs in the cloud, without needing to understand the underlying infrastructure.\n",
    "- Streamline the process of deploying a trained model: Make it easy for ML practitioners to deploy trained ML models to a hybrid cloud environment."
   ]
  },
  {
   "cell_type": "code",
   "execution_count": 1,
   "metadata": {},
   "outputs": [
    {
     "name": "stdout",
     "output_type": "stream",
     "text": [
      "Requirement already satisfied: kubeflow-fairing==0.7.1 in /opt/conda/lib/python3.6/site-packages (0.7.1)\n",
      "Requirement already satisfied: google-auth>=1.6.2 in /opt/conda/lib/python3.6/site-packages (from kubeflow-fairing==0.7.1) (1.11.0)\n",
      "Requirement already satisfied: httplib2>=0.12.0 in /opt/conda/lib/python3.6/site-packages (from kubeflow-fairing==0.7.1) (0.12.0)\n",
      "Requirement already satisfied: six>=1.11.0 in /opt/conda/lib/python3.6/site-packages (from kubeflow-fairing==0.7.1) (1.11.0)\n",
      "Requirement already satisfied: requests>=2.21.0 in /opt/conda/lib/python3.6/site-packages (from kubeflow-fairing==0.7.1) (2.22.0)\n",
      "Requirement already satisfied: future>=0.17.1 in /opt/conda/lib/python3.6/site-packages (from kubeflow-fairing==0.7.1) (0.18.2)\n",
      "Requirement already satisfied: azure>=4.0.0 in /opt/conda/lib/python3.6/site-packages (from kubeflow-fairing==0.7.1) (4.0.0)\n",
      "Requirement already satisfied: urllib3==1.24.2 in /opt/conda/lib/python3.6/site-packages (from kubeflow-fairing==0.7.1) (1.24.2)\n",
      "Requirement already satisfied: python-dateutil<=2.8.0,>=2.1 in /opt/conda/lib/python3.6/site-packages (from kubeflow-fairing==0.7.1) (2.8.0)\n",
      "Requirement already satisfied: google-cloud-logging>=1.13.0 in /opt/conda/lib/python3.6/site-packages (from kubeflow-fairing==0.7.1) (1.14.0)\n",
      "Requirement already satisfied: kubernetes>=10.0.1 in /opt/conda/lib/python3.6/site-packages (from kubeflow-fairing==0.7.1) (10.0.1)\n",
      "Requirement already satisfied: cloudpickle>=0.8 in /opt/conda/lib/python3.6/site-packages (from kubeflow-fairing==0.7.1) (1.2.2)\n",
      "Requirement already satisfied: google-cloud-storage>=1.13.2 in /opt/conda/lib/python3.6/site-packages (from kubeflow-fairing==0.7.1) (1.25.0)\n",
      "Requirement already satisfied: tornado>=6.0.1 in /opt/conda/lib/python3.6/site-packages (from kubeflow-fairing==0.7.1) (6.0.3)\n",
      "Requirement already satisfied: oauth2client>=4.0.0 in /opt/conda/lib/python3.6/site-packages (from kubeflow-fairing==0.7.1) (4.1.3)\n",
      "Requirement already satisfied: kubeflow-pytorchjob>=0.1.1 in /opt/conda/lib/python3.6/site-packages (from kubeflow-fairing==0.7.1) (0.1.3)\n",
      "Requirement already satisfied: notebook>=5.6.0 in /opt/conda/lib/python3.6/site-packages (from kubeflow-fairing==0.7.1) (6.0.3)\n",
      "Requirement already satisfied: kfserving>=0.2.1.1 in /opt/conda/lib/python3.6/site-packages (from kubeflow-fairing==0.7.1) (0.2.2.1)\n",
      "Requirement already satisfied: setuptools>=34.0.0 in /opt/conda/lib/python3.6/site-packages (from kubeflow-fairing==0.7.1) (39.0.1)\n",
      "Requirement already satisfied: kubeflow-tfjob>=0.1.1 in /opt/conda/lib/python3.6/site-packages (from kubeflow-fairing==0.7.1) (0.1.3)\n",
      "Requirement already satisfied: docker>=3.4.1 in /opt/conda/lib/python3.6/site-packages (from kubeflow-fairing==0.7.1) (4.1.0)\n",
      "Requirement already satisfied: boto3>=1.9.0 in /opt/conda/lib/python3.6/site-packages (from kubeflow-fairing==0.7.1) (1.11.8)\n",
      "Requirement already satisfied: numpy>=1.17.3 in /opt/conda/lib/python3.6/site-packages (from kubeflow-fairing==0.7.1) (1.18.1)\n",
      "Requirement already satisfied: google-api-python-client>=1.7.8 in /opt/conda/lib/python3.6/site-packages (from kubeflow-fairing==0.7.1) (1.7.11)\n",
      "Requirement already satisfied: retrying>=1.3.3 in /opt/conda/lib/python3.6/site-packages (from kubeflow-fairing==0.7.1) (1.3.3)\n",
      "Requirement already satisfied: rsa<4.1,>=3.1.4 in /opt/conda/lib/python3.6/site-packages (from google-auth>=1.6.2->kubeflow-fairing==0.7.1) (3.4.2)\n",
      "Requirement already satisfied: pyasn1-modules>=0.2.1 in /opt/conda/lib/python3.6/site-packages (from google-auth>=1.6.2->kubeflow-fairing==0.7.1) (0.2.8)\n",
      "Requirement already satisfied: cachetools<5.0,>=2.0.0 in /opt/conda/lib/python3.6/site-packages (from google-auth>=1.6.2->kubeflow-fairing==0.7.1) (3.1.1)\n",
      "Requirement already satisfied: certifi>=2017.4.17 in /opt/conda/lib/python3.6/site-packages (from requests>=2.21.0->kubeflow-fairing==0.7.1) (2019.3.9)\n",
      "Requirement already satisfied: chardet<3.1.0,>=3.0.2 in /opt/conda/lib/python3.6/site-packages (from requests>=2.21.0->kubeflow-fairing==0.7.1) (3.0.4)\n",
      "Requirement already satisfied: idna<2.9,>=2.5 in /opt/conda/lib/python3.6/site-packages (from requests>=2.21.0->kubeflow-fairing==0.7.1) (2.6)\n",
      "Requirement already satisfied: azure-keyvault~=1.0 in /opt/conda/lib/python3.6/site-packages (from azure>=4.0.0->kubeflow-fairing==0.7.1) (1.1.0)\n",
      "Requirement already satisfied: azure-servicebus~=0.21.1 in /opt/conda/lib/python3.6/site-packages (from azure>=4.0.0->kubeflow-fairing==0.7.1) (0.21.1)\n",
      "Requirement already satisfied: azure-storage-file~=1.3 in /opt/conda/lib/python3.6/site-packages (from azure>=4.0.0->kubeflow-fairing==0.7.1) (1.4.0)\n",
      "Requirement already satisfied: azure-servicemanagement-legacy~=0.20.6 in /opt/conda/lib/python3.6/site-packages (from azure>=4.0.0->kubeflow-fairing==0.7.1) (0.20.6)\n",
      "Requirement already satisfied: azure-graphrbac~=0.40.0 in /opt/conda/lib/python3.6/site-packages (from azure>=4.0.0->kubeflow-fairing==0.7.1) (0.40.0)\n",
      "Requirement already satisfied: azure-applicationinsights~=0.1.0 in /opt/conda/lib/python3.6/site-packages (from azure>=4.0.0->kubeflow-fairing==0.7.1) (0.1.0)\n",
      "Requirement already satisfied: azure-storage-blob~=1.3 in /opt/conda/lib/python3.6/site-packages (from azure>=4.0.0->kubeflow-fairing==0.7.1) (1.5.0)\n",
      "Requirement already satisfied: azure-storage-queue~=1.3 in /opt/conda/lib/python3.6/site-packages (from azure>=4.0.0->kubeflow-fairing==0.7.1) (1.4.0)\n",
      "Requirement already satisfied: azure-datalake-store~=0.0.18 in /opt/conda/lib/python3.6/site-packages (from azure>=4.0.0->kubeflow-fairing==0.7.1) (0.0.48)\n",
      "Requirement already satisfied: azure-cosmosdb-table~=1.0 in /opt/conda/lib/python3.6/site-packages (from azure>=4.0.0->kubeflow-fairing==0.7.1) (1.0.6)\n",
      "Requirement already satisfied: azure-eventgrid~=1.1 in /opt/conda/lib/python3.6/site-packages (from azure>=4.0.0->kubeflow-fairing==0.7.1) (1.3.0)\n",
      "Requirement already satisfied: azure-batch~=4.1 in /opt/conda/lib/python3.6/site-packages (from azure>=4.0.0->kubeflow-fairing==0.7.1) (4.1.3)\n",
      "Requirement already satisfied: azure-servicefabric~=6.3.0.0 in /opt/conda/lib/python3.6/site-packages (from azure>=4.0.0->kubeflow-fairing==0.7.1) (6.3.0.0)\n",
      "Requirement already satisfied: azure-loganalytics~=0.1.0 in /opt/conda/lib/python3.6/site-packages (from azure>=4.0.0->kubeflow-fairing==0.7.1) (0.1.0)\n",
      "Requirement already satisfied: azure-mgmt~=4.0 in /opt/conda/lib/python3.6/site-packages (from azure>=4.0.0->kubeflow-fairing==0.7.1) (4.0.0)\n",
      "Requirement already satisfied: google-cloud-core<2.0dev,>=1.0.3 in /opt/conda/lib/python3.6/site-packages (from google-cloud-logging>=1.13.0->kubeflow-fairing==0.7.1) (1.2.0)\n",
      "Requirement already satisfied: google-api-core[grpc]<2.0.0dev,>=1.14.0 in /opt/conda/lib/python3.6/site-packages (from google-cloud-logging>=1.13.0->kubeflow-fairing==0.7.1) (1.16.0)\n",
      "Requirement already satisfied: websocket-client!=0.40.0,!=0.41.*,!=0.42.*,>=0.32.0 in /opt/conda/lib/python3.6/site-packages (from kubernetes>=10.0.1->kubeflow-fairing==0.7.1) (0.57.0)\n",
      "Requirement already satisfied: pyyaml>=3.12 in /opt/conda/lib/python3.6/site-packages (from kubernetes>=10.0.1->kubeflow-fairing==0.7.1) (5.2)\n",
      "Requirement already satisfied: requests-oauthlib in /opt/conda/lib/python3.6/site-packages (from kubernetes>=10.0.1->kubeflow-fairing==0.7.1) (1.3.0)\n",
      "Requirement already satisfied: google-resumable-media<0.6dev,>=0.5.0 in /opt/conda/lib/python3.6/site-packages (from google-cloud-storage>=1.13.2->kubeflow-fairing==0.7.1) (0.5.0)\n",
      "Requirement already satisfied: pyasn1>=0.1.7 in /opt/conda/lib/python3.6/site-packages (from oauth2client>=4.0.0->kubeflow-fairing==0.7.1) (0.4.8)\n",
      "Requirement already satisfied: table-logger>=0.3.5 in /opt/conda/lib/python3.6/site-packages (from kubeflow-pytorchjob>=0.1.1->kubeflow-fairing==0.7.1) (0.3.6)\n",
      "Requirement already satisfied: jupyter-client>=5.3.4 in /opt/conda/lib/python3.6/site-packages (from notebook>=5.6.0->kubeflow-fairing==0.7.1) (5.3.4)\n",
      "Requirement already satisfied: terminado>=0.8.1 in /opt/conda/lib/python3.6/site-packages (from notebook>=5.6.0->kubeflow-fairing==0.7.1) (0.8.3)\n",
      "Requirement already satisfied: pyzmq>=17 in /opt/conda/lib/python3.6/site-packages (from notebook>=5.6.0->kubeflow-fairing==0.7.1) (18.1.1)\n",
      "Requirement already satisfied: prometheus-client in /opt/conda/lib/python3.6/site-packages (from notebook>=5.6.0->kubeflow-fairing==0.7.1) (0.7.1)\n",
      "Requirement already satisfied: nbformat in /opt/conda/lib/python3.6/site-packages (from notebook>=5.6.0->kubeflow-fairing==0.7.1) (5.0.4)\n",
      "Requirement already satisfied: ipykernel in /opt/conda/lib/python3.6/site-packages (from notebook>=5.6.0->kubeflow-fairing==0.7.1) (5.1.3)\n",
      "Requirement already satisfied: nbconvert in /opt/conda/lib/python3.6/site-packages (from notebook>=5.6.0->kubeflow-fairing==0.7.1) (5.6.1)\n"
     ]
    },
    {
     "name": "stdout",
     "output_type": "stream",
     "text": [
      "Requirement already satisfied: Send2Trash in /opt/conda/lib/python3.6/site-packages (from notebook>=5.6.0->kubeflow-fairing==0.7.1) (1.5.0)\n",
      "Requirement already satisfied: jinja2 in /opt/conda/lib/python3.6/site-packages (from notebook>=5.6.0->kubeflow-fairing==0.7.1) (2.10.3)\n",
      "Requirement already satisfied: ipython-genutils in /opt/conda/lib/python3.6/site-packages (from notebook>=5.6.0->kubeflow-fairing==0.7.1) (0.2.0)\n",
      "Requirement already satisfied: jupyter-core>=4.6.1 in /opt/conda/lib/python3.6/site-packages (from notebook>=5.6.0->kubeflow-fairing==0.7.1) (4.6.1)\n",
      "Requirement already satisfied: traitlets>=4.2.1 in /opt/conda/lib/python3.6/site-packages (from notebook>=5.6.0->kubeflow-fairing==0.7.1) (4.3.3)\n",
      "Requirement already satisfied: minio>=4.0.9 in /opt/conda/lib/python3.6/site-packages (from kfserving>=0.2.1.1->kubeflow-fairing==0.7.1) (5.0.6)\n",
      "Requirement already satisfied: adal>=1.2.2 in /opt/conda/lib/python3.6/site-packages (from kfserving>=0.2.1.1->kubeflow-fairing==0.7.1) (1.2.2)\n",
      "Requirement already satisfied: argparse>=1.4.0 in /opt/conda/lib/python3.6/site-packages (from kfserving>=0.2.1.1->kubeflow-fairing==0.7.1) (1.4.0)\n",
      "Requirement already satisfied: s3transfer<0.4.0,>=0.3.0 in /opt/conda/lib/python3.6/site-packages (from boto3>=1.9.0->kubeflow-fairing==0.7.1) (0.3.2)\n",
      "Requirement already satisfied: jmespath<1.0.0,>=0.7.1 in /opt/conda/lib/python3.6/site-packages (from boto3>=1.9.0->kubeflow-fairing==0.7.1) (0.9.4)\n",
      "Requirement already satisfied: botocore<1.15.0,>=1.14.8 in /opt/conda/lib/python3.6/site-packages (from boto3>=1.9.0->kubeflow-fairing==0.7.1) (1.14.8)\n",
      "Requirement already satisfied: uritemplate<4dev,>=3.0.0 in /opt/conda/lib/python3.6/site-packages (from google-api-python-client>=1.7.8->kubeflow-fairing==0.7.1) (3.0.1)\n",
      "Requirement already satisfied: google-auth-httplib2>=0.0.3 in /opt/conda/lib/python3.6/site-packages (from google-api-python-client>=1.7.8->kubeflow-fairing==0.7.1) (0.0.3)\n",
      "Requirement already satisfied: cryptography>=2.1.4 in /opt/conda/lib/python3.6/site-packages (from azure-keyvault~=1.0->azure>=4.0.0->kubeflow-fairing==0.7.1) (2.4.2)\n",
      "Requirement already satisfied: azure-common~=1.1 in /opt/conda/lib/python3.6/site-packages (from azure-keyvault~=1.0->azure>=4.0.0->kubeflow-fairing==0.7.1) (1.1.24)\n",
      "Requirement already satisfied: azure-nspkg>=2.0.0 in /opt/conda/lib/python3.6/site-packages (from azure-keyvault~=1.0->azure>=4.0.0->kubeflow-fairing==0.7.1) (3.0.2)\n",
      "Requirement already satisfied: msrest>=0.5.0 in /opt/conda/lib/python3.6/site-packages (from azure-keyvault~=1.0->azure>=4.0.0->kubeflow-fairing==0.7.1) (0.6.10)\n",
      "Requirement already satisfied: msrestazure<2.0.0,>=0.4.32 in /opt/conda/lib/python3.6/site-packages (from azure-keyvault~=1.0->azure>=4.0.0->kubeflow-fairing==0.7.1) (0.6.2)\n",
      "Requirement already satisfied: azure-storage-common~=1.4 in /opt/conda/lib/python3.6/site-packages (from azure-storage-file~=1.3->azure>=4.0.0->kubeflow-fairing==0.7.1) (1.4.2)\n",
      "Requirement already satisfied: cffi in /opt/conda/lib/python3.6/site-packages (from azure-datalake-store~=0.0.18->azure>=4.0.0->kubeflow-fairing==0.7.1) (1.11.5)\n",
      "Requirement already satisfied: azure-cosmosdb-nspkg>=2.0.0 in /opt/conda/lib/python3.6/site-packages (from azure-cosmosdb-table~=1.0->azure>=4.0.0->kubeflow-fairing==0.7.1) (2.0.2)\n",
      "Requirement already satisfied: azure-mgmt-policyinsights~=0.1.0 in /opt/conda/lib/python3.6/site-packages (from azure-mgmt~=4.0->azure>=4.0.0->kubeflow-fairing==0.7.1) (0.1.0)\n",
      "Requirement already satisfied: azure-mgmt-applicationinsights~=0.1.1 in /opt/conda/lib/python3.6/site-packages (from azure-mgmt~=4.0->azure>=4.0.0->kubeflow-fairing==0.7.1) (0.1.1)\n",
      "Requirement already satisfied: azure-mgmt-redis~=5.0 in /opt/conda/lib/python3.6/site-packages (from azure-mgmt~=4.0->azure>=4.0.0->kubeflow-fairing==0.7.1) (5.0.0)\n",
      "Requirement already satisfied: azure-mgmt-recoveryservices~=0.3.0 in /opt/conda/lib/python3.6/site-packages (from azure-mgmt~=4.0->azure>=4.0.0->kubeflow-fairing==0.7.1) (0.3.0)\n",
      "Requirement already satisfied: azure-mgmt-authorization~=0.50.0 in /opt/conda/lib/python3.6/site-packages (from azure-mgmt~=4.0->azure>=4.0.0->kubeflow-fairing==0.7.1) (0.50.0)\n",
      "Requirement already satisfied: azure-mgmt-msi~=0.2.0 in /opt/conda/lib/python3.6/site-packages (from azure-mgmt~=4.0->azure>=4.0.0->kubeflow-fairing==0.7.1) (0.2.0)\n",
      "Requirement already satisfied: azure-mgmt-advisor~=1.0 in /opt/conda/lib/python3.6/site-packages (from azure-mgmt~=4.0->azure>=4.0.0->kubeflow-fairing==0.7.1) (1.0.1)\n",
      "Requirement already satisfied: azure-mgmt-cognitiveservices~=3.0 in /opt/conda/lib/python3.6/site-packages (from azure-mgmt~=4.0->azure>=4.0.0->kubeflow-fairing==0.7.1) (3.0.0)\n",
      "Requirement already satisfied: azure-mgmt-compute~=4.0 in /opt/conda/lib/python3.6/site-packages (from azure-mgmt~=4.0->azure>=4.0.0->kubeflow-fairing==0.7.1) (4.6.2)\n",
      "Requirement already satisfied: azure-mgmt-eventgrid~=1.0 in /opt/conda/lib/python3.6/site-packages (from azure-mgmt~=4.0->azure>=4.0.0->kubeflow-fairing==0.7.1) (1.0.0)\n",
      "Requirement already satisfied: azure-mgmt-servicefabric~=0.2.0 in /opt/conda/lib/python3.6/site-packages (from azure-mgmt~=4.0->azure>=4.0.0->kubeflow-fairing==0.7.1) (0.2.0)\n",
      "Requirement already satisfied: azure-mgmt-machinelearningcompute~=0.4.1 in /opt/conda/lib/python3.6/site-packages (from azure-mgmt~=4.0->azure>=4.0.0->kubeflow-fairing==0.7.1) (0.4.1)\n",
      "Requirement already satisfied: azure-mgmt-commerce~=1.0 in /opt/conda/lib/python3.6/site-packages (from azure-mgmt~=4.0->azure>=4.0.0->kubeflow-fairing==0.7.1) (1.0.1)\n",
      "Requirement already satisfied: azure-mgmt-iothubprovisioningservices~=0.2.0 in /opt/conda/lib/python3.6/site-packages (from azure-mgmt~=4.0->azure>=4.0.0->kubeflow-fairing==0.7.1) (0.2.0)\n",
      "Requirement already satisfied: azure-mgmt-resource~=2.0 in /opt/conda/lib/python3.6/site-packages (from azure-mgmt~=4.0->azure>=4.0.0->kubeflow-fairing==0.7.1) (2.2.0)\n",
      "Requirement already satisfied: azure-mgmt-batch~=5.0 in /opt/conda/lib/python3.6/site-packages (from azure-mgmt~=4.0->azure>=4.0.0->kubeflow-fairing==0.7.1) (5.0.1)\n",
      "Requirement already satisfied: azure-mgmt-batchai~=2.0 in /opt/conda/lib/python3.6/site-packages (from azure-mgmt~=4.0->azure>=4.0.0->kubeflow-fairing==0.7.1) (2.0.0)\n",
      "Requirement already satisfied: azure-mgmt-devspaces~=0.1.0 in /opt/conda/lib/python3.6/site-packages (from azure-mgmt~=4.0->azure>=4.0.0->kubeflow-fairing==0.7.1) (0.1.0)\n",
      "Requirement already satisfied: azure-mgmt-managementgroups~=0.1.0 in /opt/conda/lib/python3.6/site-packages (from azure-mgmt~=4.0->azure>=4.0.0->kubeflow-fairing==0.7.1) (0.1.0)\n",
      "Requirement already satisfied: azure-mgmt-media~=1.0.0rc2 in /opt/conda/lib/python3.6/site-packages (from azure-mgmt~=4.0->azure>=4.0.0->kubeflow-fairing==0.7.1) (1.0.0)\n",
      "Requirement already satisfied: azure-mgmt-network~=2.0 in /opt/conda/lib/python3.6/site-packages (from azure-mgmt~=4.0->azure>=4.0.0->kubeflow-fairing==0.7.1) (2.7.0)\n",
      "Requirement already satisfied: azure-mgmt-datalake-analytics~=0.6.0 in /opt/conda/lib/python3.6/site-packages (from azure-mgmt~=4.0->azure>=4.0.0->kubeflow-fairing==0.7.1) (0.6.0)\n",
      "Requirement already satisfied: azure-mgmt-datamigration~=1.0 in /opt/conda/lib/python3.6/site-packages (from azure-mgmt~=4.0->azure>=4.0.0->kubeflow-fairing==0.7.1) (1.0.0)\n",
      "Requirement already satisfied: azure-mgmt-containerinstance~=1.0 in /opt/conda/lib/python3.6/site-packages (from azure-mgmt~=4.0->azure>=4.0.0->kubeflow-fairing==0.7.1) (1.5.0)\n",
      "Requirement already satisfied: azure-mgmt-monitor~=0.5.2 in /opt/conda/lib/python3.6/site-packages (from azure-mgmt~=4.0->azure>=4.0.0->kubeflow-fairing==0.7.1) (0.5.2)\n",
      "Requirement already satisfied: azure-mgmt-powerbiembedded~=2.0 in /opt/conda/lib/python3.6/site-packages (from azure-mgmt~=4.0->azure>=4.0.0->kubeflow-fairing==0.7.1) (2.0.0)\n",
      "Requirement already satisfied: azure-mgmt-billing~=0.2.0 in /opt/conda/lib/python3.6/site-packages (from azure-mgmt~=4.0->azure>=4.0.0->kubeflow-fairing==0.7.1) (0.2.0)\n",
      "Requirement already satisfied: azure-mgmt-trafficmanager~=0.50.0 in /opt/conda/lib/python3.6/site-packages (from azure-mgmt~=4.0->azure>=4.0.0->kubeflow-fairing==0.7.1) (0.50.0)\n",
      "Requirement already satisfied: azure-mgmt-loganalytics~=0.2.0 in /opt/conda/lib/python3.6/site-packages (from azure-mgmt~=4.0->azure>=4.0.0->kubeflow-fairing==0.7.1) (0.2.0)\n",
      "Requirement already satisfied: azure-mgmt-storage~=2.0 in /opt/conda/lib/python3.6/site-packages (from azure-mgmt~=4.0->azure>=4.0.0->kubeflow-fairing==0.7.1) (2.0.0)\n",
      "Requirement already satisfied: azure-mgmt-web~=0.35.0 in /opt/conda/lib/python3.6/site-packages (from azure-mgmt~=4.0->azure>=4.0.0->kubeflow-fairing==0.7.1) (0.35.0)\n",
      "Requirement already satisfied: azure-mgmt-datafactory~=0.6.0 in /opt/conda/lib/python3.6/site-packages (from azure-mgmt~=4.0->azure>=4.0.0->kubeflow-fairing==0.7.1) (0.6.0)\n",
      "Requirement already satisfied: azure-mgmt-maps~=0.1.0 in /opt/conda/lib/python3.6/site-packages (from azure-mgmt~=4.0->azure>=4.0.0->kubeflow-fairing==0.7.1) (0.1.0)\n",
      "Requirement already satisfied: azure-mgmt-relay~=0.1.0 in /opt/conda/lib/python3.6/site-packages (from azure-mgmt~=4.0->azure>=4.0.0->kubeflow-fairing==0.7.1) (0.1.0)\n",
      "Requirement already satisfied: azure-mgmt-search~=2.0 in /opt/conda/lib/python3.6/site-packages (from azure-mgmt~=4.0->azure>=4.0.0->kubeflow-fairing==0.7.1) (2.1.0)\n",
      "Requirement already satisfied: azure-mgmt-dns~=2.0 in /opt/conda/lib/python3.6/site-packages (from azure-mgmt~=4.0->azure>=4.0.0->kubeflow-fairing==0.7.1) (2.1.0)\n",
      "Requirement already satisfied: azure-mgmt-keyvault~=1.0 in /opt/conda/lib/python3.6/site-packages (from azure-mgmt~=4.0->azure>=4.0.0->kubeflow-fairing==0.7.1) (1.1.0)\n",
      "Requirement already satisfied: azure-mgmt-hanaonazure~=0.1.1 in /opt/conda/lib/python3.6/site-packages (from azure-mgmt~=4.0->azure>=4.0.0->kubeflow-fairing==0.7.1) (0.1.1)\n",
      "Requirement already satisfied: azure-mgmt-cdn~=3.0 in /opt/conda/lib/python3.6/site-packages (from azure-mgmt~=4.0->azure>=4.0.0->kubeflow-fairing==0.7.1) (3.1.0)\n"
     ]
    },
    {
     "name": "stdout",
     "output_type": "stream",
     "text": [
      "Requirement already satisfied: azure-mgmt-servicebus~=0.5.1 in /opt/conda/lib/python3.6/site-packages (from azure-mgmt~=4.0->azure>=4.0.0->kubeflow-fairing==0.7.1) (0.5.3)\n",
      "Requirement already satisfied: azure-mgmt-logic~=3.0 in /opt/conda/lib/python3.6/site-packages (from azure-mgmt~=4.0->azure>=4.0.0->kubeflow-fairing==0.7.1) (3.0.0)\n",
      "Requirement already satisfied: azure-mgmt-consumption~=2.0 in /opt/conda/lib/python3.6/site-packages (from azure-mgmt~=4.0->azure>=4.0.0->kubeflow-fairing==0.7.1) (2.0.0)\n",
      "Requirement already satisfied: azure-mgmt-marketplaceordering~=0.1.0 in /opt/conda/lib/python3.6/site-packages (from azure-mgmt~=4.0->azure>=4.0.0->kubeflow-fairing==0.7.1) (0.1.0)\n",
      "Requirement already satisfied: azure-mgmt-devtestlabs~=2.2 in /opt/conda/lib/python3.6/site-packages (from azure-mgmt~=4.0->azure>=4.0.0->kubeflow-fairing==0.7.1) (2.2.0)\n",
      "Requirement already satisfied: azure-mgmt-notificationhubs~=2.0 in /opt/conda/lib/python3.6/site-packages (from azure-mgmt~=4.0->azure>=4.0.0->kubeflow-fairing==0.7.1) (2.1.0)\n",
      "Requirement already satisfied: azure-mgmt-managementpartner~=0.1.0 in /opt/conda/lib/python3.6/site-packages (from azure-mgmt~=4.0->azure>=4.0.0->kubeflow-fairing==0.7.1) (0.1.1)\n",
      "Requirement already satisfied: azure-mgmt-scheduler~=2.0 in /opt/conda/lib/python3.6/site-packages (from azure-mgmt~=4.0->azure>=4.0.0->kubeflow-fairing==0.7.1) (2.0.0)\n",
      "Requirement already satisfied: azure-mgmt-signalr~=0.1.0 in /opt/conda/lib/python3.6/site-packages (from azure-mgmt~=4.0->azure>=4.0.0->kubeflow-fairing==0.7.1) (0.1.1)\n",
      "Requirement already satisfied: azure-mgmt-sql~=0.9.1 in /opt/conda/lib/python3.6/site-packages (from azure-mgmt~=4.0->azure>=4.0.0->kubeflow-fairing==0.7.1) (0.9.1)\n",
      "Requirement already satisfied: azure-mgmt-rdbms~=1.2 in /opt/conda/lib/python3.6/site-packages (from azure-mgmt~=4.0->azure>=4.0.0->kubeflow-fairing==0.7.1) (1.9.0)\n",
      "Requirement already satisfied: azure-mgmt-iothub~=0.5.0 in /opt/conda/lib/python3.6/site-packages (from azure-mgmt~=4.0->azure>=4.0.0->kubeflow-fairing==0.7.1) (0.5.0)\n",
      "Requirement already satisfied: azure-mgmt-datalake-store~=0.5.0 in /opt/conda/lib/python3.6/site-packages (from azure-mgmt~=4.0->azure>=4.0.0->kubeflow-fairing==0.7.1) (0.5.0)\n",
      "Requirement already satisfied: azure-mgmt-containerregistry~=2.1 in /opt/conda/lib/python3.6/site-packages (from azure-mgmt~=4.0->azure>=4.0.0->kubeflow-fairing==0.7.1) (2.8.0)\n",
      "Requirement already satisfied: azure-mgmt-containerservice~=4.2 in /opt/conda/lib/python3.6/site-packages (from azure-mgmt~=4.0->azure>=4.0.0->kubeflow-fairing==0.7.1) (4.4.0)\n",
      "Requirement already satisfied: azure-mgmt-iotcentral~=0.1.0 in /opt/conda/lib/python3.6/site-packages (from azure-mgmt~=4.0->azure>=4.0.0->kubeflow-fairing==0.7.1) (0.1.0)\n",
      "Requirement already satisfied: azure-mgmt-recoveryservicesbackup~=0.3.0 in /opt/conda/lib/python3.6/site-packages (from azure-mgmt~=4.0->azure>=4.0.0->kubeflow-fairing==0.7.1) (0.3.0)\n",
      "Requirement already satisfied: azure-mgmt-eventhub~=2.1 in /opt/conda/lib/python3.6/site-packages (from azure-mgmt~=4.0->azure>=4.0.0->kubeflow-fairing==0.7.1) (2.6.0)\n",
      "Requirement already satisfied: azure-mgmt-subscription~=0.2.0 in /opt/conda/lib/python3.6/site-packages (from azure-mgmt~=4.0->azure>=4.0.0->kubeflow-fairing==0.7.1) (0.2.0)\n",
      "Requirement already satisfied: azure-mgmt-cosmosdb~=0.4.1 in /opt/conda/lib/python3.6/site-packages (from azure-mgmt~=4.0->azure>=4.0.0->kubeflow-fairing==0.7.1) (0.4.1)\n",
      "Requirement already satisfied: azure-mgmt-reservations~=0.2.1 in /opt/conda/lib/python3.6/site-packages (from azure-mgmt~=4.0->azure>=4.0.0->kubeflow-fairing==0.7.1) (0.2.1)\n",
      "Requirement already satisfied: protobuf>=3.4.0 in /opt/conda/lib/python3.6/site-packages (from google-api-core[grpc]<2.0.0dev,>=1.14.0->google-cloud-logging>=1.13.0->kubeflow-fairing==0.7.1) (3.11.2)\n",
      "Requirement already satisfied: googleapis-common-protos<2.0dev,>=1.6.0 in /opt/conda/lib/python3.6/site-packages (from google-api-core[grpc]<2.0.0dev,>=1.14.0->google-cloud-logging>=1.13.0->kubeflow-fairing==0.7.1) (1.51.0)\n",
      "Requirement already satisfied: pytz in /opt/conda/lib/python3.6/site-packages (from google-api-core[grpc]<2.0.0dev,>=1.14.0->google-cloud-logging>=1.13.0->kubeflow-fairing==0.7.1) (2019.3)\n",
      "Requirement already satisfied: grpcio<2.0dev,>=1.8.2; extra == \"grpc\" in /opt/conda/lib/python3.6/site-packages (from google-api-core[grpc]<2.0.0dev,>=1.14.0->google-cloud-logging>=1.13.0->kubeflow-fairing==0.7.1) (1.26.0)\n",
      "Requirement already satisfied: oauthlib>=3.0.0 in /opt/conda/lib/python3.6/site-packages (from requests-oauthlib->kubernetes>=10.0.1->kubeflow-fairing==0.7.1) (3.1.0)\n",
      "Requirement already satisfied: ptyprocess; os_name != \"nt\" in /opt/conda/lib/python3.6/site-packages (from terminado>=0.8.1->notebook>=5.6.0->kubeflow-fairing==0.7.1) (0.6.0)\n",
      "Requirement already satisfied: jsonschema!=2.5.0,>=2.4 in /opt/conda/lib/python3.6/site-packages (from nbformat->notebook>=5.6.0->kubeflow-fairing==0.7.1) (3.2.0)\n",
      "Requirement already satisfied: ipython>=5.0.0 in /opt/conda/lib/python3.6/site-packages (from ipykernel->notebook>=5.6.0->kubeflow-fairing==0.7.1) (7.11.1)\n",
      "Requirement already satisfied: pygments in /opt/conda/lib/python3.6/site-packages (from nbconvert->notebook>=5.6.0->kubeflow-fairing==0.7.1) (2.5.2)\n",
      "Requirement already satisfied: entrypoints>=0.2.2 in /opt/conda/lib/python3.6/site-packages (from nbconvert->notebook>=5.6.0->kubeflow-fairing==0.7.1) (0.3)\n",
      "Requirement already satisfied: pandocfilters>=1.4.1 in /opt/conda/lib/python3.6/site-packages (from nbconvert->notebook>=5.6.0->kubeflow-fairing==0.7.1) (1.4.2)\n",
      "Requirement already satisfied: bleach in /opt/conda/lib/python3.6/site-packages (from nbconvert->notebook>=5.6.0->kubeflow-fairing==0.7.1) (3.1.0)\n",
      "Requirement already satisfied: defusedxml in /opt/conda/lib/python3.6/site-packages (from nbconvert->notebook>=5.6.0->kubeflow-fairing==0.7.1) (0.6.0)\n",
      "Requirement already satisfied: testpath in /opt/conda/lib/python3.6/site-packages (from nbconvert->notebook>=5.6.0->kubeflow-fairing==0.7.1) (0.4.4)\n",
      "Requirement already satisfied: mistune<2,>=0.8.1 in /opt/conda/lib/python3.6/site-packages (from nbconvert->notebook>=5.6.0->kubeflow-fairing==0.7.1) (0.8.4)\n",
      "Requirement already satisfied: MarkupSafe>=0.23 in /opt/conda/lib/python3.6/site-packages (from jinja2->notebook>=5.6.0->kubeflow-fairing==0.7.1) (1.1.1)\n",
      "Requirement already satisfied: decorator in /opt/conda/lib/python3.6/site-packages (from traitlets>=4.2.1->notebook>=5.6.0->kubeflow-fairing==0.7.1) (4.4.1)\n",
      "Requirement already satisfied: PyJWT>=1.0.0 in /opt/conda/lib/python3.6/site-packages (from adal>=1.2.2->kfserving>=0.2.1.1->kubeflow-fairing==0.7.1) (1.6.4)\n",
      "Requirement already satisfied: docutils<0.16,>=0.10 in /opt/conda/lib/python3.6/site-packages (from botocore<1.15.0,>=1.14.8->boto3>=1.9.0->kubeflow-fairing==0.7.1) (0.15.2)\n",
      "Requirement already satisfied: asn1crypto>=0.21.0 in /opt/conda/lib/python3.6/site-packages (from cryptography>=2.1.4->azure-keyvault~=1.0->azure>=4.0.0->kubeflow-fairing==0.7.1) (0.24.0)\n",
      "Requirement already satisfied: isodate>=0.6.0 in /opt/conda/lib/python3.6/site-packages (from msrest>=0.5.0->azure-keyvault~=1.0->azure>=4.0.0->kubeflow-fairing==0.7.1) (0.6.0)\n",
      "Requirement already satisfied: pycparser in /opt/conda/lib/python3.6/site-packages (from cffi->azure-datalake-store~=0.0.18->azure>=4.0.0->kubeflow-fairing==0.7.1) (2.18)\n",
      "Requirement already satisfied: azure-mgmt-nspkg>=2.0.0 in /opt/conda/lib/python3.6/site-packages (from azure-mgmt-policyinsights~=0.1.0->azure-mgmt~=4.0->azure>=4.0.0->kubeflow-fairing==0.7.1) (3.0.2)\n",
      "Requirement already satisfied: azure-mgmt-datalake-nspkg>=2.0.0 in /opt/conda/lib/python3.6/site-packages (from azure-mgmt-datalake-analytics~=0.6.0->azure-mgmt~=4.0->azure>=4.0.0->kubeflow-fairing==0.7.1) (3.0.1)\n",
      "Requirement already satisfied: importlib-metadata; python_version < \"3.8\" in /opt/conda/lib/python3.6/site-packages (from jsonschema!=2.5.0,>=2.4->nbformat->notebook>=5.6.0->kubeflow-fairing==0.7.1) (1.4.0)\n",
      "Requirement already satisfied: pyrsistent>=0.14.0 in /opt/conda/lib/python3.6/site-packages (from jsonschema!=2.5.0,>=2.4->nbformat->notebook>=5.6.0->kubeflow-fairing==0.7.1) (0.15.7)\n",
      "Requirement already satisfied: attrs>=17.4.0 in /opt/conda/lib/python3.6/site-packages (from jsonschema!=2.5.0,>=2.4->nbformat->notebook>=5.6.0->kubeflow-fairing==0.7.1) (19.3.0)\n",
      "Requirement already satisfied: jedi>=0.10 in /opt/conda/lib/python3.6/site-packages (from ipython>=5.0.0->ipykernel->notebook>=5.6.0->kubeflow-fairing==0.7.1) (0.15.2)\n"
     ]
    },
    {
     "name": "stdout",
     "output_type": "stream",
     "text": [
      "Requirement already satisfied: pexpect; sys_platform != \"win32\" in /opt/conda/lib/python3.6/site-packages (from ipython>=5.0.0->ipykernel->notebook>=5.6.0->kubeflow-fairing==0.7.1) (4.8.0)\n",
      "Requirement already satisfied: pickleshare in /opt/conda/lib/python3.6/site-packages (from ipython>=5.0.0->ipykernel->notebook>=5.6.0->kubeflow-fairing==0.7.1) (0.7.5)\n",
      "Requirement already satisfied: prompt-toolkit!=3.0.0,!=3.0.1,<3.1.0,>=2.0.0 in /opt/conda/lib/python3.6/site-packages (from ipython>=5.0.0->ipykernel->notebook>=5.6.0->kubeflow-fairing==0.7.1) (2.0.10)\n",
      "Requirement already satisfied: backcall in /opt/conda/lib/python3.6/site-packages (from ipython>=5.0.0->ipykernel->notebook>=5.6.0->kubeflow-fairing==0.7.1) (0.1.0)\n",
      "Requirement already satisfied: webencodings in /opt/conda/lib/python3.6/site-packages (from bleach->nbconvert->notebook>=5.6.0->kubeflow-fairing==0.7.1) (0.5.1)\n",
      "Requirement already satisfied: zipp>=0.5 in /opt/conda/lib/python3.6/site-packages (from importlib-metadata; python_version < \"3.8\"->jsonschema!=2.5.0,>=2.4->nbformat->notebook>=5.6.0->kubeflow-fairing==0.7.1) (2.0.1)\n",
      "Requirement already satisfied: parso>=0.5.2 in /opt/conda/lib/python3.6/site-packages (from jedi>=0.10->ipython>=5.0.0->ipykernel->notebook>=5.6.0->kubeflow-fairing==0.7.1) (0.5.2)\n",
      "Requirement already satisfied: wcwidth in /opt/conda/lib/python3.6/site-packages (from prompt-toolkit!=3.0.0,!=3.0.1,<3.1.0,>=2.0.0->ipython>=5.0.0->ipykernel->notebook>=5.6.0->kubeflow-fairing==0.7.1) (0.1.8)\n",
      "Requirement already satisfied: more-itertools in /opt/conda/lib/python3.6/site-packages (from zipp>=0.5->importlib-metadata; python_version < \"3.8\"->jsonschema!=2.5.0,>=2.4->nbformat->notebook>=5.6.0->kubeflow-fairing==0.7.1) (8.1.0)\n",
      "\u001b[33mYou are using pip version 19.0.1, however version 20.2.2 is available.\n",
      "You should consider upgrading via the 'pip install --upgrade pip' command.\u001b[0m\n"
     ]
    }
   ],
   "source": [
    "!pip install kubeflow-fairing==0.7.1"
   ]
  },
  {
   "cell_type": "code",
   "execution_count": null,
   "metadata": {},
   "outputs": [
    {
     "data": {
      "text/html": [
       "<script>Jupyter.notebook.kernel.restart()</script>"
      ],
      "text/plain": [
       "<IPython.core.display.HTML object>"
      ]
     },
     "execution_count": 2,
     "metadata": {},
     "output_type": "execute_result"
    }
   ],
   "source": [
    "# Restart the kernel to pick up pip installed libraries\n",
    "from IPython.core.display import HTML\n",
    "HTML(\"<script>Jupyter.notebook.kernel.restart()</script>\")"
   ]
  },
  {
   "cell_type": "code",
   "execution_count": 1,
   "metadata": {},
   "outputs": [
    {
     "name": "stdout",
     "output_type": "stream",
     "text": [
      "Region: us-west-2\n",
      "Account ID: 250107111215\n",
      "S3 Bucket: sagemaker-us-west-2-250107111215\n"
     ]
    }
   ],
   "source": [
    "import boto3\n",
    "\n",
    "AWS_REGION_AS_SLIST=!curl -s http://169.254.169.254/latest/meta-data/placement/availability-zone | sed 's/\\(.*\\)[a-z]/\\1/'\n",
    "AWS_REGION = AWS_REGION_AS_SLIST.s\n",
    "print('Region: {}'.format(AWS_REGION))\n",
    "\n",
    "AWS_ACCOUNT_ID=boto3.client('sts').get_caller_identity().get('Account')\n",
    "print('Account ID: {}'.format(AWS_ACCOUNT_ID))\n",
    "\n",
    "S3_BUCKET='sagemaker-{}-{}'.format(AWS_REGION, AWS_ACCOUNT_ID)\n",
    "print('S3 Bucket: {}'.format(S3_BUCKET))"
   ]
  },
  {
   "cell_type": "markdown",
   "metadata": {},
   "source": [
    "# Train in the Notebook"
   ]
  },
  {
   "cell_type": "code",
   "execution_count": 2,
   "metadata": {},
   "outputs": [
    {
     "name": "stderr",
     "output_type": "stream",
     "text": [
      "/opt/conda/lib/python3.6/site-packages/tensorflow/python/framework/dtypes.py:526: FutureWarning: Passing (type, 1) or '1type' as a synonym of type is deprecated; in a future version of numpy, it will be understood as (type, (1,)) / '(1,)type'.\n",
      "  _np_qint8 = np.dtype([(\"qint8\", np.int8, 1)])\n",
      "/opt/conda/lib/python3.6/site-packages/tensorflow/python/framework/dtypes.py:527: FutureWarning: Passing (type, 1) or '1type' as a synonym of type is deprecated; in a future version of numpy, it will be understood as (type, (1,)) / '(1,)type'.\n",
      "  _np_quint8 = np.dtype([(\"quint8\", np.uint8, 1)])\n",
      "/opt/conda/lib/python3.6/site-packages/tensorflow/python/framework/dtypes.py:528: FutureWarning: Passing (type, 1) or '1type' as a synonym of type is deprecated; in a future version of numpy, it will be understood as (type, (1,)) / '(1,)type'.\n",
      "  _np_qint16 = np.dtype([(\"qint16\", np.int16, 1)])\n",
      "/opt/conda/lib/python3.6/site-packages/tensorflow/python/framework/dtypes.py:529: FutureWarning: Passing (type, 1) or '1type' as a synonym of type is deprecated; in a future version of numpy, it will be understood as (type, (1,)) / '(1,)type'.\n",
      "  _np_quint16 = np.dtype([(\"quint16\", np.uint16, 1)])\n",
      "/opt/conda/lib/python3.6/site-packages/tensorflow/python/framework/dtypes.py:530: FutureWarning: Passing (type, 1) or '1type' as a synonym of type is deprecated; in a future version of numpy, it will be understood as (type, (1,)) / '(1,)type'.\n",
      "  _np_qint32 = np.dtype([(\"qint32\", np.int32, 1)])\n",
      "/opt/conda/lib/python3.6/site-packages/tensorflow/python/framework/dtypes.py:535: FutureWarning: Passing (type, 1) or '1type' as a synonym of type is deprecated; in a future version of numpy, it will be understood as (type, (1,)) / '(1,)type'.\n",
      "  np_resource = np.dtype([(\"resource\", np.ubyte, 1)])\n",
      "[W 200822 23:20:43 deprecation:323] From /opt/conda/lib/python3.6/site-packages/tensorflow/python/framework/op_def_library.py:263: colocate_with (from tensorflow.python.framework.ops) is deprecated and will be removed in a future version.\n",
      "    Instructions for updating:\n",
      "    Colocations handled automatically by placer.\n",
      "[W 200822 23:20:43 deprecation:323] From /opt/conda/lib/python3.6/site-packages/tensorflow/python/ops/math_ops.py:3066: to_int32 (from tensorflow.python.ops.math_ops) is deprecated and will be removed in a future version.\n",
      "    Instructions for updating:\n",
      "    Use tf.cast instead.\n"
     ]
    },
    {
     "name": "stdout",
     "output_type": "stream",
     "text": [
      "Epoch 50 : cost = 5.1115875 W = 0.9412359 b = 0.7765728\n",
      "Epoch 100 : cost = 5.087545 W = 0.93895227 b = 0.89000297\n",
      "Epoch 150 : cost = 5.069684 W = 0.9369102 b = 0.99142665\n",
      "Epoch 200 : cost = 5.05662 W = 0.93508434 b = 1.0821177\n",
      "Epoch 250 : cost = 5.0472646 W = 0.9334517 b = 1.1632073\n",
      "Epoch 300 : cost = 5.040757 W = 0.9319918 b = 1.2357166\n",
      "Epoch 350 : cost = 5.0364246 W = 0.9306865 b = 1.3005524\n",
      "Epoch 400 : cost = 5.033736 W = 0.9295193 b = 1.3585247\n",
      "Epoch 450 : cost = 5.032284 W = 0.9284756 b = 1.4103619\n",
      "Epoch 500 : cost = 5.031742 W = 0.92754257 b = 1.4567105\n",
      "Epoch 550 : cost = 5.031869 W = 0.92670804 b = 1.4981583\n",
      "Epoch 600 : cost = 5.032465 W = 0.9259619 b = 1.5352175\n",
      "Epoch 650 : cost = 5.0333867 W = 0.92529476 b = 1.568356\n",
      "Epoch 700 : cost = 5.0345187 W = 0.92469823 b = 1.5979868\n",
      "Epoch 750 : cost = 5.0357847 W = 0.9241648 b = 1.6244783\n",
      "Epoch 800 : cost = 5.0371113 W = 0.9236879 b = 1.6481684\n",
      "Epoch 850 : cost = 5.0384545 W = 0.9232614 b = 1.6693517\n",
      "Epoch 900 : cost = 5.039785 W = 0.9228801 b = 1.6882898\n",
      "Epoch 950 : cost = 5.041075 W = 0.9225391 b = 1.7052268\n",
      "Epoch 1000 : cost = 5.042311 W = 0.9222342 b = 1.7203709\n",
      "Weight:  0.9222342 Bias:  1.7203709\n"
     ]
    }
   ],
   "source": [
    "import os\n",
    "import sys\n",
    "from kubeflow import fairing\n",
    "import tensorflow as tf\n",
    "import numpy as np\n",
    "\n",
    "def train():\n",
    "    # Genrating random linear data \n",
    "    # There will be 50 data points ranging from 0 to 50 \n",
    "    x = np.linspace(0, 50, 50) \n",
    "    y = np.linspace(0, 50, 50) \n",
    "\n",
    "    # Adding noise to the random linear data \n",
    "    x += np.random.uniform(-4, 4, 50) \n",
    "    y += np.random.uniform(-4, 4, 50) \n",
    "\n",
    "    n = len(x) # Number of data points \n",
    "\n",
    "    X = tf.placeholder(\"float\") \n",
    "    Y = tf.placeholder(\"float\")\n",
    "    W = tf.Variable(np.random.randn(), name = \"W\") \n",
    "    b = tf.Variable(np.random.randn(), name = \"b\") \n",
    "    learning_rate = 0.01\n",
    "    training_epochs = 1000\n",
    "    \n",
    "    # Hypothesis \n",
    "    y_pred = tf.add(tf.multiply(X, W), b) \n",
    "\n",
    "    # Mean Squared Error Cost Function \n",
    "    cost = tf.reduce_sum(tf.pow(y_pred-Y, 2)) / (2 * n)\n",
    "\n",
    "    # Gradient Descent Optimizer \n",
    "    optimizer = tf.train.GradientDescentOptimizer(learning_rate).minimize(cost) \n",
    "\n",
    "    # Global Variables Initializer \n",
    "    init = tf.global_variables_initializer() \n",
    "\n",
    "    sess = tf.Session()\n",
    "    sess.run(init) \n",
    "      \n",
    "    # Iterating through all the epochs \n",
    "    for epoch in range(training_epochs): \n",
    "          \n",
    "        # Feeding each data point into the optimizer using Feed Dictionary \n",
    "        for (_x, _y) in zip(x, y): \n",
    "            sess.run(optimizer, feed_dict = {X : _x, Y : _y}) \n",
    "          \n",
    "        # Displaying the result after every 50 epochs \n",
    "        if (epoch + 1) % 50 == 0: \n",
    "            # Calculating the cost a every epoch \n",
    "            c = sess.run(cost, feed_dict = {X : x, Y : y}) \n",
    "            print(\"Epoch\", (epoch + 1), \": cost =\", c, \"W =\", sess.run(W), \"b =\", sess.run(b)) \n",
    "      \n",
    "    # Storing necessary values to be used outside the Session \n",
    "    training_cost = sess.run(cost, feed_dict ={X: x, Y: y}) \n",
    "    weight = sess.run(W) \n",
    "    bias = sess.run(b) \n",
    "\n",
    "    print('Weight: ', weight, 'Bias: ', bias)\n",
    "    \n",
    "train()"
   ]
  },
  {
   "cell_type": "markdown",
   "metadata": {},
   "source": [
    "# Train on the Kubeflow Cluster\n",
    "\n",
    "We will show you how to run the training job in the EKS Kubeflow cluster. We use `ECR` as our container image registry."
   ]
  },
  {
   "cell_type": "code",
   "execution_count": 3,
   "metadata": {},
   "outputs": [
    {
     "name": "stdout",
     "output_type": "stream",
     "text": [
      "WARNING! Using --password via the CLI is insecure. Use --password-stdin.\n",
      "WARNING! Your password will be stored unencrypted in /root/.docker/config.json.\n",
      "Configure a credential helper to remove this warning. See\n",
      "https://docs.docker.com/engine/reference/commandline/login/#credentials-store\n",
      "\n",
      "Login Succeeded\n"
     ]
    }
   ],
   "source": [
    "# Authenticate ECR\n",
    "# This command retrieves a token that is valid for a specified registry for 12 hours, \n",
    "# and then it prints a docker login command with that authorization token. \n",
    "# Then we executate this command to login ECR\n",
    "!eval $(aws ecr get-login --no-include-email --region=$AWS_REGION)"
   ]
  },
  {
   "cell_type": "markdown",
   "metadata": {},
   "source": [
    "Ignore any error message below. We first check if the ECR repository already exists before creating it. "
   ]
  },
  {
   "cell_type": "code",
   "execution_count": 4,
   "metadata": {},
   "outputs": [
    {
     "name": "stdout",
     "output_type": "stream",
     "text": [
      "\n",
      "An error occurred (RepositoryNotFoundException) when calling the DescribeRepositories operation: The repository with name 'fairing-job' does not exist in the registry with id '250107111215'\n",
      "{\n",
      "    \"repository\": {\n",
      "        \"repositoryArn\": \"arn:aws:ecr:us-west-2:250107111215:repository/fairing-job\",\n",
      "        \"registryId\": \"250107111215\",\n",
      "        \"repositoryName\": \"fairing-job\",\n",
      "        \"repositoryUri\": \"250107111215.dkr.ecr.us-west-2.amazonaws.com/fairing-job\",\n",
      "        \"createdAt\": 1598138459.0,\n",
      "        \"imageTagMutability\": \"MUTABLE\",\n",
      "        \"imageScanningConfiguration\": {\n",
      "            \"scanOnPush\": false\n",
      "        }\n",
      "    }\n",
      "}\n"
     ]
    }
   ],
   "source": [
    "# Create an ECR repository in the same region\n",
    "!aws ecr describe-repositories --repository-names fairing-job --region=$AWS_REGION || aws ecr create-repository --repository-name fairing-job --region=$AWS_REGION"
   ]
  },
  {
   "cell_type": "code",
   "execution_count": 5,
   "metadata": {
    "scrolled": true
   },
   "outputs": [
    {
     "name": "stderr",
     "output_type": "stream",
     "text": [
      "[I 200822 23:20:59 config:125] Using preprocessor: <kubeflow.fairing.preprocessors.function.FunctionPreProcessor object at 0x7fae09458860>\n",
      "[I 200822 23:20:59 config:127] Using builder: <kubeflow.fairing.builders.append.append.AppendBuilder object at 0x7fae09458978>\n",
      "[I 200822 23:20:59 config:129] Using deployer: <kubeflow.fairing.deployers.job.job.Job object at 0x7fae09458ac8>\n",
      "[W 200822 23:20:59 append:50] Building image using Append builder...\n",
      "[I 200822 23:20:59 base:107] Creating docker context: /tmp/fairing_context_bm28x8jw\n",
      "[W 200822 23:20:59 base:94] /opt/conda/lib/python3.6/site-packages/kubeflow/fairing/__init__.py already exists in Fairing context, skipping...\n",
      "[I 200822 23:20:59 docker_creds_:234] Loading Docker credentials for repository 'tensorflow/tensorflow:1.14.0-py3'\n",
      "[W 200822 23:21:00 append:54] Image successfully built in 0.993262832000255s.\n",
      "[W 200822 23:21:00 append:94] Pushing image 250107111215.dkr.ecr.us-west-2.amazonaws.com/fairing-job:10230E00...\n",
      "[I 200822 23:21:00 docker_creds_:234] Loading Docker credentials for repository '250107111215.dkr.ecr.us-west-2.amazonaws.com/fairing-job:10230E00'\n",
      "[W 200822 23:21:00 append:81] Uploading 250107111215.dkr.ecr.us-west-2.amazonaws.com/fairing-job:10230E00\n",
      "[I 200822 23:21:00 docker_session_:284] Layer sha256:77a4ae3eedc457a5e8e3b79822bb7ef3c515e160da49aaa61d4e2b9d6aaab794 pushed.\n",
      "[I 200822 23:21:01 docker_session_:284] Layer sha256:2b940936f9933b7737cf407f2149dd7393998d7a0bee5acf1c4a57b0487cef79 pushed.\n",
      "[I 200822 23:21:01 docker_session_:284] Layer sha256:68543864d6442a851eaff0500161b92e4a151051cf7ed2649b3790a3f876bada pushed.\n",
      "[I 200822 23:21:01 docker_session_:284] Layer sha256:a31c3b1caad473a474d574283741f880e37c708cc06ee620d3e93fa602125ee0 pushed.\n",
      "[I 200822 23:21:01 docker_session_:284] Layer sha256:14ca88e9f6723ce82bc14b241cda8634f6d19677184691d086662641ab96fe68 pushed.\n",
      "[I 200822 23:21:01 docker_session_:284] Layer sha256:5bd1cb59702536c10e96bb14e54846922c9b257580d4e2c733076a922525240b pushed.\n",
      "[I 200822 23:21:01 docker_session_:284] Layer sha256:98f7aaeb7fb015c62804aa780c3188e68316728503ddcc116d0ea0d2327f771c pushed.\n",
      "[I 200822 23:21:01 docker_session_:284] Layer sha256:b054a26005b7f3b032577f811421fab5ec3b42ce45a4012dfa00cf6ed6191b0f pushed.\n",
      "[I 200822 23:21:01 docker_session_:284] Layer sha256:5e671b828b2af02924968841e5d12084fa78e8722e9510402aaee80dc5d7a6db pushed.\n",
      "[I 200822 23:21:03 docker_session_:284] Layer sha256:5b7339215d1d5f8e68622d584a224f60339f5bef41dbd74330d081e912f0cddd pushed.\n",
      "[I 200822 23:21:13 docker_session_:284] Layer sha256:8832e37735788665026956430021c6d1919980288c66c4526502965aeb5ac006 pushed.\n",
      "[I 200822 23:21:20 docker_session_:284] Layer sha256:016724bbd2c9643f24eff7c1e86d9202d7c04caddd7fdd4375a77e3998ce8203 pushed.\n",
      "[I 200822 23:21:20 docker_session_:334] Finished upload of: 250107111215.dkr.ecr.us-west-2.amazonaws.com/fairing-job:10230E00\n",
      "[W 200822 23:21:20 append:99] Pushed image 250107111215.dkr.ecr.us-west-2.amazonaws.com/fairing-job:10230E00 in 20.222994206000294s.\n",
      "[W 200822 23:21:20 job:90] The job fairing-job-j8xpv launched.\n",
      "[W 200822 23:21:20 manager:255] Waiting for fairing-job-j8xpv-g9f4c to start...\n",
      "[W 200822 23:21:20 manager:255] Waiting for fairing-job-j8xpv-g9f4c to start...\n",
      "[W 200822 23:21:20 manager:255] Waiting for fairing-job-j8xpv-g9f4c to start...\n",
      "[I 200822 23:21:37 manager:261] Pod started running True\n"
     ]
    },
    {
     "name": "stdout",
     "output_type": "stream",
     "text": [
      "WARNING: Logging before flag parsing goes to stderr.\n",
      "W0822 23:21:38.289144 139697516484416 deprecation.py:323] From /usr/local/lib/python3.6/dist-packages/tensorflow/python/ops/math_grad.py:1205: add_dispatch_support.<locals>.wrapper (from tensorflow.python.ops.array_ops) is deprecated and will be removed in a future version.\n",
      "Instructions for updating:\n",
      "Use tf.where in 2.0, which has the same broadcast rule as np.where\n",
      "2020-08-22 23:21:38.313476: I tensorflow/core/platform/cpu_feature_guard.cc:142] Your CPU supports instructions that this TensorFlow binary was not compiled to use: AVX2 AVX512F FMA\n",
      "2020-08-22 23:21:38.339234: I tensorflow/core/platform/profile_utils/cpu_utils.cc:94] CPU Frequency: 2999990000 Hz\n",
      "2020-08-22 23:21:38.339478: I tensorflow/compiler/xla/service/service.cc:168] XLA service 0x494e4b0 executing computations on platform Host. Devices:\n",
      "2020-08-22 23:21:38.339493: I tensorflow/compiler/xla/service/service.cc:175]   StreamExecutor device (0): <undefined>, <undefined>\n",
      "2020-08-22 23:21:38.346089: W tensorflow/compiler/jit/mark_for_compilation_pass.cc:1412] (One-time warning): Not using XLA:CPU for cluster because envvar TF_XLA_FLAGS=--tf_xla_cpu_global_jit was not set.  If you want XLA:CPU, either set that envvar, or use experimental_jit_scope to enable XLA:CPU.  To confirm that XLA is active, pass --vmodule=xla_compilation_cache=1 (as a proper command-line flag, not via TF_XLA_FLAGS) or set the envvar XLA_FLAGS=--xla_hlo_profile.\n",
      "Epoch 50 : cost = 6.1138153 W = 1.0237103 b = -0.032673553\n",
      "Epoch 100 : cost = 6.1154118 W = 1.0230355 b = 0.00026725745\n",
      "Epoch 150 : cost = 6.1171484 W = 1.0224297 b = 0.029843496\n",
      "Epoch 200 : cost = 6.118953 W = 1.0218858 b = 0.056398664\n",
      "Epoch 250 : cost = 6.1207695 W = 1.0213974 b = 0.08024149\n",
      "Epoch 300 : cost = 6.122561 W = 1.0209589 b = 0.10164881\n",
      "Epoch 350 : cost = 6.1242943 W = 1.0205652 b = 0.12086963\n",
      "Epoch 400 : cost = 6.125956 W = 1.0202117 b = 0.13812745\n",
      "Epoch 450 : cost = 6.1275334 W = 1.0198944 b = 0.15362224\n",
      "Epoch 500 : cost = 6.129013 W = 1.0196093 b = 0.16753416\n",
      "Epoch 550 : cost = 6.130399 W = 1.0193535 b = 0.1800252\n",
      "Epoch 600 : cost = 6.1316857 W = 1.0191238 b = 0.19124047\n",
      "Epoch 650 : cost = 6.1328745 W = 1.0189176 b = 0.20131029\n",
      "Epoch 700 : cost = 6.1339726 W = 1.0187324 b = 0.2103516\n",
      "Epoch 750 : cost = 6.134981 W = 1.0185661 b = 0.2184694\n",
      "Epoch 800 : cost = 6.1359034 W = 1.0184168 b = 0.22575799\n",
      "Epoch 850 : cost = 6.136748 W = 1.0182828 b = 0.23230219\n",
      "Epoch 900 : cost = 6.1375165 W = 1.0181624 b = 0.23817764\n",
      "Epoch 950 : cost = 6.138217 W = 1.0180544 b = 0.24345328\n",
      "Epoch 1000 : cost = 6.1388526 W = 1.0179573 b = 0.2481898\n",
      "Weight:  1.0179573 Bias:  0.2481898\n"
     ]
    },
    {
     "name": "stderr",
     "output_type": "stream",
     "text": [
      "[W 200822 23:21:48 job:162] Cleaning up job fairing-job-j8xpv...\n"
     ]
    }
   ],
   "source": [
    "# Setting up AWS Elastic Container Registry (ECR) for storing output containers\n",
    "# You can use any docker container registry instead of ECR\n",
    "DOCKER_REGISTRY = '{}.dkr.ecr.{}.amazonaws.com'.format(AWS_ACCOUNT_ID, AWS_REGION)\n",
    "\n",
    "fairing.config.set_builder('append', base_image='tensorflow/tensorflow:1.14.0-py3', registry=DOCKER_REGISTRY, push=True)\n",
    "fairing.config.set_deployer('job')\n",
    "    \n",
    "if __name__ == '__main__':\n",
    "    cluster_train = fairing.config.fn(train)\n",
    "    cluster_train()\n",
    "    "
   ]
  },
  {
   "cell_type": "markdown",
   "metadata": {},
   "source": [
    "# See the Completed Job in the Kubeflow Cluster\n",
    "Re-run the cell above, if you don't see `fairing-job` below.  The fairing-job will get cleaned up after a few seconds."
   ]
  },
  {
   "cell_type": "code",
   "execution_count": 6,
   "metadata": {},
   "outputs": [
    {
     "name": "stdout",
     "output_type": "stream",
     "text": [
      "NAME         READY   STATUS    RESTARTS   AGE\r\n",
      "notebook-0   2/2     Running   0          9m17s\r\n"
     ]
    }
   ],
   "source": [
    "!kubectl get pod"
   ]
  },
  {
   "cell_type": "code",
   "execution_count": null,
   "metadata": {},
   "outputs": [],
   "source": []
  }
 ],
 "metadata": {
  "kernelspec": {
   "display_name": "Python 3",
   "language": "python",
   "name": "python3"
  },
  "language_info": {
   "codemirror_mode": {
    "name": "ipython",
    "version": 3
   },
   "file_extension": ".py",
   "mimetype": "text/x-python",
   "name": "python",
   "nbconvert_exporter": "python",
   "pygments_lexer": "ipython3",
   "version": "3.6.8"
  }
 },
 "nbformat": 4,
 "nbformat_minor": 4
}
