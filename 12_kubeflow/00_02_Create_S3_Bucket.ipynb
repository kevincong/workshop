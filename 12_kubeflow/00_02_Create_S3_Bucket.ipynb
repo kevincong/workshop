{
 "cells": [
  {
   "cell_type": "markdown",
   "metadata": {},
   "source": [
    "# 1. Create S3 Bucket (If Not Already Created)\n"
   ]
  },
  {
   "cell_type": "code",
   "execution_count": 5,
   "metadata": {},
   "outputs": [
    {
     "name": "stdout",
     "output_type": "stream",
     "text": [
      "export S3_BUCKET=sagemaker-us-west-2-250107111215\n",
      "                           PRE amazon-reviews-pds/\n",
      "                           PRE amazon-reviews-spark-analyzer-2020-08-22-18-18-50/\n",
      "                           PRE athena/\n",
      "                           PRE data/\n",
      "                           PRE models/\n",
      "                           PRE sagemaker-scikit-learn-2020-08-22-18-33-57-088/\n",
      "                           PRE spark-amazon-reviews-analyzer-2020-08-22-18-18-50-349/\n",
      "                           PRE spark-amazon-reviews-processor-2020-08-22-18-46-02-060/\n",
      "                           PRE tensorflow-training-200822-1959-001-9b98526e/\n",
      "                           PRE tensorflow-training-200822-1959-002-0d61bdf6/\n",
      "                           PRE tensorflow-training-2020-08-22-19-35-37-636/\n",
      "                           PRE tensorflow-training-2020-08-22-19-59-24-995/\n",
      "Completed\n"
     ]
    }
   ],
   "source": [
    "%%bash\n",
    "\n",
    "export S3_BUCKET=sagemaker-$(aws configure get region)-$(aws sts get-caller-identity | jq -r '.Account')\n",
    "echo \"export S3_BUCKET=${S3_BUCKET}\" | tee -a ~/.bash_profile\n",
    "\n",
    "# Create a new S3 bucket and upload the dataset. \n",
    "aws s3 ls s3://$S3_BUCKET || aws s3 mb s3://${S3_BUCKET}\n",
    "\n",
    "echo \"Completed\"\n"
   ]
  },
  {
   "cell_type": "markdown",
   "metadata": {},
   "source": [
    "# 2. Verify S3_BUCKET Env Variable"
   ]
  },
  {
   "cell_type": "code",
   "execution_count": 6,
   "metadata": {},
   "outputs": [
    {
     "name": "stdout",
     "output_type": "stream",
     "text": [
      "sagemaker-us-west-2-250107111215\n"
     ]
    }
   ],
   "source": [
    "%%bash\n",
    "\n",
    "source ~/.bash_profile\n",
    "\n",
    "echo \"${S3_BUCKET}\"\n"
   ]
  },
  {
   "cell_type": "markdown",
   "metadata": {},
   "source": [
    "# 3. Verify S3_BUCKET Bucket Creation"
   ]
  },
  {
   "cell_type": "code",
   "execution_count": 7,
   "metadata": {},
   "outputs": [
    {
     "name": "stdout",
     "output_type": "stream",
     "text": [
      "                           PRE amazon-reviews-pds/\n",
      "                           PRE amazon-reviews-spark-analyzer-2020-08-22-18-18-50/\n",
      "                           PRE athena/\n",
      "                           PRE data/\n",
      "                           PRE models/\n",
      "                           PRE sagemaker-scikit-learn-2020-08-22-18-33-57-088/\n",
      "                           PRE spark-amazon-reviews-analyzer-2020-08-22-18-18-50-349/\n",
      "                           PRE spark-amazon-reviews-processor-2020-08-22-18-46-02-060/\n",
      "                           PRE tensorflow-training-200822-1959-001-9b98526e/\n",
      "                           PRE tensorflow-training-200822-1959-002-0d61bdf6/\n",
      "                           PRE tensorflow-training-2020-08-22-19-35-37-636/\n",
      "                           PRE tensorflow-training-2020-08-22-19-59-24-995/\n"
     ]
    }
   ],
   "source": [
    "%%bash\n",
    "\n",
    "source ~/.bash_profile\n",
    "\n",
    "aws s3 ls s3://${S3_BUCKET}\n"
   ]
  },
  {
   "cell_type": "code",
   "execution_count": null,
   "metadata": {},
   "outputs": [
    {
     "data": {
      "application/javascript": [
       "Jupyter.notebook.save_checkpoint();\n",
       "Jupyter.notebook.session.delete();\n"
      ],
      "text/plain": [
       "<IPython.core.display.Javascript object>"
      ]
     },
     "metadata": {},
     "output_type": "display_data"
    }
   ],
   "source": [
    "%%javascript\n",
    "Jupyter.notebook.save_checkpoint();\n",
    "Jupyter.notebook.session.delete();"
   ]
  },
  {
   "cell_type": "code",
   "execution_count": null,
   "metadata": {},
   "outputs": [],
   "source": []
  }
 ],
 "metadata": {
  "kernelspec": {
   "display_name": "conda_python3",
   "language": "python",
   "name": "conda_python3"
  },
  "language_info": {
   "codemirror_mode": {
    "name": "ipython",
    "version": 3
   },
   "file_extension": ".py",
   "mimetype": "text/x-python",
   "name": "python",
   "nbconvert_exporter": "python",
   "pygments_lexer": "ipython3",
   "version": "3.6.10"
  }
 },
 "nbformat": 4,
 "nbformat_minor": 4
}
