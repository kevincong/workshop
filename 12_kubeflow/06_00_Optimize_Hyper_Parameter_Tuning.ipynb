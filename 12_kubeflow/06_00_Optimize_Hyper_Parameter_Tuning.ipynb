{
 "cells": [
  {
   "cell_type": "markdown",
   "metadata": {},
   "source": [
    "# Hyper-Parameter Tuning with Kubeflow"
   ]
  },
  {
   "cell_type": "markdown",
   "metadata": {},
   "source": [
    "Hyperparameter optimization or tuning chooses a set of optimal hyperparameters, parameters that control the learning process, for a learning algorithm. The set of hyperparameters yield an optimal model that minimizes a pre-defined loss function on given test data. \n",
    "\n",
    "There are many approaches for HPO: \n",
    "- grid search\n",
    "- random search\n",
    "- bayesian optimization\n",
    "- gradient-based optimization\n",
    "- evolutionary optimization\n",
    "- population based training\n"
   ]
  },
  {
   "cell_type": "markdown",
   "metadata": {},
   "source": [
    "# Katib"
   ]
  },
  {
   "cell_type": "markdown",
   "metadata": {},
   "source": [
    "The [Katib](https://github.com/kubeflow/katib) project is inspired by the [Google Vizier Paper](https://static.googleusercontent.com/media/research.google.com/en//pubs/archive/46180.pdf). \n",
    "\n",
    "Katib is a scalable and flexible hyperparameter tuning framework and is tightly integrated with Kubernetes. It does not depend on any specific deep learning framework (such as TensorFlow, MXNet, or PyTorch).\n",
    "\n",
    "Here are some notes on Katib:\n",
    "* Optimizes a given objective metric such as validation accuracy \n",
    "* Supports Int, Double, Discrete, and Categorical parameter ranges\n",
    "* Option for early stopping"
   ]
  },
  {
   "cell_type": "markdown",
   "metadata": {},
   "source": [
    "# Hyper-Parameter Tuning Examples "
   ]
  },
  {
   "cell_type": "markdown",
   "metadata": {},
   "source": [
    "With Kubeflow Katib, we will run popular hyper-parameter tuning algorithms including `random search`, `grid search`, `bayesian optimization` and `hyperband`."
   ]
  },
  {
   "cell_type": "markdown",
   "metadata": {},
   "source": [
    "# Random Search"
   ]
  },
  {
   "cell_type": "code",
   "execution_count": 1,
   "metadata": {},
   "outputs": [
    {
     "name": "stdout",
     "output_type": "stream",
     "text": [
      "experiment.kubeflow.org/random-example created\r\n"
     ]
    }
   ],
   "source": [
    "!kubectl create -f random-search-example.yaml"
   ]
  },
  {
   "cell_type": "markdown",
   "metadata": {},
   "source": [
    "If you check manifest, you will see\n",
    "\n",
    "\n",
    "```yaml\n",
    "parameters:\n",
    "- name: --lr\n",
    "  parameterType: double\n",
    "  feasibleSpace:\n",
    "    min: \"0.01\"\n",
    "    max: \"0.03\"\n",
    "- name: --num-layers\n",
    "  parameterType: int\n",
    "  feasibleSpace:\n",
    "    min: \"2\"\n",
    "    max: \"5\"\n",
    "- name: --optimizer\n",
    "  parameterType: categorical\n",
    "  feasibleSpace:\n",
    "    list:\n",
    "    - sgd\n",
    "    - adam\n",
    "    - ftrl\n",
    "```\n",
    "\n",
    "\n",
    "This job generates 3 hyperparameters, parameter type and range are also listed.\n",
    "\n",
    "* --lr (Learning Rate) - type: double\n",
    "* --num-layers (Number of NN Layer) - type: int\n",
    "* --optimizer (optimizer) - type: categorical"
   ]
  },
  {
   "cell_type": "markdown",
   "metadata": {},
   "source": [
    "The demo should start an experiment and run three jobs with different parameters. You can run following command to check job status.\n",
    "\n",
    "When the `spec.Status.Condition` changes to Completed, the experiment is finished.\n"
   ]
  },
  {
   "cell_type": "code",
   "execution_count": 2,
   "metadata": {},
   "outputs": [
    {
     "name": "stdout",
     "output_type": "stream",
     "text": [
      "Name:         random-example\r\n",
      "Namespace:    anonymous\r\n",
      "Labels:       controller-tools.k8s.io=1.0\r\n",
      "Annotations:  <none>\r\n",
      "API Version:  kubeflow.org/v1alpha3\r\n",
      "Kind:         Experiment\r\n",
      "Metadata:\r\n",
      "  Creation Timestamp:  2020-08-23T00:26:28Z\r\n",
      "  Finalizers:\r\n",
      "    update-prometheus-metrics\r\n",
      "  Generation:        2\r\n",
      "  Resource Version:  84379\r\n",
      "  Self Link:         /apis/kubeflow.org/v1alpha3/namespaces/anonymous/experiments/random-example\r\n",
      "  UID:               746bd5f4-7460-42e4-96b9-c6ce04b99b09\r\n",
      "Spec:\r\n",
      "  Algorithm:\r\n",
      "    Algorithm Name:        random\r\n",
      "    Algorithm Settings:    <nil>\r\n",
      "  Max Failed Trial Count:  3\r\n",
      "  Max Trial Count:         12\r\n",
      "  Metrics Collector Spec:\r\n",
      "    Collector:\r\n",
      "      Kind:  StdOut\r\n",
      "  Objective:\r\n",
      "    Additional Metric Names:\r\n",
      "      accuracy\r\n",
      "    Goal:                   0.99\r\n",
      "    Objective Metric Name:  Validation-accuracy\r\n",
      "    Type:                   maximize\r\n",
      "  Parallel Trial Count:     3\r\n",
      "  Parameters:\r\n",
      "    Feasible Space:\r\n",
      "      Max:           0.03\r\n",
      "      Min:           0.01\r\n",
      "    Name:            --lr\r\n",
      "    Parameter Type:  double\r\n",
      "    Feasible Space:\r\n",
      "      Max:           5\r\n",
      "      Min:           2\r\n",
      "    Name:            --num-layers\r\n",
      "    Parameter Type:  int\r\n",
      "    Feasible Space:\r\n",
      "      List:\r\n",
      "        sgd\r\n",
      "        adam\r\n",
      "        ftrl\r\n",
      "    Name:            --optimizer\r\n",
      "    Parameter Type:  categorical\r\n",
      "  Trial Template:\r\n",
      "    Go Template:\r\n",
      "      Raw Template:  apiVersion: batch/v1\r\n",
      "kind: Job\r\n",
      "metadata:\r\n",
      "  name: {{.Trial}}\r\n",
      "  namespace: {{.NameSpace}}\r\n",
      "spec:\r\n",
      "  template:\r\n",
      "    spec:\r\n",
      "      containers:\r\n",
      "      - name: {{.Trial}}\r\n",
      "        image: docker.io/katib/mxnet-mnist-example\r\n",
      "        command:\r\n",
      "        - \"python\"\r\n",
      "        - \"/mxnet/example/image-classification/train_mnist.py\"\r\n",
      "        - \"--batch-size=64\"\r\n",
      "        {{- with .HyperParameters}}\r\n",
      "        {{- range .}}\r\n",
      "        - \"{{.Name}}={{.Value}}\"\r\n",
      "        {{- end}}\r\n",
      "        {{- end}}\r\n",
      "      restartPolicy: Never\r\n",
      "Status:\r\n",
      "  Completion Time:  <nil>\r\n",
      "  Conditions:\r\n",
      "    Last Transition Time:  2020-08-23T00:26:29Z\r\n",
      "    Last Update Time:      2020-08-23T00:26:29Z\r\n",
      "    Message:               Experiment is created\r\n",
      "    Reason:                ExperimentCreated\r\n",
      "    Status:                True\r\n",
      "    Type:                  Created\r\n",
      "  Current Optimal Trial:\r\n",
      "    Best Trial Name:  \r\n",
      "    Observation:\r\n",
      "      Metrics:              <nil>\r\n",
      "    Parameter Assignments:  <nil>\r\n",
      "  Start Time:               2020-08-23T00:26:29Z\r\n",
      "Events:                     <none>\r\n"
     ]
    }
   ],
   "source": [
    "!kubectl describe experiment random-example"
   ]
  },
  {
   "cell_type": "markdown",
   "metadata": {},
   "source": [
    "# Navigate to Katib to Monitor the Hyper-Parameter Tuning Jobs\n",
    "\n",
    "You can monitor your results in the Katib UI. If you installed Kubeflow using the deployment guide, you can access the Katib UI at `https://<your kubeflow endpoint>/katib/`\n",
    "\n",
    "For `random-experiment`, please go to `HP (HypterParameter)` -> `Monitor` -> `random-experiment`.\n",
    "\n",
    "![katib-experiment-selection.png](./images/katib-experiment-selection.png)"
   ]
  },
  {
   "cell_type": "markdown",
   "metadata": {},
   "source": [
    "### Pick up best parameters in from results\n",
    "\n",
    "Once you click job and go the detail page, you will see different combination of parameters and accuracy.\n",
    "\n",
    "\n",
    "| trialName  | Validation-accuracy \t| accuracy \t| --lr \t| --num-layers \t| --optimizer|\n",
    "|----------------------------|----------|----------|----------------------|---|------|\n",
    "| random-experiment-rfwwbnsd | 0.974920 | 0.984844 | 0.013831565266960293 | 4 | sgd  |\n",
    "| random-experiment-vxgwlgqq | 0.113854 | 0.116646 | 0.024225789898529138 | 4 | ftrl |\n",
    "| random-experiment-wclrwlcq | 0.979697 | 0.998437 | 0.021916171239020756 | 4 | sgd  |\n",
    "| random-experiment-7lsc4pwb | 0.113854 | 0.115312 | 0.024163810384272653 | 5 | ftrl |\n",
    "| random-experiment-86vv9vgv | 0.963475 | 0.971562 | 0.02943228249244735  | 3 | adam |\n",
    "| random-experiment-jh884cxz | 0.981091 | 0.999219 | 0.022372025623908262 | 2 | sgd  |\n",
    "| random-experiment-sgtwhrgz | 0.980693 | 0.997969 | 0.016641686851083654 | 4 | sgd  |\n",
    "| random-experiment-c6vvz6dv | 0.980792 | 0.998906 | 0.0264125850165842   | 3 | sgd  |\n",
    "| random-experiment-vqs2xmfj | 0.113854 | 0.105313 | 0.026629394628228185 | 4 | ftrl |\n",
    "| random-experiment-bv8lsh2m | 0.980195 | 0.999375 | 0.021769570793012488 | 2 | sgd  |\n",
    "| random-experiment-7vbnqc7z | 0.113854 | 0.102188 | 0.025079750575740783 | 4 | ftrl |\n",
    "| random-experiment-kwj9drmg | 0.979498 | 0.995469 | 0.014985919312945063 | 4 | sgd  |\n",
    "\n",
    "\n",
    "![katib-experiment-result.png](./images/katib-experiment-result.png)\n",
    "\n",
    "You can also click trail name to check Trial data."
   ]
  },
  {
   "cell_type": "markdown",
   "metadata": {},
   "source": [
    "> Note: All rest examples are different optimization algorithms.  \n",
    "> The way to submit the job and check job lifecycle is same as random-search-example we did."
   ]
  },
  {
   "cell_type": "markdown",
   "metadata": {},
   "source": [
    "# Grid Search"
   ]
  },
  {
   "cell_type": "code",
   "execution_count": 3,
   "metadata": {},
   "outputs": [
    {
     "name": "stdout",
     "output_type": "stream",
     "text": [
      "experiment.kubeflow.org/grid-example created\r\n"
     ]
    }
   ],
   "source": [
    "!kubectl create -f grid-example.yaml"
   ]
  },
  {
   "cell_type": "code",
   "execution_count": 4,
   "metadata": {},
   "outputs": [
    {
     "name": "stdout",
     "output_type": "stream",
     "text": [
      "Name:         grid-example\r\n",
      "Namespace:    anonymous\r\n",
      "Labels:       controller-tools.k8s.io=1.0\r\n",
      "Annotations:  <none>\r\n",
      "API Version:  kubeflow.org/v1alpha3\r\n",
      "Kind:         Experiment\r\n",
      "Metadata:\r\n",
      "  Creation Timestamp:  2020-08-23T00:26:30Z\r\n",
      "  Finalizers:\r\n",
      "    update-prometheus-metrics\r\n",
      "  Generation:        2\r\n",
      "  Resource Version:  84410\r\n",
      "  Self Link:         /apis/kubeflow.org/v1alpha3/namespaces/anonymous/experiments/grid-example\r\n",
      "  UID:               cdd94200-4d62-4be1-9d67-6cc5aeba0ee7\r\n",
      "Spec:\r\n",
      "  Algorithm:\r\n",
      "    Algorithm Name:        grid\r\n",
      "    Algorithm Settings:    <nil>\r\n",
      "  Max Failed Trial Count:  3\r\n",
      "  Max Trial Count:         12\r\n",
      "  Metrics Collector Spec:\r\n",
      "    Collector:\r\n",
      "      Kind:  StdOut\r\n",
      "  Objective:\r\n",
      "    Additional Metric Names:\r\n",
      "      accuracy\r\n",
      "    Goal:                   0.99\r\n",
      "    Objective Metric Name:  Validation-accuracy\r\n",
      "    Type:                   maximize\r\n",
      "  Parallel Trial Count:     3\r\n",
      "  Parameters:\r\n",
      "    Feasible Space:\r\n",
      "      Max:           0.01\r\n",
      "      Min:           0.001\r\n",
      "      Step:          0.001\r\n",
      "    Name:            --lr\r\n",
      "    Parameter Type:  double\r\n",
      "    Feasible Space:\r\n",
      "      Max:           5\r\n",
      "      Min:           2\r\n",
      "    Name:            --num-layers\r\n",
      "    Parameter Type:  int\r\n",
      "    Feasible Space:\r\n",
      "      List:\r\n",
      "        sgd\r\n",
      "        adam\r\n",
      "        ftrl\r\n",
      "    Name:            --optimizer\r\n",
      "    Parameter Type:  categorical\r\n",
      "  Trial Template:\r\n",
      "    Go Template:\r\n",
      "      Raw Template:  apiVersion: batch/v1\r\n",
      "kind: Job\r\n",
      "metadata:\r\n",
      "  name: {{.Trial}}\r\n",
      "  namespace: {{.NameSpace}}\r\n",
      "spec:\r\n",
      "  template:\r\n",
      "    spec:\r\n",
      "      containers:\r\n",
      "      - name: {{.Trial}}\r\n",
      "        image: docker.io/katib/mxnet-mnist-example\r\n",
      "        command:\r\n",
      "        - \"python\"\r\n",
      "        - \"/mxnet/example/image-classification/train_mnist.py\"\r\n",
      "        - \"--batch-size=64\"\r\n",
      "        {{- with .HyperParameters}}\r\n",
      "        {{- range .}}\r\n",
      "        - \"{{.Name}}={{.Value}}\"\r\n",
      "        {{- end}}\r\n",
      "        {{- end}}\r\n",
      "      restartPolicy: Never\r\n",
      "Status:\r\n",
      "  Completion Time:  <nil>\r\n",
      "  Conditions:\r\n",
      "    Last Transition Time:  2020-08-23T00:26:30Z\r\n",
      "    Last Update Time:      2020-08-23T00:26:30Z\r\n",
      "    Message:               Experiment is created\r\n",
      "    Reason:                ExperimentCreated\r\n",
      "    Status:                True\r\n",
      "    Type:                  Created\r\n",
      "  Current Optimal Trial:\r\n",
      "    Best Trial Name:  \r\n",
      "    Observation:\r\n",
      "      Metrics:              <nil>\r\n",
      "    Parameter Assignments:  <nil>\r\n",
      "  Start Time:               2020-08-23T00:26:30Z\r\n",
      "Events:                     <none>\r\n"
     ]
    }
   ],
   "source": [
    "!kubectl describe experiment grid-example"
   ]
  },
  {
   "cell_type": "markdown",
   "metadata": {},
   "source": [
    "# Bayesian\n",
    "\n",
    "BayesOpt: A toolbox for bayesian optimization, experimental design and stochastic bandits."
   ]
  },
  {
   "cell_type": "code",
   "execution_count": 5,
   "metadata": {},
   "outputs": [
    {
     "name": "stdout",
     "output_type": "stream",
     "text": [
      "experiment.kubeflow.org/bayesopt-example created\r\n"
     ]
    }
   ],
   "source": [
    "!kubectl create -f bayesopt-example.yaml"
   ]
  },
  {
   "cell_type": "code",
   "execution_count": 6,
   "metadata": {},
   "outputs": [
    {
     "name": "stdout",
     "output_type": "stream",
     "text": [
      "Name:         bayesopt-example\r\n",
      "Namespace:    anonymous\r\n",
      "Labels:       controller-tools.k8s.io=1.0\r\n",
      "Annotations:  <none>\r\n",
      "API Version:  kubeflow.org/v1alpha3\r\n",
      "Kind:         Experiment\r\n",
      "Metadata:\r\n",
      "  Creation Timestamp:  2020-08-23T00:26:31Z\r\n",
      "  Finalizers:\r\n",
      "    update-prometheus-metrics\r\n",
      "  Generation:        1\r\n",
      "  Resource Version:  84444\r\n",
      "  Self Link:         /apis/kubeflow.org/v1alpha3/namespaces/anonymous/experiments/bayesopt-example\r\n",
      "  UID:               5e93e227-78e3-4f24-abf4-2e585f57a7c1\r\n",
      "Spec:\r\n",
      "  Algorithm:\r\n",
      "    Algorithm Name:  bayesianoptimization\r\n",
      "    Algorithm Settings:\r\n",
      "      Name:                random_state\r\n",
      "      Value:               10\r\n",
      "  Max Failed Trial Count:  3\r\n",
      "  Max Trial Count:         12\r\n",
      "  Metrics Collector Spec:\r\n",
      "    Collector:\r\n",
      "      Kind:  StdOut\r\n",
      "  Objective:\r\n",
      "    Additional Metric Names:\r\n",
      "      accuracy\r\n",
      "    Goal:                   0.99\r\n",
      "    Objective Metric Name:  Validation-accuracy\r\n",
      "    Type:                   maximize\r\n",
      "  Parallel Trial Count:     3\r\n",
      "  Parameters:\r\n",
      "    Feasible Space:\r\n",
      "      Max:           0.03\r\n",
      "      Min:           0.01\r\n",
      "    Name:            --lr\r\n",
      "    Parameter Type:  double\r\n",
      "    Feasible Space:\r\n",
      "      Max:           5\r\n",
      "      Min:           2\r\n",
      "    Name:            --num-layers\r\n",
      "    Parameter Type:  int\r\n",
      "    Feasible Space:\r\n",
      "      List:\r\n",
      "        sgd\r\n",
      "        adam\r\n",
      "        ftrl\r\n",
      "    Name:            --optimizer\r\n",
      "    Parameter Type:  categorical\r\n",
      "  Trial Template:\r\n",
      "    Go Template:\r\n",
      "      Raw Template:  apiVersion: batch/v1\r\n",
      "kind: Job\r\n",
      "metadata:\r\n",
      "  name: {{.Trial}}\r\n",
      "  namespace: {{.NameSpace}}\r\n",
      "spec:\r\n",
      "  template:\r\n",
      "    spec:\r\n",
      "      containers:\r\n",
      "      - name: {{.Trial}}\r\n",
      "        image: docker.io/katib/mxnet-mnist-example\r\n",
      "        command:\r\n",
      "        - \"python\"\r\n",
      "        - \"/mxnet/example/image-classification/train_mnist.py\"\r\n",
      "        - \"--batch-size=64\"\r\n",
      "        {{- with .HyperParameters}}\r\n",
      "        {{- range .}}\r\n",
      "        - \"{{.Name}}={{.Value}}\"\r\n",
      "        {{- end}}\r\n",
      "        {{- end}}\r\n",
      "      restartPolicy: Never\r\n",
      "Status:\r\n",
      "  Completion Time:  <nil>\r\n",
      "  Conditions:\r\n",
      "    Last Transition Time:  2020-08-23T00:26:31Z\r\n",
      "    Last Update Time:      2020-08-23T00:26:31Z\r\n",
      "    Message:               Experiment is created\r\n",
      "    Reason:                ExperimentCreated\r\n",
      "    Status:                True\r\n",
      "    Type:                  Created\r\n",
      "  Current Optimal Trial:\r\n",
      "    Best Trial Name:  \r\n",
      "    Observation:\r\n",
      "      Metrics:              <nil>\r\n",
      "    Parameter Assignments:  <nil>\r\n",
      "  Start Time:               2020-08-23T00:26:31Z\r\n",
      "Events:                     <none>\r\n"
     ]
    }
   ],
   "source": [
    "!kubectl describe experiment bayesopt-example"
   ]
  },
  {
   "cell_type": "markdown",
   "metadata": {},
   "source": [
    "# Hyperband"
   ]
  },
  {
   "cell_type": "code",
   "execution_count": 7,
   "metadata": {},
   "outputs": [
    {
     "name": "stdout",
     "output_type": "stream",
     "text": [
      "experiment.kubeflow.org/hyperband-example created\r\n"
     ]
    }
   ],
   "source": [
    "!kubectl create -f hyperband-example.yaml"
   ]
  },
  {
   "cell_type": "code",
   "execution_count": 8,
   "metadata": {},
   "outputs": [
    {
     "name": "stdout",
     "output_type": "stream",
     "text": [
      "Name:         hyperband-example\r\n",
      "Namespace:    anonymous\r\n",
      "Labels:       <none>\r\n",
      "Annotations:  <none>\r\n",
      "API Version:  kubeflow.org/v1alpha3\r\n",
      "Kind:         Experiment\r\n",
      "Metadata:\r\n",
      "  Creation Timestamp:  2020-08-23T00:26:33Z\r\n",
      "  Finalizers:\r\n",
      "    update-prometheus-metrics\r\n",
      "  Generation:        1\r\n",
      "  Resource Version:  84473\r\n",
      "  Self Link:         /apis/kubeflow.org/v1alpha3/namespaces/anonymous/experiments/hyperband-example\r\n",
      "  UID:               53ead790-170f-4d69-b4a9-78a43135caf4\r\n",
      "Spec:\r\n",
      "  Algorithm:\r\n",
      "    Algorithm Name:  hyperband\r\n",
      "    Algorithm Settings:\r\n",
      "      Name:                resource_name\r\n",
      "      Value:               --num-epochs\r\n",
      "      Name:                eta\r\n",
      "      Value:               3\r\n",
      "      Name:                r_l\r\n",
      "      Value:               9\r\n",
      "  Max Failed Trial Count:  9\r\n",
      "  Max Trial Count:         9\r\n",
      "  Metrics Collector Spec:\r\n",
      "    Collector:\r\n",
      "      Kind:  StdOut\r\n",
      "  Objective:\r\n",
      "    Additional Metric Names:\r\n",
      "      accuracy\r\n",
      "    Goal:                   0.99\r\n",
      "    Objective Metric Name:  Validation-accuracy\r\n",
      "    Type:                   maximize\r\n",
      "  Parallel Trial Count:     9\r\n",
      "  Parameters:\r\n",
      "    Feasible Space:\r\n",
      "      Max:           0.03\r\n",
      "      Min:           0.01\r\n",
      "    Name:            --lr\r\n",
      "    Parameter Type:  double\r\n",
      "    Feasible Space:\r\n",
      "      Max:           5\r\n",
      "      Min:           2\r\n",
      "    Name:            --num-layers\r\n",
      "    Parameter Type:  int\r\n",
      "    Feasible Space:\r\n",
      "      List:\r\n",
      "        sgd\r\n",
      "        adam\r\n",
      "        ftrl\r\n",
      "    Name:            --optimizer\r\n",
      "    Parameter Type:  categorical\r\n",
      "    Feasible Space:\r\n",
      "      Max:           20\r\n",
      "      Min:           20\r\n",
      "    Name:            --num-epochs\r\n",
      "    Parameter Type:  int\r\n",
      "  Trial Template:\r\n",
      "    Go Template:\r\n",
      "      Raw Template:  apiVersion: batch/v1\r\n",
      "kind: Job\r\n",
      "metadata:\r\n",
      "  name: {{.Trial}}\r\n",
      "  namespace: {{.NameSpace}}\r\n",
      "spec:\r\n",
      "  template:\r\n",
      "    spec:\r\n",
      "      containers:\r\n",
      "      - name: {{.Trial}}\r\n",
      "        image: katib/mxnet-mnist-example\r\n",
      "        command:\r\n",
      "        - \"python\"\r\n",
      "        - \"/mxnet/example/image-classification/train_mnist.py\"\r\n",
      "        - \"--batch-size=64\"\r\n",
      "        {{- with .HyperParameters}}\r\n",
      "        {{- range .}}\r\n",
      "        - \"{{.Name}}={{.Value}}\"\r\n",
      "        {{- end}}\r\n",
      "        {{- end}}\r\n",
      "      restartPolicy: Never\r\n",
      "Status:\r\n",
      "  Completion Time:  <nil>\r\n",
      "  Conditions:\r\n",
      "    Last Transition Time:  2020-08-23T00:26:33Z\r\n",
      "    Last Update Time:      2020-08-23T00:26:33Z\r\n",
      "    Message:               Experiment is created\r\n",
      "    Reason:                ExperimentCreated\r\n",
      "    Status:                True\r\n",
      "    Type:                  Created\r\n",
      "  Current Optimal Trial:\r\n",
      "    Best Trial Name:  \r\n",
      "    Observation:\r\n",
      "      Metrics:              <nil>\r\n",
      "    Parameter Assignments:  <nil>\r\n",
      "  Start Time:               2020-08-23T00:26:33Z\r\n",
      "Events:                     <none>\r\n"
     ]
    }
   ],
   "source": [
    "!kubectl describe experiment hyperband-example"
   ]
  },
  {
   "cell_type": "markdown",
   "metadata": {},
   "source": [
    "# Navigate to Katib to Monitor All Hyper-Parameter Tuning Jobs\n",
    "![katib-experiment-selection.png](./images/katib-experiment-selection.png)"
   ]
  },
  {
   "cell_type": "code",
   "execution_count": null,
   "metadata": {},
   "outputs": [],
   "source": []
  }
 ],
 "metadata": {
  "kernelspec": {
   "display_name": "Python 3",
   "language": "python",
   "name": "python3"
  },
  "language_info": {
   "codemirror_mode": {
    "name": "ipython",
    "version": 3
   },
   "file_extension": ".py",
   "mimetype": "text/x-python",
   "name": "python",
   "nbconvert_exporter": "python",
   "pygments_lexer": "ipython3",
   "version": "3.6.8"
  }
 },
 "nbformat": 4,
 "nbformat_minor": 2
}
