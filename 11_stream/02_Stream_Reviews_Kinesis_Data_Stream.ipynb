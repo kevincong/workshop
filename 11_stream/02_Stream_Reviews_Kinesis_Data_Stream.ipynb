{
 "cells": [
  {
   "cell_type": "markdown",
   "metadata": {},
   "source": [
    "# Kinesis Data Stream\n",
    "* https://github.com/aws-samples/aws-ml-data-lake-workshop\n",
    "* https://aws.amazon.com/blogs/big-data/snakes-in-the-stream-feeding-and-eating-amazon-kinesis-streams-with-python/\n",
    "\n",
    "![Kinesis Data Stream](img/kinesis_data_stream_docs.png)"
   ]
  },
  {
   "cell_type": "code",
   "execution_count": 1,
   "metadata": {},
   "outputs": [],
   "source": [
    "import boto3\n",
    "import sagemaker\n",
    "import pandas as pd\n",
    "\n",
    "sess   = sagemaker.Session()\n",
    "bucket = sess.default_bucket()\n",
    "role = sagemaker.get_execution_role()\n",
    "region = boto3.Session().region_name\n",
    "\n",
    "sm = boto3.Session().client(service_name='sagemaker', region_name=region)\n",
    "kinesis = boto3.Session().client(service_name='kinesis', region_name=region)"
   ]
  },
  {
   "cell_type": "code",
   "execution_count": 2,
   "metadata": {},
   "outputs": [],
   "source": [
    "%store -r stream_name"
   ]
  },
  {
   "cell_type": "code",
   "execution_count": 3,
   "metadata": {},
   "outputs": [
    {
     "name": "stdout",
     "output_type": "stream",
     "text": [
      "shardId-000000000000\n",
      "shardId-000000000001\n"
     ]
    }
   ],
   "source": [
    "# TODO:  Adapt to any number of shards\n",
    "\n",
    "shard_id_1 = kinesis.list_shards(StreamName=stream_name)['Shards'][0]['ShardId']\n",
    "print(shard_id_1)\n",
    "\n",
    "shard_id_2 = kinesis.list_shards(StreamName=stream_name)['Shards'][1]['ShardId']\n",
    "print(shard_id_2)"
   ]
  },
  {
   "cell_type": "markdown",
   "metadata": {},
   "source": [
    "# Download Dataset"
   ]
  },
  {
   "cell_type": "code",
   "execution_count": 4,
   "metadata": {},
   "outputs": [
    {
     "name": "stdout",
     "output_type": "stream",
     "text": [
      "download: s3://amazon-reviews-pds/tsv/amazon_reviews_us_Digital_Software_v1_00.tsv.gz to data/amazon_reviews_us_Digital_Software_v1_00.tsv.gz\n"
     ]
    }
   ],
   "source": [
    "!aws s3 cp 's3://amazon-reviews-pds/tsv/amazon_reviews_us_Digital_Software_v1_00.tsv.gz' ./data/"
   ]
  },
  {
   "cell_type": "code",
   "execution_count": 5,
   "metadata": {},
   "outputs": [
    {
     "data": {
      "text/plain": [
       "(102084, 15)"
      ]
     },
     "execution_count": 5,
     "metadata": {},
     "output_type": "execute_result"
    }
   ],
   "source": [
    "import csv\n",
    "import pandas as pd\n",
    "\n",
    "df = pd.read_csv('./data/amazon_reviews_us_Digital_Software_v1_00.tsv.gz', \n",
    "                 delimiter='\\t', \n",
    "                 quoting=csv.QUOTE_NONE,\n",
    "                 compression='gzip')\n",
    "df.shape"
   ]
  },
  {
   "cell_type": "code",
   "execution_count": 6,
   "metadata": {},
   "outputs": [
    {
     "data": {
      "text/html": [
       "<div>\n",
       "<style scoped>\n",
       "    .dataframe tbody tr th:only-of-type {\n",
       "        vertical-align: middle;\n",
       "    }\n",
       "\n",
       "    .dataframe tbody tr th {\n",
       "        vertical-align: top;\n",
       "    }\n",
       "\n",
       "    .dataframe thead th {\n",
       "        text-align: right;\n",
       "    }\n",
       "</style>\n",
       "<table border=\"1\" class=\"dataframe\">\n",
       "  <thead>\n",
       "    <tr style=\"text-align: right;\">\n",
       "      <th></th>\n",
       "      <th>marketplace</th>\n",
       "      <th>customer_id</th>\n",
       "      <th>review_id</th>\n",
       "      <th>product_id</th>\n",
       "      <th>product_parent</th>\n",
       "      <th>product_title</th>\n",
       "      <th>product_category</th>\n",
       "      <th>star_rating</th>\n",
       "      <th>helpful_votes</th>\n",
       "      <th>total_votes</th>\n",
       "      <th>vine</th>\n",
       "      <th>verified_purchase</th>\n",
       "      <th>review_headline</th>\n",
       "      <th>review_body</th>\n",
       "      <th>review_date</th>\n",
       "    </tr>\n",
       "  </thead>\n",
       "  <tbody>\n",
       "    <tr>\n",
       "      <th>0</th>\n",
       "      <td>US</td>\n",
       "      <td>17747349</td>\n",
       "      <td>R2EI7QLPK4LF7U</td>\n",
       "      <td>B00U7LCE6A</td>\n",
       "      <td>106182406</td>\n",
       "      <td>CCleaner Free [Download]</td>\n",
       "      <td>Digital_Software</td>\n",
       "      <td>4</td>\n",
       "      <td>0</td>\n",
       "      <td>0</td>\n",
       "      <td>N</td>\n",
       "      <td>Y</td>\n",
       "      <td>Four Stars</td>\n",
       "      <td>So far so good</td>\n",
       "      <td>2015-08-31</td>\n",
       "    </tr>\n",
       "    <tr>\n",
       "      <th>1</th>\n",
       "      <td>US</td>\n",
       "      <td>10956619</td>\n",
       "      <td>R1W5OMFK1Q3I3O</td>\n",
       "      <td>B00HRJMOM4</td>\n",
       "      <td>162269768</td>\n",
       "      <td>ResumeMaker Professional Deluxe 18</td>\n",
       "      <td>Digital_Software</td>\n",
       "      <td>3</td>\n",
       "      <td>0</td>\n",
       "      <td>0</td>\n",
       "      <td>N</td>\n",
       "      <td>Y</td>\n",
       "      <td>Three Stars</td>\n",
       "      <td>Needs a little more work.....</td>\n",
       "      <td>2015-08-31</td>\n",
       "    </tr>\n",
       "    <tr>\n",
       "      <th>2</th>\n",
       "      <td>US</td>\n",
       "      <td>13132245</td>\n",
       "      <td>RPZWSYWRP92GI</td>\n",
       "      <td>B00P31G9PQ</td>\n",
       "      <td>831433899</td>\n",
       "      <td>Amazon Drive Desktop [PC]</td>\n",
       "      <td>Digital_Software</td>\n",
       "      <td>1</td>\n",
       "      <td>1</td>\n",
       "      <td>2</td>\n",
       "      <td>N</td>\n",
       "      <td>Y</td>\n",
       "      <td>One Star</td>\n",
       "      <td>Please cancel.</td>\n",
       "      <td>2015-08-31</td>\n",
       "    </tr>\n",
       "    <tr>\n",
       "      <th>3</th>\n",
       "      <td>US</td>\n",
       "      <td>35717248</td>\n",
       "      <td>R2WQWM04XHD9US</td>\n",
       "      <td>B00FGDEPDY</td>\n",
       "      <td>991059534</td>\n",
       "      <td>Norton Internet Security 1 User 3 Licenses</td>\n",
       "      <td>Digital_Software</td>\n",
       "      <td>5</td>\n",
       "      <td>0</td>\n",
       "      <td>0</td>\n",
       "      <td>N</td>\n",
       "      <td>Y</td>\n",
       "      <td>Works as Expected!</td>\n",
       "      <td>Works as Expected!</td>\n",
       "      <td>2015-08-31</td>\n",
       "    </tr>\n",
       "    <tr>\n",
       "      <th>4</th>\n",
       "      <td>US</td>\n",
       "      <td>17710652</td>\n",
       "      <td>R1WSPK2RA2PDEF</td>\n",
       "      <td>B00FZ0FK0U</td>\n",
       "      <td>574904556</td>\n",
       "      <td>SecureAnywhere Intermet Security Complete 5 De...</td>\n",
       "      <td>Digital_Software</td>\n",
       "      <td>4</td>\n",
       "      <td>1</td>\n",
       "      <td>2</td>\n",
       "      <td>N</td>\n",
       "      <td>Y</td>\n",
       "      <td>Great antivirus. Worthless customer support</td>\n",
       "      <td>I've had Webroot for a few years. It expired a...</td>\n",
       "      <td>2015-08-31</td>\n",
       "    </tr>\n",
       "  </tbody>\n",
       "</table>\n",
       "</div>"
      ],
      "text/plain": [
       "  marketplace  customer_id       review_id  product_id  product_parent  \\\n",
       "0          US     17747349  R2EI7QLPK4LF7U  B00U7LCE6A       106182406   \n",
       "1          US     10956619  R1W5OMFK1Q3I3O  B00HRJMOM4       162269768   \n",
       "2          US     13132245   RPZWSYWRP92GI  B00P31G9PQ       831433899   \n",
       "3          US     35717248  R2WQWM04XHD9US  B00FGDEPDY       991059534   \n",
       "4          US     17710652  R1WSPK2RA2PDEF  B00FZ0FK0U       574904556   \n",
       "\n",
       "                                       product_title  product_category  \\\n",
       "0                           CCleaner Free [Download]  Digital_Software   \n",
       "1                 ResumeMaker Professional Deluxe 18  Digital_Software   \n",
       "2                          Amazon Drive Desktop [PC]  Digital_Software   \n",
       "3         Norton Internet Security 1 User 3 Licenses  Digital_Software   \n",
       "4  SecureAnywhere Intermet Security Complete 5 De...  Digital_Software   \n",
       "\n",
       "   star_rating  helpful_votes  total_votes vine verified_purchase  \\\n",
       "0            4              0            0    N                 Y   \n",
       "1            3              0            0    N                 Y   \n",
       "2            1              1            2    N                 Y   \n",
       "3            5              0            0    N                 Y   \n",
       "4            4              1            2    N                 Y   \n",
       "\n",
       "                               review_headline  \\\n",
       "0                                   Four Stars   \n",
       "1                                  Three Stars   \n",
       "2                                     One Star   \n",
       "3                           Works as Expected!   \n",
       "4  Great antivirus. Worthless customer support   \n",
       "\n",
       "                                         review_body review_date  \n",
       "0                                     So far so good  2015-08-31  \n",
       "1                      Needs a little more work.....  2015-08-31  \n",
       "2                                     Please cancel.  2015-08-31  \n",
       "3                                 Works as Expected!  2015-08-31  \n",
       "4  I've had Webroot for a few years. It expired a...  2015-08-31  "
      ]
     },
     "execution_count": 6,
     "metadata": {},
     "output_type": "execute_result"
    }
   ],
   "source": [
    "df.head(5)"
   ]
  },
  {
   "cell_type": "code",
   "execution_count": 7,
   "metadata": {},
   "outputs": [
    {
     "data": {
      "text/plain": [
       "(100, 2)"
      ]
     },
     "execution_count": 7,
     "metadata": {},
     "output_type": "execute_result"
    }
   ],
   "source": [
    "df_star_rating_and_review_body = df[['star_rating', 'review_body']][:100]\n",
    "df_star_rating_and_review_body.shape"
   ]
  },
  {
   "cell_type": "code",
   "execution_count": 8,
   "metadata": {},
   "outputs": [
    {
     "data": {
      "text/html": [
       "<div>\n",
       "<style scoped>\n",
       "    .dataframe tbody tr th:only-of-type {\n",
       "        vertical-align: middle;\n",
       "    }\n",
       "\n",
       "    .dataframe tbody tr th {\n",
       "        vertical-align: top;\n",
       "    }\n",
       "\n",
       "    .dataframe thead th {\n",
       "        text-align: right;\n",
       "    }\n",
       "</style>\n",
       "<table border=\"1\" class=\"dataframe\">\n",
       "  <thead>\n",
       "    <tr style=\"text-align: right;\">\n",
       "      <th></th>\n",
       "      <th>star_rating</th>\n",
       "      <th>review_body</th>\n",
       "    </tr>\n",
       "  </thead>\n",
       "  <tbody>\n",
       "    <tr>\n",
       "      <th>0</th>\n",
       "      <td>4</td>\n",
       "      <td>So far so good</td>\n",
       "    </tr>\n",
       "    <tr>\n",
       "      <th>1</th>\n",
       "      <td>3</td>\n",
       "      <td>Needs a little more work.....</td>\n",
       "    </tr>\n",
       "    <tr>\n",
       "      <th>2</th>\n",
       "      <td>1</td>\n",
       "      <td>Please cancel.</td>\n",
       "    </tr>\n",
       "    <tr>\n",
       "      <th>3</th>\n",
       "      <td>5</td>\n",
       "      <td>Works as Expected!</td>\n",
       "    </tr>\n",
       "    <tr>\n",
       "      <th>4</th>\n",
       "      <td>4</td>\n",
       "      <td>I've had Webroot for a few years. It expired a...</td>\n",
       "    </tr>\n",
       "  </tbody>\n",
       "</table>\n",
       "</div>"
      ],
      "text/plain": [
       "   star_rating                                        review_body\n",
       "0            4                                     So far so good\n",
       "1            3                      Needs a little more work.....\n",
       "2            1                                     Please cancel.\n",
       "3            5                                 Works as Expected!\n",
       "4            4  I've had Webroot for a few years. It expired a..."
      ]
     },
     "execution_count": 8,
     "metadata": {},
     "output_type": "execute_result"
    }
   ],
   "source": [
    "df_star_rating_and_review_body.head()"
   ]
  },
  {
   "cell_type": "code",
   "execution_count": 9,
   "metadata": {},
   "outputs": [],
   "source": [
    "reviews_tsv = df_star_rating_and_review_body.to_csv(sep='\\t',\n",
    "                                                    header=None,\n",
    "                                                    index=False)"
   ]
  },
  {
   "cell_type": "code",
   "execution_count": 10,
   "metadata": {},
   "outputs": [
    {
     "data": {
      "text/plain": [
       "\"4\\tSo far so good\\n3\\tNeeds a little more work.....\\n1\\tPlease cancel.\\n5\\tWorks as Expected!\\n4\\tI've had Webroot for a few years. It expired and I decided to purchase a renewal on Amazon. I went through hell trying to uninstall the expired version in order to install the new.  I called Webroot and had their representative remote into my computer at his request. He was clueless as a bad joke and consumed 29 minutes and 57 seconds of my time forever.  He initially told me it wasn't compatible with Windows 10, but I finally managed to convince him that it is indeed compatible with Windows 10 as it was working on my computer before it expired and also I showed him a review on Amazon to convince him that it works on Windows 10. Finally, he offered to connect me with a senior consultant for over 100 dollars. I declined and told him I'd fix the issue myself. This guy was less helpful than a severed limb.  After spending some time on Google, the issue is now fixed. Webroot should just get rid of their customer service and pay Google for indexing much more helpful info that their dedicated customer service can offer.  As far as the software itself. I think it scans fast, does not slow down my computer and I hope (like most other people including experts) that it's very effective in removing and preventing malware.  Years ago I did extensive research and found it to be among the best, but that was over 4 years ago. Things are fluid in the malware kingdom.  To those experiencing the same issue installing as I did - My advice - don't bother uninstalling the old version, rather launch webroot and click on  &#34;my account&#34; on the right side, then copy and past your product key in the area that says &#34;enter a new keycode&#34;, then click on Activate. This will save numerous painful hours of trying to get the thing to work.\\n5\\tEXCELLENT software !!!!!  Don't need to do anything when it's set up in automatic mode. Noticed a big difference after the first scan/tests\\n1\\tThe variations created by Win10 induced this program to eat every bit of work up to that time. All of it, hundreds of hours of work. Guess who's unhappy.\\n1\\tHorrible!  Would not upgrade previous version files and when I gave up on that and figured I'd just move forward it wouldn't let me log in, even after numerous creations of a new account, trying an existing account.  Very frustrating.  I returned it.\\n1\\tWaste of time .\\n5\\tWork as easy as other tools that I have used.\\n5\\tWorks perfectly!\\n1\\tWill not open on my window 8. boooo\\n5\\tPurchased this on sell, got 10 PC installment for $30.  I had the Norton 360, but didn't really need all of that.  Mainly the security.  The backup I am sure will be OK.  I use this and two other more malware programs to keep things safe.<br /><br />Along with this I am using &#34;Malwearbytes&#34; and &#34;Suprantivirus&#34;.  It sounds like over kill, but it really isn't.  Each one seems to be good at what it does and with today's world you just need all the protection you can get.  They don't really seem to get in the way of each other.\\n1\\tGod awful and didn't work\\n3\\tI think its complicated to use to be honest.\\n1\\tYou can purchase this to gain full access to the hw material,BUT you wont be registered under your class. I spoke with McGraw Hill about this issue and tried to have them link my account to my class, but they couldn't do it! It is a waste of $25, unless you want to practice on your own for fun (like really)....You must purchase from the website directly or it will not register you to the class. But, I spoke with amazon and they were very friendly and helped me with the return, after I told them about my issue.<br /><br />Product- Waste<br /><br />Amazon Customer Service- FRICKING AMAZING!!!!\\n2\\tit wont download\\n5\\tI have been using for two years with full protection!\\n5\\tThis was a Great bargain after the price rewind from my credit card company rebated me most of the cost.\\n3\\tdid not use,internet connection too slow\\n1\\tThought this included search with it - and no - it does not - added fees for everything\\n1\\tUnable to download!!!\\n5\\tSo, far, working as expected/advertised (as far as I can tell...)\\n1\\tSoftware wouldn't work on my pc amazon actually refunded me. Thank goodness.\\n4\\tStill getting used to the difference between the PC edition and this new one for the Mac.\\n5\\tNo comment product the same as expected\\n4\\tPro Pack lets you do a number of things that the home version of Windows won't let you do.  I back up my computer to my local cloud drive and you can do that with the home version\\n4\\tThis product was good when I first started using it, but now that windows 10 has come out it doesn't load into the system tray nor does it sync with the online cloud and consequently I don't know if my pictures are updating like they should.\\n5\\tQuick and easy to use. Enabled me to file my tax return easily and with confidence that everything was entered correctly.  We- e-filing, I received my tax over payment quickly. I highly recommend using it.\\n5\\tNice and works well.\\n1\\tNice idea if it worked, but the software never truly showed the actual balance. I always had to double check my bank accounts to make sure, what Quicken was showing me was actually true... and it wasn't.\\n4\\tI've used TurboTax annually for several years.  Overall I still find it useful.  One reservation is that this system (and some others) have evolved to where you just put in numbers and proceed blindly along until the end, and you are supposed to trust that everything is being done correctly, even though it is all out of sight.  Numbers flow into some forms that you never see at the time of entry until you are told you are done and you print out the final data (or save as a pdf).  Since I only do this once a year, I prefer a bit more information/reassurance along the way that all is being done correctly and appropriately.  It did save me a few dollars somewhere - I'm still not sure where.\\n5\\tSo far so good, installed on 2 computers and have yet to have a problem\\n5\\texcelente\\n5\\tafter reading reviews on various web sites and based on testimonials from friends, Kaspersky seemed the best choice. Simple to install and use! I would highly recommend this AV\\n5\\tI feel safe having my photos in the Amazon Cloud.  I am slowly scanning my film and saving the files there also.\\n1\\tDespite what this page and Intuit says this program is not compatible with Windows 10. In fact, after 4.5 hours of troubleshooting with three different Intuit agents I was finally informed that none of the existing Quicken programs are compatible with W10. I was told to wait for their software engineer to create a fix or wait for 2016. This is not a solution when you were using Quicken 2014 and have all of your financial data on it, which is now not accessible because Quicken was too slow in ensuring comparability.\\n1\\tJunk, errors out each time I tried to save. Spent 2 days on phone with tech support, gave up. Ask for refund and was declined. I guess they think we have time to waste with useless tech support.  Don't buy this bunk....\\n5\\tnot for me\\n5\\tNo doubt about it. Dragon Premium 13 is the best dragon yet. Now, if we could get Microsoft onboard to build operating systems compatable with the world's software, I could use Dragon 13 on my other computers.\\n4\\tThank you\\n5\\tGood\\n5\\tReplace 360 version with Security version and feel protected on my smart phone, tablet, and laptops.\\n4\\tGood Product.\\n5\\tworks great and catches virus and any changes of venue such as shopping the net\\n5\\tWorks just fine with Windows 10.\\n5\\tEasy installation.  Seems to catch all kinds of Malware.  Have not had a problem with pop-ups since I bought it.<br />I would highly recommend.\\n4\\tNot bad for free\\n1\\tThis isn't the online book, it's just a bunch of quiz questions or some nonsense. What the hell?? Very misleading.\\n4\\tokay\\n5\\tNorton (per usual) is fantastic with their customer support.... plus this product works!\\n5\\tGreat and easy to use when it's on Amazon.\\n3\\tIt works great, but it takes too long to update itself and slows the system\\n5\\tExpensive but better than the company's price.\\n5\\tpaid 1/2 of what I expected to pay.\\n1\\tI am having the same issue. It did not link to my current account. Waste of money!\\n5\\tFirst time user. The switch from turbotax was easy and flawless. Product is as good as turbotax but at a fraction of the cost.\\n1\\ti dont like the new windows there is a lot of glitches i went back to windows 7 would like my money back\\n1\\tI never got past the installation.The installer ignored my denial of permission to allow it to change my default search engine. The software installer tried to do it anyway and, luckily, it was halted by my security software.\\n1\\tdidn't download, got no help trying to make it work. waste of time and money\\n2\\tIf you did a free upgrade from Microsoft and you change motherboard/CPU, YOU HAVE to reinstall PREVIOUS windows version.EVEN IF your previous version was a FULL windows 7.\\n5\\tI love the software gives you all kinds of options to make a video for youtube or for your own personal use.\\n4\\tQuick and easy. Made filing much easier.\\n5\\tBuy this every year and I will continue to buy it. I also do my kids taxes so I get a bonus!\\n1\\tIt would never download to my computer.  Total waste of money.\\n4\\tExcellent software that does a great job of providing powerful features for home editing.  The price is a little bit on the high side - in fact, well on the high side, resulting in 4 stars rather than the 5 the functionality would otherwise earn.<br /><br />You need to have a fairly strong understanding of floor plans, wall layering, and other basic home building context in order to get the most out of this software.<br /><br />The 3d navigation keys require some getting used to as they aren't the WASD format that is &#34;borrowed&#34; from gaming that you see with some other software, rather they borrow the F/B U/D basics from the CAD world.<br /><br />One other point of note: if you are using any kind of remote desktop that doesnt transport &#34;AFTER&#34; the graphics pipeline (e.g. cant render 3d graphics then communicate the screen - like Windows RDP and some citrix implementations) you will not be able to use any of the 3d render features, and you will get an error every time that you go in to edit one of the layered objects (e.g. walls or windows) because the render on each one of those is 3D.\\n5\\tOffice worked for me so I don't have any complaints.\\n1\\tTrash...serial don't works...expired....\\n4\\tI've been using Quicken for over 15 years, and I am always apprehensive when it comes time to update to a newer version. If you have never used Quicken before, I would rate this a 5 star; if you are an experienced user doing an upgrade, I would rate this a 3 as there really is not any new functionality or, if there is, I can't see it for the tasks I perform with Quicken.<br /><br />I made a backup of my existing file, and proceeded to install. Installation went without a hitch, and I didn't even need the backup as this installation recognized my file and took over from there with the conversion process: the conversion took some time to complete, so if you are doing an upgrade go find something to do around the house vs. sitting there staring at your computer.<br /><br />For the new user, this is one heck of a bookkeeping package. I highly recommend setting up the interface with your banks, investment accounts, etc. and have it automatically download to your software. Assign the categories, and after you get a good three months or so worth of data you can start seeing the results.<br /><br />New users - absolutely buy this now. Existing users, wait until the last possible minute before you have the required upgrade.\\n1\\tDoes not work. Files don't preview. Files come through corrupted including files that weren't deleted and normally work fine. Total rip off.\\n1\\tI have been a daily PC user for many years now.  I remember back in the Windows 95 through Millenium days when programs JUST - DIDN'T - WORK well all of the time.  In those days, as many of you recall, programs were prone to glitch, freeze, crash, and become corrupted.  It's wasn't the norm, but it was regular enough that you really had to be adept at troubleshooting and reinstalling programs.  These days, though, we rarely have a computer program crash let alone become corrupted.  After all, this is 2015 and those kinds of problems are a decade or more behind us, right?<br /><br />WRONG... if you're a QuickBooks user.\\n5\\ti love this hotspot I have my ps3 my iPhone my wifes iPhone and a few other devices attached to it. it help because I use my brothers connection 3 appartments away. I recommend to everyone thanks for the service connectify.\\n1\\tSoftware does not allow you to set up specific recording times nor does it allow motion activated recording.  Just a waste of money!\\n1\\tThis program does nothing that I could use\\n4\\tgood\\n1\\t***WARNING***<br />I got this product phoned customer service. Their support was very bad, asked me the same questions 5 times ans sent me always to the specialist. Then I got someone to lock on my computer. OMG he started by removing a lot of programs that I need, It is taking me 2 days to recover from the 5 min intervention that did not work. I removed Norton now. incredible never seen so much incompetance\\n1\\tDO NOT BUY UNDER ANY CIRCUMSTANCES. IT SUCKS. I've been a Quicken user for over 10 years and just upgraded from Quicken 2007 for Mac. I does not work at all - I can not figure out what the program is doing if anything. Will not import accounts, will not function as a check register. It is a royal piece of excrement. Save your money and do not even think of buying.\\n4\\tworks fine except not for windows 10\\n1\\tmy computer got infected anyways\\n5\\tGreat process mapping functionary. Nice to download immediately\\n5\\tgreat value.\\n5\\tI'm a word perfect dinosaur, this version works as well as any I've had and I like the convenience of having the download stored online so I don't have to fuss with remembering product keys.\\n5\\tGood product for improving poor pictures,  a  little harder to use than version 2 I was previously using.  Very good price ($69 at Costco).  Recommended for amateur photographers.  WIsh the  &#34;Sharpen&#34; feature would really sharpen the image tho...\\n5\\tGood s/w....\\n5\\tDoes what I wanted it to do.\\n2\\tEven though this was suppose to run on Windows 8.1, I could not get it to run correctly.  After several emails.  The software company offered me a refund\\n2\\tWhat Intuit does not tell you is that the Mac version does not allow the accountant's copy to be uploaded via the web nor the accountant's changes to be downloaded from the web.\\n5\\tI upgraded from Elements 8. Many improvements. Highly recommended.\\n3\\tOK.\\n5\\tAs expected!\\n4\\tI like turbo tax. Easy to use and it always tells me what I need to know.\\n2\\tBought program to create a newsletter. Tried to make a template I could save and later populate with monthly submissions so as to not remake 100% of newsletter every month. Saved copy of template vanished into computer, when I finally found it the program didn't recognize it and wouldn't open it. E-mailed for support on another subject and got a decent response after a few days on that subject. Remade templates multiple times, only to find that only one page had been saved out of three, etc. I finally went back and purchased another copy of MS Publisher to try and get the newsletter done. In less than an hour I had my template and saved it. It opens and has no issues. I pull it up to cut and paste submissions into it without problem. It works almost intuitively at this point. PagePlus just seemed to make EVERYTHING an issue somehow. They have lots of on-line videos to explain things....but what is the use if the work you save vanishes and can' be pulled up or opened after you close it? Is it me? I don't know, Adobe products and MS products don't seem to give me this problem.\\n5\\tReceived product and was spending my return before I received my statement from my credit card company\\n2\\tWithout notification, Intuit has changed password requirements. Although &#34;computer literate&#34;, I haven't a clue as to how to access my account. I've spent over an hour trying to do &#34;the usual&#34;. Went to a Quicken/Intuit help site, and received the message that it is &#34;down&#34;. I've been an Intuit user for decades, but have seen deterioration in customer support.\\n3\\tI prefer the older version and it's applications.... Not too crazy about this version..... Maybe after I get used to it I will like it better\\n5\\tGreat security package.  You don't need antivirus for ios devices unless you jail break them.  I feel very comfortable with this software on my Mac and PC.  Runs updates and has caught viruses that other programs I had did not.\\n1\\tDid nothing for my computer.\\n5\\tWorks ok\\n5\\tWorked as advertised.\\n1\\tAmazon sent me a non working product key and no way to get a serial number. I am now in Adobe support hell trying to get this product to activate. I wish I could return it.\\n\""
      ]
     },
     "execution_count": 10,
     "metadata": {},
     "output_type": "execute_result"
    }
   ],
   "source": [
    "reviews_tsv"
   ]
  },
  {
   "cell_type": "markdown",
   "metadata": {},
   "source": [
    "# Simulate Application Writing Records to the Stream"
   ]
  },
  {
   "cell_type": "code",
   "execution_count": 11,
   "metadata": {},
   "outputs": [
    {
     "name": "stdout",
     "output_type": "stream",
     "text": [
      "{'StreamDescription': {'StreamName': 'dsoaws-data-stream', 'StreamARN': 'arn:aws:kinesis:us-west-2:250107111215:stream/dsoaws-data-stream', 'StreamStatus': 'ACTIVE', 'Shards': [{'ShardId': 'shardId-000000000000', 'HashKeyRange': {'StartingHashKey': '0', 'EndingHashKey': '170141183460469231731687303715884105727'}, 'SequenceNumberRange': {'StartingSequenceNumber': '49610091589228913449896360939155411114010545354140811266'}}, {'ShardId': 'shardId-000000000001', 'HashKeyRange': {'StartingHashKey': '170141183460469231731687303715884105728', 'EndingHashKey': '340282366920938463463374607431768211455'}, 'SequenceNumberRange': {'StartingSequenceNumber': '49610091589251214195094891562296946832283193715646791698'}}], 'HasMoreShards': False, 'RetentionPeriodHours': 24, 'StreamCreationTimestamp': datetime.datetime(2020, 8, 22, 22, 54, 9, tzinfo=tzlocal()), 'EnhancedMonitoring': [{'ShardLevelMetrics': []}], 'EncryptionType': 'NONE'}, 'ResponseMetadata': {'RequestId': 'c95ef119-4ca4-6b56-9ee5-55a300f85f59', 'HTTPStatusCode': 200, 'HTTPHeaders': {'x-amzn-requestid': 'c95ef119-4ca4-6b56-9ee5-55a300f85f59', 'x-amz-id-2': 'ZxwcpWuXesnL5K5H9HXOUoxNqsgIjECdv4IHmeA+8lI/BOAerkyQ/OSwv+pmZkM1Ph+jMIZYl2IrOMUHh/e48Ue9wMKIVynv', 'date': 'Sat, 22 Aug 2020 22:55:54 GMT', 'content-type': 'application/x-amz-json-1.1', 'content-length': '849'}, 'RetryAttempts': 0}}\n"
     ]
    }
   ],
   "source": [
    "data_stream_response = kinesis.describe_stream(\n",
    "    StreamName=stream_name\n",
    ")\n",
    "\n",
    "print(data_stream_response)"
   ]
  },
  {
   "cell_type": "code",
   "execution_count": 12,
   "metadata": {},
   "outputs": [],
   "source": [
    "partition_key = 'CAFEPERSON'"
   ]
  },
  {
   "cell_type": "code",
   "execution_count": 13,
   "metadata": {},
   "outputs": [],
   "source": [
    "data_stream = boto3.Session().client(service_name='kinesis', region_name=region)\n",
    "\n",
    "response = data_stream.put_records(\n",
    "    Records=[\n",
    "        {\n",
    "            'Data': reviews_tsv.encode('utf-8'),\n",
    "            'PartitionKey': partition_key\n",
    "        },\n",
    "    ],\n",
    "    StreamName=stream_name\n",
    ")"
   ]
  },
  {
   "cell_type": "markdown",
   "metadata": {},
   "source": [
    "# Store Variables for the Next Notebooks"
   ]
  },
  {
   "cell_type": "code",
   "execution_count": 14,
   "metadata": {},
   "outputs": [
    {
     "name": "stdout",
     "output_type": "stream",
     "text": [
      "Stored 'partition_key' (str)\n"
     ]
    }
   ],
   "source": [
    "%store partition_key"
   ]
  },
  {
   "cell_type": "markdown",
   "metadata": {},
   "source": [
    "# Get Records"
   ]
  },
  {
   "cell_type": "code",
   "execution_count": 15,
   "metadata": {},
   "outputs": [],
   "source": [
    "# TODO:  Adapt to any number of shards\n",
    "\n",
    "shard_id_1 = 'shardId-000000000000'\n",
    "shard_id_2 = 'shardId-000000000001'"
   ]
  },
  {
   "cell_type": "code",
   "execution_count": 16,
   "metadata": {},
   "outputs": [],
   "source": [
    "# TODO:  Adapt to any number of shards\n",
    "\n",
    "shard_iter_1 = data_stream.get_shard_iterator(StreamName=stream_name, \n",
    "                                            ShardId=shard_id_1, \n",
    "                                            ShardIteratorType='TRIM_HORIZON')['ShardIterator']\n",
    "\n",
    "shard_iter_2 = data_stream.get_shard_iterator(StreamName=stream_name, \n",
    "                                            ShardId=shard_id_2, \n",
    "                                            ShardIteratorType='TRIM_HORIZON')['ShardIterator']"
   ]
  },
  {
   "cell_type": "code",
   "execution_count": 17,
   "metadata": {
    "scrolled": true
   },
   "outputs": [],
   "source": [
    "records_response_1 = data_stream.get_records(\n",
    "    ShardIterator=shard_iter_1,\n",
    "    Limit=100\n",
    ")\n",
    "\n",
    "if records_response_1['Records']:\n",
    "    print(records_response_1['Records'][0]['Data'].decode('utf-8'))"
   ]
  },
  {
   "cell_type": "code",
   "execution_count": 18,
   "metadata": {},
   "outputs": [
    {
     "name": "stdout",
     "output_type": "stream",
     "text": [
      "4\tSo far so good\n",
      "3\tNeeds a little more work.....\n",
      "1\tPlease cancel.\n",
      "5\tWorks as Expected!\n",
      "4\tI've had Webroot for a few years. It expired and I decided to purchase a renewal on Amazon. I went through hell trying to uninstall the expired version in order to install the new.  I called Webroot and had their representative remote into my computer at his request. He was clueless as a bad joke and consumed 29 minutes and 57 seconds of my time forever.  He initially told me it wasn't compatible with Windows 10, but I finally managed to convince him that it is indeed compatible with Windows 10 as it was working on my computer before it expired and also I showed him a review on Amazon to convince him that it works on Windows 10. Finally, he offered to connect me with a senior consultant for over 100 dollars. I declined and told him I'd fix the issue myself. This guy was less helpful than a severed limb.  After spending some time on Google, the issue is now fixed. Webroot should just get rid of their customer service and pay Google for indexing much more helpful info that their dedicated customer service can offer.  As far as the software itself. I think it scans fast, does not slow down my computer and I hope (like most other people including experts) that it's very effective in removing and preventing malware.  Years ago I did extensive research and found it to be among the best, but that was over 4 years ago. Things are fluid in the malware kingdom.  To those experiencing the same issue installing as I did - My advice - don't bother uninstalling the old version, rather launch webroot and click on  &#34;my account&#34; on the right side, then copy and past your product key in the area that says &#34;enter a new keycode&#34;, then click on Activate. This will save numerous painful hours of trying to get the thing to work.\n",
      "5\tEXCELLENT software !!!!!  Don't need to do anything when it's set up in automatic mode. Noticed a big difference after the first scan/tests\n",
      "1\tThe variations created by Win10 induced this program to eat every bit of work up to that time. All of it, hundreds of hours of work. Guess who's unhappy.\n",
      "1\tHorrible!  Would not upgrade previous version files and when I gave up on that and figured I'd just move forward it wouldn't let me log in, even after numerous creations of a new account, trying an existing account.  Very frustrating.  I returned it.\n",
      "1\tWaste of time .\n",
      "5\tWork as easy as other tools that I have used.\n",
      "5\tWorks perfectly!\n",
      "1\tWill not open on my window 8. boooo\n",
      "5\tPurchased this on sell, got 10 PC installment for $30.  I had the Norton 360, but didn't really need all of that.  Mainly the security.  The backup I am sure will be OK.  I use this and two other more malware programs to keep things safe.<br /><br />Along with this I am using &#34;Malwearbytes&#34; and &#34;Suprantivirus&#34;.  It sounds like over kill, but it really isn't.  Each one seems to be good at what it does and with today's world you just need all the protection you can get.  They don't really seem to get in the way of each other.\n",
      "1\tGod awful and didn't work\n",
      "3\tI think its complicated to use to be honest.\n",
      "1\tYou can purchase this to gain full access to the hw material,BUT you wont be registered under your class. I spoke with McGraw Hill about this issue and tried to have them link my account to my class, but they couldn't do it! It is a waste of $25, unless you want to practice on your own for fun (like really)....You must purchase from the website directly or it will not register you to the class. But, I spoke with amazon and they were very friendly and helped me with the return, after I told them about my issue.<br /><br />Product- Waste<br /><br />Amazon Customer Service- FRICKING AMAZING!!!!\n",
      "2\tit wont download\n",
      "5\tI have been using for two years with full protection!\n",
      "5\tThis was a Great bargain after the price rewind from my credit card company rebated me most of the cost.\n",
      "3\tdid not use,internet connection too slow\n",
      "1\tThought this included search with it - and no - it does not - added fees for everything\n",
      "1\tUnable to download!!!\n",
      "5\tSo, far, working as expected/advertised (as far as I can tell...)\n",
      "1\tSoftware wouldn't work on my pc amazon actually refunded me. Thank goodness.\n",
      "4\tStill getting used to the difference between the PC edition and this new one for the Mac.\n",
      "5\tNo comment product the same as expected\n",
      "4\tPro Pack lets you do a number of things that the home version of Windows won't let you do.  I back up my computer to my local cloud drive and you can do that with the home version\n",
      "4\tThis product was good when I first started using it, but now that windows 10 has come out it doesn't load into the system tray nor does it sync with the online cloud and consequently I don't know if my pictures are updating like they should.\n",
      "5\tQuick and easy to use. Enabled me to file my tax return easily and with confidence that everything was entered correctly.  We- e-filing, I received my tax over payment quickly. I highly recommend using it.\n",
      "5\tNice and works well.\n",
      "1\tNice idea if it worked, but the software never truly showed the actual balance. I always had to double check my bank accounts to make sure, what Quicken was showing me was actually true... and it wasn't.\n",
      "4\tI've used TurboTax annually for several years.  Overall I still find it useful.  One reservation is that this system (and some others) have evolved to where you just put in numbers and proceed blindly along until the end, and you are supposed to trust that everything is being done correctly, even though it is all out of sight.  Numbers flow into some forms that you never see at the time of entry until you are told you are done and you print out the final data (or save as a pdf).  Since I only do this once a year, I prefer a bit more information/reassurance along the way that all is being done correctly and appropriately.  It did save me a few dollars somewhere - I'm still not sure where.\n",
      "5\tSo far so good, installed on 2 computers and have yet to have a problem\n",
      "5\texcelente\n",
      "5\tafter reading reviews on various web sites and based on testimonials from friends, Kaspersky seemed the best choice. Simple to install and use! I would highly recommend this AV\n",
      "5\tI feel safe having my photos in the Amazon Cloud.  I am slowly scanning my film and saving the files there also.\n",
      "1\tDespite what this page and Intuit says this program is not compatible with Windows 10. In fact, after 4.5 hours of troubleshooting with three different Intuit agents I was finally informed that none of the existing Quicken programs are compatible with W10. I was told to wait for their software engineer to create a fix or wait for 2016. This is not a solution when you were using Quicken 2014 and have all of your financial data on it, which is now not accessible because Quicken was too slow in ensuring comparability.\n",
      "1\tJunk, errors out each time I tried to save. Spent 2 days on phone with tech support, gave up. Ask for refund and was declined. I guess they think we have time to waste with useless tech support.  Don't buy this bunk....\n",
      "5\tnot for me\n",
      "5\tNo doubt about it. Dragon Premium 13 is the best dragon yet. Now, if we could get Microsoft onboard to build operating systems compatable with the world's software, I could use Dragon 13 on my other computers.\n",
      "4\tThank you\n",
      "5\tGood\n",
      "5\tReplace 360 version with Security version and feel protected on my smart phone, tablet, and laptops.\n",
      "4\tGood Product.\n",
      "5\tworks great and catches virus and any changes of venue such as shopping the net\n",
      "5\tWorks just fine with Windows 10.\n",
      "5\tEasy installation.  Seems to catch all kinds of Malware.  Have not had a problem with pop-ups since I bought it.<br />I would highly recommend.\n",
      "4\tNot bad for free\n",
      "1\tThis isn't the online book, it's just a bunch of quiz questions or some nonsense. What the hell?? Very misleading.\n",
      "4\tokay\n",
      "5\tNorton (per usual) is fantastic with their customer support.... plus this product works!\n",
      "5\tGreat and easy to use when it's on Amazon.\n",
      "3\tIt works great, but it takes too long to update itself and slows the system\n",
      "5\tExpensive but better than the company's price.\n",
      "5\tpaid 1/2 of what I expected to pay.\n",
      "1\tI am having the same issue. It did not link to my current account. Waste of money!\n",
      "5\tFirst time user. The switch from turbotax was easy and flawless. Product is as good as turbotax but at a fraction of the cost.\n",
      "1\ti dont like the new windows there is a lot of glitches i went back to windows 7 would like my money back\n",
      "1\tI never got past the installation.The installer ignored my denial of permission to allow it to change my default search engine. The software installer tried to do it anyway and, luckily, it was halted by my security software.\n",
      "1\tdidn't download, got no help trying to make it work. waste of time and money\n",
      "2\tIf you did a free upgrade from Microsoft and you change motherboard/CPU, YOU HAVE to reinstall PREVIOUS windows version.EVEN IF your previous version was a FULL windows 7.\n",
      "5\tI love the software gives you all kinds of options to make a video for youtube or for your own personal use.\n",
      "4\tQuick and easy. Made filing much easier.\n",
      "5\tBuy this every year and I will continue to buy it. I also do my kids taxes so I get a bonus!\n",
      "1\tIt would never download to my computer.  Total waste of money.\n",
      "4\tExcellent software that does a great job of providing powerful features for home editing.  The price is a little bit on the high side - in fact, well on the high side, resulting in 4 stars rather than the 5 the functionality would otherwise earn.<br /><br />You need to have a fairly strong understanding of floor plans, wall layering, and other basic home building context in order to get the most out of this software.<br /><br />The 3d navigation keys require some getting used to as they aren't the WASD format that is &#34;borrowed&#34; from gaming that you see with some other software, rather they borrow the F/B U/D basics from the CAD world.<br /><br />One other point of note: if you are using any kind of remote desktop that doesnt transport &#34;AFTER&#34; the graphics pipeline (e.g. cant render 3d graphics then communicate the screen - like Windows RDP and some citrix implementations) you will not be able to use any of the 3d render features, and you will get an error every time that you go in to edit one of the layered objects (e.g. walls or windows) because the render on each one of those is 3D.\n",
      "5\tOffice worked for me so I don't have any complaints.\n",
      "1\tTrash...serial don't works...expired....\n",
      "4\tI've been using Quicken for over 15 years, and I am always apprehensive when it comes time to update to a newer version. If you have never used Quicken before, I would rate this a 5 star; if you are an experienced user doing an upgrade, I would rate this a 3 as there really is not any new functionality or, if there is, I can't see it for the tasks I perform with Quicken.<br /><br />I made a backup of my existing file, and proceeded to install. Installation went without a hitch, and I didn't even need the backup as this installation recognized my file and took over from there with the conversion process: the conversion took some time to complete, so if you are doing an upgrade go find something to do around the house vs. sitting there staring at your computer.<br /><br />For the new user, this is one heck of a bookkeeping package. I highly recommend setting up the interface with your banks, investment accounts, etc. and have it automatically download to your software. Assign the categories, and after you get a good three months or so worth of data you can start seeing the results.<br /><br />New users - absolutely buy this now. Existing users, wait until the last possible minute before you have the required upgrade.\n",
      "1\tDoes not work. Files don't preview. Files come through corrupted including files that weren't deleted and normally work fine. Total rip off.\n",
      "1\tI have been a daily PC user for many years now.  I remember back in the Windows 95 through Millenium days when programs JUST - DIDN'T - WORK well all of the time.  In those days, as many of you recall, programs were prone to glitch, freeze, crash, and become corrupted.  It's wasn't the norm, but it was regular enough that you really had to be adept at troubleshooting and reinstalling programs.  These days, though, we rarely have a computer program crash let alone become corrupted.  After all, this is 2015 and those kinds of problems are a decade or more behind us, right?<br /><br />WRONG... if you're a QuickBooks user.\n",
      "5\ti love this hotspot I have my ps3 my iPhone my wifes iPhone and a few other devices attached to it. it help because I use my brothers connection 3 appartments away. I recommend to everyone thanks for the service connectify.\n",
      "1\tSoftware does not allow you to set up specific recording times nor does it allow motion activated recording.  Just a waste of money!\n",
      "1\tThis program does nothing that I could use\n",
      "4\tgood\n",
      "1\t***WARNING***<br />I got this product phoned customer service. Their support was very bad, asked me the same questions 5 times ans sent me always to the specialist. Then I got someone to lock on my computer. OMG he started by removing a lot of programs that I need, It is taking me 2 days to recover from the 5 min intervention that did not work. I removed Norton now. incredible never seen so much incompetance\n",
      "1\tDO NOT BUY UNDER ANY CIRCUMSTANCES. IT SUCKS. I've been a Quicken user for over 10 years and just upgraded from Quicken 2007 for Mac. I does not work at all - I can not figure out what the program is doing if anything. Will not import accounts, will not function as a check register. It is a royal piece of excrement. Save your money and do not even think of buying.\n",
      "4\tworks fine except not for windows 10\n",
      "1\tmy computer got infected anyways\n",
      "5\tGreat process mapping functionary. Nice to download immediately\n",
      "5\tgreat value.\n",
      "5\tI'm a word perfect dinosaur, this version works as well as any I've had and I like the convenience of having the download stored online so I don't have to fuss with remembering product keys.\n",
      "5\tGood product for improving poor pictures,  a  little harder to use than version 2 I was previously using.  Very good price ($69 at Costco).  Recommended for amateur photographers.  WIsh the  &#34;Sharpen&#34; feature would really sharpen the image tho...\n",
      "5\tGood s/w....\n",
      "5\tDoes what I wanted it to do.\n",
      "2\tEven though this was suppose to run on Windows 8.1, I could not get it to run correctly.  After several emails.  The software company offered me a refund\n",
      "2\tWhat Intuit does not tell you is that the Mac version does not allow the accountant's copy to be uploaded via the web nor the accountant's changes to be downloaded from the web.\n",
      "5\tI upgraded from Elements 8. Many improvements. Highly recommended.\n",
      "3\tOK.\n",
      "5\tAs expected!\n",
      "4\tI like turbo tax. Easy to use and it always tells me what I need to know.\n",
      "2\tBought program to create a newsletter. Tried to make a template I could save and later populate with monthly submissions so as to not remake 100% of newsletter every month. Saved copy of template vanished into computer, when I finally found it the program didn't recognize it and wouldn't open it. E-mailed for support on another subject and got a decent response after a few days on that subject. Remade templates multiple times, only to find that only one page had been saved out of three, etc. I finally went back and purchased another copy of MS Publisher to try and get the newsletter done. In less than an hour I had my template and saved it. It opens and has no issues. I pull it up to cut and paste submissions into it without problem. It works almost intuitively at this point. PagePlus just seemed to make EVERYTHING an issue somehow. They have lots of on-line videos to explain things....but what is the use if the work you save vanishes and can' be pulled up or opened after you close it? Is it me? I don't know, Adobe products and MS products don't seem to give me this problem.\n",
      "5\tReceived product and was spending my return before I received my statement from my credit card company\n",
      "2\tWithout notification, Intuit has changed password requirements. Although &#34;computer literate&#34;, I haven't a clue as to how to access my account. I've spent over an hour trying to do &#34;the usual&#34;. Went to a Quicken/Intuit help site, and received the message that it is &#34;down&#34;. I've been an Intuit user for decades, but have seen deterioration in customer support.\n",
      "3\tI prefer the older version and it's applications.... Not too crazy about this version..... Maybe after I get used to it I will like it better\n",
      "5\tGreat security package.  You don't need antivirus for ios devices unless you jail break them.  I feel very comfortable with this software on my Mac and PC.  Runs updates and has caught viruses that other programs I had did not.\n",
      "1\tDid nothing for my computer.\n",
      "5\tWorks ok\n",
      "5\tWorked as advertised.\n",
      "1\tAmazon sent me a non working product key and no way to get a serial number. I am now in Adobe support hell trying to get this product to activate. I wish I could return it.\n",
      "\n"
     ]
    }
   ],
   "source": [
    "records_response_2 = data_stream.get_records(\n",
    "    ShardIterator=shard_iter_2,\n",
    "    Limit=100\n",
    ")\n",
    "\n",
    "if records_response_2['Records']:\n",
    "    print(records_response_2['Records'][0]['Data'].decode('utf-8'))"
   ]
  },
  {
   "cell_type": "code",
   "execution_count": 19,
   "metadata": {},
   "outputs": [
    {
     "data": {
      "text/html": [
       "<b>Review <a target=\"blank\" href=\"https://console.aws.amazon.com/kinesis/home?region=us-west-2#/streams/details/dsoaws-data-stream/monitoring\"> Stream</a></b>"
      ],
      "text/plain": [
       "<IPython.core.display.HTML object>"
      ]
     },
     "metadata": {},
     "output_type": "display_data"
    }
   ],
   "source": [
    "from IPython.core.display import display, HTML\n",
    "\n",
    "display(HTML('<b>Review <a target=\"blank\" href=\"https://console.aws.amazon.com/kinesis/home?region={}#/streams/details/{}/monitoring\"> Stream</a></b>'.format(region, stream_name)))\n"
   ]
  },
  {
   "cell_type": "code",
   "execution_count": null,
   "metadata": {},
   "outputs": [
    {
     "data": {
      "application/javascript": [
       "Jupyter.notebook.save_checkpoint();\n",
       "Jupyter.notebook.session.delete();\n"
      ],
      "text/plain": [
       "<IPython.core.display.Javascript object>"
      ]
     },
     "metadata": {},
     "output_type": "display_data"
    }
   ],
   "source": [
    "%%javascript\n",
    "Jupyter.notebook.save_checkpoint();\n",
    "Jupyter.notebook.session.delete();"
   ]
  }
 ],
 "metadata": {
  "kernelspec": {
   "display_name": "conda_python3",
   "language": "python",
   "name": "conda_python3"
  },
  "language_info": {
   "codemirror_mode": {
    "name": "ipython",
    "version": 3
   },
   "file_extension": ".py",
   "mimetype": "text/x-python",
   "name": "python",
   "nbconvert_exporter": "python",
   "pygments_lexer": "ipython3",
   "version": "3.6.10"
  }
 },
 "nbformat": 4,
 "nbformat_minor": 4
}
